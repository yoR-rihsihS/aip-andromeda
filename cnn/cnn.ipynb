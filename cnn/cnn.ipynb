{
  "cells": [
    {
      "cell_type": "markdown",
      "metadata": {
        "id": "QU5mfO1H_2sj"
      },
      "source": [
        "# Importing Required Libraries"
      ]
    },
    {
      "cell_type": "code",
      "execution_count": 1,
      "metadata": {
        "id": "PGtWScDeACLI"
      },
      "outputs": [
        {
          "name": "stderr",
          "output_type": "stream",
          "text": [
            "/data/home1/shishirm/.local/lib/python3.8/site-packages/tqdm/auto.py:21: TqdmWarning: IProgress not found. Please update jupyter and ipywidgets. See https://ipywidgets.readthedocs.io/en/stable/user_install.html\n",
            "  from .autonotebook import tqdm as notebook_tqdm\n"
          ]
        }
      ],
      "source": [
        "import os\n",
        "import torch\n",
        "import pickle\n",
        "from datasets import load_dataset\n",
        "import random\n",
        "import numpy as np\n",
        "from tqdm import tqdm\n",
        "\n",
        "import torch.nn as nn\n",
        "import torch.nn.functional as F\n",
        "\n",
        "from matplotlib import pyplot\n",
        "from torchsummary import summary\n",
        "from torch.utils.data import Dataset, DataLoader, random_split\n",
        "\n",
        "from torchvision.transforms.functional import pil_to_tensor, to_pil_image"
      ]
    },
    {
      "cell_type": "markdown",
      "metadata": {
        "id": "jf6kPoQvUWUK"
      },
      "source": [
        "# Makeing Results Reproducible"
      ]
    },
    {
      "cell_type": "code",
      "execution_count": 2,
      "metadata": {
        "id": "btkbbBJ7lPLZ"
      },
      "outputs": [],
      "source": [
        "random_seed = 42\n",
        "torch.manual_seed(random_seed)\n",
        "np.random.seed(random_seed)"
      ]
    },
    {
      "cell_type": "code",
      "execution_count": 3,
      "metadata": {},
      "outputs": [
        {
          "data": {
            "text/plain": [
              "'cuda'"
            ]
          },
          "execution_count": 3,
          "metadata": {},
          "output_type": "execute_result"
        }
      ],
      "source": [
        "device = 'cuda' if torch.cuda.is_available() else 'cpu'\n",
        "device"
      ]
    },
    {
      "cell_type": "markdown",
      "metadata": {
        "id": "T4iomoFzCh1N"
      },
      "source": [
        "# Reading the Dataset\n"
      ]
    },
    {
      "cell_type": "code",
      "execution_count": 4,
      "metadata": {},
      "outputs": [],
      "source": [
        "data = load_dataset('./tiny-imagenet', split='train')\n",
        "test = load_dataset('./tiny-imagenet', split='valid')"
      ]
    },
    {
      "cell_type": "code",
      "execution_count": 5,
      "metadata": {},
      "outputs": [
        {
          "name": "stdout",
          "output_type": "stream",
          "text": [
            "Dataset({\n",
            "    features: ['image', 'label'],\n",
            "    num_rows: 100000\n",
            "})\n",
            "Dataset({\n",
            "    features: ['image', 'label'],\n",
            "    num_rows: 10000\n",
            "})\n"
          ]
        }
      ],
      "source": [
        "print(data)\n",
        "print(test)"
      ]
    },
    {
      "cell_type": "code",
      "execution_count": 6,
      "metadata": {},
      "outputs": [],
      "source": [
        "def get_tensor_data(data):\n",
        "    tensor_images_list = [pil_to_tensor(img).to(torch.float32) for img in data[\"image\"]]\n",
        "    tensor_labels = data[\"label\"]\n",
        "    remove_indices = []\n",
        "\n",
        "    for i in range(len(tensor_images_list)):\n",
        "        if tensor_images_list[i].shape != (3, 64, 64):\n",
        "            remove_indices.append(i)\n",
        "\n",
        "    for i in range(len(remove_indices) - 1, -1, -1):\n",
        "        tensor_images_list.pop(remove_indices[i])\n",
        "        tensor_labels.pop(remove_indices[i])\n",
        "\n",
        "    print(\"No of images =\", len(tensor_images_list))\n",
        "    print(\"No of labels =\", len(tensor_labels))\n",
        "    print(\"No of removed images =\", len(remove_indices))\n",
        "\n",
        "    return torch.stack(tensor_images_list, dim=0) / 255, torch.tensor(tensor_labels)"
      ]
    },
    {
      "cell_type": "code",
      "execution_count": 7,
      "metadata": {},
      "outputs": [
        {
          "name": "stdout",
          "output_type": "stream",
          "text": [
            "No of images = 98179\n",
            "No of labels = 98179\n",
            "No of removed images = 1821\n",
            "No of images = 9832\n",
            "No of labels = 9832\n",
            "No of removed images = 168\n"
          ]
        }
      ],
      "source": [
        "data_images, data_labels = get_tensor_data(data)\n",
        "test_images, test_labels = get_tensor_data(test)"
      ]
    },
    {
      "cell_type": "markdown",
      "metadata": {
        "id": "yEp3Mi2fDXym"
      },
      "source": [
        "# Showing examples from datasets for sanity checking"
      ]
    },
    {
      "cell_type": "code",
      "execution_count": 8,
      "metadata": {
        "id": "JEoHi4ieDgih"
      },
      "outputs": [],
      "source": [
        "def show_example(image, label):\n",
        "  print(\"Label :\", label.item())\n",
        "  pyplot.imshow(to_pil_image(image))"
      ]
    },
    {
      "cell_type": "code",
      "execution_count": 9,
      "metadata": {
        "colab": {
          "base_uri": "https://localhost:8080/",
          "height": 465
        },
        "id": "jSjhGWo2p6lk",
        "outputId": "532cde98-74e5-4429-8528-5754f3fe52f5"
      },
      "outputs": [
        {
          "name": "stdout",
          "output_type": "stream",
          "text": [
            "index = 23582\n",
            "Label : 47\n"
          ]
        },
        {
          "data": {
            "image/png": "[encoded data removed]",
            "text/plain": [
              "<Figure size 640x480 with 1 Axes>"
            ]
          },
          "metadata": {},
          "output_type": "display_data"
        }
      ],
      "source": [
        "index = random.randint(0, 98179)\n",
        "print(\"index =\", index)\n",
        "show_example(data_images[index], data_labels[index])"
      ]
    },
    {
      "cell_type": "code",
      "execution_count": 10,
      "metadata": {
        "colab": {
          "base_uri": "https://localhost:8080/",
          "height": 465
        },
        "id": "ufYnogD8p6v7",
        "outputId": "36f9b2b9-6e9e-4fb0-a05c-7b10c1211ff8"
      },
      "outputs": [
        {
          "name": "stdout",
          "output_type": "stream",
          "text": [
            "index = 3649\n",
            "Label : 73\n"
          ]
        },
        {
          "data": {
            "image/png": "[encoded data removed]",
            "text/plain": [
              "<Figure size 640x480 with 1 Axes>"
            ]
          },
          "metadata": {},
          "output_type": "display_data"
        }
      ],
      "source": [
        "index = random.randint(0, 9832)\n",
        "print(\"index =\", index)\n",
        "show_example(test_images[index], test_labels[index])"
      ]
    },
    {
      "cell_type": "markdown",
      "metadata": {
        "id": "cEEfXXHUHe7h"
      },
      "source": [
        "# Train - Validation set split"
      ]
    },
    {
      "cell_type": "code",
      "execution_count": 11,
      "metadata": {
        "id": "4iFmbX9hutJO"
      },
      "outputs": [],
      "source": [
        "train_examples = 90000\n",
        "validation_examples = 8179\n",
        "\n",
        "class CustomDataset(Dataset):\n",
        "    def __init__(self, images, labels):\n",
        "        self.X = images\n",
        "        self.Y = labels\n",
        "\n",
        "    def __len__(self):\n",
        "        return self.X.shape[0]\n",
        "\n",
        "    def __getitem__(self, index):\n",
        "        return (self.X[index], self.Y[index])\n",
        "\n",
        "\n",
        "dataset = CustomDataset(data_images, data_labels)\n",
        "train, validation = random_split(dataset, [train_examples, validation_examples])\n",
        "testset = CustomDataset(test_images, test_labels)"
      ]
    },
    {
      "cell_type": "markdown",
      "metadata": {
        "id": "JKkr8K7ymYhn"
      },
      "source": [
        "# Defining the Models"
      ]
    },
    {
      "cell_type": "code",
      "execution_count": 12,
      "metadata": {
        "id": "tx7gjQ6nhZdN"
      },
      "outputs": [],
      "source": [
        "class CNN(nn.Module):\n",
        "  def __init__(self):\n",
        "    super().__init__()\n",
        "    self.conv1 = nn.Conv2d(3, 64, kernel_size=7, stride=1, padding=3)\n",
        "    self.batch1 = nn.BatchNorm2d(64)\n",
        "\n",
        "    self.conv2 = nn.Conv2d(64, 128, kernel_size=5, stride=1, padding=2)\n",
        "    self.batch2 = nn.BatchNorm2d(128)\n",
        "\n",
        "    self.conv3 = nn.Conv2d(128, 256, kernel_size=3, stride=1, padding=1)\n",
        "    self.batch3 = nn.BatchNorm2d(256)\n",
        "\n",
        "    self.conv4 = nn.Conv2d(256, 512, kernel_size=3, stride=1, padding=1)\n",
        "    self.batch4 = nn.BatchNorm2d(512)\n",
        "\n",
        "    self.conv5 = nn.Conv2d(512, 1024, kernel_size=3, stride=1, padding=1)\n",
        "    self.batch5 = nn.BatchNorm2d(1024)\n",
        "\n",
        "    self.maxpool = nn.MaxPool2d(2, 2)\n",
        "    self.avgpool = nn.AvgPool2d(4, 4)\n",
        "    self.relu = nn.PReLU()\n",
        "    self.drop1 = nn.Dropout(0.33)\n",
        "    self.drop2 = nn.Dropout2d(0.25)\n",
        "\n",
        "    self.fc1 = nn.Linear(1024, 2048)\n",
        "    self.fc2 = nn.Linear(2048, 512)\n",
        "    self.fc3 = nn.Linear(512, 200)\n",
        "\n",
        "  def forward(self, x):\n",
        "    # x.shape = (B x 3 x 64 x 64)\n",
        "\n",
        "    x1 = self.batch1(self.conv1(x)) # x1.shape = (B x 64 x 64 x 64)\n",
        "    x = self.maxpool(self.drop2(self.relu(x1)))\n",
        "    # x.shape = (B x 64 x 32 x 32)\n",
        "\n",
        "    x2 = self.batch2(self.conv2(x)) # x2.shape = (B x 128 x 32 x 32)\n",
        "    x = self.maxpool(self.relu(x2))\n",
        "    # x.shape = (B x 128 x 16 x 16)\n",
        "\n",
        "    x3 = self.batch3(self.conv3(x)) # x3.shape = (B x 256 x 16 x 16)\n",
        "    x = self.maxpool(self.drop2(self.relu(x3)))\n",
        "    # x.shape = (B x 256 x 8 x 8)\n",
        "\n",
        "    x4 = self.batch4(self.conv4(x)) # x4.shape = (B x 512 x 8 x 8)\n",
        "    x = self.maxpool(self.relu(x4))\n",
        "    # x.shape = (B x 512 x 4 x 4)\n",
        "\n",
        "    x5 = self.drop2(self.relu(self.batch5(self.conv5(x)))) # x5.shape = (B x 1024 x 4 x 4)\n",
        "    x = self.avgpool(x5)\n",
        "    # x.shape = (B x 1024 x 1 x 1)\n",
        "\n",
        "    x = torch.flatten(x, 1) \n",
        "    # flatten all dimensions except batch (0th dim)\n",
        "\n",
        "    x = self.relu(self.fc1(x))\n",
        "    x = self.drop1(self.relu(self.fc2(x)))\n",
        "    x = self.fc3(x)\n",
        "    return x"
      ]
    },
    {
      "cell_type": "code",
      "execution_count": 13,
      "metadata": {},
      "outputs": [
        {
          "name": "stdout",
          "output_type": "stream",
          "text": [
            "----------------------------------------------------------------\n",
            "        Layer (type)               Output Shape         Param #\n",
            "================================================================\n",
            "            Conv2d-1           [-1, 64, 64, 64]           9,472\n",
            "       BatchNorm2d-2           [-1, 64, 64, 64]             128\n",
            "             PReLU-3           [-1, 64, 64, 64]               1\n",
            "         Dropout2d-4           [-1, 64, 64, 64]               0\n",
            "         MaxPool2d-5           [-1, 64, 32, 32]               0\n",
            "            Conv2d-6          [-1, 128, 32, 32]         204,928\n",
            "       BatchNorm2d-7          [-1, 128, 32, 32]             256\n",
            "             PReLU-8          [-1, 128, 32, 32]               1\n",
            "         MaxPool2d-9          [-1, 128, 16, 16]               0\n",
            "           Conv2d-10          [-1, 256, 16, 16]         295,168\n",
            "      BatchNorm2d-11          [-1, 256, 16, 16]             512\n",
            "            PReLU-12          [-1, 256, 16, 16]               1\n",
            "        Dropout2d-13          [-1, 256, 16, 16]               0\n",
            "        MaxPool2d-14            [-1, 256, 8, 8]               0\n",
            "           Conv2d-15            [-1, 512, 8, 8]       1,180,160\n",
            "      BatchNorm2d-16            [-1, 512, 8, 8]           1,024\n",
            "            PReLU-17            [-1, 512, 8, 8]               1\n",
            "        MaxPool2d-18            [-1, 512, 4, 4]               0\n",
            "           Conv2d-19           [-1, 1024, 4, 4]       4,719,616\n",
            "      BatchNorm2d-20           [-1, 1024, 4, 4]           2,048\n",
            "            PReLU-21           [-1, 1024, 4, 4]               1\n",
            "        Dropout2d-22           [-1, 1024, 4, 4]               0\n",
            "        AvgPool2d-23           [-1, 1024, 1, 1]               0\n",
            "           Linear-24                 [-1, 2048]       2,099,200\n",
            "            PReLU-25                 [-1, 2048]               1\n",
            "           Linear-26                  [-1, 512]       1,049,088\n",
            "            PReLU-27                  [-1, 512]               1\n",
            "          Dropout-28                  [-1, 512]               0\n",
            "           Linear-29                  [-1, 200]         102,600\n",
            "================================================================\n",
            "Total params: 9,664,207\n",
            "Trainable params: 9,664,207\n",
            "Non-trainable params: 0\n",
            "----------------------------------------------------------------\n",
            "Input size (MB): 0.05\n",
            "Forward/backward pass size (MB): 15.24\n",
            "Params size (MB): 36.87\n",
            "Estimated Total Size (MB): 52.15\n",
            "----------------------------------------------------------------\n"
          ]
        }
      ],
      "source": [
        "model = CNN().to(device)\n",
        "summary(model, (3, 64, 64))"
      ]
    },
    {
      "cell_type": "markdown",
      "metadata": {
        "id": "8kWoQnKzwEvQ"
      },
      "source": [
        "# Helper Functions to Train and Test the Model"
      ]
    },
    {
      "cell_type": "code",
      "execution_count": 14,
      "metadata": {},
      "outputs": [],
      "source": [
        "def validatioon_step(model, validation_loader, loss_function):\n",
        "    model.eval()\n",
        "    validation_loss = 0.0\n",
        "    validation_correct = 0\n",
        "    with torch.no_grad():\n",
        "      for j, (x_val, y_val) in enumerate(validation_loader):\n",
        "        x_val = x_val.to(device)\n",
        "        y_val = y_val.long().to(device)\n",
        "\n",
        "        y_pred = model(x_val)\n",
        "        loss = loss_function(y_pred, y_val)\n",
        "\n",
        "        _, predicted = torch.max(y_pred.data, dim=1)\n",
        "        validation_correct += (predicted == y_val).sum().item()\n",
        "\n",
        "        validation_loss += loss.item()\n",
        "\n",
        "    return validation_loss, validation_correct\n"
      ]
    },
    {
      "cell_type": "code",
      "execution_count": 15,
      "metadata": {},
      "outputs": [],
      "source": [
        "def evaluate(model, test_loader):\n",
        "    model.eval()\n",
        "    correct = 0\n",
        "    total = 0\n",
        "    correct_top5 = 0\n",
        "    with torch.no_grad():\n",
        "        for data in test_loader:\n",
        "            inputs, labels = data\n",
        "            inputs = inputs.to(device)\n",
        "            labels = labels.long().to(device)\n",
        "            outputs = model(inputs)\n",
        "\n",
        "            _, predicted = torch.max(outputs.data, dim=1)\n",
        "            total += labels.size(0)\n",
        "            correct += (predicted == labels).sum().item()\n",
        "\n",
        "            _, predicted_top5 = torch.topk(outputs.data, k=5, dim=1, largest=True, sorted=True)\n",
        "            predicted_top5 = predicted_top5.t()\n",
        "\n",
        "            for i in range(5):\n",
        "                correct_top5 += (predicted_top5[i] == labels).sum().item()\n",
        "\n",
        "    return 100 * correct / total, 100 * correct_top5 / total"
      ]
    },
    {
      "cell_type": "code",
      "execution_count": 16,
      "metadata": {
        "id": "pacEFSU7TLm7"
      },
      "outputs": [],
      "source": [
        "def fit(model, optimizer_fn, scheduler_fn, loss_fn, train_loader, validation_loader, test_loader, learning_rate, num_epochs):\n",
        "  history = []\n",
        "  accuracies = {\"top1\": [], \"top5\" : []}\n",
        "  optimizer = optimizer_fn(model.parameters(), learning_rate)\n",
        "  scheduler = scheduler_fn(optimizer, step_size = 10, gamma = 0.5)\n",
        "  \n",
        "  for epoch in tqdm(range(num_epochs)):\n",
        "    model.train()\n",
        "    train_loss = 0.0\n",
        "    train_correct = 0\n",
        "    for i, (x_batch, y_batch) in enumerate(train_loader):\n",
        "      x_batch = x_batch.to(device)\n",
        "      y_batch = y_batch.long().to(device)\n",
        "\n",
        "      y_pred = model(x_batch)\n",
        "      loss = loss_fn(y_pred, y_batch)\n",
        "\n",
        "      optimizer.zero_grad()\n",
        "      loss.backward()\n",
        "      optimizer.step()\n",
        "      \n",
        "      _, predicted = torch.max(y_pred.data, dim=1)\n",
        "      train_correct += (predicted == y_batch).sum().item()\n",
        "      train_loss += loss.item()\n",
        "\n",
        "    validation_loss, validation_correct = validatioon_step(model, validation_loader, loss_fn)\n",
        "    scheduler.step()\n",
        "\n",
        "    if ((epoch + 1) % 5) == 0:\n",
        "      accuracy1, accuracy5 = evaluate(model, test_loader)\n",
        "      print(\"Test accuracy after\", epoch+1, \"epochs is =\", accuracy1, accuracy5)\n",
        "      accuracies[\"top1\"].append(accuracy1)\n",
        "      accuracies[\"top5\"].append(accuracy5)\n",
        "\n",
        "    print(\"Epoch\", epoch+1, \"-\\tTraining Loss :\", train_loss, \"\\tValidation Loss :\", validation_loss)\n",
        "    history.append({\"train_loss\" : train_loss/train_examples,\n",
        "                    \"validation_loss\" : validation_loss/validation_examples,\n",
        "                    \"train_accuracy\" : 100*train_correct/train_examples,\n",
        "                    \"validation_accuracy\" : 100*validation_correct/validation_examples})\n",
        "\n",
        "  return history, accuracies"
      ]
    },
    {
      "cell_type": "code",
      "execution_count": 17,
      "metadata": {
        "id": "eszEjkeB_kD_"
      },
      "outputs": [],
      "source": [
        "def plot_losses(history):\n",
        "  train_losses = []\n",
        "  validation_losses = []\n",
        "\n",
        "  for result in history:\n",
        "    train_losses.append(result[\"train_loss\"])\n",
        "    validation_losses.append(result[\"validation_loss\"])\n",
        "\n",
        "  pyplot.plot(train_losses, '-bx')\n",
        "  pyplot.plot(validation_losses, '-rx')\n",
        "  pyplot.xlabel('epoch')\n",
        "  pyplot.ylabel('loss')\n",
        "  pyplot.legend(['Training', 'Validation'])\n",
        "  pyplot.title('Loss vs. No. of epochs')"
      ]
    },
    {
      "cell_type": "code",
      "execution_count": 18,
      "metadata": {
        "id": "Q9kq7ZvWr8k-"
      },
      "outputs": [],
      "source": [
        "def plot_accuracies(history):\n",
        "  train_accuracies = []\n",
        "  validation_accuracies = []\n",
        "\n",
        "  for result in history:\n",
        "    train_accuracies.append(result[\"train_accuracy\"])\n",
        "    validation_accuracies.append(result[\"validation_accuracy\"])\n",
        "\n",
        "  pyplot.plot(train_accuracies, '-bx')\n",
        "  pyplot.plot(validation_accuracies, '-rx')\n",
        "  pyplot.xlabel('epoch')\n",
        "  pyplot.ylabel('acurracy')\n",
        "  pyplot.legend(['Training', 'Validation'])\n",
        "  pyplot.title('Acurracy vs. No. of epochs')"
      ]
    },
    {
      "cell_type": "markdown",
      "metadata": {
        "id": "cEmpR2syZA1L"
      },
      "source": [
        "# Training the models"
      ]
    },
    {
      "cell_type": "code",
      "execution_count": 19,
      "metadata": {
        "colab": {
          "base_uri": "https://localhost:8080/"
        },
        "id": "BbWT3zaBdtak",
        "outputId": "42092dd0-d81e-4587-eef2-ac9bc7917f63"
      },
      "outputs": [
        {
          "name": "stderr",
          "output_type": "stream",
          "text": [
            "  1%|          | 1/100 [00:22<36:49, 22.32s/it]"
          ]
        },
        {
          "name": "stdout",
          "output_type": "stream",
          "text": [
            "Epoch 1 -\tTraining Loss : 5720.086560249329 \tValidation Loss : 168.90329933166504\n"
          ]
        },
        {
          "name": "stderr",
          "output_type": "stream",
          "text": [
            "  2%|▏         | 2/100 [00:44<36:10, 22.14s/it]"
          ]
        },
        {
          "name": "stdout",
          "output_type": "stream",
          "text": [
            "Epoch 2 -\tTraining Loss : 3661.994176387787 \tValidation Loss : 162.68686389923096\n"
          ]
        },
        {
          "name": "stderr",
          "output_type": "stream",
          "text": [
            "  3%|▎         | 3/100 [01:06<35:59, 22.27s/it]"
          ]
        },
        {
          "name": "stdout",
          "output_type": "stream",
          "text": [
            "Epoch 3 -\tTraining Loss : 3575.1039295196533 \tValidation Loss : 160.59744882583618\n"
          ]
        },
        {
          "name": "stderr",
          "output_type": "stream",
          "text": [
            "  4%|▍         | 4/100 [01:28<35:29, 22.18s/it]"
          ]
        },
        {
          "name": "stdout",
          "output_type": "stream",
          "text": [
            "Epoch 4 -\tTraining Loss : 3491.670407295227 \tValidation Loss : 153.43617391586304\n"
          ]
        },
        {
          "name": "stderr",
          "output_type": "stream",
          "text": [
            "  5%|▌         | 5/100 [01:52<35:45, 22.59s/it]"
          ]
        },
        {
          "name": "stdout",
          "output_type": "stream",
          "text": [
            "Test accuracy after 5 epochs is = 4.129373474369406 15.378356387306754\n",
            "Epoch 5 -\tTraining Loss : 3407.5571146011353 \tValidation Loss : 151.65121412277222\n"
          ]
        },
        {
          "name": "stderr",
          "output_type": "stream",
          "text": [
            "  6%|▌         | 6/100 [02:14<35:06, 22.41s/it]"
          ]
        },
        {
          "name": "stdout",
          "output_type": "stream",
          "text": [
            "Epoch 6 -\tTraining Loss : 3334.959846973419 \tValidation Loss : 147.312979221344\n"
          ]
        },
        {
          "name": "stderr",
          "output_type": "stream",
          "text": [
            "  7%|▋         | 7/100 [02:36<34:35, 22.31s/it]"
          ]
        },
        {
          "name": "stdout",
          "output_type": "stream",
          "text": [
            "Epoch 7 -\tTraining Loss : 3266.981360912323 \tValidation Loss : 145.41827583312988\n"
          ]
        },
        {
          "name": "stderr",
          "output_type": "stream",
          "text": [
            "  8%|▊         | 8/100 [02:58<34:23, 22.43s/it]"
          ]
        },
        {
          "name": "stdout",
          "output_type": "stream",
          "text": [
            "Epoch 8 -\tTraining Loss : 3224.0363550186157 \tValidation Loss : 144.09244632720947\n"
          ]
        },
        {
          "name": "stderr",
          "output_type": "stream",
          "text": [
            "  9%|▉         | 9/100 [03:23<35:08, 23.17s/it]"
          ]
        },
        {
          "name": "stdout",
          "output_type": "stream",
          "text": [
            "Epoch 9 -\tTraining Loss : 3184.1661281585693 \tValidation Loss : 138.3070788383484\n"
          ]
        },
        {
          "name": "stderr",
          "output_type": "stream",
          "text": [
            " 10%|█         | 10/100 [03:50<36:13, 24.15s/it]"
          ]
        },
        {
          "name": "stdout",
          "output_type": "stream",
          "text": [
            "Test accuracy after 10 epochs is = 7.872253864930838 25.691619202603743\n",
            "Epoch 10 -\tTraining Loss : 3133.046148300171 \tValidation Loss : 139.44238901138306\n"
          ]
        },
        {
          "name": "stderr",
          "output_type": "stream",
          "text": [
            " 11%|█         | 11/100 [04:15<36:25, 24.56s/it]"
          ]
        },
        {
          "name": "stdout",
          "output_type": "stream",
          "text": [
            "Epoch 11 -\tTraining Loss : 2935.067460536957 \tValidation Loss : 128.16047859191895\n"
          ]
        },
        {
          "name": "stderr",
          "output_type": "stream",
          "text": [
            " 12%|█▏        | 12/100 [04:40<36:11, 24.68s/it]"
          ]
        },
        {
          "name": "stdout",
          "output_type": "stream",
          "text": [
            "Epoch 12 -\tTraining Loss : 2870.8574562072754 \tValidation Loss : 126.00382161140442\n"
          ]
        },
        {
          "name": "stderr",
          "output_type": "stream",
          "text": [
            " 13%|█▎        | 13/100 [05:03<34:57, 24.11s/it]"
          ]
        },
        {
          "name": "stdout",
          "output_type": "stream",
          "text": [
            "Epoch 13 -\tTraining Loss : 2826.4845292568207 \tValidation Loss : 125.47510099411011\n"
          ]
        },
        {
          "name": "stderr",
          "output_type": "stream",
          "text": [
            " 14%|█▍        | 14/100 [05:26<34:05, 23.79s/it]"
          ]
        },
        {
          "name": "stdout",
          "output_type": "stream",
          "text": [
            "Epoch 14 -\tTraining Loss : 2785.707574367523 \tValidation Loss : 124.26918244361877\n"
          ]
        },
        {
          "name": "stderr",
          "output_type": "stream",
          "text": [
            " 15%|█▌        | 15/100 [05:50<33:38, 23.74s/it]"
          ]
        },
        {
          "name": "stdout",
          "output_type": "stream",
          "text": [
            "Test accuracy after 15 epochs is = 15.703824247355573 40.14442636289667\n",
            "Epoch 15 -\tTraining Loss : 2740.2261123657227 \tValidation Loss : 122.85170531272888\n"
          ]
        },
        {
          "name": "stderr",
          "output_type": "stream",
          "text": [
            " 16%|█▌        | 16/100 [06:12<32:49, 23.45s/it]"
          ]
        },
        {
          "name": "stdout",
          "output_type": "stream",
          "text": [
            "Epoch 16 -\tTraining Loss : 2708.8409039974213 \tValidation Loss : 129.2308804988861\n"
          ]
        },
        {
          "name": "stderr",
          "output_type": "stream",
          "text": [
            " 17%|█▋        | 17/100 [06:35<32:01, 23.15s/it]"
          ]
        },
        {
          "name": "stdout",
          "output_type": "stream",
          "text": [
            "Epoch 17 -\tTraining Loss : 2664.6077539920807 \tValidation Loss : 122.58216190338135\n"
          ]
        },
        {
          "name": "stderr",
          "output_type": "stream",
          "text": [
            " 18%|█▊        | 18/100 [06:57<31:24, 22.98s/it]"
          ]
        },
        {
          "name": "stdout",
          "output_type": "stream",
          "text": [
            "Epoch 18 -\tTraining Loss : 2631.864860534668 \tValidation Loss : 112.90677213668823\n"
          ]
        },
        {
          "name": "stderr",
          "output_type": "stream",
          "text": [
            " 19%|█▉        | 19/100 [07:20<30:46, 22.79s/it]"
          ]
        },
        {
          "name": "stdout",
          "output_type": "stream",
          "text": [
            "Epoch 19 -\tTraining Loss : 2610.19322681427 \tValidation Loss : 120.95691800117493\n"
          ]
        },
        {
          "name": "stderr",
          "output_type": "stream",
          "text": [
            " 20%|██        | 20/100 [07:43<30:31, 22.89s/it]"
          ]
        },
        {
          "name": "stdout",
          "output_type": "stream",
          "text": [
            "Test accuracy after 20 epochs is = 15.886899918633034 38.934092758340114\n",
            "Epoch 20 -\tTraining Loss : 2580.167620420456 \tValidation Loss : 124.06930446624756\n"
          ]
        },
        {
          "name": "stderr",
          "output_type": "stream",
          "text": [
            " 21%|██        | 21/100 [08:05<29:46, 22.61s/it]"
          ]
        },
        {
          "name": "stdout",
          "output_type": "stream",
          "text": [
            "Epoch 21 -\tTraining Loss : 2416.123949766159 \tValidation Loss : 106.10691809654236\n"
          ]
        },
        {
          "name": "stderr",
          "output_type": "stream",
          "text": [
            " 22%|██▏       | 22/100 [08:27<29:13, 22.48s/it]"
          ]
        },
        {
          "name": "stdout",
          "output_type": "stream",
          "text": [
            "Epoch 22 -\tTraining Loss : 2362.404590368271 \tValidation Loss : 103.48621797561646\n"
          ]
        },
        {
          "name": "stderr",
          "output_type": "stream",
          "text": [
            " 23%|██▎       | 23/100 [08:49<28:35, 22.28s/it]"
          ]
        },
        {
          "name": "stdout",
          "output_type": "stream",
          "text": [
            "Epoch 23 -\tTraining Loss : 2322.8210067749023 \tValidation Loss : 103.19972801208496\n"
          ]
        },
        {
          "name": "stderr",
          "output_type": "stream",
          "text": [
            " 24%|██▍       | 24/100 [09:11<28:09, 22.23s/it]"
          ]
        },
        {
          "name": "stdout",
          "output_type": "stream",
          "text": [
            "Epoch 24 -\tTraining Loss : 2298.160480737686 \tValidation Loss : 102.60188102722168\n"
          ]
        },
        {
          "name": "stderr",
          "output_type": "stream",
          "text": [
            " 25%|██▌       | 25/100 [09:34<27:57, 22.37s/it]"
          ]
        },
        {
          "name": "stdout",
          "output_type": "stream",
          "text": [
            "Test accuracy after 25 epochs is = 26.617168429617575 54.200569568755085\n",
            "Epoch 25 -\tTraining Loss : 2268.690693616867 \tValidation Loss : 103.12888407707214\n"
          ]
        },
        {
          "name": "stderr",
          "output_type": "stream",
          "text": [
            " 26%|██▌       | 26/100 [09:55<27:20, 22.17s/it]"
          ]
        },
        {
          "name": "stdout",
          "output_type": "stream",
          "text": [
            "Epoch 26 -\tTraining Loss : 2246.0944747924805 \tValidation Loss : 103.93929862976074\n"
          ]
        },
        {
          "name": "stderr",
          "output_type": "stream",
          "text": [
            " 27%|██▋       | 27/100 [10:17<26:53, 22.10s/it]"
          ]
        },
        {
          "name": "stdout",
          "output_type": "stream",
          "text": [
            "Epoch 27 -\tTraining Loss : 2221.5111503601074 \tValidation Loss : 100.8374650478363\n"
          ]
        },
        {
          "name": "stderr",
          "output_type": "stream",
          "text": [
            " 28%|██▊       | 28/100 [10:39<26:23, 21.99s/it]"
          ]
        },
        {
          "name": "stdout",
          "output_type": "stream",
          "text": [
            "Epoch 28 -\tTraining Loss : 2198.1209783554077 \tValidation Loss : 101.57517695426941\n"
          ]
        },
        {
          "name": "stderr",
          "output_type": "stream",
          "text": [
            " 29%|██▉       | 29/100 [11:01<26:00, 21.98s/it]"
          ]
        },
        {
          "name": "stdout",
          "output_type": "stream",
          "text": [
            "Epoch 29 -\tTraining Loss : 2173.7291872501373 \tValidation Loss : 104.93293929100037\n"
          ]
        },
        {
          "name": "stderr",
          "output_type": "stream",
          "text": [
            " 30%|███       | 30/100 [11:24<25:57, 22.24s/it]"
          ]
        },
        {
          "name": "stdout",
          "output_type": "stream",
          "text": [
            "Test accuracy after 30 epochs is = 27.92921074043938 54.83116354759967\n",
            "Epoch 30 -\tTraining Loss : 2150.1741197109222 \tValidation Loss : 102.93571591377258\n"
          ]
        },
        {
          "name": "stderr",
          "output_type": "stream",
          "text": [
            " 31%|███       | 31/100 [11:45<25:21, 22.05s/it]"
          ]
        },
        {
          "name": "stdout",
          "output_type": "stream",
          "text": [
            "Epoch 31 -\tTraining Loss : 2032.188322544098 \tValidation Loss : 98.05139255523682\n"
          ]
        },
        {
          "name": "stderr",
          "output_type": "stream",
          "text": [
            " 32%|███▏      | 32/100 [12:07<24:58, 22.03s/it]"
          ]
        },
        {
          "name": "stdout",
          "output_type": "stream",
          "text": [
            "Epoch 32 -\tTraining Loss : 1983.6595792770386 \tValidation Loss : 95.43311929702759\n"
          ]
        },
        {
          "name": "stderr",
          "output_type": "stream",
          "text": [
            " 33%|███▎      | 33/100 [12:29<24:34, 22.01s/it]"
          ]
        },
        {
          "name": "stdout",
          "output_type": "stream",
          "text": [
            "Epoch 33 -\tTraining Loss : 1956.6440181732178 \tValidation Loss : 95.77155327796936\n"
          ]
        },
        {
          "name": "stderr",
          "output_type": "stream",
          "text": [
            " 34%|███▍      | 34/100 [12:51<24:05, 21.90s/it]"
          ]
        },
        {
          "name": "stdout",
          "output_type": "stream",
          "text": [
            "Epoch 34 -\tTraining Loss : 1935.7020123004913 \tValidation Loss : 94.3808946609497\n"
          ]
        },
        {
          "name": "stderr",
          "output_type": "stream",
          "text": [
            " 35%|███▌      | 35/100 [13:14<24:04, 22.22s/it]"
          ]
        },
        {
          "name": "stdout",
          "output_type": "stream",
          "text": [
            "Test accuracy after 35 epochs is = 31.51952807160293 59.62164361269325\n",
            "Epoch 35 -\tTraining Loss : 1915.745771408081 \tValidation Loss : 94.21788239479065\n"
          ]
        },
        {
          "name": "stderr",
          "output_type": "stream",
          "text": [
            " 36%|███▌      | 36/100 [13:36<23:38, 22.16s/it]"
          ]
        },
        {
          "name": "stdout",
          "output_type": "stream",
          "text": [
            "Epoch 36 -\tTraining Loss : 1890.1945419311523 \tValidation Loss : 96.26779747009277\n"
          ]
        },
        {
          "name": "stderr",
          "output_type": "stream",
          "text": [
            " 37%|███▋      | 37/100 [13:58<23:08, 22.04s/it]"
          ]
        },
        {
          "name": "stdout",
          "output_type": "stream",
          "text": [
            "Epoch 37 -\tTraining Loss : 1869.9204003810883 \tValidation Loss : 93.66699576377869\n"
          ]
        },
        {
          "name": "stderr",
          "output_type": "stream",
          "text": [
            " 38%|███▊      | 38/100 [14:20<22:46, 22.04s/it]"
          ]
        },
        {
          "name": "stdout",
          "output_type": "stream",
          "text": [
            "Epoch 38 -\tTraining Loss : 1846.007717847824 \tValidation Loss : 93.56864356994629\n"
          ]
        },
        {
          "name": "stderr",
          "output_type": "stream",
          "text": [
            " 39%|███▉      | 39/100 [14:42<22:22, 22.00s/it]"
          ]
        },
        {
          "name": "stdout",
          "output_type": "stream",
          "text": [
            "Epoch 39 -\tTraining Loss : 1828.9344930648804 \tValidation Loss : 92.06612467765808\n"
          ]
        },
        {
          "name": "stderr",
          "output_type": "stream",
          "text": [
            " 40%|████      | 40/100 [15:04<22:09, 22.16s/it]"
          ]
        },
        {
          "name": "stdout",
          "output_type": "stream",
          "text": [
            "Test accuracy after 40 epochs is = 33.014646053702194 60.1606997558991\n",
            "Epoch 40 -\tTraining Loss : 1802.7435965538025 \tValidation Loss : 94.81195735931396\n"
          ]
        },
        {
          "name": "stderr",
          "output_type": "stream",
          "text": [
            " 41%|████      | 41/100 [15:26<21:43, 22.10s/it]"
          ]
        },
        {
          "name": "stdout",
          "output_type": "stream",
          "text": [
            "Epoch 41 -\tTraining Loss : 1712.7716989517212 \tValidation Loss : 90.39407014846802\n"
          ]
        },
        {
          "name": "stderr",
          "output_type": "stream",
          "text": [
            " 42%|████▏     | 42/100 [15:48<21:13, 21.96s/it]"
          ]
        },
        {
          "name": "stdout",
          "output_type": "stream",
          "text": [
            "Epoch 42 -\tTraining Loss : 1679.4299384355545 \tValidation Loss : 89.96704244613647\n"
          ]
        },
        {
          "name": "stderr",
          "output_type": "stream",
          "text": [
            " 43%|████▎     | 43/100 [16:10<20:51, 21.95s/it]"
          ]
        },
        {
          "name": "stdout",
          "output_type": "stream",
          "text": [
            "Epoch 43 -\tTraining Loss : 1658.289069056511 \tValidation Loss : 90.96767711639404\n"
          ]
        },
        {
          "name": "stderr",
          "output_type": "stream",
          "text": [
            " 44%|████▍     | 44/100 [16:32<20:27, 21.92s/it]"
          ]
        },
        {
          "name": "stdout",
          "output_type": "stream",
          "text": [
            "Epoch 44 -\tTraining Loss : 1633.6827882528305 \tValidation Loss : 89.85845375061035\n"
          ]
        },
        {
          "name": "stderr",
          "output_type": "stream",
          "text": [
            " 45%|████▌     | 45/100 [16:54<20:18, 22.16s/it]"
          ]
        },
        {
          "name": "stdout",
          "output_type": "stream",
          "text": [
            "Test accuracy after 45 epochs is = 34.804719283970705 62.30675345809601\n",
            "Epoch 45 -\tTraining Loss : 1616.5365853309631 \tValidation Loss : 90.7595546245575\n"
          ]
        },
        {
          "name": "stderr",
          "output_type": "stream",
          "text": [
            " 46%|████▌     | 46/100 [17:16<19:54, 22.13s/it]"
          ]
        },
        {
          "name": "stdout",
          "output_type": "stream",
          "text": [
            "Epoch 46 -\tTraining Loss : 1594.819669008255 \tValidation Loss : 92.29679322242737\n"
          ]
        },
        {
          "name": "stderr",
          "output_type": "stream",
          "text": [
            " 47%|████▋     | 47/100 [17:38<19:28, 22.05s/it]"
          ]
        },
        {
          "name": "stdout",
          "output_type": "stream",
          "text": [
            "Epoch 47 -\tTraining Loss : 1573.216831445694 \tValidation Loss : 90.11658000946045\n"
          ]
        },
        {
          "name": "stderr",
          "output_type": "stream",
          "text": [
            " 48%|████▊     | 48/100 [18:00<19:06, 22.04s/it]"
          ]
        },
        {
          "name": "stdout",
          "output_type": "stream",
          "text": [
            "Epoch 48 -\tTraining Loss : 1554.0862090587616 \tValidation Loss : 90.19641613960266\n"
          ]
        },
        {
          "name": "stderr",
          "output_type": "stream",
          "text": [
            " 49%|████▉     | 49/100 [18:22<18:44, 22.05s/it]"
          ]
        },
        {
          "name": "stdout",
          "output_type": "stream",
          "text": [
            "Epoch 49 -\tTraining Loss : 1536.472529053688 \tValidation Loss : 89.26788640022278\n"
          ]
        },
        {
          "name": "stderr",
          "output_type": "stream",
          "text": [
            " 50%|█████     | 50/100 [18:46<18:46, 22.52s/it]"
          ]
        },
        {
          "name": "stdout",
          "output_type": "stream",
          "text": [
            "Test accuracy after 50 epochs is = 36.625305126118796 64.05614320585842\n",
            "Epoch 50 -\tTraining Loss : 1511.2895404100418 \tValidation Loss : 88.88296937942505\n"
          ]
        },
        {
          "name": "stderr",
          "output_type": "stream",
          "text": [
            " 51%|█████     | 51/100 [19:09<18:28, 22.62s/it]"
          ]
        },
        {
          "name": "stdout",
          "output_type": "stream",
          "text": [
            "Epoch 51 -\tTraining Loss : 1447.910758972168 \tValidation Loss : 89.96114444732666\n"
          ]
        },
        {
          "name": "stderr",
          "output_type": "stream",
          "text": [
            " 52%|█████▏    | 52/100 [19:31<18:05, 22.62s/it]"
          ]
        },
        {
          "name": "stdout",
          "output_type": "stream",
          "text": [
            "Epoch 52 -\tTraining Loss : 1421.9823439121246 \tValidation Loss : 89.36905980110168\n"
          ]
        },
        {
          "name": "stderr",
          "output_type": "stream",
          "text": [
            " 53%|█████▎    | 53/100 [19:54<17:45, 22.66s/it]"
          ]
        },
        {
          "name": "stdout",
          "output_type": "stream",
          "text": [
            "Epoch 53 -\tTraining Loss : 1403.7832182645798 \tValidation Loss : 90.40042543411255\n"
          ]
        },
        {
          "name": "stderr",
          "output_type": "stream",
          "text": [
            " 54%|█████▍    | 54/100 [20:17<17:22, 22.66s/it]"
          ]
        },
        {
          "name": "stdout",
          "output_type": "stream",
          "text": [
            "Epoch 54 -\tTraining Loss : 1388.0362002849579 \tValidation Loss : 90.24513554573059\n"
          ]
        },
        {
          "name": "stderr",
          "output_type": "stream",
          "text": [
            " 55%|█████▌    | 55/100 [20:40<17:13, 22.96s/it]"
          ]
        },
        {
          "name": "stdout",
          "output_type": "stream",
          "text": [
            "Test accuracy after 55 epochs is = 37.57119609438568 64.95117982099268\n",
            "Epoch 55 -\tTraining Loss : 1372.0469378232956 \tValidation Loss : 89.40912747383118\n"
          ]
        },
        {
          "name": "stderr",
          "output_type": "stream",
          "text": [
            " 56%|█████▌    | 56/100 [21:03<16:48, 22.92s/it]"
          ]
        },
        {
          "name": "stdout",
          "output_type": "stream",
          "text": [
            "Epoch 56 -\tTraining Loss : 1358.0793014764786 \tValidation Loss : 89.27032160758972\n"
          ]
        },
        {
          "name": "stderr",
          "output_type": "stream",
          "text": [
            " 57%|█████▋    | 57/100 [21:26<16:27, 22.96s/it]"
          ]
        },
        {
          "name": "stdout",
          "output_type": "stream",
          "text": [
            "Epoch 57 -\tTraining Loss : 1343.0265662670135 \tValidation Loss : 89.2995252609253\n"
          ]
        },
        {
          "name": "stderr",
          "output_type": "stream",
          "text": [
            " 58%|█████▊    | 58/100 [21:49<16:02, 22.92s/it]"
          ]
        },
        {
          "name": "stdout",
          "output_type": "stream",
          "text": [
            "Epoch 58 -\tTraining Loss : 1327.239983201027 \tValidation Loss : 90.40067434310913\n"
          ]
        },
        {
          "name": "stderr",
          "output_type": "stream",
          "text": [
            " 59%|█████▉    | 59/100 [22:12<15:37, 22.87s/it]"
          ]
        },
        {
          "name": "stdout",
          "output_type": "stream",
          "text": [
            "Epoch 59 -\tTraining Loss : 1313.3158912658691 \tValidation Loss : 90.48592615127563\n"
          ]
        },
        {
          "name": "stderr",
          "output_type": "stream",
          "text": [
            " 60%|██████    | 60/100 [22:36<15:24, 23.12s/it]"
          ]
        },
        {
          "name": "stdout",
          "output_type": "stream",
          "text": [
            "Test accuracy after 60 epochs is = 38.018714401952806 65.14442636289667\n",
            "Epoch 60 -\tTraining Loss : 1298.264096736908 \tValidation Loss : 89.19198560714722\n"
          ]
        },
        {
          "name": "stderr",
          "output_type": "stream",
          "text": [
            " 61%|██████    | 61/100 [22:58<14:54, 22.95s/it]"
          ]
        },
        {
          "name": "stdout",
          "output_type": "stream",
          "text": [
            "Epoch 61 -\tTraining Loss : 1254.840476512909 \tValidation Loss : 90.39996433258057\n"
          ]
        },
        {
          "name": "stderr",
          "output_type": "stream",
          "text": [
            " 62%|██████▏   | 62/100 [23:21<14:27, 22.83s/it]"
          ]
        },
        {
          "name": "stdout",
          "output_type": "stream",
          "text": [
            "Epoch 62 -\tTraining Loss : 1239.1311161518097 \tValidation Loss : 90.77960157394409\n"
          ]
        },
        {
          "name": "stderr",
          "output_type": "stream",
          "text": [
            " 63%|██████▎   | 63/100 [23:43<13:59, 22.69s/it]"
          ]
        },
        {
          "name": "stdout",
          "output_type": "stream",
          "text": [
            "Epoch 63 -\tTraining Loss : 1229.3529646396637 \tValidation Loss : 90.82478165626526\n"
          ]
        },
        {
          "name": "stderr",
          "output_type": "stream",
          "text": [
            " 64%|██████▍   | 64/100 [24:05<13:32, 22.56s/it]"
          ]
        },
        {
          "name": "stdout",
          "output_type": "stream",
          "text": [
            "Epoch 64 -\tTraining Loss : 1216.0635237693787 \tValidation Loss : 89.2648196220398\n"
          ]
        },
        {
          "name": "stderr",
          "output_type": "stream",
          "text": [
            " 65%|██████▌   | 65/100 [24:28<13:11, 22.61s/it]"
          ]
        },
        {
          "name": "stdout",
          "output_type": "stream",
          "text": [
            "Test accuracy after 65 epochs is = 39.10699755899105 66.1106590724166\n",
            "Epoch 65 -\tTraining Loss : 1207.0220999717712 \tValidation Loss : 89.47285842895508\n"
          ]
        },
        {
          "name": "stderr",
          "output_type": "stream",
          "text": [
            " 66%|██████▌   | 66/100 [24:50<12:42, 22.44s/it]"
          ]
        },
        {
          "name": "stdout",
          "output_type": "stream",
          "text": [
            "Epoch 66 -\tTraining Loss : 1198.7796621322632 \tValidation Loss : 90.50006699562073\n"
          ]
        },
        {
          "name": "stderr",
          "output_type": "stream",
          "text": [
            " 67%|██████▋   | 67/100 [25:12<12:15, 22.28s/it]"
          ]
        },
        {
          "name": "stdout",
          "output_type": "stream",
          "text": [
            "Epoch 67 -\tTraining Loss : 1189.4146338701248 \tValidation Loss : 90.40871620178223\n"
          ]
        },
        {
          "name": "stderr",
          "output_type": "stream",
          "text": [
            " 68%|██████▊   | 68/100 [25:34<11:49, 22.18s/it]"
          ]
        },
        {
          "name": "stdout",
          "output_type": "stream",
          "text": [
            "Epoch 68 -\tTraining Loss : 1180.506100177765 \tValidation Loss : 89.77324414253235\n"
          ]
        },
        {
          "name": "stderr",
          "output_type": "stream",
          "text": [
            " 69%|██████▉   | 69/100 [25:56<11:25, 22.12s/it]"
          ]
        },
        {
          "name": "stdout",
          "output_type": "stream",
          "text": [
            "Epoch 69 -\tTraining Loss : 1170.6163408756256 \tValidation Loss : 89.43808388710022\n"
          ]
        },
        {
          "name": "stderr",
          "output_type": "stream",
          "text": [
            " 70%|███████   | 70/100 [26:19<11:08, 22.28s/it]"
          ]
        },
        {
          "name": "stdout",
          "output_type": "stream",
          "text": [
            "Test accuracy after 70 epochs is = 39.381611065907244 66.25305126118796\n",
            "Epoch 70 -\tTraining Loss : 1161.611699104309 \tValidation Loss : 89.64064073562622\n"
          ]
        },
        {
          "name": "stderr",
          "output_type": "stream",
          "text": [
            " 71%|███████   | 71/100 [26:40<10:39, 22.05s/it]"
          ]
        },
        {
          "name": "stdout",
          "output_type": "stream",
          "text": [
            "Epoch 71 -\tTraining Loss : 1136.2272808551788 \tValidation Loss : 88.71114039421082\n"
          ]
        },
        {
          "name": "stderr",
          "output_type": "stream",
          "text": [
            " 72%|███████▏  | 72/100 [27:02<10:16, 22.04s/it]"
          ]
        },
        {
          "name": "stdout",
          "output_type": "stream",
          "text": [
            "Epoch 72 -\tTraining Loss : 1129.6487934589386 \tValidation Loss : 89.96096134185791\n"
          ]
        },
        {
          "name": "stderr",
          "output_type": "stream",
          "text": [
            " 73%|███████▎  | 73/100 [27:24<09:50, 21.88s/it]"
          ]
        },
        {
          "name": "stdout",
          "output_type": "stream",
          "text": [
            "Epoch 73 -\tTraining Loss : 1121.667722582817 \tValidation Loss : 89.83332347869873\n"
          ]
        },
        {
          "name": "stderr",
          "output_type": "stream",
          "text": [
            " 74%|███████▍  | 74/100 [27:45<09:28, 21.85s/it]"
          ]
        },
        {
          "name": "stdout",
          "output_type": "stream",
          "text": [
            "Epoch 74 -\tTraining Loss : 1113.0725877285004 \tValidation Loss : 90.02110981941223\n"
          ]
        },
        {
          "name": "stderr",
          "output_type": "stream",
          "text": [
            " 75%|███████▌  | 75/100 [28:08<09:12, 22.11s/it]"
          ]
        },
        {
          "name": "stdout",
          "output_type": "stream",
          "text": [
            "Test accuracy after 75 epochs is = 39.16802278275021 66.24288039056144\n",
            "Epoch 75 -\tTraining Loss : 1107.8384610414505 \tValidation Loss : 89.96257019042969\n"
          ]
        },
        {
          "name": "stderr",
          "output_type": "stream",
          "text": [
            " 76%|███████▌  | 76/100 [28:31<08:54, 22.26s/it]"
          ]
        },
        {
          "name": "stdout",
          "output_type": "stream",
          "text": [
            "Epoch 76 -\tTraining Loss : 1105.7433001995087 \tValidation Loss : 90.2519896030426\n"
          ]
        },
        {
          "name": "stderr",
          "output_type": "stream",
          "text": [
            " 77%|███████▋  | 77/100 [28:53<08:33, 22.34s/it]"
          ]
        },
        {
          "name": "stdout",
          "output_type": "stream",
          "text": [
            "Epoch 77 -\tTraining Loss : 1099.3963735103607 \tValidation Loss : 91.2739646434784\n"
          ]
        },
        {
          "name": "stderr",
          "output_type": "stream",
          "text": [
            " 78%|███████▊  | 78/100 [29:16<08:13, 22.42s/it]"
          ]
        },
        {
          "name": "stdout",
          "output_type": "stream",
          "text": [
            "Epoch 78 -\tTraining Loss : 1096.1027159690857 \tValidation Loss : 90.55023980140686\n"
          ]
        },
        {
          "name": "stderr",
          "output_type": "stream",
          "text": [
            " 79%|███████▉  | 79/100 [29:39<07:52, 22.50s/it]"
          ]
        },
        {
          "name": "stdout",
          "output_type": "stream",
          "text": [
            "Epoch 79 -\tTraining Loss : 1089.4077240228653 \tValidation Loss : 91.23488879203796\n"
          ]
        },
        {
          "name": "stderr",
          "output_type": "stream",
          "text": [
            " 80%|████████  | 80/100 [30:02<07:36, 22.82s/it]"
          ]
        },
        {
          "name": "stdout",
          "output_type": "stream",
          "text": [
            "Test accuracy after 80 epochs is = 39.218877135882835 65.88689991863303\n",
            "Epoch 80 -\tTraining Loss : 1080.0760046243668 \tValidation Loss : 90.03673911094666\n"
          ]
        },
        {
          "name": "stderr",
          "output_type": "stream",
          "text": [
            " 81%|████████  | 81/100 [30:25<07:12, 22.77s/it]"
          ]
        },
        {
          "name": "stdout",
          "output_type": "stream",
          "text": [
            "Epoch 81 -\tTraining Loss : 1071.87216258049 \tValidation Loss : 91.20360469818115\n"
          ]
        },
        {
          "name": "stderr",
          "output_type": "stream",
          "text": [
            " 82%|████████▏ | 82/100 [30:48<06:49, 22.77s/it]"
          ]
        },
        {
          "name": "stdout",
          "output_type": "stream",
          "text": [
            "Epoch 82 -\tTraining Loss : 1068.555433511734 \tValidation Loss : 90.66095423698425\n"
          ]
        },
        {
          "name": "stderr",
          "output_type": "stream",
          "text": [
            " 83%|████████▎ | 83/100 [31:10<06:27, 22.81s/it]"
          ]
        },
        {
          "name": "stdout",
          "output_type": "stream",
          "text": [
            "Epoch 83 -\tTraining Loss : 1062.8156759738922 \tValidation Loss : 91.21964406967163\n"
          ]
        },
        {
          "name": "stderr",
          "output_type": "stream",
          "text": [
            " 84%|████████▍ | 84/100 [31:33<06:04, 22.75s/it]"
          ]
        },
        {
          "name": "stdout",
          "output_type": "stream",
          "text": [
            "Epoch 84 -\tTraining Loss : 1060.8378621339798 \tValidation Loss : 90.89558744430542\n"
          ]
        },
        {
          "name": "stderr",
          "output_type": "stream",
          "text": [
            " 85%|████████▌ | 85/100 [31:57<05:45, 23.01s/it]"
          ]
        },
        {
          "name": "stdout",
          "output_type": "stream",
          "text": [
            "Test accuracy after 85 epochs is = 39.462978030919444 65.88689991863303\n",
            "Epoch 85 -\tTraining Loss : 1054.6673719882965 \tValidation Loss : 91.42520046234131\n"
          ]
        },
        {
          "name": "stderr",
          "output_type": "stream",
          "text": [
            " 86%|████████▌ | 86/100 [32:19<05:20, 22.90s/it]"
          ]
        },
        {
          "name": "stdout",
          "output_type": "stream",
          "text": [
            "Epoch 86 -\tTraining Loss : 1053.219179391861 \tValidation Loss : 91.6181206703186\n"
          ]
        },
        {
          "name": "stderr",
          "output_type": "stream",
          "text": [
            " 87%|████████▋ | 87/100 [32:42<04:56, 22.77s/it]"
          ]
        },
        {
          "name": "stdout",
          "output_type": "stream",
          "text": [
            "Epoch 87 -\tTraining Loss : 1050.1691179275513 \tValidation Loss : 90.93508839607239\n"
          ]
        },
        {
          "name": "stderr",
          "output_type": "stream",
          "text": [
            " 88%|████████▊ | 88/100 [33:05<04:33, 22.81s/it]"
          ]
        },
        {
          "name": "stdout",
          "output_type": "stream",
          "text": [
            "Epoch 88 -\tTraining Loss : 1044.0987792015076 \tValidation Loss : 91.07513070106506\n"
          ]
        },
        {
          "name": "stderr",
          "output_type": "stream",
          "text": [
            " 89%|████████▉ | 89/100 [33:27<04:10, 22.78s/it]"
          ]
        },
        {
          "name": "stdout",
          "output_type": "stream",
          "text": [
            "Epoch 89 -\tTraining Loss : 1040.1009018421173 \tValidation Loss : 91.76638770103455\n"
          ]
        },
        {
          "name": "stderr",
          "output_type": "stream",
          "text": [
            " 90%|█████████ | 90/100 [33:51<03:50, 23.03s/it]"
          ]
        },
        {
          "name": "stdout",
          "output_type": "stream",
          "text": [
            "Test accuracy after 90 epochs is = 39.53417412530513 66.12082994304312\n",
            "Epoch 90 -\tTraining Loss : 1045.0268378257751 \tValidation Loss : 91.59675645828247\n"
          ]
        },
        {
          "name": "stderr",
          "output_type": "stream",
          "text": [
            " 91%|█████████ | 91/100 [34:14<03:26, 22.92s/it]"
          ]
        },
        {
          "name": "stdout",
          "output_type": "stream",
          "text": [
            "Epoch 91 -\tTraining Loss : 1038.9041455984116 \tValidation Loss : 91.61333703994751\n"
          ]
        },
        {
          "name": "stderr",
          "output_type": "stream",
          "text": [
            " 92%|█████████▏| 92/100 [34:36<03:01, 22.74s/it]"
          ]
        },
        {
          "name": "stdout",
          "output_type": "stream",
          "text": [
            "Epoch 92 -\tTraining Loss : 1031.0842189788818 \tValidation Loss : 91.09169697761536\n"
          ]
        },
        {
          "name": "stderr",
          "output_type": "stream",
          "text": [
            " 93%|█████████▎| 93/100 [34:59<02:38, 22.68s/it]"
          ]
        },
        {
          "name": "stdout",
          "output_type": "stream",
          "text": [
            "Epoch 93 -\tTraining Loss : 1036.5694885253906 \tValidation Loss : 91.1422209739685\n"
          ]
        },
        {
          "name": "stderr",
          "output_type": "stream",
          "text": [
            " 94%|█████████▍| 94/100 [35:21<02:16, 22.67s/it]"
          ]
        },
        {
          "name": "stdout",
          "output_type": "stream",
          "text": [
            "Epoch 94 -\tTraining Loss : 1030.7817550897598 \tValidation Loss : 91.530118227005\n"
          ]
        },
        {
          "name": "stderr",
          "output_type": "stream",
          "text": [
            " 95%|█████████▌| 95/100 [35:44<01:54, 22.87s/it]"
          ]
        },
        {
          "name": "stdout",
          "output_type": "stream",
          "text": [
            "Test accuracy after 95 epochs is = 39.493490642799024 65.95809601301872\n",
            "Epoch 95 -\tTraining Loss : 1025.7151590585709 \tValidation Loss : 91.45682144165039\n"
          ]
        },
        {
          "name": "stderr",
          "output_type": "stream",
          "text": [
            " 96%|█████████▌| 96/100 [36:07<01:30, 22.75s/it]"
          ]
        },
        {
          "name": "stdout",
          "output_type": "stream",
          "text": [
            "Epoch 96 -\tTraining Loss : 1028.869767665863 \tValidation Loss : 91.94370102882385\n"
          ]
        },
        {
          "name": "stderr",
          "output_type": "stream",
          "text": [
            " 97%|█████████▋| 97/100 [36:29<01:07, 22.62s/it]"
          ]
        },
        {
          "name": "stdout",
          "output_type": "stream",
          "text": [
            "Epoch 97 -\tTraining Loss : 1024.1175899505615 \tValidation Loss : 91.65433669090271\n"
          ]
        },
        {
          "name": "stderr",
          "output_type": "stream",
          "text": [
            " 98%|█████████▊| 98/100 [36:52<00:45, 22.52s/it]"
          ]
        },
        {
          "name": "stdout",
          "output_type": "stream",
          "text": [
            "Epoch 98 -\tTraining Loss : 1030.0082738399506 \tValidation Loss : 91.37797617912292\n"
          ]
        },
        {
          "name": "stderr",
          "output_type": "stream",
          "text": [
            " 99%|█████████▉| 99/100 [37:14<00:22, 22.41s/it]"
          ]
        },
        {
          "name": "stdout",
          "output_type": "stream",
          "text": [
            "Epoch 99 -\tTraining Loss : 1021.843386888504 \tValidation Loss : 91.86953854560852\n"
          ]
        },
        {
          "name": "stderr",
          "output_type": "stream",
          "text": [
            "100%|██████████| 100/100 [37:37<00:00, 22.57s/it]"
          ]
        },
        {
          "name": "stdout",
          "output_type": "stream",
          "text": [
            "Test accuracy after 100 epochs is = 39.493490642799024 65.98860862489829\n",
            "Epoch 100 -\tTraining Loss : 1021.389520406723 \tValidation Loss : 91.99855828285217\n"
          ]
        },
        {
          "name": "stderr",
          "output_type": "stream",
          "text": [
            "\n"
          ]
        }
      ],
      "source": [
        "model = CNN().to(device)\n",
        "\n",
        "train_loader = DataLoader(train, batch_size=128, shuffle=True)\n",
        "validation_loader = DataLoader(validation, batch_size=256, shuffle=True)\n",
        "test_loader = DataLoader(testset, batch_size=256, shuffle=False)\n",
        "optimizer = torch.optim.AdamW\n",
        "loss_function = F.cross_entropy\n",
        "scheduler = torch.optim.lr_scheduler.StepLR\n",
        "\n",
        "history, accuracies = fit(model, optimizer, scheduler, loss_function, train_loader, validation_loader, test_loader, learning_rate=0.02, num_epochs=100)"
      ]
    },
    {
      "cell_type": "code",
      "execution_count": 20,
      "metadata": {
        "colab": {
          "base_uri": "https://localhost:8080/"
        },
        "id": "tGy_U0tKsVAU",
        "outputId": "418bd8ed-92e1-46fc-ae4f-b9909a417364"
      },
      "outputs": [
        {
          "data": {
            "image/png": "[encoded data removed]",
            "text/plain": [
              "<Figure size 640x480 with 1 Axes>"
            ]
          },
          "metadata": {},
          "output_type": "display_data"
        }
      ],
      "source": [
        "plot_losses(history)"
      ]
    },
    {
      "cell_type": "code",
      "execution_count": 21,
      "metadata": {
        "colab": {
          "base_uri": "https://localhost:8080/"
        },
        "id": "l7NdRFRRsWp7",
        "outputId": "72f213b1-b819-46d0-8f71-8726123886d7"
      },
      "outputs": [
        {
          "data": {
            "image/png": "[encoded data removed]",
            "text/plain": [
              "<Figure size 640x480 with 1 Axes>"
            ]
          },
          "metadata": {},
          "output_type": "display_data"
        }
      ],
      "source": [
        "plot_accuracies(history)"
      ]
    },
    {
      "cell_type": "code",
      "execution_count": 22,
      "metadata": {},
      "outputs": [
        {
          "name": "stdout",
          "output_type": "stream",
          "text": [
            "{'top1': [4.129373474369406, 7.872253864930838, 15.703824247355573, 15.886899918633034, 26.617168429617575, 27.92921074043938, 31.51952807160293, 33.014646053702194, 34.804719283970705, 36.625305126118796, 37.57119609438568, 38.018714401952806, 39.10699755899105, 39.381611065907244, 39.16802278275021, 39.218877135882835, 39.462978030919444, 39.53417412530513, 39.493490642799024, 39.493490642799024], 'top5': [15.378356387306754, 25.691619202603743, 40.14442636289667, 38.934092758340114, 54.200569568755085, 54.83116354759967, 59.62164361269325, 60.1606997558991, 62.30675345809601, 64.05614320585842, 64.95117982099268, 65.14442636289667, 66.1106590724166, 66.25305126118796, 66.24288039056144, 65.88689991863303, 65.88689991863303, 66.12082994304312, 65.95809601301872, 65.98860862489829]}\n"
          ]
        }
      ],
      "source": [
        "print(accuracies)"
      ]
    },
    {
      "cell_type": "code",
      "execution_count": 23,
      "metadata": {
        "colab": {
          "base_uri": "https://localhost:8080/"
        },
        "id": "BqBqOO79_QBf",
        "outputId": "778e0092-5124-4d3f-b906-3f7f2b548d25"
      },
      "outputs": [
        {
          "data": {
            "image/png": "[encoded data removed]",
            "text/plain": [
              "<Figure size 640x480 with 1 Axes>"
            ]
          },
          "metadata": {},
          "output_type": "display_data"
        }
      ],
      "source": [
        "epochs = [i for i in range(5, 101, 5)]\n",
        "pyplot.plot(epochs, accuracies[\"top1\"], '-bo')\n",
        "pyplot.plot(epochs, accuracies[\"top5\"], '-ro')\n",
        "pyplot.xlabel('epoch')\n",
        "pyplot.ylabel('acurracy')\n",
        "pyplot.title('Test Acurracy vs. No. of epochs')\n",
        "pyplot.show()"
      ]
    }
  ],
  "metadata": {
    "accelerator": "GPU",
    "colab": {
      "provenance": []
    },
    "kernelspec": {
      "display_name": "Python 3",
      "name": "python3"
    },
    "language_info": {
      "codemirror_mode": {
        "name": "ipython",
        "version": 3
      },
      "file_extension": ".py",
      "mimetype": "text/x-python",
      "name": "python",
      "nbconvert_exporter": "python",
      "pygments_lexer": "ipython3",
      "version": "3.8.10"
    }
  },
  "nbformat": 4,
  "nbformat_minor": 0
}
