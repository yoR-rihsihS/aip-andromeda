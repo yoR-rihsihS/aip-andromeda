{
  "cells": [
    {
      "cell_type": "markdown",
      "metadata": {
        "id": "QU5mfO1H_2sj"
      },
      "source": [
        "# Importing Required Libraries"
      ]
    },
    {
      "cell_type": "code",
      "execution_count": 1,
      "metadata": {
        "id": "PGtWScDeACLI"
      },
      "outputs": [],
      "source": [
        "import time\n",
        "import pickle\n",
        "import random\n",
        "import numpy as np\n",
        "from tqdm import tqdm\n",
        "from matplotlib import pyplot\n",
        "\n",
        "import torch\n",
        "import torch.nn as nn\n",
        "import torch.nn.functional as F\n",
        "from torchsummary import summary\n",
        "from torch.utils.data import Dataset, DataLoader, random_split"
      ]
    },
    {
      "cell_type": "markdown",
      "metadata": {
        "id": "jf6kPoQvUWUK"
      },
      "source": [
        "# Making Results Reproducible"
      ]
    },
    {
      "cell_type": "code",
      "execution_count": 2,
      "metadata": {
        "id": "btkbbBJ7lPLZ"
      },
      "outputs": [],
      "source": [
        "random_seed = 42\n",
        "torch.manual_seed(random_seed)\n",
        "np.random.seed(random_seed)"
      ]
    },
    {
      "cell_type": "code",
      "execution_count": 3,
      "metadata": {},
      "outputs": [],
      "source": [
        "device = 'cuda'\n",
        "# device = 'cpu'"
      ]
    },
    {
      "cell_type": "markdown",
      "metadata": {
        "id": "T4iomoFzCh1N"
      },
      "source": [
        "# Reading The Dataset\n"
      ]
    },
    {
      "cell_type": "code",
      "execution_count": 4,
      "metadata": {},
      "outputs": [
        {
          "name": "stdout",
          "output_type": "stream",
          "text": [
            "--2024-05-01 03:43:49--  https://www.cs.toronto.edu/~kriz/cifar-100-python.tar.gz\n",
            "Resolving www.cs.toronto.edu (www.cs.toronto.edu)... 128.100.3.30\n",
            "Connecting to www.cs.toronto.edu (www.cs.toronto.edu)|128.100.3.30|:443... connected.\n",
            "HTTP request sent, awaiting response... 200 OK\n",
            "Length: 169001437 (161M) [application/x-gzip]\n",
            "Saving to: ‘cifar-100-python.tar.gz.1’\n",
            "\n",
            "cifar-100-python.ta 100%[===================>] 161.17M  11.7MB/s    in 32s     \n",
            "\n",
            "2024-05-01 03:44:22 (5.11 MB/s) - ‘cifar-100-python.tar.gz.1’ saved [169001437/169001437]\n",
            "\n"
          ]
        }
      ],
      "source": [
        "!wget https://www.cs.toronto.edu/~kriz/cifar-100-python.tar.gz\n",
        "\n",
        "import tarfile\n",
        "with tarfile.open(\"./cifar-100-python.tar.gz\", \"r:gz\") as tar:\n",
        "    tar.extractall(path=\"./\")"
      ]
    },
    {
      "cell_type": "code",
      "execution_count": 5,
      "metadata": {},
      "outputs": [
        {
          "name": "stdout",
          "output_type": "stream",
          "text": [
            "dict_keys([b'filenames', b'batch_label', b'fine_labels', b'coarse_labels', b'data'])\n",
            "dict_keys([b'filenames', b'batch_label', b'fine_labels', b'coarse_labels', b'data'])\n"
          ]
        }
      ],
      "source": [
        "def unpickle(file):\n",
        "    with open(file, 'rb') as fo:\n",
        "        dict = pickle.load(fo, encoding='bytes')\n",
        "    return dict\n",
        "\n",
        "d1 = unpickle('./cifar-100-python/train')\n",
        "print(d1.keys())\n",
        "\n",
        "d2 = unpickle('./cifar-100-python/test')\n",
        "print(d2.keys())"
      ]
    },
    {
      "cell_type": "code",
      "execution_count": 6,
      "metadata": {},
      "outputs": [],
      "source": [
        "def get_tensor_data(data):\n",
        "    images = data[b'data']\n",
        "    labels = data[b'fine_labels']\n",
        "\n",
        "    N = images.shape[0]\n",
        "    images = images.reshape((N, 3, 32, 32))\n",
        "    labels = np.array(labels)\n",
        "\n",
        "    return torch.tensor(images, dtype=torch.float32) / 255.0, torch.tensor(labels)\n"
      ]
    },
    {
      "cell_type": "code",
      "execution_count": 7,
      "metadata": {},
      "outputs": [],
      "source": [
        "data_images, data_labels = get_tensor_data(d1)\n",
        "test_images, test_labels = get_tensor_data(d2)"
      ]
    },
    {
      "cell_type": "markdown",
      "metadata": {
        "id": "yEp3Mi2fDXym"
      },
      "source": [
        "# Showing Examples From Datasets For Sanity Checking"
      ]
    },
    {
      "cell_type": "code",
      "execution_count": 8,
      "metadata": {
        "id": "JEoHi4ieDgih"
      },
      "outputs": [],
      "source": [
        "def show_example(image, label):\n",
        "  print(\"Label :\", label.item())\n",
        "  pyplot.imshow(image.permute((1, 2, 0)))"
      ]
    },
    {
      "cell_type": "code",
      "execution_count": 9,
      "metadata": {
        "colab": {
          "base_uri": "https://localhost:8080/",
          "height": 465
        },
        "id": "jSjhGWo2p6lk",
        "outputId": "532cde98-74e5-4429-8528-5754f3fe52f5"
      },
      "outputs": [
        {
          "name": "stdout",
          "output_type": "stream",
          "text": [
            "index = 21695\n",
            "Label : 82\n"
          ]
        },
        {
          "data": {
            "image/png": "[encoded data removed]",
            "text/plain": [
              "<Figure size 640x480 with 1 Axes>"
            ]
          },
          "metadata": {},
          "output_type": "display_data"
        }
      ],
      "source": [
        "index = random.randint(0, 50000)\n",
        "print(\"index =\", index)\n",
        "show_example(data_images[index], data_labels[index])"
      ]
    },
    {
      "cell_type": "code",
      "execution_count": 10,
      "metadata": {
        "colab": {
          "base_uri": "https://localhost:8080/",
          "height": 465
        },
        "id": "ufYnogD8p6v7",
        "outputId": "36f9b2b9-6e9e-4fb0-a05c-7b10c1211ff8"
      },
      "outputs": [
        {
          "name": "stdout",
          "output_type": "stream",
          "text": [
            "index = 1237\n",
            "Label : 23\n"
          ]
        },
        {
          "data": {
            "image/png": "[encoded data removed]",
            "text/plain": [
              "<Figure size 640x480 with 1 Axes>"
            ]
          },
          "metadata": {},
          "output_type": "display_data"
        }
      ],
      "source": [
        "index = random.randint(0, 10000)\n",
        "print(\"index =\", index)\n",
        "show_example(test_images[index], test_labels[index])"
      ]
    },
    {
      "cell_type": "markdown",
      "metadata": {
        "id": "cEEfXXHUHe7h"
      },
      "source": [
        "# Loading The Datset For Training Model"
      ]
    },
    {
      "cell_type": "code",
      "execution_count": 11,
      "metadata": {
        "id": "4iFmbX9hutJO"
      },
      "outputs": [],
      "source": [
        "train_examples = 45000\n",
        "validation_examples = 5000\n",
        "\n",
        "class CustomDataset(Dataset):\n",
        "    def __init__(self, images, labels):\n",
        "        self.X = images\n",
        "        self.Y = labels\n",
        "\n",
        "    def __len__(self):\n",
        "        return self.X.shape[0]\n",
        "\n",
        "    def __getitem__(self, index):\n",
        "        return (self.X[index], self.Y[index])\n",
        "\n",
        "\n",
        "dataset = CustomDataset(data_images, data_labels)\n",
        "train_set, validation_set = random_split(dataset, [train_examples, validation_examples])\n",
        "test_set = CustomDataset(test_images, test_labels)"
      ]
    },
    {
      "cell_type": "markdown",
      "metadata": {
        "id": "JKkr8K7ymYhn"
      },
      "source": [
        "# Defining The Model"
      ]
    },
    {
      "cell_type": "code",
      "execution_count": 12,
      "metadata": {},
      "outputs": [],
      "source": [
        "class Wide_ResNet(nn.Module):\n",
        "    def __init__(self, width = 4, dropout = 0.33, num_classes=100):\n",
        "        super().__init__()\n",
        "\n",
        "        self.block0 = nn.Sequential(\n",
        "            nn.Conv2d(3, 16, kernel_size=3, padding=1, stride=1),\n",
        "            nn.BatchNorm2d(16),\n",
        "            nn.ReLU(),\n",
        "        )\n",
        "\n",
        "        self.block11 = nn.Sequential(\n",
        "            nn.Conv2d(16, 16*width, kernel_size=3, padding=1, stride=2),\n",
        "            nn.BatchNorm2d(16*width),\n",
        "            nn.ReLU(),\n",
        "            nn.Dropout2d(dropout),\n",
        "            nn.Conv2d(16*width, 16*width, kernel_size=3, padding=1, stride=1),\n",
        "        )\n",
        "        self.shortcut1 = nn.Conv2d(16, 16*width, kernel_size=1, stride=2)\n",
        "        self.block12 = nn.Sequential(\n",
        "            nn.BatchNorm2d(16*width),\n",
        "            nn.ReLU(),\n",
        "            nn.Conv2d(16*width, 16*width, kernel_size=3, padding=1, stride=1),\n",
        "            nn.BatchNorm2d(16*width),\n",
        "            nn.ReLU(),\n",
        "            nn.Dropout2d(dropout),\n",
        "            nn.Conv2d(16*width, 16*width, kernel_size=3, padding=1, stride=1),\n",
        "        )\n",
        "\n",
        "\n",
        "        self.pre_block2 = nn.Sequential(\n",
        "            nn.BatchNorm2d(16*width),\n",
        "            nn.ReLU(),\n",
        "        )\n",
        "        self.block21 = nn.Sequential(\n",
        "            nn.Conv2d(16*width, 32*width, kernel_size=3, padding=1, stride=2),\n",
        "            nn.BatchNorm2d(32*width),\n",
        "            nn.ReLU(),\n",
        "            nn.Dropout2d(dropout),\n",
        "            nn.Conv2d(32*width, 32*width, kernel_size=3, padding=1, stride=1),\n",
        "        )\n",
        "        self.shortcut2 = nn.Conv2d(16*width, 32*width, kernel_size=1, stride=2)\n",
        "        self.block22 = nn.Sequential(\n",
        "            nn.BatchNorm2d(32*width),\n",
        "            nn.ReLU(),\n",
        "            nn.Conv2d(32*width, 32*width, kernel_size=3, padding=1, stride=1),\n",
        "            nn.BatchNorm2d(32*width),\n",
        "            nn.ReLU(),\n",
        "            nn.Dropout2d(dropout),\n",
        "            nn.Conv2d(32*width, 32*width, kernel_size=3, padding=1, stride=1),\n",
        "        )\n",
        "\n",
        "        self.pre_block3 = nn.Sequential(\n",
        "            nn.BatchNorm2d(32*width),\n",
        "            nn.ReLU(),\n",
        "        )\n",
        "        self.block31 = nn.Sequential(\n",
        "            nn.Conv2d(32*width, 64*width, kernel_size=3, padding=1, stride=2),\n",
        "            nn.BatchNorm2d(64*width),\n",
        "            nn.ReLU(),\n",
        "            nn.Dropout2d(dropout),\n",
        "            nn.Conv2d(64*width, 64*width, kernel_size=3, padding=1, stride=1),\n",
        "        )\n",
        "        self.shortcut3 = nn.Conv2d(32*width, 64*width, kernel_size=1, stride=2)\n",
        "        self.block32 = nn.Sequential(\n",
        "            nn.BatchNorm2d(64*width),\n",
        "            nn.ReLU(),\n",
        "            nn.Conv2d(64*width, 64*width, kernel_size=3, padding=1, stride=1),\n",
        "            nn.BatchNorm2d(64*width),\n",
        "            nn.ReLU(),\n",
        "            nn.Dropout2d(dropout),\n",
        "            nn.Conv2d(64*width, 64*width, kernel_size=3, padding=1, stride=1),\n",
        "        )\n",
        "\n",
        "        self.pool_block = nn.Sequential(\n",
        "            nn.BatchNorm2d(64*width),\n",
        "            nn.ReLU(),\n",
        "            nn.AvgPool2d(4, 4), # Depending on Dataset this should change\n",
        "        )\n",
        "\n",
        "        self.fc = nn.Sequential(\n",
        "            nn.Linear(64*width, 64*width),\n",
        "            nn.ReLU(),\n",
        "            nn.Dropout1d(dropout/2),\n",
        "            nn.Linear(64*width, num_classes)\n",
        "        )\n",
        "\n",
        "    def forward(self, x):\n",
        "        # x.shape = B x 3 x 32 x 32\n",
        "\n",
        "        x = self.block0(x)\n",
        "        # x.shape = B x 16 x 32 x 32\n",
        "\n",
        "        x1 = self.block11(x)\n",
        "        x2 = self.shortcut1(x)\n",
        "        x3 = x1 + x2\n",
        "        x4 = self.block12(x3)\n",
        "        x = x3 + x4\n",
        "        # x.shape = B x 16*width x 16 x 16\n",
        "\n",
        "        x = self.pre_block2(x)\n",
        "        x1 = self.block21(x)\n",
        "        x2 = self.shortcut2(x)\n",
        "        x3 = x1 + x2\n",
        "        x4 = self.block22(x3)\n",
        "        x = x3 + x4\n",
        "        # x.shape = B x 32*width x 8 x 8\n",
        "\n",
        "        x = self.pre_block3(x)\n",
        "        x1 = self.block31(x)\n",
        "        x2 = self.shortcut3(x)\n",
        "        x3 = x1 + x2\n",
        "        x4 = self.block32(x3)\n",
        "        x = x3 + x4\n",
        "        # x.shape = B x 64*width x 4 x 4\n",
        "\n",
        "        x = self.pool_block(x)\n",
        "        # x.shape = B x 64*width x 1 x 1\n",
        "\n",
        "        x = torch.flatten(x, start_dim=1)\n",
        "        # flatten all dimensions except batch (0th dim)\n",
        "        # x.shape = B x 64*width\n",
        "\n",
        "        x = self.fc(x)\n",
        "        # x.shape = B x num_classes\n",
        "\n",
        "        return x\n"
      ]
    },
    {
      "cell_type": "markdown",
      "metadata": {
        "id": "8kWoQnKzwEvQ"
      },
      "source": [
        "# Helper Functions To Train And Test The Model"
      ]
    },
    {
      "cell_type": "code",
      "execution_count": 13,
      "metadata": {},
      "outputs": [],
      "source": [
        "def validate(model, validation_loader, loss_fn):\n",
        "  validation_loss = 0.0\n",
        "  validation_correct = 0\n",
        "  model.eval()\n",
        "  with torch.no_grad(): \n",
        "    for j, (x_val, y_val) in enumerate(validation_loader):\n",
        "      x_val = x_val.to(device)\n",
        "      y_val = y_val.to(device)\n",
        "\n",
        "      y_pred = model(x_val)\n",
        "      loss = loss_fn(y_pred, y_val)\n",
        "\n",
        "      predicted = torch.argmax(y_pred.data, dim=1)\n",
        "      validation_correct += (predicted == y_val).sum().item()\n",
        "      validation_loss += loss.item()\n",
        "\n",
        "  return validation_loss, validation_correct"
      ]
    },
    {
      "cell_type": "code",
      "execution_count": 14,
      "metadata": {},
      "outputs": [],
      "source": [
        "def test(model, test_loader):\n",
        "  top1_correct = 0\n",
        "  top5_correct = 0\n",
        "  model.eval()\n",
        "  with torch.no_grad(): \n",
        "    for j, (x_val, y_val) in enumerate(test_loader):\n",
        "      x_val = x_val.to(device)\n",
        "      y_val = y_val.to(device)\n",
        "\n",
        "      y_pred = model(x_val)\n",
        "\n",
        "      predicted = torch.argmax(y_pred.data, dim=1)\n",
        "      top1_correct += (predicted == y_val).sum().item()\n",
        "\n",
        "      val, ind = torch.topk(y_pred.data, 5, dim=1, largest=True, sorted=True)\n",
        "      for i in range(5):\n",
        "        top5_correct += (ind[ :, i] == y_val).sum().item()\n",
        "\n",
        "  return top1_correct / 100, top5_correct / 100"
      ]
    },
    {
      "cell_type": "code",
      "execution_count": 15,
      "metadata": {
        "id": "pacEFSU7TLm7"
      },
      "outputs": [],
      "source": [
        "def train(model, optimizer, scheduler, loss_fn, train_loader, validation_loader, test_loader, learning_rate, num_epochs):\n",
        "  history = {'train_loss' : [], 'val_loss' : [], 'train_acc' : [], 'val_acc' : [], 'test_acc1' : [], 'test_acc5' : [], 'time' : []}\n",
        "  optimizer = optimizer(model.parameters(), learning_rate, momentum=0.9, nesterov=True)\n",
        "  scheduler = scheduler(optimizer, T_max=len(train_loader)*num_epochs)\n",
        "\n",
        "  for epoch in tqdm(range(num_epochs)):\n",
        "    model.train()\n",
        "    train_loss = 0.0\n",
        "    train_correct = 0\n",
        "    start = time.time()\n",
        "    for i, (x_batch, y_batch) in enumerate(train_loader):\n",
        "      x_batch = x_batch.to(device)\n",
        "      y_batch = y_batch.to(device)\n",
        "    \n",
        "      y_pred = model(x_batch)\n",
        "      loss = loss_fn(y_pred, y_batch)\n",
        "\n",
        "      optimizer.zero_grad()\n",
        "      loss.backward()\n",
        "      optimizer.step()\n",
        "      scheduler.step()\n",
        "\n",
        "      predicted = torch.argmax(y_pred.data, dim=1)\n",
        "      train_correct += (predicted == y_batch).sum().item()\n",
        "      train_loss += loss.item()\n",
        "    end = time.time()\n",
        "      \n",
        "    # Validation Step\n",
        "    validation_loss, validation_correct = validate(model, validation_loader, loss_fn)\n",
        "\n",
        "    print(\"Epoch\", epoch+1, \"-\\tTraining Loss :\", train_loss/train_examples, \"\\tValidation Loss :\", validation_loss/validation_examples)\n",
        "    history['train_loss'].append(train_loss / train_examples)\n",
        "    history['val_loss'].append(validation_loss / validation_examples)\n",
        "    history['train_acc'].append(100 * train_correct / train_examples)\n",
        "    history['val_acc'].append(100 * validation_correct / validation_examples)\n",
        "    history['time'].append(end - start)\n",
        "\n",
        "    # Test Step every 5th epoch\n",
        "    if (epoch % 5) == 4:\n",
        "      top1, top5 = test(model, test_loader)\n",
        "      history['test_acc1'].append(top1)\n",
        "      history['test_acc5'].append(top5)\n",
        "\n",
        "      print(\"Training Accuracy =\", 100 * train_correct / train_examples,\n",
        "            \"\\tValidation Accuracy =\", 100 * validation_correct / validation_examples,\n",
        "            \"\\tTest Accuracy Top1 =\", top1, \"\\tTest Accuracy Top5 =\", top5)\n",
        "\n",
        "  return history"
      ]
    },
    {
      "cell_type": "code",
      "execution_count": 16,
      "metadata": {
        "id": "eszEjkeB_kD_"
      },
      "outputs": [],
      "source": [
        "def plot_loss(train_loss, val_loss):\n",
        "  pyplot.plot(train_loss, '-b')\n",
        "  pyplot.plot(val_loss, '-r')\n",
        "  pyplot.xlabel('epoch')\n",
        "  pyplot.ylabel('loss')\n",
        "  pyplot.legend(['Training', 'Validation'])\n",
        "  pyplot.title('Loss vs. No. of epochs')"
      ]
    },
    {
      "cell_type": "code",
      "execution_count": 17,
      "metadata": {
        "id": "Q9kq7ZvWr8k-"
      },
      "outputs": [],
      "source": [
        "def plot_acc(train_acc, val_acc):\n",
        "  pyplot.plot(train_acc, '-b')\n",
        "  pyplot.plot(val_acc, '-r')\n",
        "  pyplot.xlabel('epoch')\n",
        "  pyplot.ylabel('acurracy')\n",
        "  pyplot.legend(['Training', 'Validation'])\n",
        "  pyplot.title('Acurracy vs. No. of epochs')"
      ]
    },
    {
      "cell_type": "code",
      "execution_count": 18,
      "metadata": {},
      "outputs": [],
      "source": [
        "def plot_test(test_acc1, test_acc5):\n",
        "  x = range(5, 201, 5)\n",
        "  x = x[ : len(test_acc1)]\n",
        "  pyplot.plot(x, test_acc1, '-b')\n",
        "  pyplot.plot(x, test_acc5, '-r')\n",
        "  pyplot.xlabel('epoch')\n",
        "  pyplot.ylabel('accuracy')\n",
        "  pyplot.legend(['Top1 Accuracy', 'Top5 Accuracy'])\n",
        "  pyplot.title('Accuracy vs. No. of epochs')"
      ]
    },
    {
      "cell_type": "markdown",
      "metadata": {
        "id": "cEmpR2syZA1L"
      },
      "source": [
        "# Training The Model"
      ]
    },
    {
      "cell_type": "code",
      "execution_count": 19,
      "metadata": {},
      "outputs": [
        {
          "name": "stdout",
          "output_type": "stream",
          "text": [
            "----------------------------------------------------------------\n",
            "        Layer (type)               Output Shape         Param #\n",
            "================================================================\n",
            "            Conv2d-1           [-1, 16, 32, 32]             448\n",
            "       BatchNorm2d-2           [-1, 16, 32, 32]              32\n",
            "              ReLU-3           [-1, 16, 32, 32]               0\n",
            "            Conv2d-4          [-1, 128, 16, 16]          18,560\n",
            "       BatchNorm2d-5          [-1, 128, 16, 16]             256\n",
            "              ReLU-6          [-1, 128, 16, 16]               0\n",
            "         Dropout2d-7          [-1, 128, 16, 16]               0\n",
            "            Conv2d-8          [-1, 128, 16, 16]         147,584\n",
            "            Conv2d-9          [-1, 128, 16, 16]           2,176\n",
            "      BatchNorm2d-10          [-1, 128, 16, 16]             256\n",
            "             ReLU-11          [-1, 128, 16, 16]               0\n",
            "           Conv2d-12          [-1, 128, 16, 16]         147,584\n",
            "      BatchNorm2d-13          [-1, 128, 16, 16]             256\n",
            "             ReLU-14          [-1, 128, 16, 16]               0\n",
            "        Dropout2d-15          [-1, 128, 16, 16]               0\n",
            "           Conv2d-16          [-1, 128, 16, 16]         147,584\n",
            "      BatchNorm2d-17          [-1, 128, 16, 16]             256\n",
            "             ReLU-18          [-1, 128, 16, 16]               0\n",
            "           Conv2d-19            [-1, 256, 8, 8]         295,168\n",
            "      BatchNorm2d-20            [-1, 256, 8, 8]             512\n",
            "             ReLU-21            [-1, 256, 8, 8]               0\n",
            "        Dropout2d-22            [-1, 256, 8, 8]               0\n",
            "           Conv2d-23            [-1, 256, 8, 8]         590,080\n",
            "           Conv2d-24            [-1, 256, 8, 8]          33,024\n",
            "      BatchNorm2d-25            [-1, 256, 8, 8]             512\n",
            "             ReLU-26            [-1, 256, 8, 8]               0\n",
            "           Conv2d-27            [-1, 256, 8, 8]         590,080\n",
            "      BatchNorm2d-28            [-1, 256, 8, 8]             512\n",
            "             ReLU-29            [-1, 256, 8, 8]               0\n",
            "        Dropout2d-30            [-1, 256, 8, 8]               0\n",
            "           Conv2d-31            [-1, 256, 8, 8]         590,080\n",
            "      BatchNorm2d-32            [-1, 256, 8, 8]             512\n",
            "             ReLU-33            [-1, 256, 8, 8]               0\n",
            "           Conv2d-34            [-1, 512, 4, 4]       1,180,160\n",
            "      BatchNorm2d-35            [-1, 512, 4, 4]           1,024\n",
            "             ReLU-36            [-1, 512, 4, 4]               0\n",
            "        Dropout2d-37            [-1, 512, 4, 4]               0\n",
            "           Conv2d-38            [-1, 512, 4, 4]       2,359,808\n",
            "           Conv2d-39            [-1, 512, 4, 4]         131,584\n",
            "      BatchNorm2d-40            [-1, 512, 4, 4]           1,024\n",
            "             ReLU-41            [-1, 512, 4, 4]               0\n",
            "           Conv2d-42            [-1, 512, 4, 4]       2,359,808\n",
            "      BatchNorm2d-43            [-1, 512, 4, 4]           1,024\n",
            "             ReLU-44            [-1, 512, 4, 4]               0\n",
            "        Dropout2d-45            [-1, 512, 4, 4]               0\n",
            "           Conv2d-46            [-1, 512, 4, 4]       2,359,808\n",
            "      BatchNorm2d-47            [-1, 512, 4, 4]           1,024\n",
            "             ReLU-48            [-1, 512, 4, 4]               0\n",
            "        AvgPool2d-49            [-1, 512, 1, 1]               0\n",
            "           Linear-50                  [-1, 512]         262,656\n",
            "             ReLU-51                  [-1, 512]               0\n",
            "        Dropout1d-52                  [-1, 512]               0\n",
            "           Linear-53                  [-1, 100]          51,300\n",
            "================================================================\n",
            "Total params: 11,274,692\n",
            "Trainable params: 11,274,692\n",
            "Non-trainable params: 0\n",
            "----------------------------------------------------------------\n",
            "Input size (MB): 0.01\n",
            "Forward/backward pass size (MB): 6.95\n",
            "Params size (MB): 43.01\n",
            "Estimated Total Size (MB): 49.98\n",
            "----------------------------------------------------------------\n"
          ]
        }
      ],
      "source": [
        "model1 = Wide_ResNet(width=8, dropout=0.5).to(device)\n",
        "summary(model1, (3, 32, 32))"
      ]
    },
    {
      "cell_type": "code",
      "execution_count": 20,
      "metadata": {
        "colab": {
          "base_uri": "https://localhost:8080/"
        },
        "id": "BbWT3zaBdtak",
        "outputId": "42092dd0-d81e-4587-eef2-ac9bc7917f63"
      },
      "outputs": [
        {
          "name": "stderr",
          "output_type": "stream",
          "text": [
            "/data/home1/shishirm/.local/lib/python3.8/site-packages/tqdm/auto.py:21: TqdmWarning: IProgress not found. Please update jupyter and ipywidgets. See https://ipywidgets.readthedocs.io/en/stable/user_install.html\n",
            "  from .autonotebook import tqdm as notebook_tqdm\n",
            "  1%|          | 1/100 [00:09<16:15,  9.85s/it]"
          ]
        },
        {
          "name": "stdout",
          "output_type": "stream",
          "text": [
            "Epoch 1 -\tTraining Loss : 0.03456027432547675 \tValidation Loss : 0.016843303108215333\n"
          ]
        },
        {
          "name": "stderr",
          "output_type": "stream",
          "text": [
            "  2%|▏         | 2/100 [00:18<14:50,  9.09s/it]"
          ]
        },
        {
          "name": "stdout",
          "output_type": "stream",
          "text": [
            "Epoch 2 -\tTraining Loss : 0.031768147039413455 \tValidation Loss : 0.014978043603897095\n"
          ]
        },
        {
          "name": "stderr",
          "output_type": "stream",
          "text": [
            "  3%|▎         | 3/100 [00:27<14:24,  8.91s/it]"
          ]
        },
        {
          "name": "stdout",
          "output_type": "stream",
          "text": [
            "Epoch 3 -\tTraining Loss : 0.030673151344723173 \tValidation Loss : 0.015291814470291138\n"
          ]
        },
        {
          "name": "stderr",
          "output_type": "stream",
          "text": [
            "  4%|▍         | 4/100 [00:35<13:57,  8.72s/it]"
          ]
        },
        {
          "name": "stdout",
          "output_type": "stream",
          "text": [
            "Epoch 4 -\tTraining Loss : 0.029702393854988945 \tValidation Loss : 0.013750119256973267\n",
            "Epoch 5 -\tTraining Loss : 0.028726562166213988 \tValidation Loss : 0.013379308080673218\n"
          ]
        },
        {
          "name": "stderr",
          "output_type": "stream",
          "text": [
            "  5%|▌         | 5/100 [00:44<14:08,  8.93s/it]"
          ]
        },
        {
          "name": "stdout",
          "output_type": "stream",
          "text": [
            "Training Accuracy = 13.786666666666667 \tValidation Accuracy = 19.82 \tTest Accuracy Top1 = 19.45 \tTest Accuracy Top5 = 47.81\n"
          ]
        },
        {
          "name": "stderr",
          "output_type": "stream",
          "text": [
            "  6%|▌         | 6/100 [00:53<14:02,  8.97s/it]"
          ]
        },
        {
          "name": "stdout",
          "output_type": "stream",
          "text": [
            "Epoch 6 -\tTraining Loss : 0.027905552032258776 \tValidation Loss : 0.013328553724288941\n"
          ]
        },
        {
          "name": "stderr",
          "output_type": "stream",
          "text": [
            "  7%|▋         | 7/100 [01:02<13:46,  8.89s/it]"
          ]
        },
        {
          "name": "stdout",
          "output_type": "stream",
          "text": [
            "Epoch 7 -\tTraining Loss : 0.027171179474724663 \tValidation Loss : 0.012238099002838135\n"
          ]
        },
        {
          "name": "stderr",
          "output_type": "stream",
          "text": [
            "  8%|▊         | 8/100 [01:11<13:27,  8.77s/it]"
          ]
        },
        {
          "name": "stdout",
          "output_type": "stream",
          "text": [
            "Epoch 8 -\tTraining Loss : 0.026462882407506307 \tValidation Loss : 0.011609349727630615\n"
          ]
        },
        {
          "name": "stderr",
          "output_type": "stream",
          "text": [
            "  9%|▉         | 9/100 [01:19<13:11,  8.69s/it]"
          ]
        },
        {
          "name": "stdout",
          "output_type": "stream",
          "text": [
            "Epoch 9 -\tTraining Loss : 0.025882777759763928 \tValidation Loss : 0.011778426170349122\n",
            "Epoch 10 -\tTraining Loss : 0.025373433054818047 \tValidation Loss : 0.010940859222412109\n"
          ]
        },
        {
          "name": "stderr",
          "output_type": "stream",
          "text": [
            " 10%|█         | 10/100 [01:28<13:15,  8.84s/it]"
          ]
        },
        {
          "name": "stdout",
          "output_type": "stream",
          "text": [
            "Training Accuracy = 21.746666666666666 \tValidation Accuracy = 32.28 \tTest Accuracy Top1 = 32.33 \tTest Accuracy Top5 = 63.57\n"
          ]
        },
        {
          "name": "stderr",
          "output_type": "stream",
          "text": [
            " 11%|█         | 11/100 [01:37<13:02,  8.79s/it]"
          ]
        },
        {
          "name": "stdout",
          "output_type": "stream",
          "text": [
            "Epoch 11 -\tTraining Loss : 0.024794838004642064 \tValidation Loss : 0.010595381212234497\n"
          ]
        },
        {
          "name": "stderr",
          "output_type": "stream",
          "text": [
            " 12%|█▏        | 12/100 [01:46<12:50,  8.75s/it]"
          ]
        },
        {
          "name": "stdout",
          "output_type": "stream",
          "text": [
            "Epoch 12 -\tTraining Loss : 0.024246033154593574 \tValidation Loss : 0.010429138422012329\n"
          ]
        },
        {
          "name": "stderr",
          "output_type": "stream",
          "text": [
            " 13%|█▎        | 13/100 [01:54<12:41,  8.76s/it]"
          ]
        },
        {
          "name": "stdout",
          "output_type": "stream",
          "text": [
            "Epoch 13 -\tTraining Loss : 0.023756717777252197 \tValidation Loss : 0.010133676195144653\n"
          ]
        },
        {
          "name": "stderr",
          "output_type": "stream",
          "text": [
            " 14%|█▍        | 14/100 [02:03<12:31,  8.74s/it]"
          ]
        },
        {
          "name": "stdout",
          "output_type": "stream",
          "text": [
            "Epoch 14 -\tTraining Loss : 0.023214847305085926 \tValidation Loss : 0.00978655400276184\n",
            "Epoch 15 -\tTraining Loss : 0.022701960701412626 \tValidation Loss : 0.009617375135421753\n"
          ]
        },
        {
          "name": "stderr",
          "output_type": "stream",
          "text": [
            " 15%|█▌        | 15/100 [02:12<12:27,  8.80s/it]"
          ]
        },
        {
          "name": "stdout",
          "output_type": "stream",
          "text": [
            "Training Accuracy = 28.788888888888888 \tValidation Accuracy = 38.12 \tTest Accuracy Top1 = 39.42 \tTest Accuracy Top5 = 70.96\n"
          ]
        },
        {
          "name": "stderr",
          "output_type": "stream",
          "text": [
            " 16%|█▌        | 16/100 [02:21<12:16,  8.76s/it]"
          ]
        },
        {
          "name": "stdout",
          "output_type": "stream",
          "text": [
            "Epoch 16 -\tTraining Loss : 0.022352337058385213 \tValidation Loss : 0.009159837818145751\n"
          ]
        },
        {
          "name": "stderr",
          "output_type": "stream",
          "text": [
            " 17%|█▋        | 17/100 [02:29<11:55,  8.62s/it]"
          ]
        },
        {
          "name": "stdout",
          "output_type": "stream",
          "text": [
            "Epoch 17 -\tTraining Loss : 0.021836526934305826 \tValidation Loss : 0.009328337860107422\n"
          ]
        },
        {
          "name": "stderr",
          "output_type": "stream",
          "text": [
            " 18%|█▊        | 18/100 [02:38<12:01,  8.80s/it]"
          ]
        },
        {
          "name": "stdout",
          "output_type": "stream",
          "text": [
            "Epoch 18 -\tTraining Loss : 0.021520364353391858 \tValidation Loss : 0.008748992681503295\n"
          ]
        },
        {
          "name": "stderr",
          "output_type": "stream",
          "text": [
            " 19%|█▉        | 19/100 [02:47<11:48,  8.75s/it]"
          ]
        },
        {
          "name": "stdout",
          "output_type": "stream",
          "text": [
            "Epoch 19 -\tTraining Loss : 0.021077437655131023 \tValidation Loss : 0.008603920936584472\n",
            "Epoch 20 -\tTraining Loss : 0.020708502091301813 \tValidation Loss : 0.00833602728843689\n"
          ]
        },
        {
          "name": "stderr",
          "output_type": "stream",
          "text": [
            " 20%|██        | 20/100 [02:56<11:48,  8.86s/it]"
          ]
        },
        {
          "name": "stdout",
          "output_type": "stream",
          "text": [
            "Training Accuracy = 34.19777777777778 \tValidation Accuracy = 44.94 \tTest Accuracy Top1 = 46.63 \tTest Accuracy Top5 = 77.03\n"
          ]
        },
        {
          "name": "stderr",
          "output_type": "stream",
          "text": [
            " 21%|██        | 21/100 [03:05<11:42,  8.89s/it]"
          ]
        },
        {
          "name": "stdout",
          "output_type": "stream",
          "text": [
            "Epoch 21 -\tTraining Loss : 0.020453801663716634 \tValidation Loss : 0.00883179087638855\n"
          ]
        },
        {
          "name": "stderr",
          "output_type": "stream",
          "text": [
            " 22%|██▏       | 22/100 [03:14<11:36,  8.93s/it]"
          ]
        },
        {
          "name": "stdout",
          "output_type": "stream",
          "text": [
            "Epoch 22 -\tTraining Loss : 0.020083868243959215 \tValidation Loss : 0.007992363905906677\n"
          ]
        },
        {
          "name": "stderr",
          "output_type": "stream",
          "text": [
            " 23%|██▎       | 23/100 [03:22<11:15,  8.77s/it]"
          ]
        },
        {
          "name": "stdout",
          "output_type": "stream",
          "text": [
            "Epoch 23 -\tTraining Loss : 0.019857636366950142 \tValidation Loss : 0.00787659752368927\n"
          ]
        },
        {
          "name": "stderr",
          "output_type": "stream",
          "text": [
            " 24%|██▍       | 24/100 [03:31<11:00,  8.69s/it]"
          ]
        },
        {
          "name": "stdout",
          "output_type": "stream",
          "text": [
            "Epoch 24 -\tTraining Loss : 0.019534504911634658 \tValidation Loss : 0.007972723960876464\n",
            "Epoch 25 -\tTraining Loss : 0.019210455253389148 \tValidation Loss : 0.00777129225730896\n"
          ]
        },
        {
          "name": "stderr",
          "output_type": "stream",
          "text": [
            " 25%|██▌       | 25/100 [03:40<11:05,  8.87s/it]"
          ]
        },
        {
          "name": "stdout",
          "output_type": "stream",
          "text": [
            "Training Accuracy = 38.87555555555556 \tValidation Accuracy = 48.18 \tTest Accuracy Top1 = 49.09 \tTest Accuracy Top5 = 79.02\n"
          ]
        },
        {
          "name": "stderr",
          "output_type": "stream",
          "text": [
            " 26%|██▌       | 26/100 [03:49<10:46,  8.74s/it]"
          ]
        },
        {
          "name": "stdout",
          "output_type": "stream",
          "text": [
            "Epoch 26 -\tTraining Loss : 0.018954907083511354 \tValidation Loss : 0.00764407913684845\n"
          ]
        },
        {
          "name": "stderr",
          "output_type": "stream",
          "text": [
            " 27%|██▋       | 27/100 [03:57<10:29,  8.62s/it]"
          ]
        },
        {
          "name": "stdout",
          "output_type": "stream",
          "text": [
            "Epoch 27 -\tTraining Loss : 0.018672629613346522 \tValidation Loss : 0.007354940867424011\n"
          ]
        },
        {
          "name": "stderr",
          "output_type": "stream",
          "text": [
            " 28%|██▊       | 28/100 [04:06<10:23,  8.66s/it]"
          ]
        },
        {
          "name": "stdout",
          "output_type": "stream",
          "text": [
            "Epoch 28 -\tTraining Loss : 0.018414810143576727 \tValidation Loss : 0.007293650555610657\n"
          ]
        },
        {
          "name": "stderr",
          "output_type": "stream",
          "text": [
            " 29%|██▉       | 29/100 [04:14<10:14,  8.65s/it]"
          ]
        },
        {
          "name": "stdout",
          "output_type": "stream",
          "text": [
            "Epoch 29 -\tTraining Loss : 0.018045377445220948 \tValidation Loss : 0.007265148591995239\n",
            "Epoch 30 -\tTraining Loss : 0.017772018716070388 \tValidation Loss : 0.007316046118736267\n"
          ]
        },
        {
          "name": "stderr",
          "output_type": "stream",
          "text": [
            " 30%|███       | 30/100 [04:23<10:15,  8.79s/it]"
          ]
        },
        {
          "name": "stdout",
          "output_type": "stream",
          "text": [
            "Training Accuracy = 42.93333333333333 \tValidation Accuracy = 50.52 \tTest Accuracy Top1 = 50.88 \tTest Accuracy Top5 = 80.55\n"
          ]
        },
        {
          "name": "stderr",
          "output_type": "stream",
          "text": [
            " 31%|███       | 31/100 [04:32<10:00,  8.70s/it]"
          ]
        },
        {
          "name": "stdout",
          "output_type": "stream",
          "text": [
            "Epoch 31 -\tTraining Loss : 0.017572801785998873 \tValidation Loss : 0.007111450672149658\n"
          ]
        },
        {
          "name": "stderr",
          "output_type": "stream",
          "text": [
            " 32%|███▏      | 32/100 [04:41<09:49,  8.66s/it]"
          ]
        },
        {
          "name": "stdout",
          "output_type": "stream",
          "text": [
            "Epoch 32 -\tTraining Loss : 0.017285513835483126 \tValidation Loss : 0.00706774570941925\n"
          ]
        },
        {
          "name": "stderr",
          "output_type": "stream",
          "text": [
            " 33%|███▎      | 33/100 [04:50<09:48,  8.78s/it]"
          ]
        },
        {
          "name": "stdout",
          "output_type": "stream",
          "text": [
            "Epoch 33 -\tTraining Loss : 0.017128212830755447 \tValidation Loss : 0.007050422358512878\n"
          ]
        },
        {
          "name": "stderr",
          "output_type": "stream",
          "text": [
            " 34%|███▍      | 34/100 [04:58<09:35,  8.71s/it]"
          ]
        },
        {
          "name": "stdout",
          "output_type": "stream",
          "text": [
            "Epoch 34 -\tTraining Loss : 0.016867790383762783 \tValidation Loss : 0.006999286437034607\n",
            "Epoch 35 -\tTraining Loss : 0.016601596604453192 \tValidation Loss : 0.0069075369834899905\n"
          ]
        },
        {
          "name": "stderr",
          "output_type": "stream",
          "text": [
            " 35%|███▌      | 35/100 [05:07<09:36,  8.87s/it]"
          ]
        },
        {
          "name": "stdout",
          "output_type": "stream",
          "text": [
            "Training Accuracy = 46.81333333333333 \tValidation Accuracy = 51.86 \tTest Accuracy Top1 = 53.09 \tTest Accuracy Top5 = 82.28\n"
          ]
        },
        {
          "name": "stderr",
          "output_type": "stream",
          "text": [
            " 36%|███▌      | 36/100 [05:16<09:21,  8.77s/it]"
          ]
        },
        {
          "name": "stdout",
          "output_type": "stream",
          "text": [
            "Epoch 36 -\tTraining Loss : 0.016436502742767332 \tValidation Loss : 0.0068064073324203495\n"
          ]
        },
        {
          "name": "stderr",
          "output_type": "stream",
          "text": [
            " 37%|███▋      | 37/100 [05:25<09:13,  8.78s/it]"
          ]
        },
        {
          "name": "stdout",
          "output_type": "stream",
          "text": [
            "Epoch 37 -\tTraining Loss : 0.016198189544677735 \tValidation Loss : 0.006792901039123535\n"
          ]
        },
        {
          "name": "stderr",
          "output_type": "stream",
          "text": [
            " 38%|███▊      | 38/100 [05:34<09:12,  8.92s/it]"
          ]
        },
        {
          "name": "stdout",
          "output_type": "stream",
          "text": [
            "Epoch 38 -\tTraining Loss : 0.015966518619325427 \tValidation Loss : 0.006701587724685669\n"
          ]
        },
        {
          "name": "stderr",
          "output_type": "stream",
          "text": [
            " 39%|███▉      | 39/100 [05:43<08:58,  8.83s/it]"
          ]
        },
        {
          "name": "stdout",
          "output_type": "stream",
          "text": [
            "Epoch 39 -\tTraining Loss : 0.015770443158679537 \tValidation Loss : 0.006745765399932861\n",
            "Epoch 40 -\tTraining Loss : 0.015491714734501309 \tValidation Loss : 0.006728609585762024\n"
          ]
        },
        {
          "name": "stderr",
          "output_type": "stream",
          "text": [
            " 40%|████      | 40/100 [05:52<08:59,  8.98s/it]"
          ]
        },
        {
          "name": "stdout",
          "output_type": "stream",
          "text": [
            "Training Accuracy = 50.54222222222222 \tValidation Accuracy = 53.24 \tTest Accuracy Top1 = 54.67 \tTest Accuracy Top5 = 82.74\n"
          ]
        },
        {
          "name": "stderr",
          "output_type": "stream",
          "text": [
            " 41%|████      | 41/100 [06:00<08:42,  8.86s/it]"
          ]
        },
        {
          "name": "stdout",
          "output_type": "stream",
          "text": [
            "Epoch 41 -\tTraining Loss : 0.015307951434453328 \tValidation Loss : 0.006689900183677673\n"
          ]
        },
        {
          "name": "stderr",
          "output_type": "stream",
          "text": [
            " 42%|████▏     | 42/100 [06:09<08:30,  8.79s/it]"
          ]
        },
        {
          "name": "stdout",
          "output_type": "stream",
          "text": [
            "Epoch 42 -\tTraining Loss : 0.015080364031261869 \tValidation Loss : 0.006656569337844849\n"
          ]
        },
        {
          "name": "stderr",
          "output_type": "stream",
          "text": [
            " 43%|████▎     | 43/100 [06:18<08:14,  8.67s/it]"
          ]
        },
        {
          "name": "stdout",
          "output_type": "stream",
          "text": [
            "Epoch 43 -\tTraining Loss : 0.014907479622628953 \tValidation Loss : 0.006711200618743897\n"
          ]
        },
        {
          "name": "stderr",
          "output_type": "stream",
          "text": [
            " 44%|████▍     | 44/100 [06:26<08:06,  8.69s/it]"
          ]
        },
        {
          "name": "stdout",
          "output_type": "stream",
          "text": [
            "Epoch 44 -\tTraining Loss : 0.01480672366089291 \tValidation Loss : 0.006574134373664856\n",
            "Epoch 45 -\tTraining Loss : 0.014624280529552036 \tValidation Loss : 0.006730440974235535\n"
          ]
        },
        {
          "name": "stderr",
          "output_type": "stream",
          "text": [
            " 45%|████▌     | 45/100 [06:35<08:04,  8.82s/it]"
          ]
        },
        {
          "name": "stdout",
          "output_type": "stream",
          "text": [
            "Training Accuracy = 53.50222222222222 \tValidation Accuracy = 54.38 \tTest Accuracy Top1 = 54.59 \tTest Accuracy Top5 = 83.09\n"
          ]
        },
        {
          "name": "stderr",
          "output_type": "stream",
          "text": [
            " 46%|████▌     | 46/100 [06:44<07:53,  8.78s/it]"
          ]
        },
        {
          "name": "stdout",
          "output_type": "stream",
          "text": [
            "Epoch 46 -\tTraining Loss : 0.014333152850468954 \tValidation Loss : 0.0066155237197875975\n"
          ]
        },
        {
          "name": "stderr",
          "output_type": "stream",
          "text": [
            " 47%|████▋     | 47/100 [06:53<07:45,  8.78s/it]"
          ]
        },
        {
          "name": "stdout",
          "output_type": "stream",
          "text": [
            "Epoch 47 -\tTraining Loss : 0.014115480581919353 \tValidation Loss : 0.00655692024230957\n"
          ]
        },
        {
          "name": "stderr",
          "output_type": "stream",
          "text": [
            " 48%|████▊     | 48/100 [07:01<07:33,  8.73s/it]"
          ]
        },
        {
          "name": "stdout",
          "output_type": "stream",
          "text": [
            "Epoch 48 -\tTraining Loss : 0.013952296177546184 \tValidation Loss : 0.006682338428497314\n"
          ]
        },
        {
          "name": "stderr",
          "output_type": "stream",
          "text": [
            " 49%|████▉     | 49/100 [07:10<07:26,  8.76s/it]"
          ]
        },
        {
          "name": "stdout",
          "output_type": "stream",
          "text": [
            "Epoch 49 -\tTraining Loss : 0.013631671545240615 \tValidation Loss : 0.006541796875\n",
            "Epoch 50 -\tTraining Loss : 0.013620239853858948 \tValidation Loss : 0.006747602844238281\n"
          ]
        },
        {
          "name": "stderr",
          "output_type": "stream",
          "text": [
            " 50%|█████     | 50/100 [07:20<07:26,  8.94s/it]"
          ]
        },
        {
          "name": "stdout",
          "output_type": "stream",
          "text": [
            "Training Accuracy = 57.02 \tValidation Accuracy = 54.1 \tTest Accuracy Top1 = 55.23 \tTest Accuracy Top5 = 82.73\n"
          ]
        },
        {
          "name": "stderr",
          "output_type": "stream",
          "text": [
            " 51%|█████     | 51/100 [07:28<07:13,  8.85s/it]"
          ]
        },
        {
          "name": "stdout",
          "output_type": "stream",
          "text": [
            "Epoch 51 -\tTraining Loss : 0.013382740060488382 \tValidation Loss : 0.00664011390209198\n"
          ]
        },
        {
          "name": "stderr",
          "output_type": "stream",
          "text": [
            " 52%|█████▏    | 52/100 [07:37<07:05,  8.86s/it]"
          ]
        },
        {
          "name": "stdout",
          "output_type": "stream",
          "text": [
            "Epoch 52 -\tTraining Loss : 0.013216801993052165 \tValidation Loss : 0.006582433414459229\n"
          ]
        },
        {
          "name": "stderr",
          "output_type": "stream",
          "text": [
            " 53%|█████▎    | 53/100 [07:45<06:49,  8.70s/it]"
          ]
        },
        {
          "name": "stdout",
          "output_type": "stream",
          "text": [
            "Epoch 53 -\tTraining Loss : 0.013029568706618415 \tValidation Loss : 0.006617962312698364\n"
          ]
        },
        {
          "name": "stderr",
          "output_type": "stream",
          "text": [
            " 54%|█████▍    | 54/100 [07:55<06:45,  8.81s/it]"
          ]
        },
        {
          "name": "stdout",
          "output_type": "stream",
          "text": [
            "Epoch 54 -\tTraining Loss : 0.012832071704334683 \tValidation Loss : 0.0068656452417373654\n",
            "Epoch 55 -\tTraining Loss : 0.01282590721713172 \tValidation Loss : 0.0066181787967681885\n"
          ]
        },
        {
          "name": "stderr",
          "output_type": "stream",
          "text": [
            " 55%|█████▌    | 55/100 [08:04<06:40,  8.90s/it]"
          ]
        },
        {
          "name": "stdout",
          "output_type": "stream",
          "text": [
            "Training Accuracy = 60.04888888888889 \tValidation Accuracy = 54.96 \tTest Accuracy Top1 = 56.67 \tTest Accuracy Top5 = 83.98\n"
          ]
        },
        {
          "name": "stderr",
          "output_type": "stream",
          "text": [
            " 56%|█████▌    | 56/100 [08:12<06:30,  8.88s/it]"
          ]
        },
        {
          "name": "stdout",
          "output_type": "stream",
          "text": [
            "Epoch 56 -\tTraining Loss : 0.012627996296352811 \tValidation Loss : 0.006619080829620361\n"
          ]
        },
        {
          "name": "stderr",
          "output_type": "stream",
          "text": [
            " 57%|█████▋    | 57/100 [08:21<06:23,  8.91s/it]"
          ]
        },
        {
          "name": "stdout",
          "output_type": "stream",
          "text": [
            "Epoch 57 -\tTraining Loss : 0.012366343381669786 \tValidation Loss : 0.006765829586982727\n"
          ]
        },
        {
          "name": "stderr",
          "output_type": "stream",
          "text": [
            " 58%|█████▊    | 58/100 [08:30<06:09,  8.79s/it]"
          ]
        },
        {
          "name": "stdout",
          "output_type": "stream",
          "text": [
            "Epoch 58 -\tTraining Loss : 0.012411505664719475 \tValidation Loss : 0.006675561547279358\n"
          ]
        },
        {
          "name": "stderr",
          "output_type": "stream",
          "text": [
            " 59%|█████▉    | 59/100 [08:39<06:05,  8.92s/it]"
          ]
        },
        {
          "name": "stdout",
          "output_type": "stream",
          "text": [
            "Epoch 59 -\tTraining Loss : 0.012272388376129997 \tValidation Loss : 0.006690024137496948\n",
            "Epoch 60 -\tTraining Loss : 0.012073325408829582 \tValidation Loss : 0.006637555694580078\n"
          ]
        },
        {
          "name": "stderr",
          "output_type": "stream",
          "text": [
            " 60%|██████    | 60/100 [08:49<06:03,  9.08s/it]"
          ]
        },
        {
          "name": "stdout",
          "output_type": "stream",
          "text": [
            "Training Accuracy = 62.63111111111111 \tValidation Accuracy = 55.36 \tTest Accuracy Top1 = 56.66 \tTest Accuracy Top5 = 84.2\n"
          ]
        },
        {
          "name": "stderr",
          "output_type": "stream",
          "text": [
            " 61%|██████    | 61/100 [08:57<05:49,  8.97s/it]"
          ]
        },
        {
          "name": "stdout",
          "output_type": "stream",
          "text": [
            "Epoch 61 -\tTraining Loss : 0.011858511307504442 \tValidation Loss : 0.006807130146026612\n"
          ]
        },
        {
          "name": "stderr",
          "output_type": "stream",
          "text": [
            " 62%|██████▏   | 62/100 [09:06<05:41,  8.97s/it]"
          ]
        },
        {
          "name": "stdout",
          "output_type": "stream",
          "text": [
            "Epoch 62 -\tTraining Loss : 0.01175481776661343 \tValidation Loss : 0.0071471138000488285\n"
          ]
        },
        {
          "name": "stderr",
          "output_type": "stream",
          "text": [
            " 63%|██████▎   | 63/100 [09:15<05:27,  8.86s/it]"
          ]
        },
        {
          "name": "stdout",
          "output_type": "stream",
          "text": [
            "Epoch 63 -\tTraining Loss : 0.011555386413468255 \tValidation Loss : 0.00683349814414978\n"
          ]
        },
        {
          "name": "stderr",
          "output_type": "stream",
          "text": [
            " 64%|██████▍   | 64/100 [09:24<05:17,  8.81s/it]"
          ]
        },
        {
          "name": "stdout",
          "output_type": "stream",
          "text": [
            "Epoch 64 -\tTraining Loss : 0.011508827386962043 \tValidation Loss : 0.006765287446975708\n",
            "Epoch 65 -\tTraining Loss : 0.011417128205299377 \tValidation Loss : 0.006852140855789185\n"
          ]
        },
        {
          "name": "stderr",
          "output_type": "stream",
          "text": [
            " 65%|██████▌   | 65/100 [09:33<05:14,  8.99s/it]"
          ]
        },
        {
          "name": "stdout",
          "output_type": "stream",
          "text": [
            "Training Accuracy = 65.53333333333333 \tValidation Accuracy = 56.1 \tTest Accuracy Top1 = 56.63 \tTest Accuracy Top5 = 84.0\n"
          ]
        },
        {
          "name": "stderr",
          "output_type": "stream",
          "text": [
            " 66%|██████▌   | 66/100 [09:42<05:06,  9.01s/it]"
          ]
        },
        {
          "name": "stdout",
          "output_type": "stream",
          "text": [
            "Epoch 66 -\tTraining Loss : 0.011286525438891517 \tValidation Loss : 0.006806664252281189\n"
          ]
        },
        {
          "name": "stderr",
          "output_type": "stream",
          "text": [
            " 67%|██████▋   | 67/100 [09:51<04:52,  8.87s/it]"
          ]
        },
        {
          "name": "stdout",
          "output_type": "stream",
          "text": [
            "Epoch 67 -\tTraining Loss : 0.011318898055288526 \tValidation Loss : 0.006860155487060547\n"
          ]
        },
        {
          "name": "stderr",
          "output_type": "stream",
          "text": [
            " 68%|██████▊   | 68/100 [09:59<04:40,  8.78s/it]"
          ]
        },
        {
          "name": "stdout",
          "output_type": "stream",
          "text": [
            "Epoch 68 -\tTraining Loss : 0.011193823907110427 \tValidation Loss : 0.0068181261301040645\n"
          ]
        },
        {
          "name": "stderr",
          "output_type": "stream",
          "text": [
            " 69%|██████▉   | 69/100 [10:08<04:28,  8.67s/it]"
          ]
        },
        {
          "name": "stdout",
          "output_type": "stream",
          "text": [
            "Epoch 69 -\tTraining Loss : 0.011066522714826795 \tValidation Loss : 0.0069140089511871335\n",
            "Epoch 70 -\tTraining Loss : 0.010999699354171753 \tValidation Loss : 0.006921714663505554\n"
          ]
        },
        {
          "name": "stderr",
          "output_type": "stream",
          "text": [
            " 70%|███████   | 70/100 [10:17<04:28,  8.96s/it]"
          ]
        },
        {
          "name": "stdout",
          "output_type": "stream",
          "text": [
            "Training Accuracy = 67.11777777777777 \tValidation Accuracy = 56.18 \tTest Accuracy Top1 = 57.27 \tTest Accuracy Top5 = 84.44\n"
          ]
        },
        {
          "name": "stderr",
          "output_type": "stream",
          "text": [
            " 71%|███████   | 71/100 [10:26<04:19,  8.93s/it]"
          ]
        },
        {
          "name": "stdout",
          "output_type": "stream",
          "text": [
            "Epoch 71 -\tTraining Loss : 0.010990646033816867 \tValidation Loss : 0.00694697265625\n"
          ]
        },
        {
          "name": "stderr",
          "output_type": "stream",
          "text": [
            " 72%|███████▏  | 72/100 [10:35<04:07,  8.85s/it]"
          ]
        },
        {
          "name": "stdout",
          "output_type": "stream",
          "text": [
            "Epoch 72 -\tTraining Loss : 0.01095047257343928 \tValidation Loss : 0.007055692911148072\n"
          ]
        },
        {
          "name": "stderr",
          "output_type": "stream",
          "text": [
            " 73%|███████▎  | 73/100 [10:44<04:00,  8.92s/it]"
          ]
        },
        {
          "name": "stdout",
          "output_type": "stream",
          "text": [
            "Epoch 73 -\tTraining Loss : 0.010769962424702115 \tValidation Loss : 0.00697231092453003\n"
          ]
        },
        {
          "name": "stderr",
          "output_type": "stream",
          "text": [
            " 74%|███████▍  | 74/100 [10:53<03:53,  9.00s/it]"
          ]
        },
        {
          "name": "stdout",
          "output_type": "stream",
          "text": [
            "Epoch 74 -\tTraining Loss : 0.010754052163494957 \tValidation Loss : 0.007076309680938721\n",
            "Epoch 75 -\tTraining Loss : 0.010732313210434384 \tValidation Loss : 0.007008878397941589\n"
          ]
        },
        {
          "name": "stderr",
          "output_type": "stream",
          "text": [
            " 75%|███████▌  | 75/100 [11:02<03:48,  9.13s/it]"
          ]
        },
        {
          "name": "stdout",
          "output_type": "stream",
          "text": [
            "Training Accuracy = 68.30888888888889 \tValidation Accuracy = 56.44 \tTest Accuracy Top1 = 57.18 \tTest Accuracy Top5 = 84.08\n"
          ]
        },
        {
          "name": "stderr",
          "output_type": "stream",
          "text": [
            " 76%|███████▌  | 76/100 [11:11<03:36,  9.03s/it]"
          ]
        },
        {
          "name": "stdout",
          "output_type": "stream",
          "text": [
            "Epoch 76 -\tTraining Loss : 0.010640701194604238 \tValidation Loss : 0.007011223936080933\n"
          ]
        },
        {
          "name": "stderr",
          "output_type": "stream",
          "text": [
            " 77%|███████▋  | 77/100 [11:20<03:26,  8.99s/it]"
          ]
        },
        {
          "name": "stdout",
          "output_type": "stream",
          "text": [
            "Epoch 77 -\tTraining Loss : 0.010508677821689181 \tValidation Loss : 0.0070923103809356685\n"
          ]
        },
        {
          "name": "stderr",
          "output_type": "stream",
          "text": [
            " 78%|███████▊  | 78/100 [11:29<03:18,  9.02s/it]"
          ]
        },
        {
          "name": "stdout",
          "output_type": "stream",
          "text": [
            "Epoch 78 -\tTraining Loss : 0.010440916454792023 \tValidation Loss : 0.007024187922477722\n"
          ]
        },
        {
          "name": "stderr",
          "output_type": "stream",
          "text": [
            " 79%|███████▉  | 79/100 [11:38<03:09,  9.05s/it]"
          ]
        },
        {
          "name": "stdout",
          "output_type": "stream",
          "text": [
            "Epoch 79 -\tTraining Loss : 0.010395395763715108 \tValidation Loss : 0.007110256600379944\n",
            "Epoch 80 -\tTraining Loss : 0.010424689531326295 \tValidation Loss : 0.007054091715812683\n"
          ]
        },
        {
          "name": "stderr",
          "output_type": "stream",
          "text": [
            " 80%|████████  | 80/100 [11:48<03:04,  9.21s/it]"
          ]
        },
        {
          "name": "stdout",
          "output_type": "stream",
          "text": [
            "Training Accuracy = 69.65555555555555 \tValidation Accuracy = 56.98 \tTest Accuracy Top1 = 57.09 \tTest Accuracy Top5 = 84.33\n"
          ]
        },
        {
          "name": "stderr",
          "output_type": "stream",
          "text": [
            " 81%|████████  | 81/100 [11:57<02:54,  9.19s/it]"
          ]
        },
        {
          "name": "stdout",
          "output_type": "stream",
          "text": [
            "Epoch 81 -\tTraining Loss : 0.010388616801632776 \tValidation Loss : 0.00715004506111145\n"
          ]
        },
        {
          "name": "stderr",
          "output_type": "stream",
          "text": [
            " 82%|████████▏ | 82/100 [12:06<02:42,  9.02s/it]"
          ]
        },
        {
          "name": "stdout",
          "output_type": "stream",
          "text": [
            "Epoch 82 -\tTraining Loss : 0.010396252920892503 \tValidation Loss : 0.007114406108856201\n"
          ]
        },
        {
          "name": "stderr",
          "output_type": "stream",
          "text": [
            " 83%|████████▎ | 83/100 [12:15<02:32,  8.98s/it]"
          ]
        },
        {
          "name": "stdout",
          "output_type": "stream",
          "text": [
            "Epoch 83 -\tTraining Loss : 0.010324592447280883 \tValidation Loss : 0.007099474287033081\n"
          ]
        },
        {
          "name": "stderr",
          "output_type": "stream",
          "text": [
            " 84%|████████▍ | 84/100 [12:23<02:22,  8.90s/it]"
          ]
        },
        {
          "name": "stdout",
          "output_type": "stream",
          "text": [
            "Epoch 84 -\tTraining Loss : 0.01028247468471527 \tValidation Loss : 0.007118395066261291\n",
            "Epoch 85 -\tTraining Loss : 0.010339796078205109 \tValidation Loss : 0.00711748628616333\n"
          ]
        },
        {
          "name": "stderr",
          "output_type": "stream",
          "text": [
            " 85%|████████▌ | 85/100 [12:33<02:16,  9.11s/it]"
          ]
        },
        {
          "name": "stdout",
          "output_type": "stream",
          "text": [
            "Training Accuracy = 70.14888888888889 \tValidation Accuracy = 56.7 \tTest Accuracy Top1 = 57.18 \tTest Accuracy Top5 = 84.31\n"
          ]
        },
        {
          "name": "stderr",
          "output_type": "stream",
          "text": [
            " 86%|████████▌ | 86/100 [12:42<02:07,  9.12s/it]"
          ]
        },
        {
          "name": "stdout",
          "output_type": "stream",
          "text": [
            "Epoch 86 -\tTraining Loss : 0.01031855742401547 \tValidation Loss : 0.007179777264595032\n"
          ]
        },
        {
          "name": "stderr",
          "output_type": "stream",
          "text": [
            " 87%|████████▋ | 87/100 [12:51<01:56,  8.97s/it]"
          ]
        },
        {
          "name": "stdout",
          "output_type": "stream",
          "text": [
            "Epoch 87 -\tTraining Loss : 0.010342022323608398 \tValidation Loss : 0.007162713408470154\n"
          ]
        },
        {
          "name": "stderr",
          "output_type": "stream",
          "text": [
            " 88%|████████▊ | 88/100 [12:59<01:46,  8.89s/it]"
          ]
        },
        {
          "name": "stdout",
          "output_type": "stream",
          "text": [
            "Epoch 88 -\tTraining Loss : 0.01026816166109509 \tValidation Loss : 0.007137753081321716\n"
          ]
        },
        {
          "name": "stderr",
          "output_type": "stream",
          "text": [
            " 89%|████████▉ | 89/100 [13:08<01:38,  8.93s/it]"
          ]
        },
        {
          "name": "stdout",
          "output_type": "stream",
          "text": [
            "Epoch 89 -\tTraining Loss : 0.01020047246085273 \tValidation Loss : 0.007159797477722168\n",
            "Epoch 90 -\tTraining Loss : 0.010265193671650357 \tValidation Loss : 0.007157155013084411\n"
          ]
        },
        {
          "name": "stderr",
          "output_type": "stream",
          "text": [
            " 90%|█████████ | 90/100 [13:18<01:31,  9.12s/it]"
          ]
        },
        {
          "name": "stdout",
          "output_type": "stream",
          "text": [
            "Training Accuracy = 70.50666666666666 \tValidation Accuracy = 56.54 \tTest Accuracy Top1 = 57.19 \tTest Accuracy Top5 = 84.37\n"
          ]
        },
        {
          "name": "stderr",
          "output_type": "stream",
          "text": [
            " 91%|█████████ | 91/100 [13:27<01:21,  9.04s/it]"
          ]
        },
        {
          "name": "stdout",
          "output_type": "stream",
          "text": [
            "Epoch 91 -\tTraining Loss : 0.010176353475782607 \tValidation Loss : 0.007166603779792786\n"
          ]
        },
        {
          "name": "stderr",
          "output_type": "stream",
          "text": [
            " 92%|█████████▏| 92/100 [13:36<01:11,  8.97s/it]"
          ]
        },
        {
          "name": "stdout",
          "output_type": "stream",
          "text": [
            "Epoch 92 -\tTraining Loss : 0.01024870181745953 \tValidation Loss : 0.007153845596313477\n"
          ]
        },
        {
          "name": "stderr",
          "output_type": "stream",
          "text": [
            " 93%|█████████▎| 93/100 [13:45<01:02,  8.99s/it]"
          ]
        },
        {
          "name": "stdout",
          "output_type": "stream",
          "text": [
            "Epoch 93 -\tTraining Loss : 0.010173873303996193 \tValidation Loss : 0.007155154967308045\n"
          ]
        },
        {
          "name": "stderr",
          "output_type": "stream",
          "text": [
            " 94%|█████████▍| 94/100 [13:54<00:53,  8.98s/it]"
          ]
        },
        {
          "name": "stdout",
          "output_type": "stream",
          "text": [
            "Epoch 94 -\tTraining Loss : 0.010264455087979634 \tValidation Loss : 0.007156154346466065\n",
            "Epoch 95 -\tTraining Loss : 0.010214797192149691 \tValidation Loss : 0.007132556223869324\n"
          ]
        },
        {
          "name": "stderr",
          "output_type": "stream",
          "text": [
            " 95%|█████████▌| 95/100 [14:03<00:45,  9.15s/it]"
          ]
        },
        {
          "name": "stdout",
          "output_type": "stream",
          "text": [
            "Training Accuracy = 70.67555555555556 \tValidation Accuracy = 56.62 \tTest Accuracy Top1 = 57.36 \tTest Accuracy Top5 = 84.27\n"
          ]
        },
        {
          "name": "stderr",
          "output_type": "stream",
          "text": [
            " 96%|█████████▌| 96/100 [14:12<00:35,  9.00s/it]"
          ]
        },
        {
          "name": "stdout",
          "output_type": "stream",
          "text": [
            "Epoch 96 -\tTraining Loss : 0.010219530194335514 \tValidation Loss : 0.007152039861679077\n"
          ]
        },
        {
          "name": "stderr",
          "output_type": "stream",
          "text": [
            " 97%|█████████▋| 97/100 [14:20<00:26,  8.86s/it]"
          ]
        },
        {
          "name": "stdout",
          "output_type": "stream",
          "text": [
            "Epoch 97 -\tTraining Loss : 0.01030799469947815 \tValidation Loss : 0.007156276106834412\n"
          ]
        },
        {
          "name": "stderr",
          "output_type": "stream",
          "text": [
            " 98%|█████████▊| 98/100 [14:29<00:17,  8.92s/it]"
          ]
        },
        {
          "name": "stdout",
          "output_type": "stream",
          "text": [
            "Epoch 98 -\tTraining Loss : 0.01027849151690801 \tValidation Loss : 0.007168533110618591\n"
          ]
        },
        {
          "name": "stderr",
          "output_type": "stream",
          "text": [
            " 99%|█████████▉| 99/100 [14:38<00:08,  8.95s/it]"
          ]
        },
        {
          "name": "stdout",
          "output_type": "stream",
          "text": [
            "Epoch 99 -\tTraining Loss : 0.010167611988385518 \tValidation Loss : 0.007130177879333496\n",
            "Epoch 100 -\tTraining Loss : 0.010064826042122312 \tValidation Loss : 0.007164909768104554\n"
          ]
        },
        {
          "name": "stderr",
          "output_type": "stream",
          "text": [
            "100%|██████████| 100/100 [14:48<00:00,  8.88s/it]"
          ]
        },
        {
          "name": "stdout",
          "output_type": "stream",
          "text": [
            "Training Accuracy = 71.12 \tValidation Accuracy = 56.66 \tTest Accuracy Top1 = 57.11 \tTest Accuracy Top5 = 84.33\n"
          ]
        },
        {
          "name": "stderr",
          "output_type": "stream",
          "text": [
            "\n"
          ]
        }
      ],
      "source": [
        "train_loader = DataLoader(train_set, batch_size=128, shuffle=True)\n",
        "validation_loader = DataLoader(validation_set, batch_size=256, shuffle=False)\n",
        "test_loader = DataLoader(test_set, batch_size=256, shuffle=False)\n",
        "\n",
        "optimizer = torch.optim.SGD\n",
        "scheduler = torch.optim.lr_scheduler.CosineAnnealingLR\n",
        "loss_fn = F.cross_entropy\n",
        "\n",
        "history1 = train(model1, optimizer, scheduler, loss_fn, train_loader, validation_loader, test_loader, learning_rate=0.01, num_epochs=100)"
      ]
    },
    {
      "cell_type": "code",
      "execution_count": 21,
      "metadata": {
        "colab": {
          "base_uri": "https://localhost:8080/"
        },
        "id": "tGy_U0tKsVAU",
        "outputId": "418bd8ed-92e1-46fc-ae4f-b9909a417364"
      },
      "outputs": [
        {
          "data": {
            "image/png": "[encoded data removed]",
            "text/plain": [
              "<Figure size 640x480 with 1 Axes>"
            ]
          },
          "metadata": {},
          "output_type": "display_data"
        }
      ],
      "source": [
        "plot_loss(history1['train_loss'], history1['val_loss'])"
      ]
    },
    {
      "cell_type": "code",
      "execution_count": 22,
      "metadata": {
        "colab": {
          "base_uri": "https://localhost:8080/"
        },
        "id": "l7NdRFRRsWp7",
        "outputId": "72f213b1-b819-46d0-8f71-8726123886d7"
      },
      "outputs": [
        {
          "data": {
            "image/png": "[encoded data removed]",
            "text/plain": [
              "<Figure size 640x480 with 1 Axes>"
            ]
          },
          "metadata": {},
          "output_type": "display_data"
        }
      ],
      "source": [
        "plot_acc(history1['train_acc'], history1['val_acc'])"
      ]
    },
    {
      "cell_type": "code",
      "execution_count": 23,
      "metadata": {
        "colab": {
          "base_uri": "https://localhost:8080/"
        },
        "id": "BqBqOO79_QBf",
        "outputId": "778e0092-5124-4d3f-b906-3f7f2b548d25"
      },
      "outputs": [
        {
          "data": {
            "image/png": "[encoded data removed]",
            "text/plain": [
              "<Figure size 640x480 with 1 Axes>"
            ]
          },
          "metadata": {},
          "output_type": "display_data"
        }
      ],
      "source": [
        "plot_test(history1['test_acc1'], history1['test_acc5'])"
      ]
    },
    {
      "cell_type": "code",
      "execution_count": 24,
      "metadata": {},
      "outputs": [
        {
          "name": "stdout",
          "output_type": "stream",
          "text": [
            "Average time per epoch for Wide_ResNet = 8.422302322387695\n"
          ]
        }
      ],
      "source": [
        "time_taken1 = np.array(history1['time'])\n",
        "print(\"Average time per epoch for Wide_ResNet =\", np.mean(time_taken1))"
      ]
    },
    {
      "cell_type": "code",
      "execution_count": 25,
      "metadata": {},
      "outputs": [],
      "source": [
        "with open('wide_resnet_history_cifar', 'wb') as f:\n",
        "  pickle.dump(history1, f)"
      ]
    },
    {
      "cell_type": "markdown",
      "metadata": {},
      "source": [
        "# Defining The Model"
      ]
    },
    {
      "cell_type": "code",
      "execution_count": 26,
      "metadata": {},
      "outputs": [],
      "source": [
        "from AA_CNN import AttentionConv2d"
      ]
    },
    {
      "cell_type": "code",
      "execution_count": 27,
      "metadata": {},
      "outputs": [],
      "source": [
        "class Wide_AAResNet(nn.Module):\n",
        "    def __init__(self, width = 4, dropout = 0.33, num_classes=100):\n",
        "        super().__init__()\n",
        "        self.Nh = 1\n",
        "        self.dv = 8\n",
        "\n",
        "        self.block0 = nn.Sequential(\n",
        "            nn.Conv2d(3, 16, kernel_size=3, padding=1, stride=1),\n",
        "            nn.BatchNorm2d(16),\n",
        "            nn.ReLU(),\n",
        "        )\n",
        "\n",
        "        self.block11 = nn.Sequential(\n",
        "            nn.Conv2d(16, 16*width, kernel_size=3, padding=1, stride=2),\n",
        "            nn.BatchNorm2d(16*width),\n",
        "            nn.ReLU(),\n",
        "            nn.Dropout2d(dropout),\n",
        "            # nn.Conv2d(16*width, 16*width, kernel_size=3, padding=1, stride=1),\n",
        "            AttentionConv2d(\n",
        "                input_dim = 16*width,\n",
        "                output_dim = 16*width,\n",
        "                dk = 4*self.dv*width,\n",
        "                dv = self.dv*width,\n",
        "                num_heads = self.Nh,\n",
        "                kernel_size = 3,\n",
        "                padding = 1,\n",
        "                device=device,\n",
        "                height=16,\n",
        "                width=16,\n",
        "            ),\n",
        "        )\n",
        "        self.shortcut1 = nn.Conv2d(16, 16*width, kernel_size=1, stride=2)\n",
        "        self.block12 = nn.Sequential(\n",
        "            nn.BatchNorm2d(16*width),\n",
        "            nn.ReLU(),\n",
        "            nn.Conv2d(16*width, 16*width, kernel_size=3, padding=1, stride=1),\n",
        "            nn.BatchNorm2d(16*width),\n",
        "            nn.ReLU(),\n",
        "            nn.Dropout2d(dropout),\n",
        "            # nn.Conv2d(16*width, 16*width, kernel_size=3, padding=1, stride=1),\n",
        "            AttentionConv2d(\n",
        "                input_dim = 16*width,\n",
        "                output_dim = 16*width,\n",
        "                dk = 4*self.dv*width,\n",
        "                dv = self.dv*width,\n",
        "                num_heads = self.Nh,\n",
        "                kernel_size = 3,\n",
        "                padding = 1,\n",
        "                device=device,\n",
        "                height=16,\n",
        "                width=16,\n",
        "            ),\n",
        "        )\n",
        "\n",
        "\n",
        "        self.pre_block2 = nn.Sequential(\n",
        "            nn.BatchNorm2d(16*width),\n",
        "            nn.ReLU(),\n",
        "        )\n",
        "        self.block21 = nn.Sequential(\n",
        "            nn.Conv2d(16*width, 32*width, kernel_size=3, padding=1, stride=2),\n",
        "            nn.BatchNorm2d(32*width),\n",
        "            nn.ReLU(),\n",
        "            nn.Dropout2d(dropout),\n",
        "            # nn.Conv2d(32*width, 32*width, kernel_size=3, padding=1, stride=1),\n",
        "            AttentionConv2d(\n",
        "                input_dim = 32*width,\n",
        "                output_dim = 32*width,\n",
        "                dk = 8*self.dv*width,\n",
        "                dv = 2*self.dv*width,\n",
        "                num_heads = 2*self.Nh,\n",
        "                kernel_size = 3,\n",
        "                padding = 1,\n",
        "                device=device,\n",
        "                height=8,\n",
        "                width=8,\n",
        "            ),\n",
        "        )\n",
        "        self.shortcut2 = nn.Conv2d(16*width, 32*width, kernel_size=1, stride=2)\n",
        "        self.block22 = nn.Sequential(\n",
        "            nn.BatchNorm2d(32*width),\n",
        "            nn.ReLU(),\n",
        "            nn.Conv2d(32*width, 32*width, kernel_size=3, padding=1, stride=1),\n",
        "            nn.BatchNorm2d(32*width),\n",
        "            nn.ReLU(),\n",
        "            nn.Dropout2d(dropout),\n",
        "            # nn.Conv2d(32*width, 32*width, kernel_size=3, padding=1, stride=1),\n",
        "            AttentionConv2d(\n",
        "                input_dim = 32*width,\n",
        "                output_dim = 32*width,\n",
        "                dk = 8*self.dv*width,\n",
        "                dv = 2*self.dv*width,\n",
        "                num_heads = 2*self.Nh,\n",
        "                kernel_size = 3,\n",
        "                padding = 1,\n",
        "                device=device,\n",
        "                height=8,\n",
        "                width=8,\n",
        "            ),\n",
        "        )\n",
        "\n",
        "        self.pre_block3 = nn.Sequential(\n",
        "            nn.BatchNorm2d(32*width),\n",
        "            nn.ReLU(),\n",
        "        )\n",
        "        self.block31 = nn.Sequential(\n",
        "            nn.Conv2d(32*width, 64*width, kernel_size=3, padding=1, stride=2),\n",
        "            nn.BatchNorm2d(64*width),\n",
        "            nn.ReLU(),\n",
        "            nn.Dropout2d(dropout),\n",
        "            # nn.Conv2d(64*width, 64*width, kernel_size=3, padding=1, stride=1),\n",
        "            AttentionConv2d(\n",
        "                input_dim = 64*width,\n",
        "                output_dim = 64*width,\n",
        "                dk = 16*self.dv*width,\n",
        "                dv = 4*self.dv*width,\n",
        "                num_heads = 4*self.Nh,\n",
        "                kernel_size = 3,\n",
        "                padding = 1,\n",
        "                device=device,\n",
        "                height=4,\n",
        "                width=4,\n",
        "            ),\n",
        "        )\n",
        "        self.shortcut3 = nn.Conv2d(32*width, 64*width, kernel_size=1, stride=2)\n",
        "        self.block32 = nn.Sequential(\n",
        "            nn.BatchNorm2d(64*width),\n",
        "            nn.ReLU(),\n",
        "            nn.Conv2d(64*width, 64*width, kernel_size=3, padding=1, stride=1),\n",
        "            nn.BatchNorm2d(64*width),\n",
        "            nn.ReLU(),\n",
        "            nn.Dropout2d(dropout),\n",
        "            # nn.Conv2d(64*width, 64*width, kernel_size=3, padding=1, stride=1),\n",
        "            AttentionConv2d(\n",
        "                input_dim = 64*width,\n",
        "                output_dim = 64*width,\n",
        "                dk = 16*self.dv*width,\n",
        "                dv = 4*self.dv*width,\n",
        "                num_heads = 4*self.Nh,\n",
        "                kernel_size = 3,\n",
        "                padding = 1,\n",
        "                device=device,\n",
        "                height=4,\n",
        "                width=4,\n",
        "            ),\n",
        "        )\n",
        "\n",
        "        self.pool_block = nn.Sequential(\n",
        "            nn.BatchNorm2d(64*width),\n",
        "            nn.ReLU(),\n",
        "            nn.AvgPool2d(4, 4),\n",
        "        )\n",
        "\n",
        "        self.fc = nn.Sequential(\n",
        "            nn.Linear(64*width, 64*width),\n",
        "            nn.ReLU(),\n",
        "            nn.Dropout1d(dropout/2),\n",
        "            nn.Linear(64*width, num_classes)\n",
        "        )\n",
        "\n",
        "    def forward(self, x):\n",
        "        # x.shape = B x 3 x 32 x 32\n",
        "\n",
        "        x = self.block0(x)\n",
        "        # x.shape = B x 16 x 32 x 32\n",
        "\n",
        "        x1 = self.block11(x)\n",
        "        x2 = self.shortcut1(x)\n",
        "        x3 = x1 + x2\n",
        "        x4 = self.block12(x3)\n",
        "        x = x4 + x3\n",
        "        # x.shape = B x 16*width x 16 x 16\n",
        "\n",
        "        x = self.pre_block2(x)\n",
        "        x1 = self.block21(x)\n",
        "        x2 = self.shortcut2(x)\n",
        "        x3 = x1 + x2\n",
        "        x4 = self.block22(x3)\n",
        "        x = x4 + x3\n",
        "        # x.shape = B x 32*width x 8 x 8\n",
        "\n",
        "        x = self.pre_block3(x)\n",
        "        x1 = self.block31(x)\n",
        "        x2 = self.shortcut3(x)\n",
        "        x3 = x1 + x2\n",
        "        x4 = self.block32(x3)\n",
        "        x = x4 + x3\n",
        "        # x.shape = B x 64*width x 4 x 4\n",
        "\n",
        "        x = self.pool_block(x)\n",
        "        # x.shape = B x 64*width x 1 x 1\n",
        "\n",
        "        x = torch.flatten(x, start_dim=1)\n",
        "        # flatten all dimensions except batch (0th dim)\n",
        "        # x.shape = B x 64*width\n",
        "\n",
        "        x = self.fc(x)\n",
        "        # x.shape = B x num_classes\n",
        "\n",
        "        return x"
      ]
    },
    {
      "cell_type": "markdown",
      "metadata": {},
      "source": [
        "# Training The Model"
      ]
    },
    {
      "cell_type": "code",
      "execution_count": 28,
      "metadata": {},
      "outputs": [
        {
          "name": "stdout",
          "output_type": "stream",
          "text": [
            "----------------------------------------------------------------\n",
            "        Layer (type)               Output Shape         Param #\n",
            "================================================================\n",
            "            Conv2d-1           [-1, 16, 32, 32]             448\n",
            "       BatchNorm2d-2           [-1, 16, 32, 32]              32\n",
            "              ReLU-3           [-1, 16, 32, 32]               0\n",
            "            Conv2d-4          [-1, 128, 16, 16]          18,560\n",
            "       BatchNorm2d-5          [-1, 128, 16, 16]             256\n",
            "              ReLU-6          [-1, 128, 16, 16]               0\n",
            "         Dropout2d-7          [-1, 128, 16, 16]               0\n",
            "            Conv2d-8           [-1, 64, 16, 16]          73,792\n",
            "            Conv2d-9          [-1, 576, 16, 16]          74,304\n",
            "          Softmax-10          [-1, 1, 256, 256]               0\n",
            "           Conv2d-11           [-1, 64, 16, 16]           4,160\n",
            "  AttentionConv2d-12          [-1, 128, 16, 16]               0\n",
            "           Conv2d-13          [-1, 128, 16, 16]           2,176\n",
            "      BatchNorm2d-14          [-1, 128, 16, 16]             256\n",
            "             ReLU-15          [-1, 128, 16, 16]               0\n",
            "           Conv2d-16          [-1, 128, 16, 16]         147,584\n",
            "      BatchNorm2d-17          [-1, 128, 16, 16]             256\n",
            "             ReLU-18          [-1, 128, 16, 16]               0\n",
            "        Dropout2d-19          [-1, 128, 16, 16]               0\n",
            "           Conv2d-20           [-1, 64, 16, 16]          73,792\n",
            "           Conv2d-21          [-1, 576, 16, 16]          74,304\n",
            "          Softmax-22          [-1, 1, 256, 256]               0\n",
            "           Conv2d-23           [-1, 64, 16, 16]           4,160\n",
            "  AttentionConv2d-24          [-1, 128, 16, 16]               0\n",
            "      BatchNorm2d-25          [-1, 128, 16, 16]             256\n",
            "             ReLU-26          [-1, 128, 16, 16]               0\n",
            "           Conv2d-27            [-1, 256, 8, 8]         295,168\n",
            "      BatchNorm2d-28            [-1, 256, 8, 8]             512\n",
            "             ReLU-29            [-1, 256, 8, 8]               0\n",
            "        Dropout2d-30            [-1, 256, 8, 8]               0\n",
            "           Conv2d-31            [-1, 128, 8, 8]         295,040\n",
            "           Conv2d-32           [-1, 1152, 8, 8]         296,064\n",
            "          Softmax-33            [-1, 2, 64, 64]               0\n",
            "           Conv2d-34            [-1, 128, 8, 8]          16,512\n",
            "  AttentionConv2d-35            [-1, 256, 8, 8]               0\n",
            "           Conv2d-36            [-1, 256, 8, 8]          33,024\n",
            "      BatchNorm2d-37            [-1, 256, 8, 8]             512\n",
            "             ReLU-38            [-1, 256, 8, 8]               0\n",
            "           Conv2d-39            [-1, 256, 8, 8]         590,080\n",
            "      BatchNorm2d-40            [-1, 256, 8, 8]             512\n",
            "             ReLU-41            [-1, 256, 8, 8]               0\n",
            "        Dropout2d-42            [-1, 256, 8, 8]               0\n",
            "           Conv2d-43            [-1, 128, 8, 8]         295,040\n",
            "           Conv2d-44           [-1, 1152, 8, 8]         296,064\n",
            "          Softmax-45            [-1, 2, 64, 64]               0\n",
            "           Conv2d-46            [-1, 128, 8, 8]          16,512\n",
            "  AttentionConv2d-47            [-1, 256, 8, 8]               0\n",
            "      BatchNorm2d-48            [-1, 256, 8, 8]             512\n",
            "             ReLU-49            [-1, 256, 8, 8]               0\n",
            "           Conv2d-50            [-1, 512, 4, 4]       1,180,160\n",
            "      BatchNorm2d-51            [-1, 512, 4, 4]           1,024\n",
            "             ReLU-52            [-1, 512, 4, 4]               0\n",
            "        Dropout2d-53            [-1, 512, 4, 4]               0\n",
            "           Conv2d-54            [-1, 256, 4, 4]       1,179,904\n",
            "           Conv2d-55           [-1, 2304, 4, 4]       1,181,952\n",
            "          Softmax-56            [-1, 4, 16, 16]               0\n",
            "           Conv2d-57            [-1, 256, 4, 4]          65,792\n",
            "  AttentionConv2d-58            [-1, 512, 4, 4]               0\n",
            "           Conv2d-59            [-1, 512, 4, 4]         131,584\n",
            "      BatchNorm2d-60            [-1, 512, 4, 4]           1,024\n",
            "             ReLU-61            [-1, 512, 4, 4]               0\n",
            "           Conv2d-62            [-1, 512, 4, 4]       2,359,808\n",
            "      BatchNorm2d-63            [-1, 512, 4, 4]           1,024\n",
            "             ReLU-64            [-1, 512, 4, 4]               0\n",
            "        Dropout2d-65            [-1, 512, 4, 4]               0\n",
            "           Conv2d-66            [-1, 256, 4, 4]       1,179,904\n",
            "           Conv2d-67           [-1, 2304, 4, 4]       1,181,952\n",
            "          Softmax-68            [-1, 4, 16, 16]               0\n",
            "           Conv2d-69            [-1, 256, 4, 4]          65,792\n",
            "  AttentionConv2d-70            [-1, 512, 4, 4]               0\n",
            "      BatchNorm2d-71            [-1, 512, 4, 4]           1,024\n",
            "             ReLU-72            [-1, 512, 4, 4]               0\n",
            "        AvgPool2d-73            [-1, 512, 1, 1]               0\n",
            "           Linear-74                  [-1, 512]         262,656\n",
            "             ReLU-75                  [-1, 512]               0\n",
            "        Dropout1d-76                  [-1, 512]               0\n",
            "           Linear-77                  [-1, 100]          51,300\n",
            "================================================================\n",
            "Total params: 11,454,788\n",
            "Trainable params: 11,454,788\n",
            "Non-trainable params: 0\n",
            "----------------------------------------------------------------\n",
            "Input size (MB): 0.01\n",
            "Forward/backward pass size (MB): 12.91\n",
            "Params size (MB): 43.70\n",
            "Estimated Total Size (MB): 56.62\n",
            "----------------------------------------------------------------\n"
          ]
        }
      ],
      "source": [
        "model2 = Wide_AAResNet(width=8, dropout=0.5).to(device)\n",
        "summary(model2, (3, 32, 32))"
      ]
    },
    {
      "cell_type": "code",
      "execution_count": 29,
      "metadata": {},
      "outputs": [
        {
          "name": "stderr",
          "output_type": "stream",
          "text": [
            "  1%|          | 1/100 [00:13<22:32, 13.66s/it]"
          ]
        },
        {
          "name": "stdout",
          "output_type": "stream",
          "text": [
            "Epoch 1 -\tTraining Loss : 0.034119411616855194 \tValidation Loss : 0.01596509199142456\n"
          ]
        },
        {
          "name": "stderr",
          "output_type": "stream",
          "text": [
            "  2%|▏         | 2/100 [00:27<22:35, 13.83s/it]"
          ]
        },
        {
          "name": "stdout",
          "output_type": "stream",
          "text": [
            "Epoch 2 -\tTraining Loss : 0.031413429647021825 \tValidation Loss : 0.01483521614074707\n"
          ]
        },
        {
          "name": "stderr",
          "output_type": "stream",
          "text": [
            "  3%|▎         | 3/100 [00:41<22:02, 13.63s/it]"
          ]
        },
        {
          "name": "stdout",
          "output_type": "stream",
          "text": [
            "Epoch 3 -\tTraining Loss : 0.030131653436024985 \tValidation Loss : 0.014036386394500732\n"
          ]
        },
        {
          "name": "stderr",
          "output_type": "stream",
          "text": [
            "  4%|▍         | 4/100 [00:54<21:38, 13.53s/it]"
          ]
        },
        {
          "name": "stdout",
          "output_type": "stream",
          "text": [
            "Epoch 4 -\tTraining Loss : 0.028996963760587906 \tValidation Loss : 0.013464451837539674\n",
            "Epoch 5 -\tTraining Loss : 0.027746480406655206 \tValidation Loss : 0.012881092023849487\n"
          ]
        },
        {
          "name": "stderr",
          "output_type": "stream",
          "text": [
            "  5%|▌         | 5/100 [01:08<21:58, 13.88s/it]"
          ]
        },
        {
          "name": "stdout",
          "output_type": "stream",
          "text": [
            "Training Accuracy = 15.984444444444444 \tValidation Accuracy = 21.08 \tTest Accuracy Top1 = 20.43 \tTest Accuracy Top5 = 50.96\n"
          ]
        },
        {
          "name": "stderr",
          "output_type": "stream",
          "text": [
            "  6%|▌         | 6/100 [01:22<21:30, 13.73s/it]"
          ]
        },
        {
          "name": "stdout",
          "output_type": "stream",
          "text": [
            "Epoch 6 -\tTraining Loss : 0.026767486577563816 \tValidation Loss : 0.012419906377792358\n"
          ]
        },
        {
          "name": "stderr",
          "output_type": "stream",
          "text": [
            "  7%|▋         | 7/100 [01:35<21:08, 13.64s/it]"
          ]
        },
        {
          "name": "stdout",
          "output_type": "stream",
          "text": [
            "Epoch 7 -\tTraining Loss : 0.025871860949198404 \tValidation Loss : 0.011337383127212525\n"
          ]
        },
        {
          "name": "stderr",
          "output_type": "stream",
          "text": [
            "  8%|▊         | 8/100 [01:49<20:46, 13.55s/it]"
          ]
        },
        {
          "name": "stdout",
          "output_type": "stream",
          "text": [
            "Epoch 8 -\tTraining Loss : 0.02503532674577501 \tValidation Loss : 0.011933043003082275\n"
          ]
        },
        {
          "name": "stderr",
          "output_type": "stream",
          "text": [
            "  9%|▉         | 9/100 [02:02<20:41, 13.64s/it]"
          ]
        },
        {
          "name": "stdout",
          "output_type": "stream",
          "text": [
            "Epoch 9 -\tTraining Loss : 0.0241999316851298 \tValidation Loss : 0.010553390407562256\n",
            "Epoch 10 -\tTraining Loss : 0.023487389352586534 \tValidation Loss : 0.009874238491058349\n"
          ]
        },
        {
          "name": "stderr",
          "output_type": "stream",
          "text": [
            " 10%|█         | 10/100 [02:15<20:05, 13.40s/it]"
          ]
        },
        {
          "name": "stdout",
          "output_type": "stream",
          "text": [
            "Training Accuracy = 26.56 \tValidation Accuracy = 37.62 \tTest Accuracy Top1 = 38.16 \tTest Accuracy Top5 = 69.64\n"
          ]
        },
        {
          "name": "stderr",
          "output_type": "stream",
          "text": [
            " 11%|█         | 11/100 [02:27<19:13, 12.97s/it]"
          ]
        },
        {
          "name": "stdout",
          "output_type": "stream",
          "text": [
            "Epoch 11 -\tTraining Loss : 0.022904929468366836 \tValidation Loss : 0.009692813205718994\n"
          ]
        },
        {
          "name": "stderr",
          "output_type": "stream",
          "text": [
            " 12%|█▏        | 12/100 [02:39<18:38, 12.71s/it]"
          ]
        },
        {
          "name": "stdout",
          "output_type": "stream",
          "text": [
            "Epoch 12 -\tTraining Loss : 0.02237979006767273 \tValidation Loss : 0.010284964084625245\n"
          ]
        },
        {
          "name": "stderr",
          "output_type": "stream",
          "text": [
            " 13%|█▎        | 13/100 [02:52<18:08, 12.52s/it]"
          ]
        },
        {
          "name": "stdout",
          "output_type": "stream",
          "text": [
            "Epoch 13 -\tTraining Loss : 0.021766937987009686 \tValidation Loss : 0.009720045614242554\n"
          ]
        },
        {
          "name": "stderr",
          "output_type": "stream",
          "text": [
            " 14%|█▍        | 14/100 [03:04<17:46, 12.40s/it]"
          ]
        },
        {
          "name": "stdout",
          "output_type": "stream",
          "text": [
            "Epoch 14 -\tTraining Loss : 0.02130463096300761 \tValidation Loss : 0.00917344651222229\n",
            "Epoch 15 -\tTraining Loss : 0.020850713719262018 \tValidation Loss : 0.008666823816299438\n"
          ]
        },
        {
          "name": "stderr",
          "output_type": "stream",
          "text": [
            " 15%|█▌        | 15/100 [03:17<17:49, 12.58s/it]"
          ]
        },
        {
          "name": "stdout",
          "output_type": "stream",
          "text": [
            "Training Accuracy = 33.80444444444444 \tValidation Accuracy = 42.98 \tTest Accuracy Top1 = 44.01 \tTest Accuracy Top5 = 74.55\n"
          ]
        },
        {
          "name": "stderr",
          "output_type": "stream",
          "text": [
            " 16%|█▌        | 16/100 [03:29<17:33, 12.54s/it]"
          ]
        },
        {
          "name": "stdout",
          "output_type": "stream",
          "text": [
            "Epoch 16 -\tTraining Loss : 0.020458536100387573 \tValidation Loss : 0.009216621828079224\n"
          ]
        },
        {
          "name": "stderr",
          "output_type": "stream",
          "text": [
            " 17%|█▋        | 17/100 [03:41<17:07, 12.38s/it]"
          ]
        },
        {
          "name": "stdout",
          "output_type": "stream",
          "text": [
            "Epoch 17 -\tTraining Loss : 0.019912030781639948 \tValidation Loss : 0.00864438738822937\n"
          ]
        },
        {
          "name": "stderr",
          "output_type": "stream",
          "text": [
            " 18%|█▊        | 18/100 [03:53<16:46, 12.27s/it]"
          ]
        },
        {
          "name": "stdout",
          "output_type": "stream",
          "text": [
            "Epoch 18 -\tTraining Loss : 0.01946604675716824 \tValidation Loss : 0.008099797415733337\n"
          ]
        },
        {
          "name": "stderr",
          "output_type": "stream",
          "text": [
            " 19%|█▉        | 19/100 [04:05<16:28, 12.21s/it]"
          ]
        },
        {
          "name": "stdout",
          "output_type": "stream",
          "text": [
            "Epoch 19 -\tTraining Loss : 0.019248365041944715 \tValidation Loss : 0.008429917550086975\n",
            "Epoch 20 -\tTraining Loss : 0.01884323108990987 \tValidation Loss : 0.008042418718338013\n"
          ]
        },
        {
          "name": "stderr",
          "output_type": "stream",
          "text": [
            " 20%|██        | 20/100 [04:18<16:34, 12.43s/it]"
          ]
        },
        {
          "name": "stdout",
          "output_type": "stream",
          "text": [
            "Training Accuracy = 39.94444444444444 \tValidation Accuracy = 45.82 \tTest Accuracy Top1 = 47.34 \tTest Accuracy Top5 = 77.09\n"
          ]
        },
        {
          "name": "stderr",
          "output_type": "stream",
          "text": [
            " 21%|██        | 21/100 [04:30<16:14, 12.33s/it]"
          ]
        },
        {
          "name": "stdout",
          "output_type": "stream",
          "text": [
            "Epoch 21 -\tTraining Loss : 0.018437138888570997 \tValidation Loss : 0.00779002513885498\n"
          ]
        },
        {
          "name": "stderr",
          "output_type": "stream",
          "text": [
            " 22%|██▏       | 22/100 [04:42<15:55, 12.25s/it]"
          ]
        },
        {
          "name": "stdout",
          "output_type": "stream",
          "text": [
            "Epoch 22 -\tTraining Loss : 0.018117247727182175 \tValidation Loss : 0.007759861755371094\n"
          ]
        },
        {
          "name": "stderr",
          "output_type": "stream",
          "text": [
            " 23%|██▎       | 23/100 [04:55<15:44, 12.27s/it]"
          ]
        },
        {
          "name": "stdout",
          "output_type": "stream",
          "text": [
            "Epoch 23 -\tTraining Loss : 0.017637652532259622 \tValidation Loss : 0.00821735348701477\n"
          ]
        },
        {
          "name": "stderr",
          "output_type": "stream",
          "text": [
            " 24%|██▍       | 24/100 [05:07<15:30, 12.25s/it]"
          ]
        },
        {
          "name": "stdout",
          "output_type": "stream",
          "text": [
            "Epoch 24 -\tTraining Loss : 0.01744043640560574 \tValidation Loss : 0.007718339586257935\n",
            "Epoch 25 -\tTraining Loss : 0.01719746370845371 \tValidation Loss : 0.0076773967266082765\n"
          ]
        },
        {
          "name": "stderr",
          "output_type": "stream",
          "text": [
            " 25%|██▌       | 25/100 [05:20<15:33, 12.44s/it]"
          ]
        },
        {
          "name": "stdout",
          "output_type": "stream",
          "text": [
            "Training Accuracy = 45.10888888888889 \tValidation Accuracy = 47.3 \tTest Accuracy Top1 = 49.39 \tTest Accuracy Top5 = 78.44\n"
          ]
        },
        {
          "name": "stderr",
          "output_type": "stream",
          "text": [
            " 26%|██▌       | 26/100 [05:32<15:08, 12.28s/it]"
          ]
        },
        {
          "name": "stdout",
          "output_type": "stream",
          "text": [
            "Epoch 26 -\tTraining Loss : 0.016899466021855672 \tValidation Loss : 0.007944403505325317\n"
          ]
        },
        {
          "name": "stderr",
          "output_type": "stream",
          "text": [
            " 27%|██▋       | 27/100 [05:45<15:18, 12.58s/it]"
          ]
        },
        {
          "name": "stdout",
          "output_type": "stream",
          "text": [
            "Epoch 27 -\tTraining Loss : 0.016543707972102695 \tValidation Loss : 0.007546870756149292\n"
          ]
        },
        {
          "name": "stderr",
          "output_type": "stream",
          "text": [
            " 28%|██▊       | 28/100 [05:59<15:29, 12.92s/it]"
          ]
        },
        {
          "name": "stdout",
          "output_type": "stream",
          "text": [
            "Epoch 28 -\tTraining Loss : 0.016167452353901334 \tValidation Loss : 0.007591304111480713\n"
          ]
        },
        {
          "name": "stderr",
          "output_type": "stream",
          "text": [
            " 29%|██▉       | 29/100 [06:13<15:39, 13.23s/it]"
          ]
        },
        {
          "name": "stdout",
          "output_type": "stream",
          "text": [
            "Epoch 29 -\tTraining Loss : 0.015918036047617594 \tValidation Loss : 0.0077376994609832765\n",
            "Epoch 30 -\tTraining Loss : 0.015787247819370694 \tValidation Loss : 0.008377414393424988\n"
          ]
        },
        {
          "name": "stderr",
          "output_type": "stream",
          "text": [
            " 30%|███       | 30/100 [06:26<15:37, 13.39s/it]"
          ]
        },
        {
          "name": "stdout",
          "output_type": "stream",
          "text": [
            "Training Accuracy = 49.72888888888889 \tValidation Accuracy = 44.92 \tTest Accuracy Top1 = 45.8 \tTest Accuracy Top5 = 74.84\n"
          ]
        },
        {
          "name": "stderr",
          "output_type": "stream",
          "text": [
            " 31%|███       | 31/100 [06:38<14:54, 12.97s/it]"
          ]
        },
        {
          "name": "stdout",
          "output_type": "stream",
          "text": [
            "Epoch 31 -\tTraining Loss : 0.01540238704416487 \tValidation Loss : 0.007498058676719666\n"
          ]
        },
        {
          "name": "stderr",
          "output_type": "stream",
          "text": [
            " 32%|███▏      | 32/100 [06:51<14:36, 12.89s/it]"
          ]
        },
        {
          "name": "stdout",
          "output_type": "stream",
          "text": [
            "Epoch 32 -\tTraining Loss : 0.01506825921005673 \tValidation Loss : 0.0074975518941879276\n"
          ]
        },
        {
          "name": "stderr",
          "output_type": "stream",
          "text": [
            " 33%|███▎      | 33/100 [07:03<14:09, 12.68s/it]"
          ]
        },
        {
          "name": "stdout",
          "output_type": "stream",
          "text": [
            "Epoch 33 -\tTraining Loss : 0.014786721356709798 \tValidation Loss : 0.007454970455169678\n"
          ]
        },
        {
          "name": "stderr",
          "output_type": "stream",
          "text": [
            " 34%|███▍      | 34/100 [07:15<13:44, 12.50s/it]"
          ]
        },
        {
          "name": "stdout",
          "output_type": "stream",
          "text": [
            "Epoch 34 -\tTraining Loss : 0.014596891567442153 \tValidation Loss : 0.007715656542778015\n",
            "Epoch 35 -\tTraining Loss : 0.014222929210133023 \tValidation Loss : 0.007534159159660339\n"
          ]
        },
        {
          "name": "stderr",
          "output_type": "stream",
          "text": [
            " 35%|███▌      | 35/100 [07:28<13:37, 12.58s/it]"
          ]
        },
        {
          "name": "stdout",
          "output_type": "stream",
          "text": [
            "Training Accuracy = 54.83111111111111 \tValidation Accuracy = 49.38 \tTest Accuracy Top1 = 50.76 \tTest Accuracy Top5 = 79.31\n"
          ]
        },
        {
          "name": "stderr",
          "output_type": "stream",
          "text": [
            " 36%|███▌      | 36/100 [07:40<13:10, 12.36s/it]"
          ]
        },
        {
          "name": "stdout",
          "output_type": "stream",
          "text": [
            "Epoch 36 -\tTraining Loss : 0.01414690063794454 \tValidation Loss : 0.0075502939701080326\n"
          ]
        },
        {
          "name": "stderr",
          "output_type": "stream",
          "text": [
            " 37%|███▋      | 37/100 [07:52<12:51, 12.24s/it]"
          ]
        },
        {
          "name": "stdout",
          "output_type": "stream",
          "text": [
            "Epoch 37 -\tTraining Loss : 0.013842072341177198 \tValidation Loss : 0.007555494999885559\n"
          ]
        },
        {
          "name": "stderr",
          "output_type": "stream",
          "text": [
            " 38%|███▊      | 38/100 [08:04<12:32, 12.13s/it]"
          ]
        },
        {
          "name": "stdout",
          "output_type": "stream",
          "text": [
            "Epoch 38 -\tTraining Loss : 0.013592601405249701 \tValidation Loss : 0.007474080443382263\n"
          ]
        },
        {
          "name": "stderr",
          "output_type": "stream",
          "text": [
            " 39%|███▉      | 39/100 [08:16<12:19, 12.13s/it]"
          ]
        },
        {
          "name": "stdout",
          "output_type": "stream",
          "text": [
            "Epoch 39 -\tTraining Loss : 0.013216120290756226 \tValidation Loss : 0.0075116015434265136\n",
            "Epoch 40 -\tTraining Loss : 0.013084920891125998 \tValidation Loss : 0.007663685822486877\n"
          ]
        },
        {
          "name": "stderr",
          "output_type": "stream",
          "text": [
            " 40%|████      | 40/100 [08:29<12:24, 12.40s/it]"
          ]
        },
        {
          "name": "stdout",
          "output_type": "stream",
          "text": [
            "Training Accuracy = 58.78888888888889 \tValidation Accuracy = 49.98 \tTest Accuracy Top1 = 50.31 \tTest Accuracy Top5 = 79.0\n"
          ]
        },
        {
          "name": "stderr",
          "output_type": "stream",
          "text": [
            " 41%|████      | 41/100 [08:41<12:05, 12.29s/it]"
          ]
        },
        {
          "name": "stdout",
          "output_type": "stream",
          "text": [
            "Epoch 41 -\tTraining Loss : 0.012935092266400655 \tValidation Loss : 0.00804672064781189\n"
          ]
        },
        {
          "name": "stderr",
          "output_type": "stream",
          "text": [
            " 42%|████▏     | 42/100 [08:53<11:51, 12.27s/it]"
          ]
        },
        {
          "name": "stdout",
          "output_type": "stream",
          "text": [
            "Epoch 42 -\tTraining Loss : 0.012610265813933479 \tValidation Loss : 0.00788001139163971\n"
          ]
        },
        {
          "name": "stderr",
          "output_type": "stream",
          "text": [
            " 43%|████▎     | 43/100 [09:05<11:36, 12.22s/it]"
          ]
        },
        {
          "name": "stdout",
          "output_type": "stream",
          "text": [
            "Epoch 43 -\tTraining Loss : 0.012435023437605964 \tValidation Loss : 0.007783008885383606\n"
          ]
        },
        {
          "name": "stderr",
          "output_type": "stream",
          "text": [
            " 44%|████▍     | 44/100 [09:17<11:22, 12.19s/it]"
          ]
        },
        {
          "name": "stdout",
          "output_type": "stream",
          "text": [
            "Epoch 44 -\tTraining Loss : 0.012385491077105204 \tValidation Loss : 0.007900927090644836\n",
            "Epoch 45 -\tTraining Loss : 0.012110618122418721 \tValidation Loss : 0.007862621569633485\n"
          ]
        },
        {
          "name": "stderr",
          "output_type": "stream",
          "text": [
            " 45%|████▌     | 45/100 [09:30<11:24, 12.44s/it]"
          ]
        },
        {
          "name": "stdout",
          "output_type": "stream",
          "text": [
            "Training Accuracy = 62.52 \tValidation Accuracy = 50.46 \tTest Accuracy Top1 = 51.32 \tTest Accuracy Top5 = 79.53\n"
          ]
        },
        {
          "name": "stderr",
          "output_type": "stream",
          "text": [
            " 46%|████▌     | 46/100 [09:42<11:04, 12.31s/it]"
          ]
        },
        {
          "name": "stdout",
          "output_type": "stream",
          "text": [
            "Epoch 46 -\tTraining Loss : 0.011962203738424514 \tValidation Loss : 0.007830609822273255\n"
          ]
        },
        {
          "name": "stderr",
          "output_type": "stream",
          "text": [
            " 47%|████▋     | 47/100 [09:54<10:48, 12.23s/it]"
          ]
        },
        {
          "name": "stdout",
          "output_type": "stream",
          "text": [
            "Epoch 47 -\tTraining Loss : 0.011731560941537222 \tValidation Loss : 0.007820428109169006\n"
          ]
        },
        {
          "name": "stderr",
          "output_type": "stream",
          "text": [
            " 48%|████▊     | 48/100 [10:06<10:30, 12.13s/it]"
          ]
        },
        {
          "name": "stdout",
          "output_type": "stream",
          "text": [
            "Epoch 48 -\tTraining Loss : 0.01165516008536021 \tValidation Loss : 0.008058957362174988\n"
          ]
        },
        {
          "name": "stderr",
          "output_type": "stream",
          "text": [
            " 49%|████▉     | 49/100 [10:18<10:15, 12.06s/it]"
          ]
        },
        {
          "name": "stdout",
          "output_type": "stream",
          "text": [
            "Epoch 49 -\tTraining Loss : 0.011368238647778828 \tValidation Loss : 0.007943502449989318\n",
            "Epoch 50 -\tTraining Loss : 0.011425919820202721 \tValidation Loss : 0.00801267695426941\n"
          ]
        },
        {
          "name": "stderr",
          "output_type": "stream",
          "text": [
            " 50%|█████     | 50/100 [10:31<10:17, 12.36s/it]"
          ]
        },
        {
          "name": "stdout",
          "output_type": "stream",
          "text": [
            "Training Accuracy = 65.44222222222223 \tValidation Accuracy = 51.3 \tTest Accuracy Top1 = 52.0 \tTest Accuracy Top5 = 79.7\n"
          ]
        },
        {
          "name": "stderr",
          "output_type": "stream",
          "text": [
            " 51%|█████     | 51/100 [10:43<09:59, 12.24s/it]"
          ]
        },
        {
          "name": "stdout",
          "output_type": "stream",
          "text": [
            "Epoch 51 -\tTraining Loss : 0.011182605640093485 \tValidation Loss : 0.007986682367324829\n"
          ]
        },
        {
          "name": "stderr",
          "output_type": "stream",
          "text": [
            " 52%|█████▏    | 52/100 [10:55<09:45, 12.20s/it]"
          ]
        },
        {
          "name": "stdout",
          "output_type": "stream",
          "text": [
            "Epoch 52 -\tTraining Loss : 0.010919394931528303 \tValidation Loss : 0.00807281289100647\n"
          ]
        },
        {
          "name": "stderr",
          "output_type": "stream",
          "text": [
            " 53%|█████▎    | 53/100 [11:08<09:34, 12.22s/it]"
          ]
        },
        {
          "name": "stdout",
          "output_type": "stream",
          "text": [
            "Epoch 53 -\tTraining Loss : 0.011020806399981181 \tValidation Loss : 0.008142496657371521\n"
          ]
        },
        {
          "name": "stderr",
          "output_type": "stream",
          "text": [
            " 54%|█████▍    | 54/100 [11:20<09:20, 12.19s/it]"
          ]
        },
        {
          "name": "stdout",
          "output_type": "stream",
          "text": [
            "Epoch 54 -\tTraining Loss : 0.010793619354565938 \tValidation Loss : 0.00813997163772583\n",
            "Epoch 55 -\tTraining Loss : 0.010772732693619199 \tValidation Loss : 0.008276422023773194\n"
          ]
        },
        {
          "name": "stderr",
          "output_type": "stream",
          "text": [
            " 55%|█████▌    | 55/100 [11:33<09:17, 12.39s/it]"
          ]
        },
        {
          "name": "stdout",
          "output_type": "stream",
          "text": [
            "Training Accuracy = 68.08 \tValidation Accuracy = 51.02 \tTest Accuracy Top1 = 50.99 \tTest Accuracy Top5 = 78.97\n"
          ]
        },
        {
          "name": "stderr",
          "output_type": "stream",
          "text": [
            " 56%|█████▌    | 56/100 [11:45<09:03, 12.35s/it]"
          ]
        },
        {
          "name": "stdout",
          "output_type": "stream",
          "text": [
            "Epoch 56 -\tTraining Loss : 0.010568134203222062 \tValidation Loss : 0.008292223572731018\n"
          ]
        },
        {
          "name": "stderr",
          "output_type": "stream",
          "text": [
            " 57%|█████▋    | 57/100 [11:57<08:50, 12.34s/it]"
          ]
        },
        {
          "name": "stdout",
          "output_type": "stream",
          "text": [
            "Epoch 57 -\tTraining Loss : 0.01060322047604455 \tValidation Loss : 0.008288422226905822\n"
          ]
        },
        {
          "name": "stderr",
          "output_type": "stream",
          "text": [
            " 58%|█████▊    | 58/100 [12:09<08:34, 12.26s/it]"
          ]
        },
        {
          "name": "stdout",
          "output_type": "stream",
          "text": [
            "Epoch 58 -\tTraining Loss : 0.010449395590358311 \tValidation Loss : 0.0085321280002594\n"
          ]
        },
        {
          "name": "stderr",
          "output_type": "stream",
          "text": [
            " 59%|█████▉    | 59/100 [12:21<08:19, 12.19s/it]"
          ]
        },
        {
          "name": "stdout",
          "output_type": "stream",
          "text": [
            "Epoch 59 -\tTraining Loss : 0.010430476501252917 \tValidation Loss : 0.008366458654403686\n",
            "Epoch 60 -\tTraining Loss : 0.01032881374359131 \tValidation Loss : 0.008412319207191467\n"
          ]
        },
        {
          "name": "stderr",
          "output_type": "stream",
          "text": [
            " 60%|██████    | 60/100 [12:34<08:16, 12.42s/it]"
          ]
        },
        {
          "name": "stdout",
          "output_type": "stream",
          "text": [
            "Training Accuracy = 69.88222222222223 \tValidation Accuracy = 51.16 \tTest Accuracy Top1 = 51.97 \tTest Accuracy Top5 = 79.95\n"
          ]
        },
        {
          "name": "stderr",
          "output_type": "stream",
          "text": [
            " 61%|██████    | 61/100 [12:47<08:02, 12.38s/it]"
          ]
        },
        {
          "name": "stdout",
          "output_type": "stream",
          "text": [
            "Epoch 61 -\tTraining Loss : 0.010264542746543884 \tValidation Loss : 0.008380578899383545\n"
          ]
        },
        {
          "name": "stderr",
          "output_type": "stream",
          "text": [
            " 62%|██████▏   | 62/100 [12:59<07:49, 12.37s/it]"
          ]
        },
        {
          "name": "stdout",
          "output_type": "stream",
          "text": [
            "Epoch 62 -\tTraining Loss : 0.010206684361563788 \tValidation Loss : 0.008379369950294495\n"
          ]
        },
        {
          "name": "stderr",
          "output_type": "stream",
          "text": [
            " 63%|██████▎   | 63/100 [13:11<07:34, 12.28s/it]"
          ]
        },
        {
          "name": "stdout",
          "output_type": "stream",
          "text": [
            "Epoch 63 -\tTraining Loss : 0.010114420134491391 \tValidation Loss : 0.008322041487693787\n"
          ]
        },
        {
          "name": "stderr",
          "output_type": "stream",
          "text": [
            " 64%|██████▍   | 64/100 [13:23<07:22, 12.29s/it]"
          ]
        },
        {
          "name": "stdout",
          "output_type": "stream",
          "text": [
            "Epoch 64 -\tTraining Loss : 0.010078033090962304 \tValidation Loss : 0.008421650552749634\n",
            "Epoch 65 -\tTraining Loss : 0.010072612154483795 \tValidation Loss : 0.008490532875061034\n"
          ]
        },
        {
          "name": "stderr",
          "output_type": "stream",
          "text": [
            " 65%|██████▌   | 65/100 [13:37<07:20, 12.60s/it]"
          ]
        },
        {
          "name": "stdout",
          "output_type": "stream",
          "text": [
            "Training Accuracy = 71.02 \tValidation Accuracy = 52.06 \tTest Accuracy Top1 = 52.46 \tTest Accuracy Top5 = 80.12\n"
          ]
        },
        {
          "name": "stderr",
          "output_type": "stream",
          "text": [
            " 66%|██████▌   | 66/100 [13:49<07:02, 12.44s/it]"
          ]
        },
        {
          "name": "stdout",
          "output_type": "stream",
          "text": [
            "Epoch 66 -\tTraining Loss : 0.009952064316802555 \tValidation Loss : 0.008619800925254821\n"
          ]
        },
        {
          "name": "stderr",
          "output_type": "stream",
          "text": [
            " 67%|██████▋   | 67/100 [14:01<06:50, 12.45s/it]"
          ]
        },
        {
          "name": "stdout",
          "output_type": "stream",
          "text": [
            "Epoch 67 -\tTraining Loss : 0.0098369745598899 \tValidation Loss : 0.008546121764183045\n"
          ]
        },
        {
          "name": "stderr",
          "output_type": "stream",
          "text": [
            " 68%|██████▊   | 68/100 [14:13<06:35, 12.35s/it]"
          ]
        },
        {
          "name": "stdout",
          "output_type": "stream",
          "text": [
            "Epoch 68 -\tTraining Loss : 0.009979677081108093 \tValidation Loss : 0.008674412989616393\n"
          ]
        },
        {
          "name": "stderr",
          "output_type": "stream",
          "text": [
            " 69%|██████▉   | 69/100 [14:25<06:18, 12.22s/it]"
          ]
        },
        {
          "name": "stdout",
          "output_type": "stream",
          "text": [
            "Epoch 69 -\tTraining Loss : 0.00991483432981703 \tValidation Loss : 0.00864000072479248\n",
            "Epoch 70 -\tTraining Loss : 0.009704509472846986 \tValidation Loss : 0.00865172381401062\n"
          ]
        },
        {
          "name": "stderr",
          "output_type": "stream",
          "text": [
            " 70%|███████   | 70/100 [14:38<06:13, 12.46s/it]"
          ]
        },
        {
          "name": "stdout",
          "output_type": "stream",
          "text": [
            "Training Accuracy = 72.26222222222222 \tValidation Accuracy = 52.34 \tTest Accuracy Top1 = 52.45 \tTest Accuracy Top5 = 80.34\n"
          ]
        },
        {
          "name": "stderr",
          "output_type": "stream",
          "text": [
            " 71%|███████   | 71/100 [14:50<05:59, 12.39s/it]"
          ]
        },
        {
          "name": "stdout",
          "output_type": "stream",
          "text": [
            "Epoch 71 -\tTraining Loss : 0.009716198523839314 \tValidation Loss : 0.008675720858573913\n"
          ]
        },
        {
          "name": "stderr",
          "output_type": "stream",
          "text": [
            " 72%|███████▏  | 72/100 [15:03<05:45, 12.35s/it]"
          ]
        },
        {
          "name": "stdout",
          "output_type": "stream",
          "text": [
            "Epoch 72 -\tTraining Loss : 0.009576991147465175 \tValidation Loss : 0.008706872177124023\n"
          ]
        },
        {
          "name": "stderr",
          "output_type": "stream",
          "text": [
            " 73%|███████▎  | 73/100 [15:15<05:33, 12.34s/it]"
          ]
        },
        {
          "name": "stdout",
          "output_type": "stream",
          "text": [
            "Epoch 73 -\tTraining Loss : 0.009743825931019252 \tValidation Loss : 0.008662877488136291\n"
          ]
        },
        {
          "name": "stderr",
          "output_type": "stream",
          "text": [
            " 74%|███████▍  | 74/100 [15:27<05:21, 12.35s/it]"
          ]
        },
        {
          "name": "stdout",
          "output_type": "stream",
          "text": [
            "Epoch 74 -\tTraining Loss : 0.009632003017266591 \tValidation Loss : 0.008781620764732361\n",
            "Epoch 75 -\tTraining Loss : 0.009826136373149025 \tValidation Loss : 0.008747333884239197\n"
          ]
        },
        {
          "name": "stderr",
          "output_type": "stream",
          "text": [
            " 75%|███████▌  | 75/100 [15:41<05:14, 12.60s/it]"
          ]
        },
        {
          "name": "stdout",
          "output_type": "stream",
          "text": [
            "Training Accuracy = 72.36222222222223 \tValidation Accuracy = 52.66 \tTest Accuracy Top1 = 52.76 \tTest Accuracy Top5 = 80.36\n"
          ]
        },
        {
          "name": "stderr",
          "output_type": "stream",
          "text": [
            " 76%|███████▌  | 76/100 [15:53<04:59, 12.49s/it]"
          ]
        },
        {
          "name": "stdout",
          "output_type": "stream",
          "text": [
            "Epoch 76 -\tTraining Loss : 0.009675430835617914 \tValidation Loss : 0.008794726300239563\n"
          ]
        },
        {
          "name": "stderr",
          "output_type": "stream",
          "text": [
            " 77%|███████▋  | 77/100 [16:05<04:45, 12.43s/it]"
          ]
        },
        {
          "name": "stdout",
          "output_type": "stream",
          "text": [
            "Epoch 77 -\tTraining Loss : 0.009688891242610083 \tValidation Loss : 0.008776379656791688\n"
          ]
        },
        {
          "name": "stderr",
          "output_type": "stream",
          "text": [
            " 78%|███████▊  | 78/100 [16:17<04:30, 12.28s/it]"
          ]
        },
        {
          "name": "stdout",
          "output_type": "stream",
          "text": [
            "Epoch 78 -\tTraining Loss : 0.009601164854897393 \tValidation Loss : 0.008764175748825074\n"
          ]
        },
        {
          "name": "stderr",
          "output_type": "stream",
          "text": [
            " 79%|███████▉  | 79/100 [16:29<04:16, 12.20s/it]"
          ]
        },
        {
          "name": "stdout",
          "output_type": "stream",
          "text": [
            "Epoch 79 -\tTraining Loss : 0.009524462617768181 \tValidation Loss : 0.00874578320980072\n",
            "Epoch 80 -\tTraining Loss : 0.00958139382733239 \tValidation Loss : 0.008797782254219054\n"
          ]
        },
        {
          "name": "stderr",
          "output_type": "stream",
          "text": [
            " 80%|████████  | 80/100 [16:42<04:07, 12.38s/it]"
          ]
        },
        {
          "name": "stdout",
          "output_type": "stream",
          "text": [
            "Training Accuracy = 72.96 \tValidation Accuracy = 52.56 \tTest Accuracy Top1 = 52.89 \tTest Accuracy Top5 = 80.44\n"
          ]
        },
        {
          "name": "stderr",
          "output_type": "stream",
          "text": [
            " 81%|████████  | 81/100 [16:54<03:54, 12.35s/it]"
          ]
        },
        {
          "name": "stdout",
          "output_type": "stream",
          "text": [
            "Epoch 81 -\tTraining Loss : 0.009462063309881422 \tValidation Loss : 0.008807540678977967\n"
          ]
        },
        {
          "name": "stderr",
          "output_type": "stream",
          "text": [
            " 82%|████████▏ | 82/100 [17:06<03:40, 12.27s/it]"
          ]
        },
        {
          "name": "stdout",
          "output_type": "stream",
          "text": [
            "Epoch 82 -\tTraining Loss : 0.009526140171951717 \tValidation Loss : 0.008789519047737122\n"
          ]
        },
        {
          "name": "stderr",
          "output_type": "stream",
          "text": [
            " 83%|████████▎ | 83/100 [17:18<03:27, 12.20s/it]"
          ]
        },
        {
          "name": "stdout",
          "output_type": "stream",
          "text": [
            "Epoch 83 -\tTraining Loss : 0.0095236633585559 \tValidation Loss : 0.008803261351585389\n"
          ]
        },
        {
          "name": "stderr",
          "output_type": "stream",
          "text": [
            " 84%|████████▍ | 84/100 [17:30<03:14, 12.17s/it]"
          ]
        },
        {
          "name": "stdout",
          "output_type": "stream",
          "text": [
            "Epoch 84 -\tTraining Loss : 0.009499679776032766 \tValidation Loss : 0.008788500332832336\n",
            "Epoch 85 -\tTraining Loss : 0.009549085827668507 \tValidation Loss : 0.00881353747844696\n"
          ]
        },
        {
          "name": "stderr",
          "output_type": "stream",
          "text": [
            " 85%|████████▌ | 85/100 [17:43<03:05, 12.34s/it]"
          ]
        },
        {
          "name": "stdout",
          "output_type": "stream",
          "text": [
            "Training Accuracy = 73.26222222222222 \tValidation Accuracy = 52.26 \tTest Accuracy Top1 = 53.13 \tTest Accuracy Top5 = 80.37\n"
          ]
        },
        {
          "name": "stderr",
          "output_type": "stream",
          "text": [
            " 86%|████████▌ | 86/100 [17:55<02:51, 12.27s/it]"
          ]
        },
        {
          "name": "stdout",
          "output_type": "stream",
          "text": [
            "Epoch 86 -\tTraining Loss : 0.009505152878496383 \tValidation Loss : 0.008832858014106751\n"
          ]
        },
        {
          "name": "stderr",
          "output_type": "stream",
          "text": [
            " 87%|████████▋ | 87/100 [18:07<02:38, 12.22s/it]"
          ]
        },
        {
          "name": "stdout",
          "output_type": "stream",
          "text": [
            "Epoch 87 -\tTraining Loss : 0.009464507577154372 \tValidation Loss : 0.008834703898429871\n"
          ]
        },
        {
          "name": "stderr",
          "output_type": "stream",
          "text": [
            " 88%|████████▊ | 88/100 [18:19<02:25, 12.16s/it]"
          ]
        },
        {
          "name": "stdout",
          "output_type": "stream",
          "text": [
            "Epoch 88 -\tTraining Loss : 0.009520669498708513 \tValidation Loss : 0.008821868324279785\n"
          ]
        },
        {
          "name": "stderr",
          "output_type": "stream",
          "text": [
            " 89%|████████▉ | 89/100 [18:31<02:12, 12.09s/it]"
          ]
        },
        {
          "name": "stdout",
          "output_type": "stream",
          "text": [
            "Epoch 89 -\tTraining Loss : 0.009470026761955685 \tValidation Loss : 0.008825468945503234\n",
            "Epoch 90 -\tTraining Loss : 0.009528687054581113 \tValidation Loss : 0.008839769840240479\n"
          ]
        },
        {
          "name": "stderr",
          "output_type": "stream",
          "text": [
            " 90%|█████████ | 90/100 [18:44<02:03, 12.31s/it]"
          ]
        },
        {
          "name": "stdout",
          "output_type": "stream",
          "text": [
            "Training Accuracy = 73.41333333333333 \tValidation Accuracy = 52.62 \tTest Accuracy Top1 = 53.0 \tTest Accuracy Top5 = 80.42\n"
          ]
        },
        {
          "name": "stderr",
          "output_type": "stream",
          "text": [
            " 91%|█████████ | 91/100 [18:56<01:49, 12.21s/it]"
          ]
        },
        {
          "name": "stdout",
          "output_type": "stream",
          "text": [
            "Epoch 91 -\tTraining Loss : 0.009477959944142236 \tValidation Loss : 0.008825215458869934\n"
          ]
        },
        {
          "name": "stderr",
          "output_type": "stream",
          "text": [
            " 92%|█████████▏| 92/100 [19:08<01:36, 12.12s/it]"
          ]
        },
        {
          "name": "stdout",
          "output_type": "stream",
          "text": [
            "Epoch 92 -\tTraining Loss : 0.009319398784637452 \tValidation Loss : 0.008850866508483888\n"
          ]
        },
        {
          "name": "stderr",
          "output_type": "stream",
          "text": [
            " 93%|█████████▎| 93/100 [19:20<01:24, 12.07s/it]"
          ]
        },
        {
          "name": "stdout",
          "output_type": "stream",
          "text": [
            "Epoch 93 -\tTraining Loss : 0.009387124700016446 \tValidation Loss : 0.008870465517044067\n"
          ]
        },
        {
          "name": "stderr",
          "output_type": "stream",
          "text": [
            " 94%|█████████▍| 94/100 [19:32<01:12, 12.04s/it]"
          ]
        },
        {
          "name": "stdout",
          "output_type": "stream",
          "text": [
            "Epoch 94 -\tTraining Loss : 0.00946228005223804 \tValidation Loss : 0.00883847689628601\n",
            "Epoch 95 -\tTraining Loss : 0.00961967994901869 \tValidation Loss : 0.008825715613365172\n"
          ]
        },
        {
          "name": "stderr",
          "output_type": "stream",
          "text": [
            " 95%|█████████▌| 95/100 [19:45<01:01, 12.29s/it]"
          ]
        },
        {
          "name": "stdout",
          "output_type": "stream",
          "text": [
            "Training Accuracy = 73.2088888888889 \tValidation Accuracy = 52.38 \tTest Accuracy Top1 = 52.9 \tTest Accuracy Top5 = 80.39\n"
          ]
        },
        {
          "name": "stderr",
          "output_type": "stream",
          "text": [
            " 96%|█████████▌| 96/100 [19:57<00:48, 12.15s/it]"
          ]
        },
        {
          "name": "stdout",
          "output_type": "stream",
          "text": [
            "Epoch 96 -\tTraining Loss : 0.0094640750752555 \tValidation Loss : 0.008825663590431214\n"
          ]
        },
        {
          "name": "stderr",
          "output_type": "stream",
          "text": [
            " 97%|█████████▋| 97/100 [20:08<00:36, 12.09s/it]"
          ]
        },
        {
          "name": "stdout",
          "output_type": "stream",
          "text": [
            "Epoch 97 -\tTraining Loss : 0.009555080046918657 \tValidation Loss : 0.008842804336547851\n"
          ]
        },
        {
          "name": "stderr",
          "output_type": "stream",
          "text": [
            " 98%|█████████▊| 98/100 [20:21<00:24, 12.08s/it]"
          ]
        },
        {
          "name": "stdout",
          "output_type": "stream",
          "text": [
            "Epoch 98 -\tTraining Loss : 0.009469076095687019 \tValidation Loss : 0.008836940217018127\n"
          ]
        },
        {
          "name": "stderr",
          "output_type": "stream",
          "text": [
            " 99%|█████████▉| 99/100 [20:33<00:12, 12.09s/it]"
          ]
        },
        {
          "name": "stdout",
          "output_type": "stream",
          "text": [
            "Epoch 99 -\tTraining Loss : 0.009396059079964955 \tValidation Loss : 0.008887019085884094\n",
            "Epoch 100 -\tTraining Loss : 0.009376636413733165 \tValidation Loss : 0.008808109951019287\n"
          ]
        },
        {
          "name": "stderr",
          "output_type": "stream",
          "text": [
            "100%|██████████| 100/100 [20:46<00:00, 12.46s/it]"
          ]
        },
        {
          "name": "stdout",
          "output_type": "stream",
          "text": [
            "Training Accuracy = 73.82 \tValidation Accuracy = 52.4 \tTest Accuracy Top1 = 52.91 \tTest Accuracy Top5 = 80.31\n"
          ]
        },
        {
          "name": "stderr",
          "output_type": "stream",
          "text": [
            "\n"
          ]
        }
      ],
      "source": [
        "train_loader = DataLoader(train_set, batch_size=128, shuffle=True)\n",
        "validation_loader = DataLoader(validation_set, batch_size=256, shuffle=False)\n",
        "test_loader = DataLoader(test_set, batch_size=256, shuffle=False)\n",
        "\n",
        "optimizer = torch.optim.SGD\n",
        "scheduler = torch.optim.lr_scheduler.CosineAnnealingLR\n",
        "loss_fn = F.cross_entropy\n",
        "\n",
        "history2 = train(model2, optimizer, scheduler, loss_fn, train_loader, validation_loader, test_loader, learning_rate=0.01, num_epochs=100)"
      ]
    },
    {
      "cell_type": "code",
      "execution_count": 30,
      "metadata": {},
      "outputs": [
        {
          "data": {
            "image/png": "[encoded data removed]",
            "text/plain": [
              "<Figure size 640x480 with 1 Axes>"
            ]
          },
          "metadata": {},
          "output_type": "display_data"
        }
      ],
      "source": [
        "plot_loss(history2['train_loss'], history2['val_loss'])"
      ]
    },
    {
      "cell_type": "code",
      "execution_count": 31,
      "metadata": {},
      "outputs": [
        {
          "data": {
            "image/png": "[encoded data removed]",
            "text/plain": [
              "<Figure size 640x480 with 1 Axes>"
            ]
          },
          "metadata": {},
          "output_type": "display_data"
        }
      ],
      "source": [
        "plot_acc(history2['train_acc'], history2['val_acc'])"
      ]
    },
    {
      "cell_type": "code",
      "execution_count": 32,
      "metadata": {},
      "outputs": [
        {
          "data": {
            "image/png": "[encoded data removed]",
            "text/plain": [
              "<Figure size 640x480 with 1 Axes>"
            ]
          },
          "metadata": {},
          "output_type": "display_data"
        }
      ],
      "source": [
        "plot_test(history2['test_acc1'], history2['test_acc5'])"
      ]
    },
    {
      "cell_type": "code",
      "execution_count": 33,
      "metadata": {},
      "outputs": [
        {
          "name": "stdout",
          "output_type": "stream",
          "text": [
            "Average time per epoch for Wide_AAResNet = 11.84288327217102\n"
          ]
        }
      ],
      "source": [
        "time_taken2 = np.array(history2['time'])\n",
        "print(\"Average time per epoch for Wide_AAResNet =\", np.mean(time_taken2))"
      ]
    },
    {
      "cell_type": "code",
      "execution_count": 34,
      "metadata": {},
      "outputs": [],
      "source": [
        "with open('wide_aaresnet_history_cifar', 'wb') as f:\n",
        "  pickle.dump(history2, f)"
      ]
    },
    {
      "cell_type": "markdown",
      "metadata": {},
      "source": [
        "# Defining The Model"
      ]
    },
    {
      "cell_type": "code",
      "execution_count": 35,
      "metadata": {},
      "outputs": [],
      "source": [
        "from AA_CNN import LinearAttentionConv2d"
      ]
    },
    {
      "cell_type": "code",
      "execution_count": 36,
      "metadata": {},
      "outputs": [],
      "source": [
        "class Wide_LAAResNet(nn.Module):\n",
        "    def __init__(self, width = 4, dropout = 0.33, num_classes=100):\n",
        "        super().__init__()\n",
        "        self.Nh = 1\n",
        "        self.dv = 8\n",
        "\n",
        "        self.block0 = nn.Sequential(\n",
        "            nn.Conv2d(3, 16, kernel_size=3, padding=1, stride=1),\n",
        "            nn.BatchNorm2d(16),\n",
        "            nn.ReLU(),\n",
        "        )\n",
        "\n",
        "        self.block11 = nn.Sequential(\n",
        "            nn.Conv2d(16, 16*width, kernel_size=3, padding=1, stride=2),\n",
        "            nn.BatchNorm2d(16*width),\n",
        "            nn.ReLU(),\n",
        "            nn.Dropout2d(dropout),\n",
        "            # nn.Conv2d(16*width, 16*width, kernel_size=3, padding=1, stride=1),\n",
        "            LinearAttentionConv2d(\n",
        "                input_dim = 16*width,\n",
        "                output_dim = 16*width,\n",
        "                dk = 4*self.dv*width,\n",
        "                dv = self.dv*width,\n",
        "                num_heads = self.Nh,\n",
        "                kernel_size = 3,\n",
        "                padding = 1,\n",
        "                device=device,\n",
        "                height=16,\n",
        "                width=16,\n",
        "            ),\n",
        "        )\n",
        "        self.shortcut1 = nn.Conv2d(16, 16*width, kernel_size=1, stride=2)\n",
        "        self.block12 = nn.Sequential(\n",
        "            nn.BatchNorm2d(16*width),\n",
        "            nn.ReLU(),\n",
        "            nn.Conv2d(16*width, 16*width, kernel_size=3, padding=1, stride=1),\n",
        "            nn.BatchNorm2d(16*width),\n",
        "            nn.ReLU(),\n",
        "            nn.Dropout2d(dropout),\n",
        "            # nn.Conv2d(16*width, 16*width, kernel_size=3, padding=1, stride=1),\n",
        "            LinearAttentionConv2d(\n",
        "                input_dim = 16*width,\n",
        "                output_dim = 16*width,\n",
        "                dk = 4*self.dv*width,\n",
        "                dv = self.dv*width,\n",
        "                num_heads = self.Nh,\n",
        "                kernel_size = 3,\n",
        "                padding = 1,\n",
        "                device=device,\n",
        "                height=16,\n",
        "                width=16,\n",
        "            ),\n",
        "        )\n",
        "\n",
        "\n",
        "        self.pre_block2 = nn.Sequential(\n",
        "            nn.BatchNorm2d(16*width),\n",
        "            nn.ReLU(),\n",
        "        )\n",
        "        self.block21 = nn.Sequential(\n",
        "            nn.Conv2d(16*width, 32*width, kernel_size=3, padding=1, stride=2),\n",
        "            nn.BatchNorm2d(32*width),\n",
        "            nn.ReLU(),\n",
        "            nn.Dropout2d(dropout),\n",
        "            # nn.Conv2d(32*width, 32*width, kernel_size=3, padding=1, stride=1),\n",
        "            LinearAttentionConv2d(\n",
        "                input_dim = 32*width,\n",
        "                output_dim = 32*width,\n",
        "                dk = 8*self.dv*width,\n",
        "                dv = 2*self.dv*width,\n",
        "                num_heads = 2*self.Nh,\n",
        "                kernel_size = 3,\n",
        "                padding = 1,\n",
        "                device=device,\n",
        "                height=8,\n",
        "                width=8,\n",
        "            ),\n",
        "        )\n",
        "        self.shortcut2 = nn.Conv2d(16*width, 32*width, kernel_size=1, stride=2)\n",
        "        self.block22 = nn.Sequential(\n",
        "            nn.BatchNorm2d(32*width),\n",
        "            nn.ReLU(),\n",
        "            nn.Conv2d(32*width, 32*width, kernel_size=3, padding=1, stride=1),\n",
        "            nn.BatchNorm2d(32*width),\n",
        "            nn.ReLU(),\n",
        "            nn.Dropout2d(dropout),\n",
        "            # nn.Conv2d(32*width, 32*width, kernel_size=3, padding=1, stride=1),\n",
        "            LinearAttentionConv2d(\n",
        "                input_dim = 32*width,\n",
        "                output_dim = 32*width,\n",
        "                dk = 8*self.dv*width,\n",
        "                dv = 2*self.dv*width,\n",
        "                num_heads = 2*self.Nh,\n",
        "                kernel_size = 3,\n",
        "                padding = 1,\n",
        "                device=device,\n",
        "                height=8,\n",
        "                width=8,\n",
        "            ),\n",
        "        )\n",
        "\n",
        "        self.pre_block3 = nn.Sequential(\n",
        "            nn.BatchNorm2d(32*width),\n",
        "            nn.ReLU(),\n",
        "        )\n",
        "        self.block31 = nn.Sequential(\n",
        "            nn.Conv2d(32*width, 64*width, kernel_size=3, padding=1, stride=2),\n",
        "            nn.BatchNorm2d(64*width),\n",
        "            nn.ReLU(),\n",
        "            nn.Dropout2d(dropout),\n",
        "            # nn.Conv2d(64*width, 64*width, kernel_size=3, padding=1, stride=1),\n",
        "            LinearAttentionConv2d(\n",
        "                input_dim = 64*width,\n",
        "                output_dim = 64*width,\n",
        "                dk = 16*self.dv*width,\n",
        "                dv = 4*self.dv*width,\n",
        "                num_heads = 4*self.Nh,\n",
        "                kernel_size = 3,\n",
        "                padding = 1,\n",
        "                device=device,\n",
        "                height=4,\n",
        "                width=4,\n",
        "            ),\n",
        "        )\n",
        "        self.shortcut3 = nn.Conv2d(32*width, 64*width, kernel_size=1, stride=2)\n",
        "        self.block32 = nn.Sequential(\n",
        "            nn.BatchNorm2d(64*width),\n",
        "            nn.ReLU(),\n",
        "            nn.Conv2d(64*width, 64*width, kernel_size=3, padding=1, stride=1),\n",
        "            nn.BatchNorm2d(64*width),\n",
        "            nn.ReLU(),\n",
        "            nn.Dropout2d(dropout),\n",
        "            # nn.Conv2d(64*width, 64*width, kernel_size=3, padding=1, stride=1),\n",
        "            LinearAttentionConv2d(\n",
        "                input_dim = 64*width,\n",
        "                output_dim = 64*width,\n",
        "                dk = 16*self.dv*width,\n",
        "                dv = 4*self.dv*width,\n",
        "                num_heads = 4*self.Nh,\n",
        "                kernel_size = 3,\n",
        "                padding = 1,\n",
        "                device=device,\n",
        "                height=4,\n",
        "                width=4,\n",
        "            ),\n",
        "        )\n",
        "\n",
        "        self.pool_block = nn.Sequential(\n",
        "            nn.BatchNorm2d(64*width),\n",
        "            nn.ReLU(),\n",
        "            nn.AvgPool2d(4, 4),\n",
        "        )\n",
        "\n",
        "        self.fc = nn.Sequential(\n",
        "            nn.Linear(64*width, 64*width),\n",
        "            nn.ReLU(),\n",
        "            nn.Dropout1d(dropout/2),\n",
        "            nn.Linear(64*width, num_classes)\n",
        "        )\n",
        "\n",
        "    def forward(self, x):\n",
        "        # x.shape = B x 3 x 32 x 32\n",
        "\n",
        "        x = self.block0(x)\n",
        "        # x.shape = B x 16 x 32 x 32\n",
        "\n",
        "        x1 = self.block11(x)\n",
        "        x2 = self.shortcut1(x)\n",
        "        x3 = x1 + x2\n",
        "        x4 = self.block12(x3)\n",
        "        x = x4 + x3\n",
        "        # x.shape = B x 16*width x 16 x 16\n",
        "\n",
        "        x = self.pre_block2(x)\n",
        "        x1 = self.block21(x)\n",
        "        x2 = self.shortcut2(x)\n",
        "        x3 = x1 + x2\n",
        "        x4 = self.block22(x3)\n",
        "        x = x4 + x3\n",
        "        # x.shape = B x 32*width x 8 x 8\n",
        "\n",
        "        x = self.pre_block3(x)\n",
        "        x1 = self.block31(x)\n",
        "        x2 = self.shortcut3(x)\n",
        "        x3 = x1 + x2\n",
        "        x4 = self.block32(x3)\n",
        "        x = x4 + x3\n",
        "        # x.shape = B x 64*width x 4 x 4\n",
        "\n",
        "        x = self.pool_block(x)\n",
        "        # x.shape = B x 64*width x 1 x 1\n",
        "\n",
        "        x = torch.flatten(x, start_dim=1)\n",
        "        # flatten all dimensions except batch (0th dim)\n",
        "        # x.shape = B x 64*width\n",
        "\n",
        "        x = self.fc(x)\n",
        "        # x.shape = B x num_classes\n",
        "\n",
        "        return x"
      ]
    },
    {
      "cell_type": "markdown",
      "metadata": {},
      "source": [
        "# Training The Model"
      ]
    },
    {
      "cell_type": "code",
      "execution_count": 37,
      "metadata": {},
      "outputs": [
        {
          "name": "stdout",
          "output_type": "stream",
          "text": [
            "----------------------------------------------------------------\n",
            "        Layer (type)               Output Shape         Param #\n",
            "================================================================\n",
            "            Conv2d-1           [-1, 16, 32, 32]             448\n",
            "       BatchNorm2d-2           [-1, 16, 32, 32]              32\n",
            "              ReLU-3           [-1, 16, 32, 32]               0\n",
            "            Conv2d-4          [-1, 128, 16, 16]          18,560\n",
            "       BatchNorm2d-5          [-1, 128, 16, 16]             256\n",
            "              ReLU-6          [-1, 128, 16, 16]               0\n",
            "         Dropout2d-7          [-1, 128, 16, 16]               0\n",
            "            Conv2d-8           [-1, 64, 16, 16]          73,792\n",
            "            Conv2d-9          [-1, 576, 16, 16]          74,304\n",
            "          Softmax-10          [-1, 1, 256, 256]               0\n",
            "          Softmax-11          [-1, 1, 256, 256]               0\n",
            "           Conv2d-12           [-1, 64, 16, 16]           4,160\n",
            "LinearAttentionConv2d-13          [-1, 128, 16, 16]               0\n",
            "           Conv2d-14          [-1, 128, 16, 16]           2,176\n",
            "      BatchNorm2d-15          [-1, 128, 16, 16]             256\n",
            "             ReLU-16          [-1, 128, 16, 16]               0\n",
            "           Conv2d-17          [-1, 128, 16, 16]         147,584\n",
            "      BatchNorm2d-18          [-1, 128, 16, 16]             256\n",
            "             ReLU-19          [-1, 128, 16, 16]               0\n",
            "        Dropout2d-20          [-1, 128, 16, 16]               0\n",
            "           Conv2d-21           [-1, 64, 16, 16]          73,792\n",
            "           Conv2d-22          [-1, 576, 16, 16]          74,304\n",
            "          Softmax-23          [-1, 1, 256, 256]               0\n",
            "          Softmax-24          [-1, 1, 256, 256]               0\n",
            "           Conv2d-25           [-1, 64, 16, 16]           4,160\n",
            "LinearAttentionConv2d-26          [-1, 128, 16, 16]               0\n",
            "      BatchNorm2d-27          [-1, 128, 16, 16]             256\n",
            "             ReLU-28          [-1, 128, 16, 16]               0\n",
            "           Conv2d-29            [-1, 256, 8, 8]         295,168\n",
            "      BatchNorm2d-30            [-1, 256, 8, 8]             512\n",
            "             ReLU-31            [-1, 256, 8, 8]               0\n",
            "        Dropout2d-32            [-1, 256, 8, 8]               0\n",
            "           Conv2d-33            [-1, 128, 8, 8]         295,040\n",
            "           Conv2d-34           [-1, 1152, 8, 8]         296,064\n",
            "          Softmax-35           [-1, 2, 256, 64]               0\n",
            "          Softmax-36           [-1, 2, 256, 64]               0\n",
            "           Conv2d-37            [-1, 128, 8, 8]          16,512\n",
            "LinearAttentionConv2d-38            [-1, 256, 8, 8]               0\n",
            "           Conv2d-39            [-1, 256, 8, 8]          33,024\n",
            "      BatchNorm2d-40            [-1, 256, 8, 8]             512\n",
            "             ReLU-41            [-1, 256, 8, 8]               0\n",
            "           Conv2d-42            [-1, 256, 8, 8]         590,080\n",
            "      BatchNorm2d-43            [-1, 256, 8, 8]             512\n",
            "             ReLU-44            [-1, 256, 8, 8]               0\n",
            "        Dropout2d-45            [-1, 256, 8, 8]               0\n",
            "           Conv2d-46            [-1, 128, 8, 8]         295,040\n",
            "           Conv2d-47           [-1, 1152, 8, 8]         296,064\n",
            "          Softmax-48           [-1, 2, 256, 64]               0\n",
            "          Softmax-49           [-1, 2, 256, 64]               0\n",
            "           Conv2d-50            [-1, 128, 8, 8]          16,512\n",
            "LinearAttentionConv2d-51            [-1, 256, 8, 8]               0\n",
            "      BatchNorm2d-52            [-1, 256, 8, 8]             512\n",
            "             ReLU-53            [-1, 256, 8, 8]               0\n",
            "           Conv2d-54            [-1, 512, 4, 4]       1,180,160\n",
            "      BatchNorm2d-55            [-1, 512, 4, 4]           1,024\n",
            "             ReLU-56            [-1, 512, 4, 4]               0\n",
            "        Dropout2d-57            [-1, 512, 4, 4]               0\n",
            "           Conv2d-58            [-1, 256, 4, 4]       1,179,904\n",
            "           Conv2d-59           [-1, 2304, 4, 4]       1,181,952\n",
            "          Softmax-60           [-1, 4, 256, 16]               0\n",
            "          Softmax-61           [-1, 4, 256, 16]               0\n",
            "           Conv2d-62            [-1, 256, 4, 4]          65,792\n",
            "LinearAttentionConv2d-63            [-1, 512, 4, 4]               0\n",
            "           Conv2d-64            [-1, 512, 4, 4]         131,584\n",
            "      BatchNorm2d-65            [-1, 512, 4, 4]           1,024\n",
            "             ReLU-66            [-1, 512, 4, 4]               0\n",
            "           Conv2d-67            [-1, 512, 4, 4]       2,359,808\n",
            "      BatchNorm2d-68            [-1, 512, 4, 4]           1,024\n",
            "             ReLU-69            [-1, 512, 4, 4]               0\n",
            "        Dropout2d-70            [-1, 512, 4, 4]               0\n",
            "           Conv2d-71            [-1, 256, 4, 4]       1,179,904\n",
            "           Conv2d-72           [-1, 2304, 4, 4]       1,181,952\n",
            "          Softmax-73           [-1, 4, 256, 16]               0\n",
            "          Softmax-74           [-1, 4, 256, 16]               0\n",
            "           Conv2d-75            [-1, 256, 4, 4]          65,792\n",
            "LinearAttentionConv2d-76            [-1, 512, 4, 4]               0\n",
            "      BatchNorm2d-77            [-1, 512, 4, 4]           1,024\n",
            "             ReLU-78            [-1, 512, 4, 4]               0\n",
            "        AvgPool2d-79            [-1, 512, 1, 1]               0\n",
            "           Linear-80                  [-1, 512]         262,656\n",
            "             ReLU-81                  [-1, 512]               0\n",
            "        Dropout1d-82                  [-1, 512]               0\n",
            "           Linear-83                  [-1, 100]          51,300\n",
            "================================================================\n",
            "Total params: 11,454,788\n",
            "Trainable params: 11,454,788\n",
            "Non-trainable params: 0\n",
            "----------------------------------------------------------------\n",
            "Input size (MB): 0.01\n",
            "Forward/backward pass size (MB): 15.27\n",
            "Params size (MB): 43.70\n",
            "Estimated Total Size (MB): 58.97\n",
            "----------------------------------------------------------------\n"
          ]
        }
      ],
      "source": [
        "model3 = Wide_LAAResNet(width=8, dropout=0.5).to(device)\n",
        "summary(model3, (3, 32, 32))"
      ]
    },
    {
      "cell_type": "code",
      "execution_count": 38,
      "metadata": {},
      "outputs": [
        {
          "name": "stderr",
          "output_type": "stream",
          "text": [
            "  1%|          | 1/100 [00:13<21:50, 13.24s/it]"
          ]
        },
        {
          "name": "stdout",
          "output_type": "stream",
          "text": [
            "Epoch 1 -\tTraining Loss : 0.034111004251903956 \tValidation Loss : 0.016217080640792848\n"
          ]
        },
        {
          "name": "stderr",
          "output_type": "stream",
          "text": [
            "  2%|▏         | 2/100 [00:26<21:32, 13.19s/it]"
          ]
        },
        {
          "name": "stdout",
          "output_type": "stream",
          "text": [
            "Epoch 2 -\tTraining Loss : 0.0314492063416375 \tValidation Loss : 0.014855755710601807\n"
          ]
        },
        {
          "name": "stderr",
          "output_type": "stream",
          "text": [
            "  3%|▎         | 3/100 [00:39<21:20, 13.20s/it]"
          ]
        },
        {
          "name": "stdout",
          "output_type": "stream",
          "text": [
            "Epoch 3 -\tTraining Loss : 0.03028910936779446 \tValidation Loss : 0.014164253664016723\n"
          ]
        },
        {
          "name": "stderr",
          "output_type": "stream",
          "text": [
            "  4%|▍         | 4/100 [00:52<21:04, 13.17s/it]"
          ]
        },
        {
          "name": "stdout",
          "output_type": "stream",
          "text": [
            "Epoch 4 -\tTraining Loss : 0.029250139866934883 \tValidation Loss : 0.013380627059936524\n",
            "Epoch 5 -\tTraining Loss : 0.0281834867477417 \tValidation Loss : 0.012955262994766235\n"
          ]
        },
        {
          "name": "stderr",
          "output_type": "stream",
          "text": [
            "  5%|▌         | 5/100 [01:06<21:20, 13.48s/it]"
          ]
        },
        {
          "name": "stdout",
          "output_type": "stream",
          "text": [
            "Training Accuracy = 14.82 \tValidation Accuracy = 22.52 \tTest Accuracy Top1 = 21.78 \tTest Accuracy Top5 = 50.5\n"
          ]
        },
        {
          "name": "stderr",
          "output_type": "stream",
          "text": [
            "  6%|▌         | 6/100 [01:19<20:50, 13.31s/it]"
          ]
        },
        {
          "name": "stdout",
          "output_type": "stream",
          "text": [
            "Epoch 6 -\tTraining Loss : 0.027176888751983642 \tValidation Loss : 0.012373189163208008\n"
          ]
        },
        {
          "name": "stderr",
          "output_type": "stream",
          "text": [
            "  7%|▋         | 7/100 [01:32<20:32, 13.25s/it]"
          ]
        },
        {
          "name": "stdout",
          "output_type": "stream",
          "text": [
            "Epoch 7 -\tTraining Loss : 0.026452580706278483 \tValidation Loss : 0.011710879468917846\n"
          ]
        },
        {
          "name": "stderr",
          "output_type": "stream",
          "text": [
            "  8%|▊         | 8/100 [01:45<20:14, 13.20s/it]"
          ]
        },
        {
          "name": "stdout",
          "output_type": "stream",
          "text": [
            "Epoch 8 -\tTraining Loss : 0.025852895402908325 \tValidation Loss : 0.011227248907089234\n"
          ]
        },
        {
          "name": "stderr",
          "output_type": "stream",
          "text": [
            "  9%|▉         | 9/100 [01:59<19:59, 13.19s/it]"
          ]
        },
        {
          "name": "stdout",
          "output_type": "stream",
          "text": [
            "Epoch 9 -\tTraining Loss : 0.02527923002243042 \tValidation Loss : 0.011049434995651246\n",
            "Epoch 10 -\tTraining Loss : 0.02469685147073534 \tValidation Loss : 0.010625069284439088\n"
          ]
        },
        {
          "name": "stderr",
          "output_type": "stream",
          "text": [
            " 10%|█         | 10/100 [02:13<20:15, 13.50s/it]"
          ]
        },
        {
          "name": "stdout",
          "output_type": "stream",
          "text": [
            "Training Accuracy = 23.357777777777777 \tValidation Accuracy = 33.7 \tTest Accuracy Top1 = 34.05 \tTest Accuracy Top5 = 65.33\n"
          ]
        },
        {
          "name": "stderr",
          "output_type": "stream",
          "text": [
            " 11%|█         | 11/100 [02:26<19:53, 13.41s/it]"
          ]
        },
        {
          "name": "stdout",
          "output_type": "stream",
          "text": [
            "Epoch 11 -\tTraining Loss : 0.02419891462855869 \tValidation Loss : 0.010375237560272216\n"
          ]
        },
        {
          "name": "stderr",
          "output_type": "stream",
          "text": [
            " 12%|█▏        | 12/100 [02:39<19:36, 13.37s/it]"
          ]
        },
        {
          "name": "stdout",
          "output_type": "stream",
          "text": [
            "Epoch 12 -\tTraining Loss : 0.023745747656292386 \tValidation Loss : 0.010205409240722656\n"
          ]
        },
        {
          "name": "stderr",
          "output_type": "stream",
          "text": [
            " 13%|█▎        | 13/100 [02:53<19:20, 13.34s/it]"
          ]
        },
        {
          "name": "stdout",
          "output_type": "stream",
          "text": [
            "Epoch 13 -\tTraining Loss : 0.023150181690851847 \tValidation Loss : 0.011433623790740966\n"
          ]
        },
        {
          "name": "stderr",
          "output_type": "stream",
          "text": [
            " 14%|█▍        | 14/100 [03:06<19:03, 13.30s/it]"
          ]
        },
        {
          "name": "stdout",
          "output_type": "stream",
          "text": [
            "Epoch 14 -\tTraining Loss : 0.02298093130853441 \tValidation Loss : 0.009859398174285888\n",
            "Epoch 15 -\tTraining Loss : 0.022419374826219345 \tValidation Loss : 0.009715865659713744\n"
          ]
        },
        {
          "name": "stderr",
          "output_type": "stream",
          "text": [
            " 15%|█▌        | 15/100 [03:20<19:17, 13.62s/it]"
          ]
        },
        {
          "name": "stdout",
          "output_type": "stream",
          "text": [
            "Training Accuracy = 29.702222222222222 \tValidation Accuracy = 37.86 \tTest Accuracy Top1 = 38.17 \tTest Accuracy Top5 = 70.28\n"
          ]
        },
        {
          "name": "stderr",
          "output_type": "stream",
          "text": [
            " 16%|█▌        | 16/100 [03:33<18:53, 13.49s/it]"
          ]
        },
        {
          "name": "stdout",
          "output_type": "stream",
          "text": [
            "Epoch 16 -\tTraining Loss : 0.02206423888736301 \tValidation Loss : 0.009161404657363892\n"
          ]
        },
        {
          "name": "stderr",
          "output_type": "stream",
          "text": [
            " 17%|█▋        | 17/100 [03:47<18:32, 13.41s/it]"
          ]
        },
        {
          "name": "stdout",
          "output_type": "stream",
          "text": [
            "Epoch 17 -\tTraining Loss : 0.02161024317741394 \tValidation Loss : 0.009461263132095337\n"
          ]
        },
        {
          "name": "stderr",
          "output_type": "stream",
          "text": [
            " 18%|█▊        | 18/100 [04:00<18:14, 13.34s/it]"
          ]
        },
        {
          "name": "stdout",
          "output_type": "stream",
          "text": [
            "Epoch 18 -\tTraining Loss : 0.021276512744691636 \tValidation Loss : 0.0088471923828125\n"
          ]
        },
        {
          "name": "stderr",
          "output_type": "stream",
          "text": [
            " 19%|█▉        | 19/100 [04:13<18:00, 13.34s/it]"
          ]
        },
        {
          "name": "stdout",
          "output_type": "stream",
          "text": [
            "Epoch 19 -\tTraining Loss : 0.020842732916937935 \tValidation Loss : 0.008934043455123901\n",
            "Epoch 20 -\tTraining Loss : 0.020488942872153387 \tValidation Loss : 0.00895977792739868\n"
          ]
        },
        {
          "name": "stderr",
          "output_type": "stream",
          "text": [
            " 20%|██        | 20/100 [04:27<18:04, 13.56s/it]"
          ]
        },
        {
          "name": "stdout",
          "output_type": "stream",
          "text": [
            "Training Accuracy = 35.21111111111111 \tValidation Accuracy = 41.24 \tTest Accuracy Top1 = 42.61 \tTest Accuracy Top5 = 73.91\n"
          ]
        },
        {
          "name": "stderr",
          "output_type": "stream",
          "text": [
            " 21%|██        | 21/100 [04:40<17:44, 13.48s/it]"
          ]
        },
        {
          "name": "stdout",
          "output_type": "stream",
          "text": [
            "Epoch 21 -\tTraining Loss : 0.020178891817728677 \tValidation Loss : 0.0085697988986969\n"
          ]
        },
        {
          "name": "stderr",
          "output_type": "stream",
          "text": [
            " 22%|██▏       | 22/100 [04:54<17:27, 13.43s/it]"
          ]
        },
        {
          "name": "stdout",
          "output_type": "stream",
          "text": [
            "Epoch 22 -\tTraining Loss : 0.01974970088005066 \tValidation Loss : 0.009310834074020386\n"
          ]
        },
        {
          "name": "stderr",
          "output_type": "stream",
          "text": [
            " 23%|██▎       | 23/100 [05:07<17:09, 13.38s/it]"
          ]
        },
        {
          "name": "stdout",
          "output_type": "stream",
          "text": [
            "Epoch 23 -\tTraining Loss : 0.019567121532228258 \tValidation Loss : 0.008511582207679749\n"
          ]
        },
        {
          "name": "stderr",
          "output_type": "stream",
          "text": [
            " 24%|██▍       | 24/100 [05:20<16:50, 13.30s/it]"
          ]
        },
        {
          "name": "stdout",
          "output_type": "stream",
          "text": [
            "Epoch 24 -\tTraining Loss : 0.01925582430627611 \tValidation Loss : 0.00790510241985321\n",
            "Epoch 25 -\tTraining Loss : 0.01892711574766371 \tValidation Loss : 0.007713865065574646\n"
          ]
        },
        {
          "name": "stderr",
          "output_type": "stream",
          "text": [
            " 25%|██▌       | 25/100 [05:34<16:56, 13.56s/it]"
          ]
        },
        {
          "name": "stdout",
          "output_type": "stream",
          "text": [
            "Training Accuracy = 39.522222222222226 \tValidation Accuracy = 48.7 \tTest Accuracy Top1 = 48.71 \tTest Accuracy Top5 = 79.41\n"
          ]
        },
        {
          "name": "stderr",
          "output_type": "stream",
          "text": [
            " 26%|██▌       | 26/100 [05:48<16:39, 13.51s/it]"
          ]
        },
        {
          "name": "stdout",
          "output_type": "stream",
          "text": [
            "Epoch 26 -\tTraining Loss : 0.01874718028439416 \tValidation Loss : 0.007819474816322327\n"
          ]
        },
        {
          "name": "stderr",
          "output_type": "stream",
          "text": [
            " 27%|██▋       | 27/100 [06:01<16:21, 13.45s/it]"
          ]
        },
        {
          "name": "stdout",
          "output_type": "stream",
          "text": [
            "Epoch 27 -\tTraining Loss : 0.018372328154246012 \tValidation Loss : 0.007707919430732727\n"
          ]
        },
        {
          "name": "stderr",
          "output_type": "stream",
          "text": [
            " 28%|██▊       | 28/100 [06:14<16:06, 13.42s/it]"
          ]
        },
        {
          "name": "stdout",
          "output_type": "stream",
          "text": [
            "Epoch 28 -\tTraining Loss : 0.018207528278562757 \tValidation Loss : 0.007450449633598328\n"
          ]
        },
        {
          "name": "stderr",
          "output_type": "stream",
          "text": [
            " 29%|██▉       | 29/100 [06:28<15:49, 13.38s/it]"
          ]
        },
        {
          "name": "stdout",
          "output_type": "stream",
          "text": [
            "Epoch 29 -\tTraining Loss : 0.017827796244621278 \tValidation Loss : 0.008811940193176269\n",
            "Epoch 30 -\tTraining Loss : 0.017665476727485658 \tValidation Loss : 0.007405941104888916\n"
          ]
        },
        {
          "name": "stderr",
          "output_type": "stream",
          "text": [
            " 30%|███       | 30/100 [06:42<15:52, 13.60s/it]"
          ]
        },
        {
          "name": "stdout",
          "output_type": "stream",
          "text": [
            "Training Accuracy = 43.437777777777775 \tValidation Accuracy = 49.42 \tTest Accuracy Top1 = 50.81 \tTest Accuracy Top5 = 80.15\n"
          ]
        },
        {
          "name": "stderr",
          "output_type": "stream",
          "text": [
            " 31%|███       | 31/100 [06:55<15:28, 13.46s/it]"
          ]
        },
        {
          "name": "stdout",
          "output_type": "stream",
          "text": [
            "Epoch 31 -\tTraining Loss : 0.017419605006111994 \tValidation Loss : 0.0073199581146240235\n"
          ]
        },
        {
          "name": "stderr",
          "output_type": "stream",
          "text": [
            " 32%|███▏      | 32/100 [07:08<15:10, 13.38s/it]"
          ]
        },
        {
          "name": "stdout",
          "output_type": "stream",
          "text": [
            "Epoch 32 -\tTraining Loss : 0.017259881954722934 \tValidation Loss : 0.007451652359962463\n"
          ]
        },
        {
          "name": "stderr",
          "output_type": "stream",
          "text": [
            " 33%|███▎      | 33/100 [07:21<14:52, 13.32s/it]"
          ]
        },
        {
          "name": "stdout",
          "output_type": "stream",
          "text": [
            "Epoch 33 -\tTraining Loss : 0.016864570599132114 \tValidation Loss : 0.007068624687194824\n"
          ]
        },
        {
          "name": "stderr",
          "output_type": "stream",
          "text": [
            " 34%|███▍      | 34/100 [07:35<14:38, 13.31s/it]"
          ]
        },
        {
          "name": "stdout",
          "output_type": "stream",
          "text": [
            "Epoch 34 -\tTraining Loss : 0.016733224754863316 \tValidation Loss : 0.007181875658035278\n",
            "Epoch 35 -\tTraining Loss : 0.016352381388346354 \tValidation Loss : 0.007102592849731445\n"
          ]
        },
        {
          "name": "stderr",
          "output_type": "stream",
          "text": [
            " 35%|███▌      | 35/100 [07:49<14:43, 13.59s/it]"
          ]
        },
        {
          "name": "stdout",
          "output_type": "stream",
          "text": [
            "Training Accuracy = 47.66 \tValidation Accuracy = 51.54 \tTest Accuracy Top1 = 51.88 \tTest Accuracy Top5 = 81.32\n"
          ]
        },
        {
          "name": "stderr",
          "output_type": "stream",
          "text": [
            " 36%|███▌      | 36/100 [08:02<14:22, 13.47s/it]"
          ]
        },
        {
          "name": "stdout",
          "output_type": "stream",
          "text": [
            "Epoch 36 -\tTraining Loss : 0.016175463019476997 \tValidation Loss : 0.007109460353851319\n"
          ]
        },
        {
          "name": "stderr",
          "output_type": "stream",
          "text": [
            " 37%|███▋      | 37/100 [08:15<14:03, 13.40s/it]"
          ]
        },
        {
          "name": "stdout",
          "output_type": "stream",
          "text": [
            "Epoch 37 -\tTraining Loss : 0.015888541926278008 \tValidation Loss : 0.007037487602233887\n"
          ]
        },
        {
          "name": "stderr",
          "output_type": "stream",
          "text": [
            " 38%|███▊      | 38/100 [08:29<13:49, 13.37s/it]"
          ]
        },
        {
          "name": "stdout",
          "output_type": "stream",
          "text": [
            "Epoch 38 -\tTraining Loss : 0.01571875261200799 \tValidation Loss : 0.007178754806518555\n"
          ]
        },
        {
          "name": "stderr",
          "output_type": "stream",
          "text": [
            " 39%|███▉      | 39/100 [08:42<13:35, 13.37s/it]"
          ]
        },
        {
          "name": "stdout",
          "output_type": "stream",
          "text": [
            "Epoch 39 -\tTraining Loss : 0.015526040058665806 \tValidation Loss : 0.0069321988582611085\n",
            "Epoch 40 -\tTraining Loss : 0.01520199179649353 \tValidation Loss : 0.006999027967453003\n"
          ]
        },
        {
          "name": "stderr",
          "output_type": "stream",
          "text": [
            " 40%|████      | 40/100 [08:56<13:37, 13.63s/it]"
          ]
        },
        {
          "name": "stdout",
          "output_type": "stream",
          "text": [
            "Training Accuracy = 51.184444444444445 \tValidation Accuracy = 51.78 \tTest Accuracy Top1 = 52.74 \tTest Accuracy Top5 = 82.14\n"
          ]
        },
        {
          "name": "stderr",
          "output_type": "stream",
          "text": [
            " 41%|████      | 41/100 [09:09<13:17, 13.52s/it]"
          ]
        },
        {
          "name": "stdout",
          "output_type": "stream",
          "text": [
            "Epoch 41 -\tTraining Loss : 0.01501187813282013 \tValidation Loss : 0.006988472056388855\n"
          ]
        },
        {
          "name": "stderr",
          "output_type": "stream",
          "text": [
            " 42%|████▏     | 42/100 [09:23<12:59, 13.44s/it]"
          ]
        },
        {
          "name": "stdout",
          "output_type": "stream",
          "text": [
            "Epoch 42 -\tTraining Loss : 0.014902978256013659 \tValidation Loss : 0.006972578310966491\n"
          ]
        },
        {
          "name": "stderr",
          "output_type": "stream",
          "text": [
            " 43%|████▎     | 43/100 [09:36<12:38, 13.30s/it]"
          ]
        },
        {
          "name": "stdout",
          "output_type": "stream",
          "text": [
            "Epoch 43 -\tTraining Loss : 0.014713514465755886 \tValidation Loss : 0.0073765385389328005\n"
          ]
        },
        {
          "name": "stderr",
          "output_type": "stream",
          "text": [
            " 44%|████▍     | 44/100 [09:49<12:25, 13.31s/it]"
          ]
        },
        {
          "name": "stdout",
          "output_type": "stream",
          "text": [
            "Epoch 44 -\tTraining Loss : 0.014441234707832337 \tValidation Loss : 0.006999240756034851\n",
            "Epoch 45 -\tTraining Loss : 0.014231185081270007 \tValidation Loss : 0.008320610952377318\n"
          ]
        },
        {
          "name": "stderr",
          "output_type": "stream",
          "text": [
            " 45%|████▌     | 45/100 [10:03<12:27, 13.59s/it]"
          ]
        },
        {
          "name": "stdout",
          "output_type": "stream",
          "text": [
            "Training Accuracy = 54.88444444444445 \tValidation Accuracy = 46.22 \tTest Accuracy Top1 = 47.23 \tTest Accuracy Top5 = 76.7\n"
          ]
        },
        {
          "name": "stderr",
          "output_type": "stream",
          "text": [
            " 46%|████▌     | 46/100 [10:16<12:08, 13.49s/it]"
          ]
        },
        {
          "name": "stdout",
          "output_type": "stream",
          "text": [
            "Epoch 46 -\tTraining Loss : 0.01409299307399326 \tValidation Loss : 0.006909477210044861\n"
          ]
        },
        {
          "name": "stderr",
          "output_type": "stream",
          "text": [
            " 47%|████▋     | 47/100 [10:30<11:49, 13.39s/it]"
          ]
        },
        {
          "name": "stdout",
          "output_type": "stream",
          "text": [
            "Epoch 47 -\tTraining Loss : 0.013922323830922444 \tValidation Loss : 0.0070499239444732666\n"
          ]
        },
        {
          "name": "stderr",
          "output_type": "stream",
          "text": [
            " 48%|████▊     | 48/100 [10:43<11:34, 13.36s/it]"
          ]
        },
        {
          "name": "stdout",
          "output_type": "stream",
          "text": [
            "Epoch 48 -\tTraining Loss : 0.013609950460327995 \tValidation Loss : 0.006879323124885559\n"
          ]
        },
        {
          "name": "stderr",
          "output_type": "stream",
          "text": [
            " 49%|████▉     | 49/100 [10:56<11:22, 13.39s/it]"
          ]
        },
        {
          "name": "stdout",
          "output_type": "stream",
          "text": [
            "Epoch 49 -\tTraining Loss : 0.013498903200361463 \tValidation Loss : 0.008386340951919556\n",
            "Epoch 50 -\tTraining Loss : 0.01322064847946167 \tValidation Loss : 0.006930053734779358\n"
          ]
        },
        {
          "name": "stderr",
          "output_type": "stream",
          "text": [
            " 50%|█████     | 50/100 [11:10<11:17, 13.56s/it]"
          ]
        },
        {
          "name": "stdout",
          "output_type": "stream",
          "text": [
            "Training Accuracy = 58.37555555555556 \tValidation Accuracy = 52.78 \tTest Accuracy Top1 = 54.25 \tTest Accuracy Top5 = 82.85\n"
          ]
        },
        {
          "name": "stderr",
          "output_type": "stream",
          "text": [
            " 51%|█████     | 51/100 [11:23<10:55, 13.37s/it]"
          ]
        },
        {
          "name": "stdout",
          "output_type": "stream",
          "text": [
            "Epoch 51 -\tTraining Loss : 0.013162382099363538 \tValidation Loss : 0.006951927495002746\n"
          ]
        },
        {
          "name": "stderr",
          "output_type": "stream",
          "text": [
            " 52%|█████▏    | 52/100 [11:36<10:35, 13.24s/it]"
          ]
        },
        {
          "name": "stdout",
          "output_type": "stream",
          "text": [
            "Epoch 52 -\tTraining Loss : 0.013070701514350044 \tValidation Loss : 0.006941203594207764\n"
          ]
        },
        {
          "name": "stderr",
          "output_type": "stream",
          "text": [
            " 53%|█████▎    | 53/100 [11:49<10:16, 13.12s/it]"
          ]
        },
        {
          "name": "stdout",
          "output_type": "stream",
          "text": [
            "Epoch 53 -\tTraining Loss : 0.01277491164472368 \tValidation Loss : 0.007001538109779358\n"
          ]
        },
        {
          "name": "stderr",
          "output_type": "stream",
          "text": [
            " 54%|█████▍    | 54/100 [12:02<10:01, 13.07s/it]"
          ]
        },
        {
          "name": "stdout",
          "output_type": "stream",
          "text": [
            "Epoch 54 -\tTraining Loss : 0.01267774526807997 \tValidation Loss : 0.006907664012908935\n",
            "Epoch 55 -\tTraining Loss : 0.012445479718844096 \tValidation Loss : 0.006894225573539734\n"
          ]
        },
        {
          "name": "stderr",
          "output_type": "stream",
          "text": [
            " 55%|█████▌    | 55/100 [12:16<09:57, 13.28s/it]"
          ]
        },
        {
          "name": "stdout",
          "output_type": "stream",
          "text": [
            "Training Accuracy = 61.37111111111111 \tValidation Accuracy = 53.78 \tTest Accuracy Top1 = 54.56 \tTest Accuracy Top5 = 82.97\n"
          ]
        },
        {
          "name": "stderr",
          "output_type": "stream",
          "text": [
            " 56%|█████▌    | 56/100 [12:29<09:39, 13.16s/it]"
          ]
        },
        {
          "name": "stdout",
          "output_type": "stream",
          "text": [
            "Epoch 56 -\tTraining Loss : 0.012297873944706387 \tValidation Loss : 0.006993128514289856\n"
          ]
        },
        {
          "name": "stderr",
          "output_type": "stream",
          "text": [
            " 57%|█████▋    | 57/100 [12:41<09:22, 13.08s/it]"
          ]
        },
        {
          "name": "stdout",
          "output_type": "stream",
          "text": [
            "Epoch 57 -\tTraining Loss : 0.01235356800556183 \tValidation Loss : 0.007049041509628296\n"
          ]
        },
        {
          "name": "stderr",
          "output_type": "stream",
          "text": [
            " 58%|█████▊    | 58/100 [12:54<09:07, 13.02s/it]"
          ]
        },
        {
          "name": "stdout",
          "output_type": "stream",
          "text": [
            "Epoch 58 -\tTraining Loss : 0.0120746667848693 \tValidation Loss : 0.007167835259437561\n"
          ]
        },
        {
          "name": "stderr",
          "output_type": "stream",
          "text": [
            " 59%|█████▉    | 59/100 [13:07<08:52, 12.99s/it]"
          ]
        },
        {
          "name": "stdout",
          "output_type": "stream",
          "text": [
            "Epoch 59 -\tTraining Loss : 0.011931005350748697 \tValidation Loss : 0.007166725301742553\n",
            "Epoch 60 -\tTraining Loss : 0.011847187023692661 \tValidation Loss : 0.007173425221443176\n"
          ]
        },
        {
          "name": "stderr",
          "output_type": "stream",
          "text": [
            " 60%|██████    | 60/100 [13:21<08:49, 13.24s/it]"
          ]
        },
        {
          "name": "stdout",
          "output_type": "stream",
          "text": [
            "Training Accuracy = 63.73777777777778 \tValidation Accuracy = 53.5 \tTest Accuracy Top1 = 54.39 \tTest Accuracy Top5 = 82.69\n"
          ]
        },
        {
          "name": "stderr",
          "output_type": "stream",
          "text": [
            " 61%|██████    | 61/100 [13:34<08:31, 13.13s/it]"
          ]
        },
        {
          "name": "stdout",
          "output_type": "stream",
          "text": [
            "Epoch 61 -\tTraining Loss : 0.011695093862215677 \tValidation Loss : 0.007025233006477356\n"
          ]
        },
        {
          "name": "stderr",
          "output_type": "stream",
          "text": [
            " 62%|██████▏   | 62/100 [13:47<08:16, 13.05s/it]"
          ]
        },
        {
          "name": "stdout",
          "output_type": "stream",
          "text": [
            "Epoch 62 -\tTraining Loss : 0.01163588191403283 \tValidation Loss : 0.007155204129219055\n"
          ]
        },
        {
          "name": "stderr",
          "output_type": "stream",
          "text": [
            " 63%|██████▎   | 63/100 [14:00<08:01, 13.01s/it]"
          ]
        },
        {
          "name": "stdout",
          "output_type": "stream",
          "text": [
            "Epoch 63 -\tTraining Loss : 0.011444520972834693 \tValidation Loss : 0.007130141496658325\n"
          ]
        },
        {
          "name": "stderr",
          "output_type": "stream",
          "text": [
            " 64%|██████▍   | 64/100 [14:13<07:49, 13.05s/it]"
          ]
        },
        {
          "name": "stdout",
          "output_type": "stream",
          "text": [
            "Epoch 64 -\tTraining Loss : 0.011366034826967452 \tValidation Loss : 0.007271007800102234\n",
            "Epoch 65 -\tTraining Loss : 0.011163232860300276 \tValidation Loss : 0.007203975081443786\n"
          ]
        },
        {
          "name": "stderr",
          "output_type": "stream",
          "text": [
            " 65%|██████▌   | 65/100 [14:27<07:47, 13.35s/it]"
          ]
        },
        {
          "name": "stdout",
          "output_type": "stream",
          "text": [
            "Training Accuracy = 66.32222222222222 \tValidation Accuracy = 54.24 \tTest Accuracy Top1 = 54.82 \tTest Accuracy Top5 = 82.57\n"
          ]
        },
        {
          "name": "stderr",
          "output_type": "stream",
          "text": [
            " 66%|██████▌   | 66/100 [14:40<07:28, 13.20s/it]"
          ]
        },
        {
          "name": "stdout",
          "output_type": "stream",
          "text": [
            "Epoch 66 -\tTraining Loss : 0.011162097826268938 \tValidation Loss : 0.007197683548927307\n"
          ]
        },
        {
          "name": "stderr",
          "output_type": "stream",
          "text": [
            " 67%|██████▋   | 67/100 [14:53<07:11, 13.08s/it]"
          ]
        },
        {
          "name": "stdout",
          "output_type": "stream",
          "text": [
            "Epoch 67 -\tTraining Loss : 0.011014016012350717 \tValidation Loss : 0.007212175297737122\n"
          ]
        },
        {
          "name": "stderr",
          "output_type": "stream",
          "text": [
            " 68%|██████▊   | 68/100 [15:05<06:56, 13.01s/it]"
          ]
        },
        {
          "name": "stdout",
          "output_type": "stream",
          "text": [
            "Epoch 68 -\tTraining Loss : 0.010992848983075884 \tValidation Loss : 0.007267298150062561\n"
          ]
        },
        {
          "name": "stderr",
          "output_type": "stream",
          "text": [
            " 69%|██████▉   | 69/100 [15:18<06:41, 12.95s/it]"
          ]
        },
        {
          "name": "stdout",
          "output_type": "stream",
          "text": [
            "Epoch 69 -\tTraining Loss : 0.010841674770249261 \tValidation Loss : 0.007361808466911316\n",
            "Epoch 70 -\tTraining Loss : 0.010723962977197436 \tValidation Loss : 0.007350821805000306\n"
          ]
        },
        {
          "name": "stderr",
          "output_type": "stream",
          "text": [
            " 70%|███████   | 70/100 [15:32<06:34, 13.16s/it]"
          ]
        },
        {
          "name": "stdout",
          "output_type": "stream",
          "text": [
            "Training Accuracy = 68.16 \tValidation Accuracy = 54.18 \tTest Accuracy Top1 = 54.71 \tTest Accuracy Top5 = 82.64\n"
          ]
        },
        {
          "name": "stderr",
          "output_type": "stream",
          "text": [
            " 71%|███████   | 71/100 [15:45<06:17, 13.03s/it]"
          ]
        },
        {
          "name": "stdout",
          "output_type": "stream",
          "text": [
            "Epoch 71 -\tTraining Loss : 0.010773843563927545 \tValidation Loss : 0.0073315144777297975\n"
          ]
        },
        {
          "name": "stderr",
          "output_type": "stream",
          "text": [
            " 72%|███████▏  | 72/100 [15:58<06:03, 12.98s/it]"
          ]
        },
        {
          "name": "stdout",
          "output_type": "stream",
          "text": [
            "Epoch 72 -\tTraining Loss : 0.010633809906906553 \tValidation Loss : 0.007637463259696961\n"
          ]
        },
        {
          "name": "stderr",
          "output_type": "stream",
          "text": [
            " 73%|███████▎  | 73/100 [16:10<05:48, 12.90s/it]"
          ]
        },
        {
          "name": "stdout",
          "output_type": "stream",
          "text": [
            "Epoch 73 -\tTraining Loss : 0.010618254392676883 \tValidation Loss : 0.00735921528339386\n"
          ]
        },
        {
          "name": "stderr",
          "output_type": "stream",
          "text": [
            " 74%|███████▍  | 74/100 [16:23<05:34, 12.87s/it]"
          ]
        },
        {
          "name": "stdout",
          "output_type": "stream",
          "text": [
            "Epoch 74 -\tTraining Loss : 0.010506185229619344 \tValidation Loss : 0.007366307640075683\n",
            "Epoch 75 -\tTraining Loss : 0.010701822805404663 \tValidation Loss : 0.007458729791641235\n"
          ]
        },
        {
          "name": "stderr",
          "output_type": "stream",
          "text": [
            " 75%|███████▌  | 75/100 [16:37<05:28, 13.15s/it]"
          ]
        },
        {
          "name": "stdout",
          "output_type": "stream",
          "text": [
            "Training Accuracy = 68.7311111111111 \tValidation Accuracy = 54.26 \tTest Accuracy Top1 = 54.64 \tTest Accuracy Top5 = 82.44\n"
          ]
        },
        {
          "name": "stderr",
          "output_type": "stream",
          "text": [
            " 76%|███████▌  | 76/100 [16:50<05:13, 13.06s/it]"
          ]
        },
        {
          "name": "stdout",
          "output_type": "stream",
          "text": [
            "Epoch 76 -\tTraining Loss : 0.010566382025347815 \tValidation Loss : 0.007446646404266358\n"
          ]
        },
        {
          "name": "stderr",
          "output_type": "stream",
          "text": [
            " 77%|███████▋  | 77/100 [17:02<04:58, 12.98s/it]"
          ]
        },
        {
          "name": "stdout",
          "output_type": "stream",
          "text": [
            "Epoch 77 -\tTraining Loss : 0.010440773420863681 \tValidation Loss : 0.007414135909080505\n"
          ]
        },
        {
          "name": "stderr",
          "output_type": "stream",
          "text": [
            " 78%|███████▊  | 78/100 [17:15<04:44, 12.94s/it]"
          ]
        },
        {
          "name": "stdout",
          "output_type": "stream",
          "text": [
            "Epoch 78 -\tTraining Loss : 0.010341264096895854 \tValidation Loss : 0.007427688384056092\n"
          ]
        },
        {
          "name": "stderr",
          "output_type": "stream",
          "text": [
            " 79%|███████▉  | 79/100 [17:28<04:30, 12.90s/it]"
          ]
        },
        {
          "name": "stdout",
          "output_type": "stream",
          "text": [
            "Epoch 79 -\tTraining Loss : 0.0103042193836636 \tValidation Loss : 0.007433327198028564\n",
            "Epoch 80 -\tTraining Loss : 0.010346714025073582 \tValidation Loss : 0.007493189787864685\n"
          ]
        },
        {
          "name": "stderr",
          "output_type": "stream",
          "text": [
            " 80%|████████  | 80/100 [17:42<04:24, 13.24s/it]"
          ]
        },
        {
          "name": "stdout",
          "output_type": "stream",
          "text": [
            "Training Accuracy = 70.0911111111111 \tValidation Accuracy = 54.0 \tTest Accuracy Top1 = 54.87 \tTest Accuracy Top5 = 83.01\n"
          ]
        },
        {
          "name": "stderr",
          "output_type": "stream",
          "text": [
            " 81%|████████  | 81/100 [17:55<04:09, 13.14s/it]"
          ]
        },
        {
          "name": "stdout",
          "output_type": "stream",
          "text": [
            "Epoch 81 -\tTraining Loss : 0.010416268666585286 \tValidation Loss : 0.007509195971488952\n"
          ]
        },
        {
          "name": "stderr",
          "output_type": "stream",
          "text": [
            " 82%|████████▏ | 82/100 [18:08<03:54, 13.05s/it]"
          ]
        },
        {
          "name": "stdout",
          "output_type": "stream",
          "text": [
            "Epoch 82 -\tTraining Loss : 0.010318099068270789 \tValidation Loss : 0.007535606217384338\n"
          ]
        },
        {
          "name": "stderr",
          "output_type": "stream",
          "text": [
            " 83%|████████▎ | 83/100 [18:21<03:40, 12.97s/it]"
          ]
        },
        {
          "name": "stdout",
          "output_type": "stream",
          "text": [
            "Epoch 83 -\tTraining Loss : 0.010255528779824575 \tValidation Loss : 0.007518382668495178\n"
          ]
        },
        {
          "name": "stderr",
          "output_type": "stream",
          "text": [
            " 84%|████████▍ | 84/100 [18:34<03:27, 12.95s/it]"
          ]
        },
        {
          "name": "stdout",
          "output_type": "stream",
          "text": [
            "Epoch 84 -\tTraining Loss : 0.010161614025963677 \tValidation Loss : 0.007510072922706604\n",
            "Epoch 85 -\tTraining Loss : 0.010249138797654047 \tValidation Loss : 0.007563038516044617\n"
          ]
        },
        {
          "name": "stderr",
          "output_type": "stream",
          "text": [
            " 85%|████████▌ | 85/100 [18:48<03:18, 13.26s/it]"
          ]
        },
        {
          "name": "stdout",
          "output_type": "stream",
          "text": [
            "Training Accuracy = 70.52666666666667 \tValidation Accuracy = 54.24 \tTest Accuracy Top1 = 54.99 \tTest Accuracy Top5 = 82.79\n"
          ]
        },
        {
          "name": "stderr",
          "output_type": "stream",
          "text": [
            " 86%|████████▌ | 86/100 [19:01<03:04, 13.20s/it]"
          ]
        },
        {
          "name": "stdout",
          "output_type": "stream",
          "text": [
            "Epoch 86 -\tTraining Loss : 0.010165712704923419 \tValidation Loss : 0.0075380050659179685\n"
          ]
        },
        {
          "name": "stderr",
          "output_type": "stream",
          "text": [
            " 87%|████████▋ | 87/100 [19:14<02:51, 13.19s/it]"
          ]
        },
        {
          "name": "stdout",
          "output_type": "stream",
          "text": [
            "Epoch 87 -\tTraining Loss : 0.010129115666283502 \tValidation Loss : 0.0075205978631973265\n"
          ]
        },
        {
          "name": "stderr",
          "output_type": "stream",
          "text": [
            " 88%|████████▊ | 88/100 [19:27<02:37, 13.14s/it]"
          ]
        },
        {
          "name": "stdout",
          "output_type": "stream",
          "text": [
            "Epoch 88 -\tTraining Loss : 0.01014977145459917 \tValidation Loss : 0.0075507691144943235\n"
          ]
        },
        {
          "name": "stderr",
          "output_type": "stream",
          "text": [
            " 89%|████████▉ | 89/100 [19:40<02:23, 13.09s/it]"
          ]
        },
        {
          "name": "stdout",
          "output_type": "stream",
          "text": [
            "Epoch 89 -\tTraining Loss : 0.010245135672887167 \tValidation Loss : 0.007543574619293213\n",
            "Epoch 90 -\tTraining Loss : 0.01013099827501509 \tValidation Loss : 0.007542495942115784\n"
          ]
        },
        {
          "name": "stderr",
          "output_type": "stream",
          "text": [
            " 90%|█████████ | 90/100 [19:54<02:13, 13.40s/it]"
          ]
        },
        {
          "name": "stdout",
          "output_type": "stream",
          "text": [
            "Training Accuracy = 70.94 \tValidation Accuracy = 54.24 \tTest Accuracy Top1 = 55.12 \tTest Accuracy Top5 = 82.84\n"
          ]
        },
        {
          "name": "stderr",
          "output_type": "stream",
          "text": [
            " 91%|█████████ | 91/100 [20:07<01:59, 13.25s/it]"
          ]
        },
        {
          "name": "stdout",
          "output_type": "stream",
          "text": [
            "Epoch 91 -\tTraining Loss : 0.010080195926295386 \tValidation Loss : 0.007543770241737365\n"
          ]
        },
        {
          "name": "stderr",
          "output_type": "stream",
          "text": [
            " 92%|█████████▏| 92/100 [20:20<01:46, 13.25s/it]"
          ]
        },
        {
          "name": "stdout",
          "output_type": "stream",
          "text": [
            "Epoch 92 -\tTraining Loss : 0.010126126935746934 \tValidation Loss : 0.007555393290519715\n"
          ]
        },
        {
          "name": "stderr",
          "output_type": "stream",
          "text": [
            " 93%|█████████▎| 93/100 [20:33<01:32, 13.17s/it]"
          ]
        },
        {
          "name": "stdout",
          "output_type": "stream",
          "text": [
            "Epoch 93 -\tTraining Loss : 0.01008290189107259 \tValidation Loss : 0.007543726181983948\n"
          ]
        },
        {
          "name": "stderr",
          "output_type": "stream",
          "text": [
            " 94%|█████████▍| 94/100 [20:46<01:18, 13.16s/it]"
          ]
        },
        {
          "name": "stdout",
          "output_type": "stream",
          "text": [
            "Epoch 94 -\tTraining Loss : 0.010126781780189938 \tValidation Loss : 0.007569151949882507\n",
            "Epoch 95 -\tTraining Loss : 0.009991200764973958 \tValidation Loss : 0.007549461507797241\n"
          ]
        },
        {
          "name": "stderr",
          "output_type": "stream",
          "text": [
            " 95%|█████████▌| 95/100 [21:01<01:07, 13.54s/it]"
          ]
        },
        {
          "name": "stdout",
          "output_type": "stream",
          "text": [
            "Training Accuracy = 71.63111111111111 \tValidation Accuracy = 54.46 \tTest Accuracy Top1 = 55.41 \tTest Accuracy Top5 = 83.01\n"
          ]
        },
        {
          "name": "stderr",
          "output_type": "stream",
          "text": [
            " 96%|█████████▌| 96/100 [21:14<00:53, 13.47s/it]"
          ]
        },
        {
          "name": "stdout",
          "output_type": "stream",
          "text": [
            "Epoch 96 -\tTraining Loss : 0.010059666971365611 \tValidation Loss : 0.007551802468299866\n"
          ]
        },
        {
          "name": "stderr",
          "output_type": "stream",
          "text": [
            " 97%|█████████▋| 97/100 [21:27<00:40, 13.47s/it]"
          ]
        },
        {
          "name": "stdout",
          "output_type": "stream",
          "text": [
            "Epoch 97 -\tTraining Loss : 0.010088985448413424 \tValidation Loss : 0.007534152317047119\n"
          ]
        },
        {
          "name": "stderr",
          "output_type": "stream",
          "text": [
            " 98%|█████████▊| 98/100 [21:41<00:26, 13.46s/it]"
          ]
        },
        {
          "name": "stdout",
          "output_type": "stream",
          "text": [
            "Epoch 98 -\tTraining Loss : 0.010187597419155968 \tValidation Loss : 0.007547552323341369\n"
          ]
        },
        {
          "name": "stderr",
          "output_type": "stream",
          "text": [
            " 99%|█████████▉| 99/100 [21:54<00:13, 13.38s/it]"
          ]
        },
        {
          "name": "stdout",
          "output_type": "stream",
          "text": [
            "Epoch 99 -\tTraining Loss : 0.010189709436893462 \tValidation Loss : 0.007560835599899292\n",
            "Epoch 100 -\tTraining Loss : 0.010056406491332584 \tValidation Loss : 0.007530298590660095\n"
          ]
        },
        {
          "name": "stderr",
          "output_type": "stream",
          "text": [
            "100%|██████████| 100/100 [22:08<00:00, 13.29s/it]"
          ]
        },
        {
          "name": "stdout",
          "output_type": "stream",
          "text": [
            "Training Accuracy = 71.30444444444444 \tValidation Accuracy = 54.64 \tTest Accuracy Top1 = 55.32 \tTest Accuracy Top5 = 82.95\n"
          ]
        },
        {
          "name": "stderr",
          "output_type": "stream",
          "text": [
            "\n"
          ]
        }
      ],
      "source": [
        "train_loader = DataLoader(train_set, batch_size=128, shuffle=True)\n",
        "validation_loader = DataLoader(validation_set, batch_size=256, shuffle=False)\n",
        "test_loader = DataLoader(test_set, batch_size=256, shuffle=False)\n",
        "\n",
        "optimizer = torch.optim.SGD\n",
        "scheduler = torch.optim.lr_scheduler.CosineAnnealingLR\n",
        "loss_fn = F.cross_entropy\n",
        "\n",
        "history3 = train(model3, optimizer, scheduler, loss_fn, train_loader, validation_loader, test_loader, learning_rate=0.01, num_epochs=100)"
      ]
    },
    {
      "cell_type": "code",
      "execution_count": 39,
      "metadata": {},
      "outputs": [
        {
          "data": {
            "image/png": "[encoded data removed]",
            "text/plain": [
              "<Figure size 640x480 with 1 Axes>"
            ]
          },
          "metadata": {},
          "output_type": "display_data"
        }
      ],
      "source": [
        "plot_loss(history3['train_loss'], history3['val_loss'])"
      ]
    },
    {
      "cell_type": "code",
      "execution_count": 40,
      "metadata": {},
      "outputs": [
        {
          "data": {
            "image/png": "[encoded data removed]",
            "text/plain": [
              "<Figure size 640x480 with 1 Axes>"
            ]
          },
          "metadata": {},
          "output_type": "display_data"
        }
      ],
      "source": [
        "plot_acc(history3['train_acc'], history3['val_acc'])"
      ]
    },
    {
      "cell_type": "code",
      "execution_count": 41,
      "metadata": {},
      "outputs": [
        {
          "data": {
            "image/png": "[encoded data removed]",
            "text/plain": [
              "<Figure size 640x480 with 1 Axes>"
            ]
          },
          "metadata": {},
          "output_type": "display_data"
        }
      ],
      "source": [
        "plot_test(history3['test_acc1'], history3['test_acc5'])"
      ]
    },
    {
      "cell_type": "code",
      "execution_count": 42,
      "metadata": {},
      "outputs": [
        {
          "name": "stdout",
          "output_type": "stream",
          "text": [
            "Average time per epoch for Wide_LAAResNet = 12.614249691963195\n"
          ]
        }
      ],
      "source": [
        "time_taken3 = np.array(history3['time'])\n",
        "print(\"Average time per epoch for Wide_LAAResNet =\", np.mean(time_taken3))"
      ]
    },
    {
      "cell_type": "code",
      "execution_count": 43,
      "metadata": {},
      "outputs": [],
      "source": [
        "with open('wide_laaresnet_history_cifar', 'wb') as f:\n",
        "  pickle.dump(history3, f)"
      ]
    },
    {
      "cell_type": "code",
      "execution_count": null,
      "metadata": {},
      "outputs": [],
      "source": []
    }
  ],
  "metadata": {
    "accelerator": "GPU",
    "colab": {
      "provenance": []
    },
    "kernelspec": {
      "display_name": "Python 3",
      "name": "python3"
    },
    "language_info": {
      "codemirror_mode": {
        "name": "ipython",
        "version": 3
      },
      "file_extension": ".py",
      "mimetype": "text/x-python",
      "name": "python",
      "nbconvert_exporter": "python",
      "pygments_lexer": "ipython3",
      "version": "3.8.10"
    }
  },
  "nbformat": 4,
  "nbformat_minor": 0
}
