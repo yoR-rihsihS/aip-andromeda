{
  "cells": [
    {
      "cell_type": "markdown",
      "metadata": {
        "id": "QU5mfO1H_2sj"
      },
      "source": [
        "# Importing Required Libraries"
      ]
    },
    {
      "cell_type": "code",
      "execution_count": 1,
      "metadata": {
        "id": "PGtWScDeACLI"
      },
      "outputs": [
        {
          "name": "stderr",
          "output_type": "stream",
          "text": [
            "/data/home1/shishirm/.local/lib/python3.8/site-packages/tqdm/auto.py:21: TqdmWarning: IProgress not found. Please update jupyter and ipywidgets. See https://ipywidgets.readthedocs.io/en/stable/user_install.html\n",
            "  from .autonotebook import tqdm as notebook_tqdm\n"
          ]
        }
      ],
      "source": [
        "import os\n",
        "import time\n",
        "import pickle\n",
        "import random\n",
        "import numpy as np\n",
        "from tqdm import tqdm\n",
        "from datasets import load_dataset\n",
        "\n",
        "import torch\n",
        "import torch.nn as nn\n",
        "import torch.nn.functional as F\n",
        "\n",
        "from matplotlib import pyplot\n",
        "from torchsummary import summary\n",
        "from torch.utils.data import Dataset, DataLoader, random_split\n",
        "from torchvision.transforms.functional import pil_to_tensor, to_pil_image"
      ]
    },
    {
      "cell_type": "markdown",
      "metadata": {
        "id": "jf6kPoQvUWUK"
      },
      "source": [
        "# Makeing Results Reproducible"
      ]
    },
    {
      "cell_type": "code",
      "execution_count": 2,
      "metadata": {
        "id": "btkbbBJ7lPLZ"
      },
      "outputs": [],
      "source": [
        "random_seed = 42\n",
        "torch.manual_seed(random_seed)\n",
        "np.random.seed(random_seed)"
      ]
    },
    {
      "cell_type": "code",
      "execution_count": 3,
      "metadata": {},
      "outputs": [],
      "source": [
        "device = 'cuda'\n",
        "# device = 'cpu'"
      ]
    },
    {
      "cell_type": "markdown",
      "metadata": {
        "id": "T4iomoFzCh1N"
      },
      "source": [
        "# Reading The Dataset\n"
      ]
    },
    {
      "cell_type": "code",
      "execution_count": 4,
      "metadata": {},
      "outputs": [],
      "source": [
        "directory = './tiny-imagenet/data'\n",
        "if not os.path.exists(directory):\n",
        "    os.makedirs(directory)\n",
        "    !wget https://huggingface.co/datasets/zh-plus/tiny-imagenet/resolve/main/data/train-00000-of-00001-1359597a978bc4fa.parquet?download=true -O ./tiny-imagenet/data/train-00000-of-00001-1359597a978bc4fa.parquet\n",
        "    !wget https://huggingface.co/datasets/zh-plus/tiny-imagenet/resolve/main/data/valid-00000-of-00001-70d52db3c749a935.parquet?download=true -O ./tiny-imagenet/data/valid-00000-of-00001-70d52db3c749a935.parquet\n",
        "    !wget https://huggingface.co/datasets/zh-plus/tiny-imagenet/resolve/main/classes.py?download=true -O ./tiny-imagenet/classes.py\n",
        "    !wget https://huggingface.co/datasets/zh-plus/tiny-imagenet/resolve/main/dataset_infos.json?download=true -O ./tiny-imagenet/dataset_infos.json"
      ]
    },
    {
      "cell_type": "code",
      "execution_count": 4,
      "metadata": {},
      "outputs": [],
      "source": [
        "data = load_dataset('./tiny-imagenet', split='train')\n",
        "test = load_dataset('./tiny-imagenet', split='valid')"
      ]
    },
    {
      "cell_type": "code",
      "execution_count": 5,
      "metadata": {},
      "outputs": [
        {
          "name": "stdout",
          "output_type": "stream",
          "text": [
            "Dataset({\n",
            "    features: ['image', 'label'],\n",
            "    num_rows: 100000\n",
            "})\n",
            "Dataset({\n",
            "    features: ['image', 'label'],\n",
            "    num_rows: 10000\n",
            "})\n"
          ]
        }
      ],
      "source": [
        "print(data)\n",
        "print(test)"
      ]
    },
    {
      "cell_type": "code",
      "execution_count": 5,
      "metadata": {},
      "outputs": [],
      "source": [
        "def get_tensor_data(data):\n",
        "    tensor_images_list = [pil_to_tensor(img).to(torch.float32) for img in data[\"image\"]]\n",
        "    tensor_labels = data[\"label\"]\n",
        "    remove_indices = []\n",
        "\n",
        "    for i in range(len(tensor_images_list)):\n",
        "        if tensor_images_list[i].shape != (3, 64, 64):\n",
        "            remove_indices.append(i)\n",
        "\n",
        "    for i in range(len(remove_indices) - 1, -1, -1):\n",
        "        tensor_images_list.pop(remove_indices[i])\n",
        "        tensor_labels.pop(remove_indices[i])\n",
        "\n",
        "    print(\"No of images =\", len(tensor_images_list))\n",
        "    print(\"No of labels =\", len(tensor_labels))\n",
        "    print(\"No of removed images =\", len(remove_indices))\n",
        "\n",
        "    return torch.stack(tensor_images_list, dim=0) / 255, torch.tensor(tensor_labels)"
      ]
    },
    {
      "cell_type": "code",
      "execution_count": 6,
      "metadata": {},
      "outputs": [
        {
          "name": "stdout",
          "output_type": "stream",
          "text": [
            "No of images = 98179\n",
            "No of labels = 98179\n",
            "No of removed images = 1821\n",
            "No of images = 9832\n",
            "No of labels = 9832\n",
            "No of removed images = 168\n"
          ]
        }
      ],
      "source": [
        "data_images, data_labels = get_tensor_data(data)\n",
        "test_images, test_labels = get_tensor_data(test)\n",
        "\n",
        "# There are some greyscale images in the dataset, so we removed them for consistency"
      ]
    },
    {
      "cell_type": "markdown",
      "metadata": {
        "id": "yEp3Mi2fDXym"
      },
      "source": [
        "# Showing Examples From Datasets For Sanity Checking"
      ]
    },
    {
      "cell_type": "code",
      "execution_count": 8,
      "metadata": {
        "id": "JEoHi4ieDgih"
      },
      "outputs": [],
      "source": [
        "def show_example(image, label):\n",
        "  print(\"Label :\", label.item())\n",
        "  pyplot.imshow(to_pil_image(image))"
      ]
    },
    {
      "cell_type": "code",
      "execution_count": 9,
      "metadata": {
        "colab": {
          "base_uri": "https://localhost:8080/",
          "height": 465
        },
        "id": "jSjhGWo2p6lk",
        "outputId": "532cde98-74e5-4429-8528-5754f3fe52f5"
      },
      "outputs": [
        {
          "name": "stdout",
          "output_type": "stream",
          "text": [
            "index = 51621\n",
            "Label : 104\n"
          ]
        },
        {
          "data": {
            "image/png": "[encoded data removed]",
            "text/plain": [
              "<Figure size 640x480 with 1 Axes>"
            ]
          },
          "metadata": {},
          "output_type": "display_data"
        }
      ],
      "source": [
        "index = random.randint(0, 98179)\n",
        "print(\"index =\", index)\n",
        "show_example(data_images[index], data_labels[index])"
      ]
    },
    {
      "cell_type": "code",
      "execution_count": 10,
      "metadata": {
        "colab": {
          "base_uri": "https://localhost:8080/",
          "height": 465
        },
        "id": "ufYnogD8p6v7",
        "outputId": "36f9b2b9-6e9e-4fb0-a05c-7b10c1211ff8"
      },
      "outputs": [
        {
          "name": "stdout",
          "output_type": "stream",
          "text": [
            "index = 2831\n",
            "Label : 57\n"
          ]
        },
        {
          "data": {
            "image/png": "[encoded data removed]",
            "text/plain": [
              "<Figure size 640x480 with 1 Axes>"
            ]
          },
          "metadata": {},
          "output_type": "display_data"
        }
      ],
      "source": [
        "index = random.randint(0, 9832)\n",
        "print(\"index =\", index)\n",
        "show_example(test_images[index], test_labels[index])"
      ]
    },
    {
      "cell_type": "markdown",
      "metadata": {
        "id": "cEEfXXHUHe7h"
      },
      "source": [
        "# Loading The Datset For Training Model"
      ]
    },
    {
      "cell_type": "code",
      "execution_count": 7,
      "metadata": {
        "id": "4iFmbX9hutJO"
      },
      "outputs": [],
      "source": [
        "train_examples = 90000\n",
        "validation_examples = 8179\n",
        "\n",
        "class CustomDataset(Dataset):\n",
        "    def __init__(self, images, labels):\n",
        "        self.X = images\n",
        "        self.Y = labels\n",
        "\n",
        "    def __len__(self):\n",
        "        return self.X.shape[0]\n",
        "\n",
        "    def __getitem__(self, index):\n",
        "        return (self.X[index], self.Y[index])\n",
        "\n",
        "\n",
        "dataset = CustomDataset(data_images, data_labels)\n",
        "train_set, validation_set = random_split(dataset, [train_examples, validation_examples])\n",
        "test_set = CustomDataset(test_images, test_labels)"
      ]
    },
    {
      "cell_type": "markdown",
      "metadata": {
        "id": "JKkr8K7ymYhn"
      },
      "source": [
        "# Defining The Model"
      ]
    },
    {
      "cell_type": "code",
      "execution_count": 13,
      "metadata": {
        "id": "tx7gjQ6nhZdN"
      },
      "outputs": [],
      "source": [
        "class Wide_ResNet(nn.Module):\n",
        "    def __init__(self, width = 4, dropout = 0.33, num_classes=100):\n",
        "        super().__init__()\n",
        "\n",
        "        self.block0 = nn.Sequential(\n",
        "            nn.Conv2d(3, 16, kernel_size=3, padding=1, stride=1),\n",
        "            nn.BatchNorm2d(16),\n",
        "            nn.ReLU(),\n",
        "        )\n",
        "\n",
        "        self.block11 = nn.Sequential(\n",
        "            nn.Conv2d(16, 16*width, kernel_size=3, padding=1, stride=2),\n",
        "            nn.BatchNorm2d(16*width),\n",
        "            nn.ReLU(),\n",
        "            nn.Dropout2d(dropout),\n",
        "            nn.Conv2d(16*width, 16*width, kernel_size=3, padding=1, stride=1),\n",
        "        )\n",
        "        self.shortcut1 = nn.Conv2d(16, 16*width, kernel_size=1, stride=2)\n",
        "        self.block12 = nn.Sequential(\n",
        "            nn.BatchNorm2d(16*width),\n",
        "            nn.ReLU(),\n",
        "            nn.Conv2d(16*width, 16*width, kernel_size=3, padding=1, stride=1),\n",
        "            nn.BatchNorm2d(16*width),\n",
        "            nn.ReLU(),\n",
        "            nn.Dropout2d(dropout),\n",
        "            nn.Conv2d(16*width, 16*width, kernel_size=3, padding=1, stride=1),\n",
        "        )\n",
        "\n",
        "\n",
        "        self.pre_block2 = nn.Sequential(\n",
        "            nn.BatchNorm2d(16*width),\n",
        "            nn.ReLU(),\n",
        "        )\n",
        "        self.block21 = nn.Sequential(\n",
        "            nn.Conv2d(16*width, 32*width, kernel_size=3, padding=1, stride=2),\n",
        "            nn.BatchNorm2d(32*width),\n",
        "            nn.ReLU(),\n",
        "            nn.Dropout2d(dropout),\n",
        "            nn.Conv2d(32*width, 32*width, kernel_size=3, padding=1, stride=1),\n",
        "        )\n",
        "        self.shortcut2 = nn.Conv2d(16*width, 32*width, kernel_size=1, stride=2)\n",
        "        self.block22 = nn.Sequential(\n",
        "            nn.BatchNorm2d(32*width),\n",
        "            nn.ReLU(),\n",
        "            nn.Conv2d(32*width, 32*width, kernel_size=3, padding=1, stride=1),\n",
        "            nn.BatchNorm2d(32*width),\n",
        "            nn.ReLU(),\n",
        "            nn.Dropout2d(dropout),\n",
        "            nn.Conv2d(32*width, 32*width, kernel_size=3, padding=1, stride=1),\n",
        "        )\n",
        "\n",
        "        self.pre_block3 = nn.Sequential(\n",
        "            nn.BatchNorm2d(32*width),\n",
        "            nn.ReLU(),\n",
        "        )\n",
        "        self.block31 = nn.Sequential(\n",
        "            nn.Conv2d(32*width, 64*width, kernel_size=3, padding=1, stride=2),\n",
        "            nn.BatchNorm2d(64*width),\n",
        "            nn.ReLU(),\n",
        "            nn.Dropout2d(dropout),\n",
        "            nn.Conv2d(64*width, 64*width, kernel_size=3, padding=1, stride=1),\n",
        "        )\n",
        "        self.shortcut3 = nn.Conv2d(32*width, 64*width, kernel_size=1, stride=2)\n",
        "        self.block32 = nn.Sequential(\n",
        "            nn.BatchNorm2d(64*width),\n",
        "            nn.ReLU(),\n",
        "            nn.Conv2d(64*width, 64*width, kernel_size=3, padding=1, stride=1),\n",
        "            nn.BatchNorm2d(64*width),\n",
        "            nn.ReLU(),\n",
        "            nn.Dropout2d(dropout),\n",
        "            nn.Conv2d(64*width, 64*width, kernel_size=3, padding=1, stride=1),\n",
        "        )\n",
        "\n",
        "        self.pool_block = nn.Sequential(\n",
        "            nn.BatchNorm2d(64*width),\n",
        "            nn.ReLU(),\n",
        "            nn.AvgPool2d(8, 8), # Depending on Dataset this should change\n",
        "        )\n",
        "\n",
        "        self.fc = nn.Sequential(\n",
        "            nn.Linear(64*width, 64*width),\n",
        "            nn.ReLU(),\n",
        "            nn.Dropout1d(dropout/2),\n",
        "            nn.Linear(64*width, num_classes)\n",
        "        )\n",
        "\n",
        "    def forward(self, x):\n",
        "        # x.shape = B x 3 x 64 x 64\n",
        "\n",
        "        x = self.block0(x)\n",
        "        # x.shape = B x 16 x 64 x 64\n",
        "\n",
        "        x1 = self.block11(x)\n",
        "        x2 = self.shortcut1(x)\n",
        "        x3 = x1 + x2\n",
        "        x4 = self.block12(x3)\n",
        "        x = x3 + x4\n",
        "        # x.shape = B x 16*width x 32 x 32\n",
        "\n",
        "        x = self.pre_block2(x)\n",
        "        x1 = self.block21(x)\n",
        "        x2 = self.shortcut2(x)\n",
        "        x3 = x1 + x2\n",
        "        x4 = self.block22(x3)\n",
        "        x = x3 + x4\n",
        "        # x.shape = B x 32*width x 16 x 16\n",
        "\n",
        "        x = self.pre_block3(x)\n",
        "        x1 = self.block31(x)\n",
        "        x2 = self.shortcut3(x)\n",
        "        x3 = x1 + x2\n",
        "        x4 = self.block32(x3)\n",
        "        x = x3 + x4\n",
        "        # x.shape = B x 64*width x 8 x 8\n",
        "\n",
        "        x = self.pool_block(x)\n",
        "        # x.shape = B x 64*width x 1 x 1\n",
        "\n",
        "        x = torch.flatten(x, start_dim=1)\n",
        "        # flatten all dimensions except batch (0th dim)\n",
        "        # x.shape = B x 64*width\n",
        "\n",
        "        x = self.fc(x)\n",
        "        # x.shape = B x num_classes\n",
        "\n",
        "        return x\n"
      ]
    },
    {
      "cell_type": "markdown",
      "metadata": {
        "id": "8kWoQnKzwEvQ"
      },
      "source": [
        "# Helper Functions To Train And Test The Model"
      ]
    },
    {
      "cell_type": "code",
      "execution_count": 8,
      "metadata": {},
      "outputs": [],
      "source": [
        "def validate(model, validation_loader, loss_fn):\n",
        "  validation_loss = 0.0\n",
        "  validation_correct = 0\n",
        "  model.eval()\n",
        "  with torch.no_grad(): \n",
        "    for j, (x_val, y_val) in enumerate(validation_loader):\n",
        "      x_val = x_val.to(device)\n",
        "      y_val = y_val.to(device)\n",
        "\n",
        "      y_pred = model(x_val)\n",
        "      loss = loss_fn(y_pred, y_val)\n",
        "\n",
        "      predicted = torch.argmax(y_pred.data, dim=1)\n",
        "      validation_correct += (predicted == y_val).sum().item()\n",
        "      validation_loss += loss.item()\n",
        "\n",
        "  return validation_loss, validation_correct"
      ]
    },
    {
      "cell_type": "code",
      "execution_count": 9,
      "metadata": {},
      "outputs": [],
      "source": [
        "def test(model, test_loader):\n",
        "  top1_correct = 0\n",
        "  top5_correct = 0\n",
        "  model.eval()\n",
        "  with torch.no_grad(): \n",
        "    for j, (x_val, y_val) in enumerate(test_loader):\n",
        "      x_val = x_val.to(device)\n",
        "      y_val = y_val.to(device)\n",
        "\n",
        "      y_pred = model(x_val)\n",
        "\n",
        "      predicted = torch.argmax(y_pred.data, dim=1)\n",
        "      top1_correct += (predicted == y_val).sum().item()\n",
        "\n",
        "      val, ind = torch.topk(y_pred.data, 5, dim=1, largest=True, sorted=True)\n",
        "      for i in range(5):\n",
        "        top5_correct += (ind[ :, i] == y_val).sum().item()\n",
        "\n",
        "  return top1_correct / 100, top5_correct / 100"
      ]
    },
    {
      "cell_type": "code",
      "execution_count": 10,
      "metadata": {
        "id": "pacEFSU7TLm7"
      },
      "outputs": [],
      "source": [
        "def train(model, optimizer, scheduler, loss_fn, train_loader, validation_loader, test_loader, learning_rate, num_epochs):\n",
        "  history = {'train_loss' : [], 'val_loss' : [], 'train_acc' : [], 'val_acc' : [], 'test_acc1' : [], 'test_acc5' : [], 'time' : []}\n",
        "  optimizer = optimizer(model.parameters(), learning_rate, momentum=0.9, nesterov=True)\n",
        "  scheduler = scheduler(optimizer, T_max=len(train_loader)*num_epochs)\n",
        "\n",
        "  for epoch in tqdm(range(num_epochs)):\n",
        "    model.train()\n",
        "    train_loss = 0.0\n",
        "    train_correct = 0\n",
        "    start = time.time()\n",
        "    for i, (x_batch, y_batch) in enumerate(train_loader):\n",
        "      x_batch = x_batch.to(device)\n",
        "      y_batch = y_batch.to(device)\n",
        "    \n",
        "      y_pred = model(x_batch)\n",
        "      loss = loss_fn(y_pred, y_batch)\n",
        "\n",
        "      optimizer.zero_grad()\n",
        "      loss.backward()\n",
        "      optimizer.step()\n",
        "      scheduler.step()\n",
        "\n",
        "      predicted = torch.argmax(y_pred.data, dim=1)\n",
        "      train_correct += (predicted == y_batch).sum().item()\n",
        "      train_loss += loss.item()\n",
        "    end = time.time()\n",
        "      \n",
        "    # Validation Step\n",
        "    validation_loss, validation_correct = validate(model, validation_loader, loss_fn)\n",
        "\n",
        "    print(\"Epoch\", epoch+1, \"-\\tTraining Loss :\", train_loss/train_examples, \"\\tValidation Loss :\", validation_loss/validation_examples)\n",
        "    history['train_loss'].append(train_loss / train_examples)\n",
        "    history['val_loss'].append(validation_loss / validation_examples)\n",
        "    history['train_acc'].append(100 * train_correct / train_examples)\n",
        "    history['val_acc'].append(100 * validation_correct / validation_examples)\n",
        "    history['time'].append(end - start)\n",
        "\n",
        "    # Test Step every 5th epoch\n",
        "    if (epoch % 5) == 4:\n",
        "      top1, top5 = test(model, test_loader)\n",
        "      history['test_acc1'].append(top1)\n",
        "      history['test_acc5'].append(top5)\n",
        "\n",
        "      print(\"Training Accuracy =\", 100 * train_correct / train_examples,\n",
        "            \"\\tValidation Accuracy =\", 100 * validation_correct / validation_examples,\n",
        "            \"\\tTest Accuracy Top1 =\", top1, \"\\tTest Accuracy Top5 =\", top5)\n",
        "\n",
        "  return history"
      ]
    },
    {
      "cell_type": "code",
      "execution_count": 11,
      "metadata": {
        "id": "eszEjkeB_kD_"
      },
      "outputs": [],
      "source": [
        "def plot_loss(train_loss, val_loss):\n",
        "  pyplot.plot(train_loss, '-b')\n",
        "  pyplot.plot(val_loss, '-r')\n",
        "  pyplot.xlabel('epoch')\n",
        "  pyplot.ylabel('loss')\n",
        "  pyplot.legend(['Training', 'Validation'])\n",
        "  pyplot.title('Loss vs. No. of epochs')"
      ]
    },
    {
      "cell_type": "code",
      "execution_count": 12,
      "metadata": {
        "id": "Q9kq7ZvWr8k-"
      },
      "outputs": [],
      "source": [
        "def plot_acc(train_acc, val_acc):\n",
        "  pyplot.plot(train_acc, '-b')\n",
        "  pyplot.plot(val_acc, '-r')\n",
        "  pyplot.xlabel('epoch')\n",
        "  pyplot.ylabel('acurracy')\n",
        "  pyplot.legend(['Training', 'Validation'])\n",
        "  pyplot.title('Acurracy vs. No. of epochs')"
      ]
    },
    {
      "cell_type": "code",
      "execution_count": 13,
      "metadata": {},
      "outputs": [],
      "source": [
        "def plot_test(test_acc1, test_acc5):\n",
        "  x = range(5, 201, 5)\n",
        "  x = x[ : len(test_acc1)]\n",
        "  pyplot.plot(x, test_acc1, '-b')\n",
        "  pyplot.plot(x, test_acc5, '-r')\n",
        "  pyplot.xlabel('epoch')\n",
        "  pyplot.ylabel('accuracy')\n",
        "  pyplot.legend(['Top1 Accuracy', 'Top5 Accuracy'])\n",
        "  pyplot.title('Accuracy vs. No. of epochs')"
      ]
    },
    {
      "cell_type": "markdown",
      "metadata": {
        "id": "cEmpR2syZA1L"
      },
      "source": [
        "# Training The Model"
      ]
    },
    {
      "cell_type": "code",
      "execution_count": 20,
      "metadata": {},
      "outputs": [
        {
          "name": "stdout",
          "output_type": "stream",
          "text": [
            "----------------------------------------------------------------\n",
            "        Layer (type)               Output Shape         Param #\n",
            "================================================================\n",
            "            Conv2d-1           [-1, 16, 64, 64]             448\n",
            "       BatchNorm2d-2           [-1, 16, 64, 64]              32\n",
            "              ReLU-3           [-1, 16, 64, 64]               0\n",
            "            Conv2d-4          [-1, 128, 32, 32]          18,560\n",
            "       BatchNorm2d-5          [-1, 128, 32, 32]             256\n",
            "              ReLU-6          [-1, 128, 32, 32]               0\n",
            "         Dropout2d-7          [-1, 128, 32, 32]               0\n",
            "            Conv2d-8          [-1, 128, 32, 32]         147,584\n",
            "            Conv2d-9          [-1, 128, 32, 32]           2,176\n",
            "      BatchNorm2d-10          [-1, 128, 32, 32]             256\n",
            "             ReLU-11          [-1, 128, 32, 32]               0\n",
            "           Conv2d-12          [-1, 128, 32, 32]         147,584\n",
            "      BatchNorm2d-13          [-1, 128, 32, 32]             256\n",
            "             ReLU-14          [-1, 128, 32, 32]               0\n",
            "        Dropout2d-15          [-1, 128, 32, 32]               0\n",
            "           Conv2d-16          [-1, 128, 32, 32]         147,584\n",
            "      BatchNorm2d-17          [-1, 128, 32, 32]             256\n",
            "             ReLU-18          [-1, 128, 32, 32]               0\n",
            "           Conv2d-19          [-1, 256, 16, 16]         295,168\n",
            "      BatchNorm2d-20          [-1, 256, 16, 16]             512\n",
            "             ReLU-21          [-1, 256, 16, 16]               0\n",
            "        Dropout2d-22          [-1, 256, 16, 16]               0\n",
            "           Conv2d-23          [-1, 256, 16, 16]         590,080\n",
            "           Conv2d-24          [-1, 256, 16, 16]          33,024\n",
            "      BatchNorm2d-25          [-1, 256, 16, 16]             512\n",
            "             ReLU-26          [-1, 256, 16, 16]               0\n",
            "           Conv2d-27          [-1, 256, 16, 16]         590,080\n",
            "      BatchNorm2d-28          [-1, 256, 16, 16]             512\n",
            "             ReLU-29          [-1, 256, 16, 16]               0\n",
            "        Dropout2d-30          [-1, 256, 16, 16]               0\n",
            "           Conv2d-31          [-1, 256, 16, 16]         590,080\n",
            "      BatchNorm2d-32          [-1, 256, 16, 16]             512\n",
            "             ReLU-33          [-1, 256, 16, 16]               0\n",
            "           Conv2d-34            [-1, 512, 8, 8]       1,180,160\n",
            "      BatchNorm2d-35            [-1, 512, 8, 8]           1,024\n",
            "             ReLU-36            [-1, 512, 8, 8]               0\n",
            "        Dropout2d-37            [-1, 512, 8, 8]               0\n",
            "           Conv2d-38            [-1, 512, 8, 8]       2,359,808\n",
            "           Conv2d-39            [-1, 512, 8, 8]         131,584\n",
            "      BatchNorm2d-40            [-1, 512, 8, 8]           1,024\n",
            "             ReLU-41            [-1, 512, 8, 8]               0\n",
            "           Conv2d-42            [-1, 512, 8, 8]       2,359,808\n",
            "      BatchNorm2d-43            [-1, 512, 8, 8]           1,024\n",
            "             ReLU-44            [-1, 512, 8, 8]               0\n",
            "        Dropout2d-45            [-1, 512, 8, 8]               0\n",
            "           Conv2d-46            [-1, 512, 8, 8]       2,359,808\n",
            "      BatchNorm2d-47            [-1, 512, 8, 8]           1,024\n",
            "             ReLU-48            [-1, 512, 8, 8]               0\n",
            "        AvgPool2d-49            [-1, 512, 1, 1]               0\n",
            "           Linear-50                  [-1, 512]         262,656\n",
            "             ReLU-51                  [-1, 512]               0\n",
            "        Dropout1d-52                  [-1, 512]               0\n",
            "           Linear-53                  [-1, 200]         102,600\n",
            "================================================================\n",
            "Total params: 11,325,992\n",
            "Trainable params: 11,325,992\n",
            "Non-trainable params: 0\n",
            "----------------------------------------------------------------\n",
            "Input size (MB): 0.05\n",
            "Forward/backward pass size (MB): 27.77\n",
            "Params size (MB): 43.21\n",
            "Estimated Total Size (MB): 71.02\n",
            "----------------------------------------------------------------\n"
          ]
        }
      ],
      "source": [
        "model1 = Wide_ResNet(width=8, dropout=0.5, num_classes=200).to(device)\n",
        "summary(model1, (3, 64, 64))"
      ]
    },
    {
      "cell_type": "code",
      "execution_count": 21,
      "metadata": {
        "colab": {
          "base_uri": "https://localhost:8080/"
        },
        "id": "BbWT3zaBdtak",
        "outputId": "42092dd0-d81e-4587-eef2-ac9bc7917f63"
      },
      "outputs": [
        {
          "name": "stderr",
          "output_type": "stream",
          "text": [
            "  0%|          | 0/50 [00:00<?, ?it/s]"
          ]
        },
        {
          "name": "stderr",
          "output_type": "stream",
          "text": [
            "  2%|▏         | 1/50 [01:09<56:35, 69.30s/it]"
          ]
        },
        {
          "name": "stdout",
          "output_type": "stream",
          "text": [
            "Epoch 1 -\tTraining Loss : 0.040158970499038694 \tValidation Loss : 0.01907461268756949\n"
          ]
        },
        {
          "name": "stderr",
          "output_type": "stream",
          "text": [
            "  4%|▍         | 2/50 [02:08<50:33, 63.19s/it]"
          ]
        },
        {
          "name": "stdout",
          "output_type": "stream",
          "text": [
            "Epoch 2 -\tTraining Loss : 0.03808556948237949 \tValidation Loss : 0.018466632426521103\n"
          ]
        },
        {
          "name": "stderr",
          "output_type": "stream",
          "text": [
            "  6%|▌         | 3/50 [03:09<48:39, 62.11s/it]"
          ]
        },
        {
          "name": "stdout",
          "output_type": "stream",
          "text": [
            "Epoch 3 -\tTraining Loss : 0.036504753165774874 \tValidation Loss : 0.01815881220748422\n"
          ]
        },
        {
          "name": "stderr",
          "output_type": "stream",
          "text": [
            "  8%|▊         | 4/50 [04:08<46:46, 61.00s/it]"
          ]
        },
        {
          "name": "stdout",
          "output_type": "stream",
          "text": [
            "Epoch 4 -\tTraining Loss : 0.03522398736741808 \tValidation Loss : 0.01630140787990508\n",
            "Epoch 5 -\tTraining Loss : 0.03425913941860199 \tValidation Loss : 0.016392434863272295\n"
          ]
        },
        {
          "name": "stderr",
          "output_type": "stream",
          "text": [
            " 10%|█         | 5/50 [05:08<45:39, 60.87s/it]"
          ]
        },
        {
          "name": "stdout",
          "output_type": "stream",
          "text": [
            "Training Accuracy = 9.12888888888889 \tValidation Accuracy = 11.737376207360313 \tTest Accuracy Top1 = 11.57 \tTest Accuracy Top5 = 30.73\n"
          ]
        },
        {
          "name": "stderr",
          "output_type": "stream",
          "text": [
            " 12%|█▏        | 6/50 [06:08<44:19, 60.44s/it]"
          ]
        },
        {
          "name": "stdout",
          "output_type": "stream",
          "text": [
            "Epoch 6 -\tTraining Loss : 0.03347896161079407 \tValidation Loss : 0.015255482830239298\n"
          ]
        },
        {
          "name": "stderr",
          "output_type": "stream",
          "text": [
            " 14%|█▍        | 7/50 [07:06<42:45, 59.66s/it]"
          ]
        },
        {
          "name": "stdout",
          "output_type": "stream",
          "text": [
            "Epoch 7 -\tTraining Loss : 0.032728110331959194 \tValidation Loss : 0.01474050050668545\n"
          ]
        },
        {
          "name": "stderr",
          "output_type": "stream",
          "text": [
            " 16%|█▌        | 8/50 [08:05<41:38, 59.49s/it]"
          ]
        },
        {
          "name": "stdout",
          "output_type": "stream",
          "text": [
            "Epoch 8 -\tTraining Loss : 0.032024997928407455 \tValidation Loss : 0.014219933171802226\n"
          ]
        },
        {
          "name": "stderr",
          "output_type": "stream",
          "text": [
            " 18%|█▊        | 9/50 [09:04<40:28, 59.22s/it]"
          ]
        },
        {
          "name": "stdout",
          "output_type": "stream",
          "text": [
            "Epoch 9 -\tTraining Loss : 0.031378425176938375 \tValidation Loss : 0.01402598853390525\n",
            "Epoch 10 -\tTraining Loss : 0.03086131779352824 \tValidation Loss : 0.01352316086472123\n"
          ]
        },
        {
          "name": "stderr",
          "output_type": "stream",
          "text": [
            " 20%|██        | 10/50 [10:06<39:59, 60.00s/it]"
          ]
        },
        {
          "name": "stdout",
          "output_type": "stream",
          "text": [
            "Training Accuracy = 15.615555555555556 \tValidation Accuracy = 23.670375351509964 \tTest Accuracy Top1 = 23.87 \tTest Accuracy Top5 = 50.3\n"
          ]
        },
        {
          "name": "stderr",
          "output_type": "stream",
          "text": [
            " 22%|██▏       | 11/50 [11:06<39:02, 60.06s/it]"
          ]
        },
        {
          "name": "stdout",
          "output_type": "stream",
          "text": [
            "Epoch 11 -\tTraining Loss : 0.030322537989086577 \tValidation Loss : 0.013335963510507943\n"
          ]
        },
        {
          "name": "stderr",
          "output_type": "stream",
          "text": [
            " 24%|██▍       | 12/50 [12:08<38:24, 60.66s/it]"
          ]
        },
        {
          "name": "stdout",
          "output_type": "stream",
          "text": [
            "Epoch 12 -\tTraining Loss : 0.02989081575340695 \tValidation Loss : 0.012958925471997871\n"
          ]
        },
        {
          "name": "stderr",
          "output_type": "stream",
          "text": [
            " 26%|██▌       | 13/50 [13:08<37:19, 60.51s/it]"
          ]
        },
        {
          "name": "stdout",
          "output_type": "stream",
          "text": [
            "Epoch 13 -\tTraining Loss : 0.029441525043381586 \tValidation Loss : 0.013090953367498891\n"
          ]
        },
        {
          "name": "stderr",
          "output_type": "stream",
          "text": [
            " 28%|██▊       | 14/50 [14:09<36:27, 60.77s/it]"
          ]
        },
        {
          "name": "stdout",
          "output_type": "stream",
          "text": [
            "Epoch 14 -\tTraining Loss : 0.029072071817186143 \tValidation Loss : 0.012379779575477094\n",
            "Epoch 15 -\tTraining Loss : 0.02865474967956543 \tValidation Loss : 0.01216241861267127\n"
          ]
        },
        {
          "name": "stderr",
          "output_type": "stream",
          "text": [
            " 30%|███       | 15/50 [15:11<35:33, 60.97s/it]"
          ]
        },
        {
          "name": "stdout",
          "output_type": "stream",
          "text": [
            "Training Accuracy = 20.504444444444445 \tValidation Accuracy = 29.184496882259445 \tTest Accuracy Top1 = 29.73 \tTest Accuracy Top5 = 57.03\n"
          ]
        },
        {
          "name": "stderr",
          "output_type": "stream",
          "text": [
            " 32%|███▏      | 16/50 [16:10<34:15, 60.46s/it]"
          ]
        },
        {
          "name": "stdout",
          "output_type": "stream",
          "text": [
            "Epoch 16 -\tTraining Loss : 0.028307769884003534 \tValidation Loss : 0.012025717141678112\n"
          ]
        },
        {
          "name": "stderr",
          "output_type": "stream",
          "text": [
            " 34%|███▍      | 17/50 [17:08<32:52, 59.78s/it]"
          ]
        },
        {
          "name": "stdout",
          "output_type": "stream",
          "text": [
            "Epoch 17 -\tTraining Loss : 0.02800038497183058 \tValidation Loss : 0.011887320388950656\n"
          ]
        },
        {
          "name": "stderr",
          "output_type": "stream",
          "text": [
            " 36%|███▌      | 18/50 [18:08<31:47, 59.61s/it]"
          ]
        },
        {
          "name": "stdout",
          "output_type": "stream",
          "text": [
            "Epoch 18 -\tTraining Loss : 0.02766170150703854 \tValidation Loss : 0.011704361399398601\n"
          ]
        },
        {
          "name": "stderr",
          "output_type": "stream",
          "text": [
            " 38%|███▊      | 19/50 [19:07<30:45, 59.55s/it]"
          ]
        },
        {
          "name": "stdout",
          "output_type": "stream",
          "text": [
            "Epoch 19 -\tTraining Loss : 0.02742106934653388 \tValidation Loss : 0.011722039179458552\n",
            "Epoch 20 -\tTraining Loss : 0.027099253106117247 \tValidation Loss : 0.011390876239487908\n"
          ]
        },
        {
          "name": "stderr",
          "output_type": "stream",
          "text": [
            " 40%|████      | 20/50 [20:09<30:12, 60.43s/it]"
          ]
        },
        {
          "name": "stdout",
          "output_type": "stream",
          "text": [
            "Training Accuracy = 24.226666666666667 \tValidation Accuracy = 33.023597016750216 \tTest Accuracy Top1 = 34.09 \tTest Accuracy Top5 = 61.1\n"
          ]
        },
        {
          "name": "stderr",
          "output_type": "stream",
          "text": [
            " 42%|████▏     | 21/50 [21:09<29:07, 60.27s/it]"
          ]
        },
        {
          "name": "stdout",
          "output_type": "stream",
          "text": [
            "Epoch 21 -\tTraining Loss : 0.02687048762374454 \tValidation Loss : 0.01128160374892459\n"
          ]
        },
        {
          "name": "stderr",
          "output_type": "stream",
          "text": [
            " 44%|████▍     | 22/50 [22:08<27:54, 59.81s/it]"
          ]
        },
        {
          "name": "stdout",
          "output_type": "stream",
          "text": [
            "Epoch 22 -\tTraining Loss : 0.02664011863867442 \tValidation Loss : 0.011225347050187465\n"
          ]
        },
        {
          "name": "stderr",
          "output_type": "stream",
          "text": [
            " 46%|████▌     | 23/50 [23:07<26:44, 59.41s/it]"
          ]
        },
        {
          "name": "stdout",
          "output_type": "stream",
          "text": [
            "Epoch 23 -\tTraining Loss : 0.026409056986702813 \tValidation Loss : 0.011031745975241128\n"
          ]
        },
        {
          "name": "stderr",
          "output_type": "stream",
          "text": [
            " 48%|████▊     | 24/50 [24:05<25:40, 59.24s/it]"
          ]
        },
        {
          "name": "stdout",
          "output_type": "stream",
          "text": [
            "Epoch 24 -\tTraining Loss : 0.026145351224475435 \tValidation Loss : 0.010801357575246445\n",
            "Epoch 25 -\tTraining Loss : 0.02587962917221917 \tValidation Loss : 0.010990839130444987\n"
          ]
        },
        {
          "name": "stderr",
          "output_type": "stream",
          "text": [
            " 50%|█████     | 25/50 [25:06<24:52, 59.70s/it]"
          ]
        },
        {
          "name": "stdout",
          "output_type": "stream",
          "text": [
            "Training Accuracy = 27.357777777777777 \tValidation Accuracy = 35.13877002078494 \tTest Accuracy Top1 = 35.54 \tTest Accuracy Top5 = 63.24\n"
          ]
        },
        {
          "name": "stderr",
          "output_type": "stream",
          "text": [
            " 52%|█████▏    | 26/50 [26:05<23:46, 59.44s/it]"
          ]
        },
        {
          "name": "stdout",
          "output_type": "stream",
          "text": [
            "Epoch 26 -\tTraining Loss : 0.025664975590176053 \tValidation Loss : 0.010783287901388052\n"
          ]
        },
        {
          "name": "stderr",
          "output_type": "stream",
          "text": [
            " 54%|█████▍    | 27/50 [27:03<22:36, 59.00s/it]"
          ]
        },
        {
          "name": "stdout",
          "output_type": "stream",
          "text": [
            "Epoch 27 -\tTraining Loss : 0.02541752179198795 \tValidation Loss : 0.010588176910124281\n"
          ]
        },
        {
          "name": "stderr",
          "output_type": "stream",
          "text": [
            " 56%|█████▌    | 28/50 [28:01<21:34, 58.82s/it]"
          ]
        },
        {
          "name": "stdout",
          "output_type": "stream",
          "text": [
            "Epoch 28 -\tTraining Loss : 0.02527923657629225 \tValidation Loss : 0.010427961927825073\n"
          ]
        },
        {
          "name": "stderr",
          "output_type": "stream",
          "text": [
            " 58%|█████▊    | 29/50 [29:00<20:33, 58.76s/it]"
          ]
        },
        {
          "name": "stdout",
          "output_type": "stream",
          "text": [
            "Epoch 29 -\tTraining Loss : 0.025146149571736654 \tValidation Loss : 0.010412830408051773\n",
            "Epoch 30 -\tTraining Loss : 0.024888592961099413 \tValidation Loss : 0.010298590829748733\n"
          ]
        },
        {
          "name": "stderr",
          "output_type": "stream",
          "text": [
            " 60%|██████    | 30/50 [30:00<19:45, 59.28s/it]"
          ]
        },
        {
          "name": "stdout",
          "output_type": "stream",
          "text": [
            "Training Accuracy = 29.891111111111112 \tValidation Accuracy = 38.47658637975302 \tTest Accuracy Top1 = 39.37 \tTest Accuracy Top5 = 66.62\n"
          ]
        },
        {
          "name": "stderr",
          "output_type": "stream",
          "text": [
            " 62%|██████▏   | 31/50 [31:01<18:51, 59.57s/it]"
          ]
        },
        {
          "name": "stdout",
          "output_type": "stream",
          "text": [
            "Epoch 31 -\tTraining Loss : 0.024656208075417414 \tValidation Loss : 0.010367671031651076\n"
          ]
        },
        {
          "name": "stderr",
          "output_type": "stream",
          "text": [
            " 64%|██████▍   | 32/50 [32:00<17:52, 59.60s/it]"
          ]
        },
        {
          "name": "stdout",
          "output_type": "stream",
          "text": [
            "Epoch 32 -\tTraining Loss : 0.02449432440333896 \tValidation Loss : 0.010175869362557455\n"
          ]
        },
        {
          "name": "stderr",
          "output_type": "stream",
          "text": [
            " 66%|██████▌   | 33/50 [33:00<16:55, 59.74s/it]"
          ]
        },
        {
          "name": "stdout",
          "output_type": "stream",
          "text": [
            "Epoch 33 -\tTraining Loss : 0.024337452991803486 \tValidation Loss : 0.010088059353877986\n"
          ]
        },
        {
          "name": "stderr",
          "output_type": "stream",
          "text": [
            " 68%|██████▊   | 34/50 [33:59<15:48, 59.30s/it]"
          ]
        },
        {
          "name": "stdout",
          "output_type": "stream",
          "text": [
            "Epoch 34 -\tTraining Loss : 0.024237518186039395 \tValidation Loss : 0.010093902489246723\n",
            "Epoch 35 -\tTraining Loss : 0.024034028225474888 \tValidation Loss : 0.010038300880462911\n"
          ]
        },
        {
          "name": "stderr",
          "output_type": "stream",
          "text": [
            " 70%|███████   | 35/50 [35:00<15:00, 60.01s/it]"
          ]
        },
        {
          "name": "stdout",
          "output_type": "stream",
          "text": [
            "Training Accuracy = 31.97222222222222 \tValidation Accuracy = 39.54028609854505 \tTest Accuracy Top1 = 39.99 \tTest Accuracy Top5 = 67.42\n"
          ]
        },
        {
          "name": "stderr",
          "output_type": "stream",
          "text": [
            " 72%|███████▏  | 36/50 [35:59<13:55, 59.66s/it]"
          ]
        },
        {
          "name": "stdout",
          "output_type": "stream",
          "text": [
            "Epoch 36 -\tTraining Loss : 0.023981106490559047 \tValidation Loss : 0.009921963253643886\n"
          ]
        },
        {
          "name": "stderr",
          "output_type": "stream",
          "text": [
            " 74%|███████▍  | 37/50 [36:59<12:56, 59.73s/it]"
          ]
        },
        {
          "name": "stdout",
          "output_type": "stream",
          "text": [
            "Epoch 37 -\tTraining Loss : 0.023817608613438075 \tValidation Loss : 0.010049295215534397\n"
          ]
        },
        {
          "name": "stderr",
          "output_type": "stream",
          "text": [
            " 76%|███████▌  | 38/50 [37:57<11:50, 59.17s/it]"
          ]
        },
        {
          "name": "stdout",
          "output_type": "stream",
          "text": [
            "Epoch 38 -\tTraining Loss : 0.023688436290952894 \tValidation Loss : 0.009820110568470878\n"
          ]
        },
        {
          "name": "stderr",
          "output_type": "stream",
          "text": [
            " 78%|███████▊  | 39/50 [38:56<10:51, 59.26s/it]"
          ]
        },
        {
          "name": "stdout",
          "output_type": "stream",
          "text": [
            "Epoch 39 -\tTraining Loss : 0.023476270439889695 \tValidation Loss : 0.009745414368694402\n",
            "Epoch 40 -\tTraining Loss : 0.023412180174721613 \tValidation Loss : 0.009720777646153492\n"
          ]
        },
        {
          "name": "stderr",
          "output_type": "stream",
          "text": [
            " 80%|████████  | 40/50 [39:59<10:03, 60.32s/it]"
          ]
        },
        {
          "name": "stdout",
          "output_type": "stream",
          "text": [
            "Training Accuracy = 33.73888888888889 \tValidation Accuracy = 41.1174960264091 \tTest Accuracy Top1 = 41.96 \tTest Accuracy Top5 = 68.91\n"
          ]
        },
        {
          "name": "stderr",
          "output_type": "stream",
          "text": [
            " 82%|████████▏ | 41/50 [40:58<09:00, 60.00s/it]"
          ]
        },
        {
          "name": "stdout",
          "output_type": "stream",
          "text": [
            "Epoch 41 -\tTraining Loss : 0.0233823263724645 \tValidation Loss : 0.009691481835714747\n"
          ]
        },
        {
          "name": "stderr",
          "output_type": "stream",
          "text": [
            " 84%|████████▍ | 42/50 [41:59<08:00, 60.04s/it]"
          ]
        },
        {
          "name": "stdout",
          "output_type": "stream",
          "text": [
            "Epoch 42 -\tTraining Loss : 0.023263899154133266 \tValidation Loss : 0.009667293558145213\n"
          ]
        },
        {
          "name": "stderr",
          "output_type": "stream",
          "text": [
            " 86%|████████▌ | 43/50 [42:59<07:00, 60.06s/it]"
          ]
        },
        {
          "name": "stdout",
          "output_type": "stream",
          "text": [
            "Epoch 43 -\tTraining Loss : 0.023258096135987175 \tValidation Loss : 0.009643936845168666\n"
          ]
        },
        {
          "name": "stderr",
          "output_type": "stream",
          "text": [
            " 88%|████████▊ | 44/50 [43:59<06:00, 60.09s/it]"
          ]
        },
        {
          "name": "stdout",
          "output_type": "stream",
          "text": [
            "Epoch 44 -\tTraining Loss : 0.02320597830083635 \tValidation Loss : 0.009637669634303073\n",
            "Epoch 45 -\tTraining Loss : 0.023115470176272922 \tValidation Loss : 0.009611009545774561\n"
          ]
        },
        {
          "name": "stderr",
          "output_type": "stream",
          "text": [
            " 90%|█████████ | 45/50 [45:02<05:04, 60.93s/it]"
          ]
        },
        {
          "name": "stdout",
          "output_type": "stream",
          "text": [
            "Training Accuracy = 34.61 \tValidation Accuracy = 41.83885560581978 \tTest Accuracy Top1 = 42.34 \tTest Accuracy Top5 = 69.7\n"
          ]
        },
        {
          "name": "stderr",
          "output_type": "stream",
          "text": [
            " 92%|█████████▏| 46/50 [46:02<04:02, 60.63s/it]"
          ]
        },
        {
          "name": "stdout",
          "output_type": "stream",
          "text": [
            "Epoch 46 -\tTraining Loss : 0.023093035356203714 \tValidation Loss : 0.009587893058682642\n"
          ]
        },
        {
          "name": "stderr",
          "output_type": "stream",
          "text": [
            " 94%|█████████▍| 47/50 [47:02<03:01, 60.60s/it]"
          ]
        },
        {
          "name": "stdout",
          "output_type": "stream",
          "text": [
            "Epoch 47 -\tTraining Loss : 0.02310706571208106 \tValidation Loss : 0.009595190754349532\n"
          ]
        },
        {
          "name": "stderr",
          "output_type": "stream",
          "text": [
            " 96%|█████████▌| 48/50 [48:01<02:00, 60.04s/it]"
          ]
        },
        {
          "name": "stdout",
          "output_type": "stream",
          "text": [
            "Epoch 48 -\tTraining Loss : 0.02304929417769114 \tValidation Loss : 0.009587792869826257\n"
          ]
        },
        {
          "name": "stderr",
          "output_type": "stream",
          "text": [
            " 98%|█████████▊| 49/50 [49:00<00:59, 59.61s/it]"
          ]
        },
        {
          "name": "stdout",
          "output_type": "stream",
          "text": [
            "Epoch 49 -\tTraining Loss : 0.02310710289478302 \tValidation Loss : 0.009591403778818683\n",
            "Epoch 50 -\tTraining Loss : 0.02301925179693434 \tValidation Loss : 0.00960638916919511\n"
          ]
        },
        {
          "name": "stderr",
          "output_type": "stream",
          "text": [
            "100%|██████████| 50/50 [50:02<00:00, 60.05s/it]"
          ]
        },
        {
          "name": "stdout",
          "output_type": "stream",
          "text": [
            "Training Accuracy = 34.89333333333333 \tValidation Accuracy = 41.92444064066512 \tTest Accuracy Top1 = 42.39 \tTest Accuracy Top5 = 69.61\n"
          ]
        },
        {
          "name": "stderr",
          "output_type": "stream",
          "text": [
            "\n"
          ]
        }
      ],
      "source": [
        "train_loader = DataLoader(train_set, batch_size=128, shuffle=True)\n",
        "validation_loader = DataLoader(validation_set, batch_size=256, shuffle=False)\n",
        "test_loader = DataLoader(test_set, batch_size=256, shuffle=False)\n",
        "\n",
        "optimizer = torch.optim.SGD\n",
        "scheduler = torch.optim.lr_scheduler.CosineAnnealingLR\n",
        "loss_fn = F.cross_entropy\n",
        "\n",
        "history1 = train(model1, optimizer, scheduler, loss_fn, train_loader, validation_loader, test_loader, learning_rate=0.01, num_epochs=50)"
      ]
    },
    {
      "cell_type": "code",
      "execution_count": 22,
      "metadata": {
        "colab": {
          "base_uri": "https://localhost:8080/"
        },
        "id": "tGy_U0tKsVAU",
        "outputId": "418bd8ed-92e1-46fc-ae4f-b9909a417364"
      },
      "outputs": [
        {
          "data": {
            "image/png": "[encoded data removed]",
            "text/plain": [
              "<Figure size 640x480 with 1 Axes>"
            ]
          },
          "metadata": {},
          "output_type": "display_data"
        }
      ],
      "source": [
        "plot_loss(history1['train_loss'], history1['val_loss'])"
      ]
    },
    {
      "cell_type": "code",
      "execution_count": 23,
      "metadata": {
        "colab": {
          "base_uri": "https://localhost:8080/"
        },
        "id": "l7NdRFRRsWp7",
        "outputId": "72f213b1-b819-46d0-8f71-8726123886d7"
      },
      "outputs": [
        {
          "data": {
            "image/png": "[encoded data removed]",
            "text/plain": [
              "<Figure size 640x480 with 1 Axes>"
            ]
          },
          "metadata": {},
          "output_type": "display_data"
        }
      ],
      "source": [
        "plot_acc(history1['train_acc'], history1['val_acc'])"
      ]
    },
    {
      "cell_type": "code",
      "execution_count": 24,
      "metadata": {},
      "outputs": [
        {
          "data": {
            "image/png": "[encoded data removed]",
            "text/plain": [
              "<Figure size 640x480 with 1 Axes>"
            ]
          },
          "metadata": {},
          "output_type": "display_data"
        }
      ],
      "source": [
        "plot_test(history1['test_acc1'], history1['test_acc5'])"
      ]
    },
    {
      "cell_type": "code",
      "execution_count": 25,
      "metadata": {},
      "outputs": [
        {
          "name": "stdout",
          "output_type": "stream",
          "text": [
            "Average time per epoch for Wide_ResNet = 57.37523087024689\n"
          ]
        }
      ],
      "source": [
        "time_taken1 = np.array(history1['time'])\n",
        "print(\"Average time per epoch for Wide_ResNet =\", np.mean(time_taken1))"
      ]
    },
    {
      "cell_type": "code",
      "execution_count": 26,
      "metadata": {},
      "outputs": [],
      "source": [
        "with open('wide_resnet_history_tiny_imagenet', 'wb') as f:\n",
        "  pickle.dump(history1, f)"
      ]
    },
    {
      "cell_type": "markdown",
      "metadata": {},
      "source": [
        "# Defining The Model"
      ]
    },
    {
      "cell_type": "code",
      "execution_count": 14,
      "metadata": {},
      "outputs": [],
      "source": [
        "from AA_CNN import AttentionConv2d"
      ]
    },
    {
      "cell_type": "code",
      "execution_count": 15,
      "metadata": {},
      "outputs": [],
      "source": [
        "class Wide_AAResNet(nn.Module):\n",
        "    def __init__(self, width = 4, dropout = 0.33, num_classes=100):\n",
        "        super().__init__()\n",
        "        self.Nh = 1\n",
        "        self.dv = 8\n",
        "\n",
        "        self.block0 = nn.Sequential(\n",
        "            nn.Conv2d(3, 16, kernel_size=3, padding=1, stride=1),\n",
        "            nn.BatchNorm2d(16),\n",
        "            nn.ReLU(),\n",
        "        )\n",
        "\n",
        "        self.block11 = nn.Sequential(\n",
        "            nn.Conv2d(16, 16*width, kernel_size=3, padding=1, stride=2),\n",
        "            nn.BatchNorm2d(16*width),\n",
        "            nn.ReLU(),\n",
        "            nn.Dropout2d(dropout),\n",
        "            # nn.Conv2d(16*width, 16*width, kernel_size=3, padding=1, stride=1),\n",
        "            AttentionConv2d(\n",
        "                input_dim = 16*width,\n",
        "                output_dim = 16*width,\n",
        "                dk = 4*self.dv*width,\n",
        "                dv = self.dv*width,\n",
        "                num_heads = self.Nh,\n",
        "                kernel_size = 3,\n",
        "                padding = 1,\n",
        "                device=device,\n",
        "                height=32,\n",
        "                width=32,\n",
        "            ),\n",
        "        )\n",
        "        self.shortcut1 = nn.Conv2d(16, 16*width, kernel_size=1, stride=2)\n",
        "        self.block12 = nn.Sequential(\n",
        "            nn.BatchNorm2d(16*width),\n",
        "            nn.ReLU(),\n",
        "            nn.Conv2d(16*width, 16*width, kernel_size=3, padding=1, stride=1),\n",
        "            nn.BatchNorm2d(16*width),\n",
        "            nn.ReLU(),\n",
        "            nn.Dropout2d(dropout),\n",
        "            # nn.Conv2d(16*width, 16*width, kernel_size=3, padding=1, stride=1),\n",
        "            AttentionConv2d(\n",
        "                input_dim = 16*width,\n",
        "                output_dim = 16*width,\n",
        "                dk = 4*self.dv*width,\n",
        "                dv = self.dv*width,\n",
        "                num_heads = self.Nh,\n",
        "                kernel_size = 3,\n",
        "                padding = 1,\n",
        "                device=device,\n",
        "                height=32,\n",
        "                width=32,\n",
        "            ),\n",
        "        )\n",
        "\n",
        "\n",
        "        self.pre_block2 = nn.Sequential(\n",
        "            nn.BatchNorm2d(16*width),\n",
        "            nn.ReLU(),\n",
        "        )\n",
        "        self.block21 = nn.Sequential(\n",
        "            nn.Conv2d(16*width, 32*width, kernel_size=3, padding=1, stride=2),\n",
        "            nn.BatchNorm2d(32*width),\n",
        "            nn.ReLU(),\n",
        "            nn.Dropout2d(dropout),\n",
        "            # nn.Conv2d(32*width, 32*width, kernel_size=3, padding=1, stride=1),\n",
        "            AttentionConv2d(\n",
        "                input_dim = 32*width,\n",
        "                output_dim = 32*width,\n",
        "                dk = 8*self.dv*width,\n",
        "                dv = 2*self.dv*width,\n",
        "                num_heads = 2*self.Nh,\n",
        "                kernel_size = 3,\n",
        "                padding = 1,\n",
        "                device=device,\n",
        "                height=16,\n",
        "                width=16,\n",
        "            ),\n",
        "        )\n",
        "        self.shortcut2 = nn.Conv2d(16*width, 32*width, kernel_size=1, stride=2)\n",
        "        self.block22 = nn.Sequential(\n",
        "            nn.BatchNorm2d(32*width),\n",
        "            nn.ReLU(),\n",
        "            nn.Conv2d(32*width, 32*width, kernel_size=3, padding=1, stride=1),\n",
        "            nn.BatchNorm2d(32*width),\n",
        "            nn.ReLU(),\n",
        "            nn.Dropout2d(dropout),\n",
        "            # nn.Conv2d(32*width, 32*width, kernel_size=3, padding=1, stride=1),\n",
        "            AttentionConv2d(\n",
        "                input_dim = 32*width,\n",
        "                output_dim = 32*width,\n",
        "                dk = 8*self.dv*width,\n",
        "                dv = 2*self.dv*width,\n",
        "                num_heads = 2*self.Nh,\n",
        "                kernel_size = 3,\n",
        "                padding = 1,\n",
        "                device=device,\n",
        "                height=16,\n",
        "                width=16,\n",
        "            ),\n",
        "        )\n",
        "\n",
        "        self.pre_block3 = nn.Sequential(\n",
        "            nn.BatchNorm2d(32*width),\n",
        "            nn.ReLU(),\n",
        "        )\n",
        "        self.block31 = nn.Sequential(\n",
        "            nn.Conv2d(32*width, 64*width, kernel_size=3, padding=1, stride=2),\n",
        "            nn.BatchNorm2d(64*width),\n",
        "            nn.ReLU(),\n",
        "            nn.Dropout2d(dropout),\n",
        "            # nn.Conv2d(64*width, 64*width, kernel_size=3, padding=1, stride=1),\n",
        "            AttentionConv2d(\n",
        "                input_dim = 64*width,\n",
        "                output_dim = 64*width,\n",
        "                dk = 16*self.dv*width,\n",
        "                dv = 4*self.dv*width,\n",
        "                num_heads = 4*self.Nh,\n",
        "                kernel_size = 3,\n",
        "                padding = 1,\n",
        "                device=device,\n",
        "                height=8,\n",
        "                width=8,\n",
        "            ),\n",
        "        )\n",
        "        self.shortcut3 = nn.Conv2d(32*width, 64*width, kernel_size=1, stride=2)\n",
        "        self.block32 = nn.Sequential(\n",
        "            nn.BatchNorm2d(64*width),\n",
        "            nn.ReLU(),\n",
        "            nn.Conv2d(64*width, 64*width, kernel_size=3, padding=1, stride=1),\n",
        "            nn.BatchNorm2d(64*width),\n",
        "            nn.ReLU(),\n",
        "            nn.Dropout2d(dropout),\n",
        "            # nn.Conv2d(64*width, 64*width, kernel_size=3, padding=1, stride=1),\n",
        "            AttentionConv2d(\n",
        "                input_dim = 64*width,\n",
        "                output_dim = 64*width,\n",
        "                dk = 16*self.dv*width,\n",
        "                dv = 4*self.dv*width,\n",
        "                num_heads = 4*self.Nh,\n",
        "                kernel_size = 3,\n",
        "                padding = 1,\n",
        "                device=device,\n",
        "                height=8,\n",
        "                width=8,\n",
        "            ),\n",
        "        )\n",
        "\n",
        "        self.pool_block = nn.Sequential(\n",
        "            nn.BatchNorm2d(64*width),\n",
        "            nn.ReLU(),\n",
        "            nn.AvgPool2d(8, 8),\n",
        "        )\n",
        "\n",
        "        self.fc = nn.Sequential(\n",
        "            nn.Linear(64*width, 64*width),\n",
        "            nn.ReLU(),\n",
        "            nn.Dropout1d(dropout/2),\n",
        "            nn.Linear(64*width, num_classes)\n",
        "        )\n",
        "\n",
        "    def forward(self, x):\n",
        "        # x.shape = B x 3 x 64 x 64\n",
        "\n",
        "        x = self.block0(x)\n",
        "        # x.shape = B x 16 x 64 x 64\n",
        "\n",
        "        x1 = self.block11(x)\n",
        "        x2 = self.shortcut1(x)\n",
        "        x3 = x1 + x2\n",
        "        x4 = self.block12(x3)\n",
        "        x = x4 + x3\n",
        "        # x.shape = B x 16*width x 32 x 32\n",
        "\n",
        "        x = self.pre_block2(x)\n",
        "        x1 = self.block21(x)\n",
        "        x2 = self.shortcut2(x)\n",
        "        x3 = x1 + x2\n",
        "        x4 = self.block22(x3)\n",
        "        x = x4 + x3\n",
        "        # x.shape = B x 32*width x 16 x 16\n",
        "\n",
        "        x = self.pre_block3(x)\n",
        "        x1 = self.block31(x)\n",
        "        x2 = self.shortcut3(x)\n",
        "        x3 = x1 + x2\n",
        "        x4 = self.block32(x3)\n",
        "        x = x4 + x3\n",
        "        # x.shape = B x 64*width x 8 x 8\n",
        "\n",
        "        x = self.pool_block(x)\n",
        "        # x.shape = B x 64*width x 1 x 1\n",
        "\n",
        "        x = torch.flatten(x, start_dim=1)\n",
        "        # flatten all dimensions except batch (0th dim)\n",
        "        # x.shape = B x 64*width\n",
        "\n",
        "        x = self.fc(x)\n",
        "        # x.shape = B x num_classes\n",
        "\n",
        "        return x"
      ]
    },
    {
      "cell_type": "markdown",
      "metadata": {},
      "source": [
        "# Training The Model"
      ]
    },
    {
      "cell_type": "code",
      "execution_count": 36,
      "metadata": {},
      "outputs": [
        {
          "name": "stdout",
          "output_type": "stream",
          "text": [
            "----------------------------------------------------------------\n",
            "        Layer (type)               Output Shape         Param #\n",
            "================================================================\n",
            "            Conv2d-1           [-1, 16, 64, 64]             448\n",
            "       BatchNorm2d-2           [-1, 16, 64, 64]              32\n",
            "              ReLU-3           [-1, 16, 64, 64]               0\n",
            "            Conv2d-4          [-1, 128, 32, 32]          18,560\n",
            "       BatchNorm2d-5          [-1, 128, 32, 32]             256\n",
            "              ReLU-6          [-1, 128, 32, 32]               0\n",
            "         Dropout2d-7          [-1, 128, 32, 32]               0\n",
            "            Conv2d-8           [-1, 64, 32, 32]          73,792\n",
            "            Conv2d-9          [-1, 576, 32, 32]          74,304\n",
            "          Softmax-10        [-1, 1, 1024, 1024]               0\n",
            "           Conv2d-11           [-1, 64, 32, 32]           4,160\n",
            "  AttentionConv2d-12          [-1, 128, 32, 32]               0\n",
            "           Conv2d-13          [-1, 128, 32, 32]           2,176\n",
            "      BatchNorm2d-14          [-1, 128, 32, 32]             256\n",
            "             ReLU-15          [-1, 128, 32, 32]               0\n",
            "           Conv2d-16          [-1, 128, 32, 32]         147,584\n",
            "      BatchNorm2d-17          [-1, 128, 32, 32]             256\n",
            "             ReLU-18          [-1, 128, 32, 32]               0\n",
            "        Dropout2d-19          [-1, 128, 32, 32]               0\n",
            "           Conv2d-20           [-1, 64, 32, 32]          73,792\n",
            "           Conv2d-21          [-1, 576, 32, 32]          74,304\n",
            "          Softmax-22        [-1, 1, 1024, 1024]               0\n",
            "           Conv2d-23           [-1, 64, 32, 32]           4,160\n",
            "  AttentionConv2d-24          [-1, 128, 32, 32]               0\n",
            "      BatchNorm2d-25          [-1, 128, 32, 32]             256\n",
            "             ReLU-26          [-1, 128, 32, 32]               0\n",
            "           Conv2d-27          [-1, 256, 16, 16]         295,168\n",
            "      BatchNorm2d-28          [-1, 256, 16, 16]             512\n",
            "             ReLU-29          [-1, 256, 16, 16]               0\n",
            "        Dropout2d-30          [-1, 256, 16, 16]               0\n",
            "           Conv2d-31          [-1, 128, 16, 16]         295,040\n",
            "           Conv2d-32         [-1, 1152, 16, 16]         296,064\n",
            "          Softmax-33          [-1, 2, 256, 256]               0\n",
            "           Conv2d-34          [-1, 128, 16, 16]          16,512\n",
            "  AttentionConv2d-35          [-1, 256, 16, 16]               0\n",
            "           Conv2d-36          [-1, 256, 16, 16]          33,024\n",
            "      BatchNorm2d-37          [-1, 256, 16, 16]             512\n",
            "             ReLU-38          [-1, 256, 16, 16]               0\n",
            "           Conv2d-39          [-1, 256, 16, 16]         590,080\n",
            "      BatchNorm2d-40          [-1, 256, 16, 16]             512\n",
            "             ReLU-41          [-1, 256, 16, 16]               0\n",
            "        Dropout2d-42          [-1, 256, 16, 16]               0\n",
            "           Conv2d-43          [-1, 128, 16, 16]         295,040\n",
            "           Conv2d-44         [-1, 1152, 16, 16]         296,064\n",
            "          Softmax-45          [-1, 2, 256, 256]               0\n",
            "           Conv2d-46          [-1, 128, 16, 16]          16,512\n",
            "  AttentionConv2d-47          [-1, 256, 16, 16]               0\n",
            "      BatchNorm2d-48          [-1, 256, 16, 16]             512\n",
            "             ReLU-49          [-1, 256, 16, 16]               0\n",
            "           Conv2d-50            [-1, 512, 8, 8]       1,180,160\n",
            "      BatchNorm2d-51            [-1, 512, 8, 8]           1,024\n",
            "             ReLU-52            [-1, 512, 8, 8]               0\n",
            "        Dropout2d-53            [-1, 512, 8, 8]               0\n",
            "           Conv2d-54            [-1, 256, 8, 8]       1,179,904\n",
            "           Conv2d-55           [-1, 2304, 8, 8]       1,181,952\n",
            "          Softmax-56            [-1, 4, 64, 64]               0\n",
            "           Conv2d-57            [-1, 256, 8, 8]          65,792\n",
            "  AttentionConv2d-58            [-1, 512, 8, 8]               0\n",
            "           Conv2d-59            [-1, 512, 8, 8]         131,584\n",
            "      BatchNorm2d-60            [-1, 512, 8, 8]           1,024\n",
            "             ReLU-61            [-1, 512, 8, 8]               0\n",
            "           Conv2d-62            [-1, 512, 8, 8]       2,359,808\n",
            "      BatchNorm2d-63            [-1, 512, 8, 8]           1,024\n",
            "             ReLU-64            [-1, 512, 8, 8]               0\n",
            "        Dropout2d-65            [-1, 512, 8, 8]               0\n",
            "           Conv2d-66            [-1, 256, 8, 8]       1,179,904\n",
            "           Conv2d-67           [-1, 2304, 8, 8]       1,181,952\n",
            "          Softmax-68            [-1, 4, 64, 64]               0\n",
            "           Conv2d-69            [-1, 256, 8, 8]          65,792\n",
            "  AttentionConv2d-70            [-1, 512, 8, 8]               0\n",
            "      BatchNorm2d-71            [-1, 512, 8, 8]           1,024\n",
            "             ReLU-72            [-1, 512, 8, 8]               0\n",
            "        AvgPool2d-73            [-1, 512, 1, 1]               0\n",
            "           Linear-74                  [-1, 512]         262,656\n",
            "             ReLU-75                  [-1, 512]               0\n",
            "        Dropout1d-76                  [-1, 512]               0\n",
            "           Linear-77                  [-1, 200]         102,600\n",
            "================================================================\n",
            "Total params: 11,506,088\n",
            "Trainable params: 11,506,088\n",
            "Non-trainable params: 0\n",
            "----------------------------------------------------------------\n",
            "Input size (MB): 0.05\n",
            "Forward/backward pass size (MB): 65.27\n",
            "Params size (MB): 43.89\n",
            "Estimated Total Size (MB): 109.21\n",
            "----------------------------------------------------------------\n"
          ]
        }
      ],
      "source": [
        "model2 = Wide_AAResNet(width=8, dropout=0.5, num_classes=200).to(device)\n",
        "summary(model2, (3, 64, 64))"
      ]
    },
    {
      "cell_type": "code",
      "execution_count": 20,
      "metadata": {},
      "outputs": [
        {
          "name": "stderr",
          "output_type": "stream",
          "text": [
            "  2%|▏         | 1/50 [02:15<1:50:32, 135.36s/it]"
          ]
        },
        {
          "name": "stdout",
          "output_type": "stream",
          "text": [
            "Epoch 1 -\tTraining Loss : 0.039590798309114245 \tValidation Loss : 0.018928176515156898\n"
          ]
        },
        {
          "name": "stderr",
          "output_type": "stream",
          "text": [
            "  4%|▍         | 2/50 [04:23<1:44:56, 131.17s/it]"
          ]
        },
        {
          "name": "stdout",
          "output_type": "stream",
          "text": [
            "Epoch 2 -\tTraining Loss : 0.036964506997002496 \tValidation Loss : 0.017101907106290632\n"
          ]
        },
        {
          "name": "stderr",
          "output_type": "stream",
          "text": [
            "  6%|▌         | 3/50 [06:31<1:41:42, 129.85s/it]"
          ]
        },
        {
          "name": "stdout",
          "output_type": "stream",
          "text": [
            "Epoch 3 -\tTraining Loss : 0.034945411507288617 \tValidation Loss : 0.01577300138644913\n"
          ]
        },
        {
          "name": "stderr",
          "output_type": "stream",
          "text": [
            "  8%|▊         | 4/50 [08:40<1:39:05, 129.24s/it]"
          ]
        },
        {
          "name": "stdout",
          "output_type": "stream",
          "text": [
            "Epoch 4 -\tTraining Loss : 0.03318495735062493 \tValidation Loss : 0.016451685684265666\n",
            "Epoch 5 -\tTraining Loss : 0.03184288524256812 \tValidation Loss : 0.014114031976498577\n"
          ]
        },
        {
          "name": "stderr",
          "output_type": "stream",
          "text": [
            " 10%|█         | 5/50 [10:52<1:37:46, 130.37s/it]"
          ]
        },
        {
          "name": "stdout",
          "output_type": "stream",
          "text": [
            "Training Accuracy = 14.008888888888889 \tValidation Accuracy = 20.100256755104535 \tTest Accuracy Top1 = 20.65 \tTest Accuracy Top5 = 45.87\n"
          ]
        },
        {
          "name": "stderr",
          "output_type": "stream",
          "text": [
            " 12%|█▏        | 6/50 [13:00<1:34:54, 129.41s/it]"
          ]
        },
        {
          "name": "stdout",
          "output_type": "stream",
          "text": [
            "Epoch 6 -\tTraining Loss : 0.030816973951127796 \tValidation Loss : 0.014810596472594074\n"
          ]
        },
        {
          "name": "stderr",
          "output_type": "stream",
          "text": [
            " 14%|█▍        | 7/50 [15:09<1:32:37, 129.25s/it]"
          ]
        },
        {
          "name": "stdout",
          "output_type": "stream",
          "text": [
            "Epoch 7 -\tTraining Loss : 0.029991539306110804 \tValidation Loss : 0.01861115011496683\n"
          ]
        },
        {
          "name": "stderr",
          "output_type": "stream",
          "text": [
            " 16%|█▌        | 8/50 [17:16<1:30:05, 128.71s/it]"
          ]
        },
        {
          "name": "stdout",
          "output_type": "stream",
          "text": [
            "Epoch 8 -\tTraining Loss : 0.029249279734823438 \tValidation Loss : 0.015524161125777302\n"
          ]
        },
        {
          "name": "stderr",
          "output_type": "stream",
          "text": [
            " 18%|█▊        | 9/50 [19:24<1:27:44, 128.40s/it]"
          ]
        },
        {
          "name": "stdout",
          "output_type": "stream",
          "text": [
            "Epoch 9 -\tTraining Loss : 0.0285515984137853 \tValidation Loss : 0.012738850606742735\n",
            "Epoch 10 -\tTraining Loss : 0.027995385914378695 \tValidation Loss : 0.012348625884106812\n"
          ]
        },
        {
          "name": "stderr",
          "output_type": "stream",
          "text": [
            " 20%|██        | 10/50 [21:35<1:26:10, 129.25s/it]"
          ]
        },
        {
          "name": "stdout",
          "output_type": "stream",
          "text": [
            "Training Accuracy = 22.192222222222224 \tValidation Accuracy = 28.279740799608753 \tTest Accuracy Top1 = 28.72 \tTest Accuracy Top5 = 54.54\n"
          ]
        },
        {
          "name": "stderr",
          "output_type": "stream",
          "text": [
            " 22%|██▏       | 11/50 [23:45<1:24:13, 129.58s/it]"
          ]
        },
        {
          "name": "stdout",
          "output_type": "stream",
          "text": [
            "Epoch 11 -\tTraining Loss : 0.027410451436042784 \tValidation Loss : 0.012376781751159527\n"
          ]
        },
        {
          "name": "stderr",
          "output_type": "stream",
          "text": [
            " 24%|██▍       | 12/50 [25:53<1:21:42, 129.00s/it]"
          ]
        },
        {
          "name": "stdout",
          "output_type": "stream",
          "text": [
            "Epoch 12 -\tTraining Loss : 0.027031512337260775 \tValidation Loss : 0.011866183338662\n"
          ]
        },
        {
          "name": "stderr",
          "output_type": "stream",
          "text": [
            " 26%|██▌       | 13/50 [28:00<1:19:13, 128.49s/it]"
          ]
        },
        {
          "name": "stdout",
          "output_type": "stream",
          "text": [
            "Epoch 13 -\tTraining Loss : 0.02658358742396037 \tValidation Loss : 0.011580964495491786\n"
          ]
        },
        {
          "name": "stderr",
          "output_type": "stream",
          "text": [
            " 28%|██▊       | 14/50 [30:09<1:17:03, 128.44s/it]"
          ]
        },
        {
          "name": "stdout",
          "output_type": "stream",
          "text": [
            "Epoch 14 -\tTraining Loss : 0.026106479501724244 \tValidation Loss : 0.01131646008461783\n",
            "Epoch 15 -\tTraining Loss : 0.02568913338714176 \tValidation Loss : 0.01110668152639956\n"
          ]
        },
        {
          "name": "stderr",
          "output_type": "stream",
          "text": [
            " 30%|███       | 15/50 [32:20<1:15:27, 129.37s/it]"
          ]
        },
        {
          "name": "stdout",
          "output_type": "stream",
          "text": [
            "Training Accuracy = 27.913333333333334 \tValidation Accuracy = 34.14842890328891 \tTest Accuracy Top1 = 35.1 \tTest Accuracy Top5 = 61.57\n"
          ]
        },
        {
          "name": "stderr",
          "output_type": "stream",
          "text": [
            " 32%|███▏      | 16/50 [34:27<1:12:54, 128.66s/it]"
          ]
        },
        {
          "name": "stdout",
          "output_type": "stream",
          "text": [
            "Epoch 16 -\tTraining Loss : 0.02529055729707082 \tValidation Loss : 0.011036179791250064\n"
          ]
        },
        {
          "name": "stderr",
          "output_type": "stream",
          "text": [
            " 34%|███▍      | 17/50 [36:34<1:10:30, 128.21s/it]"
          ]
        },
        {
          "name": "stdout",
          "output_type": "stream",
          "text": [
            "Epoch 17 -\tTraining Loss : 0.0249609415213267 \tValidation Loss : 0.011508092479143797\n"
          ]
        },
        {
          "name": "stderr",
          "output_type": "stream",
          "text": [
            " 36%|███▌      | 18/50 [38:42<1:08:20, 128.14s/it]"
          ]
        },
        {
          "name": "stdout",
          "output_type": "stream",
          "text": [
            "Epoch 18 -\tTraining Loss : 0.024608951592445374 \tValidation Loss : 0.011007828414549468\n"
          ]
        },
        {
          "name": "stderr",
          "output_type": "stream",
          "text": [
            " 38%|███▊      | 19/50 [40:48<1:05:48, 127.38s/it]"
          ]
        },
        {
          "name": "stdout",
          "output_type": "stream",
          "text": [
            "Epoch 19 -\tTraining Loss : 0.024256471557087367 \tValidation Loss : 0.010478504684388542\n",
            "Epoch 20 -\tTraining Loss : 0.02388476022614373 \tValidation Loss : 0.010455406386952248\n"
          ]
        },
        {
          "name": "stderr",
          "output_type": "stream",
          "text": [
            " 40%|████      | 20/50 [42:59<1:04:10, 128.36s/it]"
          ]
        },
        {
          "name": "stdout",
          "output_type": "stream",
          "text": [
            "Training Accuracy = 32.29555555555555 \tValidation Accuracy = 37.54737743000367 \tTest Accuracy Top1 = 37.64 \tTest Accuracy Top5 = 64.18\n"
          ]
        },
        {
          "name": "stderr",
          "output_type": "stream",
          "text": [
            " 42%|████▏     | 21/50 [45:03<1:01:24, 127.04s/it]"
          ]
        },
        {
          "name": "stdout",
          "output_type": "stream",
          "text": [
            "Epoch 21 -\tTraining Loss : 0.023701280670695834 \tValidation Loss : 0.010778131542119526\n"
          ]
        },
        {
          "name": "stderr",
          "output_type": "stream",
          "text": [
            " 44%|████▍     | 22/50 [47:11<59:25, 127.33s/it]  "
          ]
        },
        {
          "name": "stdout",
          "output_type": "stream",
          "text": [
            "Epoch 22 -\tTraining Loss : 0.02334741859436035 \tValidation Loss : 0.010175260475495433\n"
          ]
        },
        {
          "name": "stderr",
          "output_type": "stream",
          "text": [
            " 46%|████▌     | 23/50 [49:18<57:22, 127.49s/it]"
          ]
        },
        {
          "name": "stdout",
          "output_type": "stream",
          "text": [
            "Epoch 23 -\tTraining Loss : 0.02309947923289405 \tValidation Loss : 0.01012610208581546\n"
          ]
        },
        {
          "name": "stderr",
          "output_type": "stream",
          "text": [
            " 48%|████▊     | 24/50 [51:20<54:30, 125.79s/it]"
          ]
        },
        {
          "name": "stdout",
          "output_type": "stream",
          "text": [
            "Epoch 24 -\tTraining Loss : 0.022736767440372042 \tValidation Loss : 0.010417708296518714\n",
            "Epoch 25 -\tTraining Loss : 0.022380367263158164 \tValidation Loss : 0.00992383378571411\n"
          ]
        },
        {
          "name": "stderr",
          "output_type": "stream",
          "text": [
            " 50%|█████     | 25/50 [53:33<53:14, 127.79s/it]"
          ]
        },
        {
          "name": "stdout",
          "output_type": "stream",
          "text": [
            "Training Accuracy = 36.29333333333334 \tValidation Accuracy = 39.748135468883724 \tTest Accuracy Top1 = 40.73 \tTest Accuracy Top5 = 66.88\n"
          ]
        },
        {
          "name": "stderr",
          "output_type": "stream",
          "text": [
            " 52%|█████▏    | 26/50 [55:38<50:52, 127.18s/it]"
          ]
        },
        {
          "name": "stdout",
          "output_type": "stream",
          "text": [
            "Epoch 26 -\tTraining Loss : 0.022161803327666388 \tValidation Loss : 0.009979881653212615\n"
          ]
        },
        {
          "name": "stderr",
          "output_type": "stream",
          "text": [
            " 54%|█████▍    | 27/50 [57:41<48:14, 125.84s/it]"
          ]
        },
        {
          "name": "stdout",
          "output_type": "stream",
          "text": [
            "Epoch 27 -\tTraining Loss : 0.021831837402449712 \tValidation Loss : 0.009957756094251027\n"
          ]
        },
        {
          "name": "stderr",
          "output_type": "stream",
          "text": [
            " 56%|█████▌    | 28/50 [59:48<46:16, 126.22s/it]"
          ]
        },
        {
          "name": "stdout",
          "output_type": "stream",
          "text": [
            "Epoch 28 -\tTraining Loss : 0.021663094470236035 \tValidation Loss : 0.009859499976226586\n"
          ]
        },
        {
          "name": "stderr",
          "output_type": "stream",
          "text": [
            " 58%|█████▊    | 29/50 [1:02:02<44:57, 128.47s/it]"
          ]
        },
        {
          "name": "stdout",
          "output_type": "stream",
          "text": [
            "Epoch 29 -\tTraining Loss : 0.02133528877099355 \tValidation Loss : 0.009819323516064014\n",
            "Epoch 30 -\tTraining Loss : 0.021139858786265054 \tValidation Loss : 0.009722108085372072\n"
          ]
        },
        {
          "name": "stderr",
          "output_type": "stream",
          "text": [
            " 60%|██████    | 30/50 [1:04:15<43:16, 129.83s/it]"
          ]
        },
        {
          "name": "stdout",
          "output_type": "stream",
          "text": [
            "Training Accuracy = 39.69 \tValidation Accuracy = 41.3375718302971 \tTest Accuracy Top1 = 41.19 \tTest Accuracy Top5 = 67.04\n"
          ]
        },
        {
          "name": "stderr",
          "output_type": "stream",
          "text": [
            " 62%|██████▏   | 31/50 [1:06:23<40:55, 129.21s/it]"
          ]
        },
        {
          "name": "stdout",
          "output_type": "stream",
          "text": [
            "Epoch 31 -\tTraining Loss : 0.02081484538714091 \tValidation Loss : 0.009936253560144695\n"
          ]
        },
        {
          "name": "stderr",
          "output_type": "stream",
          "text": [
            " 64%|██████▍   | 32/50 [1:08:30<38:33, 128.50s/it]"
          ]
        },
        {
          "name": "stdout",
          "output_type": "stream",
          "text": [
            "Epoch 32 -\tTraining Loss : 0.020578890217675103 \tValidation Loss : 0.009616379487746239\n"
          ]
        },
        {
          "name": "stderr",
          "output_type": "stream",
          "text": [
            " 66%|██████▌   | 33/50 [1:10:36<36:14, 127.94s/it]"
          ]
        },
        {
          "name": "stdout",
          "output_type": "stream",
          "text": [
            "Epoch 33 -\tTraining Loss : 0.020361865441004434 \tValidation Loss : 0.00966887043221741\n"
          ]
        },
        {
          "name": "stderr",
          "output_type": "stream",
          "text": [
            " 68%|██████▊   | 34/50 [1:12:45<34:09, 128.07s/it]"
          ]
        },
        {
          "name": "stdout",
          "output_type": "stream",
          "text": [
            "Epoch 34 -\tTraining Loss : 0.020134494113922118 \tValidation Loss : 0.009846565148870933\n",
            "Epoch 35 -\tTraining Loss : 0.019858352745903862 \tValidation Loss : 0.009737921338280163\n"
          ]
        },
        {
          "name": "stderr",
          "output_type": "stream",
          "text": [
            " 70%|███████   | 35/50 [1:14:58<32:24, 129.63s/it]"
          ]
        },
        {
          "name": "stdout",
          "output_type": "stream",
          "text": [
            "Training Accuracy = 43.56 \tValidation Accuracy = 40.98300525736643 \tTest Accuracy Top1 = 41.45 \tTest Accuracy Top5 = 67.28\n"
          ]
        },
        {
          "name": "stderr",
          "output_type": "stream",
          "text": [
            " 72%|███████▏  | 36/50 [1:17:12<30:35, 131.14s/it]"
          ]
        },
        {
          "name": "stdout",
          "output_type": "stream",
          "text": [
            "Epoch 36 -\tTraining Loss : 0.019738536332713233 \tValidation Loss : 0.009554498395909305\n"
          ]
        },
        {
          "name": "stderr",
          "output_type": "stream",
          "text": [
            " 74%|███████▍  | 37/50 [1:19:23<28:21, 130.87s/it]"
          ]
        },
        {
          "name": "stdout",
          "output_type": "stream",
          "text": [
            "Epoch 37 -\tTraining Loss : 0.019448779820071326 \tValidation Loss : 0.009514733943106682\n"
          ]
        },
        {
          "name": "stderr",
          "output_type": "stream",
          "text": [
            " 76%|███████▌  | 38/50 [1:21:31<26:00, 130.04s/it]"
          ]
        },
        {
          "name": "stdout",
          "output_type": "stream",
          "text": [
            "Epoch 38 -\tTraining Loss : 0.01936146686077118 \tValidation Loss : 0.009529054390799666\n"
          ]
        },
        {
          "name": "stderr",
          "output_type": "stream",
          "text": [
            " 78%|███████▊  | 39/50 [1:23:40<23:47, 129.76s/it]"
          ]
        },
        {
          "name": "stdout",
          "output_type": "stream",
          "text": [
            "Epoch 39 -\tTraining Loss : 0.019046856858995227 \tValidation Loss : 0.009538534058089186\n",
            "Epoch 40 -\tTraining Loss : 0.018979689905378554 \tValidation Loss : 0.009538253954882609\n"
          ]
        },
        {
          "name": "stderr",
          "output_type": "stream",
          "text": [
            " 80%|████████  | 40/50 [1:25:54<21:50, 131.05s/it]"
          ]
        },
        {
          "name": "stdout",
          "output_type": "stream",
          "text": [
            "Training Accuracy = 46.13666666666666 \tValidation Accuracy = 42.376818681990464 \tTest Accuracy Top1 = 42.04 \tTest Accuracy Top5 = 68.18\n"
          ]
        },
        {
          "name": "stderr",
          "output_type": "stream",
          "text": [
            " 82%|████████▏ | 41/50 [1:28:02<19:31, 130.19s/it]"
          ]
        },
        {
          "name": "stdout",
          "output_type": "stream",
          "text": [
            "Epoch 41 -\tTraining Loss : 0.018819777631759644 \tValidation Loss : 0.009487052639505219\n"
          ]
        },
        {
          "name": "stderr",
          "output_type": "stream",
          "text": [
            " 84%|████████▍ | 42/50 [1:30:11<17:17, 129.68s/it]"
          ]
        },
        {
          "name": "stdout",
          "output_type": "stream",
          "text": [
            "Epoch 42 -\tTraining Loss : 0.01869016365740034 \tValidation Loss : 0.009514953326677573\n"
          ]
        },
        {
          "name": "stderr",
          "output_type": "stream",
          "text": [
            " 86%|████████▌ | 43/50 [1:32:21<15:09, 129.95s/it]"
          ]
        },
        {
          "name": "stdout",
          "output_type": "stream",
          "text": [
            "Epoch 43 -\tTraining Loss : 0.018708483052253724 \tValidation Loss : 0.00950991563742195\n"
          ]
        },
        {
          "name": "stderr",
          "output_type": "stream",
          "text": [
            " 88%|████████▊ | 44/50 [1:34:29<12:55, 129.32s/it]"
          ]
        },
        {
          "name": "stdout",
          "output_type": "stream",
          "text": [
            "Epoch 44 -\tTraining Loss : 0.018537605028682284 \tValidation Loss : 0.009490801253518756\n",
            "Epoch 45 -\tTraining Loss : 0.01846299921936459 \tValidation Loss : 0.009481081885046212\n"
          ]
        },
        {
          "name": "stderr",
          "output_type": "stream",
          "text": [
            " 90%|█████████ | 45/50 [1:36:52<11:06, 133.31s/it]"
          ]
        },
        {
          "name": "stdout",
          "output_type": "stream",
          "text": [
            "Training Accuracy = 47.76 \tValidation Accuracy = 42.645800220075806 \tTest Accuracy Top1 = 42.28 \tTest Accuracy Top5 = 68.44\n"
          ]
        },
        {
          "name": "stderr",
          "output_type": "stream",
          "text": [
            " 92%|█████████▏| 46/50 [1:38:59<08:45, 131.42s/it]"
          ]
        },
        {
          "name": "stdout",
          "output_type": "stream",
          "text": [
            "Epoch 46 -\tTraining Loss : 0.018408150152365365 \tValidation Loss : 0.009473611329350703\n"
          ]
        },
        {
          "name": "stderr",
          "output_type": "stream",
          "text": [
            " 94%|█████████▍| 47/50 [1:41:05<06:30, 130.00s/it]"
          ]
        },
        {
          "name": "stdout",
          "output_type": "stream",
          "text": [
            "Epoch 47 -\tTraining Loss : 0.01842448283963733 \tValidation Loss : 0.009480375316035471\n"
          ]
        },
        {
          "name": "stderr",
          "output_type": "stream",
          "text": [
            " 96%|█████████▌| 48/50 [1:43:13<04:18, 129.26s/it]"
          ]
        },
        {
          "name": "stdout",
          "output_type": "stream",
          "text": [
            "Epoch 48 -\tTraining Loss : 0.018366874066988628 \tValidation Loss : 0.009494773594466467\n"
          ]
        },
        {
          "name": "stderr",
          "output_type": "stream",
          "text": [
            " 98%|█████████▊| 49/50 [1:45:23<02:09, 129.50s/it]"
          ]
        },
        {
          "name": "stdout",
          "output_type": "stream",
          "text": [
            "Epoch 49 -\tTraining Loss : 0.018452668845653535 \tValidation Loss : 0.009466730363358202\n",
            "Epoch 50 -\tTraining Loss : 0.01827311545477973 \tValidation Loss : 0.009479156988059735\n"
          ]
        },
        {
          "name": "stderr",
          "output_type": "stream",
          "text": [
            "100%|██████████| 50/50 [1:47:35<00:00, 129.11s/it]"
          ]
        },
        {
          "name": "stdout",
          "output_type": "stream",
          "text": [
            "Training Accuracy = 48.388888888888886 \tValidation Accuracy = 43.024819660105145 \tTest Accuracy Top1 = 42.18 \tTest Accuracy Top5 = 68.44\n"
          ]
        },
        {
          "name": "stderr",
          "output_type": "stream",
          "text": [
            "\n"
          ]
        }
      ],
      "source": [
        "train_loader = DataLoader(train_set, batch_size=128, shuffle=True)\n",
        "validation_loader = DataLoader(validation_set, batch_size=256, shuffle=False)\n",
        "test_loader = DataLoader(test_set, batch_size=256, shuffle=False)\n",
        "\n",
        "optimizer = torch.optim.SGD\n",
        "scheduler = torch.optim.lr_scheduler.CosineAnnealingLR\n",
        "loss_fn = F.cross_entropy\n",
        "\n",
        "history2 = train(model2, optimizer, scheduler, loss_fn, train_loader, validation_loader, test_loader, learning_rate=0.01, num_epochs=50)"
      ]
    },
    {
      "cell_type": "code",
      "execution_count": 21,
      "metadata": {},
      "outputs": [
        {
          "data": {
            "image/png": "[encoded data removed]",
            "text/plain": [
              "<Figure size 640x480 with 1 Axes>"
            ]
          },
          "metadata": {},
          "output_type": "display_data"
        }
      ],
      "source": [
        "plot_loss(history2['train_loss'], history2['val_loss'])"
      ]
    },
    {
      "cell_type": "code",
      "execution_count": 22,
      "metadata": {},
      "outputs": [
        {
          "data": {
            "image/png": "[encoded data removed]",
            "text/plain": [
              "<Figure size 640x480 with 1 Axes>"
            ]
          },
          "metadata": {},
          "output_type": "display_data"
        }
      ],
      "source": [
        "plot_acc(history2['train_acc'], history2['val_acc'])"
      ]
    },
    {
      "cell_type": "code",
      "execution_count": 23,
      "metadata": {},
      "outputs": [
        {
          "data": {
            "image/png": "[encoded data removed]",
            "text/plain": [
              "<Figure size 640x480 with 1 Axes>"
            ]
          },
          "metadata": {},
          "output_type": "display_data"
        }
      ],
      "source": [
        "plot_test(history2['test_acc1'], history2['test_acc5'])"
      ]
    },
    {
      "cell_type": "code",
      "execution_count": 24,
      "metadata": {},
      "outputs": [
        {
          "name": "stdout",
          "output_type": "stream",
          "text": [
            "Average time per epoch for Wide_AAResNet = 124.09068312644959\n"
          ]
        }
      ],
      "source": [
        "time_taken2 = np.array(history2['time'])\n",
        "print(\"Average time per epoch for Wide_AAResNet =\", np.mean(time_taken2))"
      ]
    },
    {
      "cell_type": "code",
      "execution_count": 25,
      "metadata": {},
      "outputs": [],
      "source": [
        "with open('wide_aaresnet_history_tiny_imagenet', 'wb') as f:\n",
        "  pickle.dump(history2, f)"
      ]
    },
    {
      "cell_type": "markdown",
      "metadata": {},
      "source": [
        "# Defning The Model"
      ]
    },
    {
      "cell_type": "code",
      "execution_count": 26,
      "metadata": {},
      "outputs": [],
      "source": [
        "from AA_CNN import LinearAttentionConv2d"
      ]
    },
    {
      "cell_type": "code",
      "execution_count": 27,
      "metadata": {},
      "outputs": [],
      "source": [
        "class Wide_LAAResNet(nn.Module):\n",
        "    def __init__(self, width = 4, dropout = 0.33, num_classes=100):\n",
        "        super().__init__()\n",
        "        self.Nh = 1\n",
        "        self.dv = 8\n",
        "\n",
        "        self.block0 = nn.Sequential(\n",
        "            nn.Conv2d(3, 16, kernel_size=3, padding=1, stride=1),\n",
        "            nn.BatchNorm2d(16),\n",
        "            nn.ReLU(),\n",
        "        )\n",
        "\n",
        "        self.block11 = nn.Sequential(\n",
        "            nn.Conv2d(16, 16*width, kernel_size=3, padding=1, stride=2),\n",
        "            nn.BatchNorm2d(16*width),\n",
        "            nn.ReLU(),\n",
        "            nn.Dropout2d(dropout),\n",
        "            # nn.Conv2d(16*width, 16*width, kernel_size=3, padding=1, stride=1),\n",
        "            LinearAttentionConv2d(\n",
        "                input_dim = 16*width,\n",
        "                output_dim = 16*width,\n",
        "                dk = 4*self.dv*width,\n",
        "                dv = self.dv*width,\n",
        "                num_heads = self.Nh,\n",
        "                kernel_size = 3,\n",
        "                padding = 1,\n",
        "                device=device,\n",
        "                height=32,\n",
        "                width=32,\n",
        "            ),\n",
        "        )\n",
        "        self.shortcut1 = nn.Conv2d(16, 16*width, kernel_size=1, stride=2)\n",
        "        self.block12 = nn.Sequential(\n",
        "            nn.BatchNorm2d(16*width),\n",
        "            nn.ReLU(),\n",
        "            nn.Conv2d(16*width, 16*width, kernel_size=3, padding=1, stride=1),\n",
        "            nn.BatchNorm2d(16*width),\n",
        "            nn.ReLU(),\n",
        "            nn.Dropout2d(dropout),\n",
        "            nn.Conv2d(16*width, 16*width, kernel_size=3, padding=1, stride=1),\n",
        "            LinearAttentionConv2d(\n",
        "                input_dim = 16*width,\n",
        "                output_dim = 16*width,\n",
        "                dk = 4*self.dv*width,\n",
        "                dv = self.dv*width,\n",
        "                num_heads = self.Nh,\n",
        "                kernel_size = 3,\n",
        "                padding = 1,\n",
        "                device=device,\n",
        "                height=32,\n",
        "                width=32,\n",
        "            ),\n",
        "        )\n",
        "\n",
        "\n",
        "        self.pre_block2 = nn.Sequential(\n",
        "            nn.BatchNorm2d(16*width),\n",
        "            nn.ReLU(),\n",
        "        )\n",
        "        self.block21 = nn.Sequential(\n",
        "            nn.Conv2d(16*width, 32*width, kernel_size=3, padding=1, stride=2),\n",
        "            nn.BatchNorm2d(32*width),\n",
        "            nn.ReLU(),\n",
        "            nn.Dropout2d(dropout),\n",
        "            # nn.Conv2d(32*width, 32*width, kernel_size=3, padding=1, stride=1),\n",
        "            LinearAttentionConv2d(\n",
        "                input_dim = 32*width,\n",
        "                output_dim = 32*width,\n",
        "                dk = 8*self.dv*width,\n",
        "                dv = 2*self.dv*width,\n",
        "                num_heads = 2*self.Nh,\n",
        "                kernel_size = 3,\n",
        "                padding = 1,\n",
        "                device=device,\n",
        "                height=16,\n",
        "                width=16,\n",
        "            ),\n",
        "        )\n",
        "        self.shortcut2 = nn.Conv2d(16*width, 32*width, kernel_size=1, stride=2)\n",
        "        self.block22 = nn.Sequential(\n",
        "            nn.BatchNorm2d(32*width),\n",
        "            nn.ReLU(),\n",
        "            nn.Conv2d(32*width, 32*width, kernel_size=3, padding=1, stride=1),\n",
        "            nn.BatchNorm2d(32*width),\n",
        "            nn.ReLU(),\n",
        "            nn.Dropout2d(dropout),\n",
        "            # nn.Conv2d(32*width, 32*width, kernel_size=3, padding=1, stride=1),\n",
        "            LinearAttentionConv2d(\n",
        "                input_dim = 32*width,\n",
        "                output_dim = 32*width,\n",
        "                dk = 8*self.dv*width,\n",
        "                dv = 2*self.dv*width,\n",
        "                num_heads = 2*self.Nh,\n",
        "                kernel_size = 3,\n",
        "                padding = 1,\n",
        "                device=device,\n",
        "                height=16,\n",
        "                width=16,\n",
        "            ),\n",
        "        )\n",
        "\n",
        "        self.pre_block3 = nn.Sequential(\n",
        "            nn.BatchNorm2d(32*width),\n",
        "            nn.ReLU(),\n",
        "        )\n",
        "        self.block31 = nn.Sequential(\n",
        "            nn.Conv2d(32*width, 64*width, kernel_size=3, padding=1, stride=2),\n",
        "            nn.BatchNorm2d(64*width),\n",
        "            nn.ReLU(),\n",
        "            nn.Dropout2d(dropout),\n",
        "            # nn.Conv2d(64*width, 64*width, kernel_size=3, padding=1, stride=1),\n",
        "            LinearAttentionConv2d(\n",
        "                input_dim = 64*width,\n",
        "                output_dim = 64*width,\n",
        "                dk = 16*self.dv*width,\n",
        "                dv = 4*self.dv*width,\n",
        "                num_heads = 4*self.Nh,\n",
        "                kernel_size = 3,\n",
        "                padding = 1,\n",
        "                device=device,\n",
        "                height=8,\n",
        "                width=8,\n",
        "            ),\n",
        "        )\n",
        "        self.shortcut3 = nn.Conv2d(32*width, 64*width, kernel_size=1, stride=2)\n",
        "        self.block32 = nn.Sequential(\n",
        "            nn.BatchNorm2d(64*width),\n",
        "            nn.ReLU(),\n",
        "            nn.Conv2d(64*width, 64*width, kernel_size=3, padding=1, stride=1),\n",
        "            nn.BatchNorm2d(64*width),\n",
        "            nn.ReLU(),\n",
        "            nn.Dropout2d(dropout),\n",
        "            # nn.Conv2d(64*width, 64*width, kernel_size=3, padding=1, stride=1),\n",
        "            LinearAttentionConv2d(\n",
        "                input_dim = 64*width,\n",
        "                output_dim = 64*width,\n",
        "                dk = 16*self.dv*width,\n",
        "                dv = 4*self.dv*width,\n",
        "                num_heads = 4*self.Nh,\n",
        "                kernel_size = 3,\n",
        "                padding = 1,\n",
        "                device=device,\n",
        "                height=8,\n",
        "                width=8,\n",
        "            ),\n",
        "        )\n",
        "\n",
        "        self.pool_block = nn.Sequential(\n",
        "            nn.BatchNorm2d(64*width),\n",
        "            nn.ReLU(),\n",
        "            nn.AvgPool2d(8, 8),\n",
        "        )\n",
        "\n",
        "        self.fc = nn.Sequential(\n",
        "            nn.Linear(64*width, 64*width),\n",
        "            nn.ReLU(),\n",
        "            nn.Dropout1d(dropout/2),\n",
        "            nn.Linear(64*width, num_classes)\n",
        "        )\n",
        "\n",
        "    def forward(self, x):\n",
        "        # x.shape = B x 3 x 64 x 64\n",
        "\n",
        "        x = self.block0(x)\n",
        "        # x.shape = B x 16 x 64 x 64\n",
        "\n",
        "        x1 = self.block11(x)\n",
        "        x2 = self.shortcut1(x)\n",
        "        x3 = x1 + x2\n",
        "        x4 = self.block12(x3)\n",
        "        x = x4 + x3\n",
        "        # x.shape = B x 16*width x 32 x 32\n",
        "\n",
        "        x = self.pre_block2(x)\n",
        "        x1 = self.block21(x)\n",
        "        x2 = self.shortcut2(x)\n",
        "        x3 = x1 + x2\n",
        "        x4 = self.block22(x3)\n",
        "        x = x4 + x3\n",
        "        # x.shape = B x 32*width x 16 x 16\n",
        "\n",
        "        x = self.pre_block3(x)\n",
        "        x1 = self.block31(x)\n",
        "        x2 = self.shortcut3(x)\n",
        "        x3 = x1 + x2\n",
        "        x4 = self.block32(x3)\n",
        "        x = x4 + x3\n",
        "        # x.shape = B x 64*width x 8 x 8\n",
        "\n",
        "        x = self.pool_block(x)\n",
        "        # x.shape = B x 64*width x 1 x 1\n",
        "\n",
        "        x = torch.flatten(x, start_dim=1)\n",
        "        # flatten all dimensions except batch (0th dim)\n",
        "        # x.shape = B x 64*width\n",
        "\n",
        "        x = self.fc(x)\n",
        "        # x.shape = B x num_classes\n",
        "\n",
        "        return x"
      ]
    },
    {
      "cell_type": "markdown",
      "metadata": {},
      "source": [
        "# Training The Model"
      ]
    },
    {
      "cell_type": "code",
      "execution_count": 37,
      "metadata": {},
      "outputs": [
        {
          "name": "stdout",
          "output_type": "stream",
          "text": [
            "----------------------------------------------------------------\n",
            "        Layer (type)               Output Shape         Param #\n",
            "================================================================\n",
            "            Conv2d-1           [-1, 16, 64, 64]             448\n",
            "       BatchNorm2d-2           [-1, 16, 64, 64]              32\n",
            "              ReLU-3           [-1, 16, 64, 64]               0\n",
            "            Conv2d-4          [-1, 128, 32, 32]          18,560\n",
            "       BatchNorm2d-5          [-1, 128, 32, 32]             256\n",
            "              ReLU-6          [-1, 128, 32, 32]               0\n",
            "         Dropout2d-7          [-1, 128, 32, 32]               0\n",
            "            Conv2d-8           [-1, 64, 32, 32]          73,792\n",
            "            Conv2d-9          [-1, 576, 32, 32]          74,304\n",
            "          Softmax-10         [-1, 1, 256, 1024]               0\n",
            "          Softmax-11         [-1, 1, 256, 1024]               0\n",
            "           Conv2d-12           [-1, 64, 32, 32]           4,160\n",
            "LinearAttentionConv2d-13          [-1, 128, 32, 32]               0\n",
            "           Conv2d-14          [-1, 128, 32, 32]           2,176\n",
            "      BatchNorm2d-15          [-1, 128, 32, 32]             256\n",
            "             ReLU-16          [-1, 128, 32, 32]               0\n",
            "           Conv2d-17          [-1, 128, 32, 32]         147,584\n",
            "      BatchNorm2d-18          [-1, 128, 32, 32]             256\n",
            "             ReLU-19          [-1, 128, 32, 32]               0\n",
            "        Dropout2d-20          [-1, 128, 32, 32]               0\n",
            "           Conv2d-21          [-1, 128, 32, 32]         147,584\n",
            "           Conv2d-22           [-1, 64, 32, 32]          73,792\n",
            "           Conv2d-23          [-1, 576, 32, 32]          74,304\n",
            "          Softmax-24         [-1, 1, 256, 1024]               0\n",
            "          Softmax-25         [-1, 1, 256, 1024]               0\n",
            "           Conv2d-26           [-1, 64, 32, 32]           4,160\n",
            "LinearAttentionConv2d-27          [-1, 128, 32, 32]               0\n",
            "      BatchNorm2d-28          [-1, 128, 32, 32]             256\n",
            "             ReLU-29          [-1, 128, 32, 32]               0\n",
            "           Conv2d-30          [-1, 256, 16, 16]         295,168\n",
            "      BatchNorm2d-31          [-1, 256, 16, 16]             512\n",
            "             ReLU-32          [-1, 256, 16, 16]               0\n",
            "        Dropout2d-33          [-1, 256, 16, 16]               0\n",
            "           Conv2d-34          [-1, 128, 16, 16]         295,040\n",
            "           Conv2d-35         [-1, 1152, 16, 16]         296,064\n",
            "          Softmax-36          [-1, 2, 256, 256]               0\n",
            "          Softmax-37          [-1, 2, 256, 256]               0\n",
            "           Conv2d-38          [-1, 128, 16, 16]          16,512\n",
            "LinearAttentionConv2d-39          [-1, 256, 16, 16]               0\n",
            "           Conv2d-40          [-1, 256, 16, 16]          33,024\n",
            "      BatchNorm2d-41          [-1, 256, 16, 16]             512\n",
            "             ReLU-42          [-1, 256, 16, 16]               0\n",
            "           Conv2d-43          [-1, 256, 16, 16]         590,080\n",
            "      BatchNorm2d-44          [-1, 256, 16, 16]             512\n",
            "             ReLU-45          [-1, 256, 16, 16]               0\n",
            "        Dropout2d-46          [-1, 256, 16, 16]               0\n",
            "           Conv2d-47          [-1, 128, 16, 16]         295,040\n",
            "           Conv2d-48         [-1, 1152, 16, 16]         296,064\n",
            "          Softmax-49          [-1, 2, 256, 256]               0\n",
            "          Softmax-50          [-1, 2, 256, 256]               0\n",
            "           Conv2d-51          [-1, 128, 16, 16]          16,512\n",
            "LinearAttentionConv2d-52          [-1, 256, 16, 16]               0\n",
            "      BatchNorm2d-53          [-1, 256, 16, 16]             512\n",
            "             ReLU-54          [-1, 256, 16, 16]               0\n",
            "           Conv2d-55            [-1, 512, 8, 8]       1,180,160\n",
            "      BatchNorm2d-56            [-1, 512, 8, 8]           1,024\n",
            "             ReLU-57            [-1, 512, 8, 8]               0\n",
            "        Dropout2d-58            [-1, 512, 8, 8]               0\n",
            "           Conv2d-59            [-1, 256, 8, 8]       1,179,904\n",
            "           Conv2d-60           [-1, 2304, 8, 8]       1,181,952\n",
            "          Softmax-61           [-1, 4, 256, 64]               0\n",
            "          Softmax-62           [-1, 4, 256, 64]               0\n",
            "           Conv2d-63            [-1, 256, 8, 8]          65,792\n",
            "LinearAttentionConv2d-64            [-1, 512, 8, 8]               0\n",
            "           Conv2d-65            [-1, 512, 8, 8]         131,584\n",
            "      BatchNorm2d-66            [-1, 512, 8, 8]           1,024\n",
            "             ReLU-67            [-1, 512, 8, 8]               0\n",
            "           Conv2d-68            [-1, 512, 8, 8]       2,359,808\n",
            "      BatchNorm2d-69            [-1, 512, 8, 8]           1,024\n",
            "             ReLU-70            [-1, 512, 8, 8]               0\n",
            "        Dropout2d-71            [-1, 512, 8, 8]               0\n",
            "           Conv2d-72            [-1, 256, 8, 8]       1,179,904\n",
            "           Conv2d-73           [-1, 2304, 8, 8]       1,181,952\n",
            "          Softmax-74           [-1, 4, 256, 64]               0\n",
            "          Softmax-75           [-1, 4, 256, 64]               0\n",
            "           Conv2d-76            [-1, 256, 8, 8]          65,792\n",
            "LinearAttentionConv2d-77            [-1, 512, 8, 8]               0\n",
            "      BatchNorm2d-78            [-1, 512, 8, 8]           1,024\n",
            "             ReLU-79            [-1, 512, 8, 8]               0\n",
            "        AvgPool2d-80            [-1, 512, 1, 1]               0\n",
            "           Linear-81                  [-1, 512]         262,656\n",
            "             ReLU-82                  [-1, 512]               0\n",
            "        Dropout1d-83                  [-1, 512]               0\n",
            "           Linear-84                  [-1, 200]         102,600\n",
            "================================================================\n",
            "Total params: 11,653,672\n",
            "Trainable params: 11,653,672\n",
            "Non-trainable params: 0\n",
            "----------------------------------------------------------------\n",
            "Input size (MB): 0.05\n",
            "Forward/backward pass size (MB): 62.02\n",
            "Params size (MB): 44.46\n",
            "Estimated Total Size (MB): 106.52\n",
            "----------------------------------------------------------------\n"
          ]
        }
      ],
      "source": [
        "model3 = Wide_LAAResNet(width=8, dropout=0.5, num_classes=200).to(device)\n",
        "summary(model3, (3, 64, 64))"
      ]
    },
    {
      "cell_type": "code",
      "execution_count": 29,
      "metadata": {},
      "outputs": [
        {
          "name": "stderr",
          "output_type": "stream",
          "text": [
            "  2%|▏         | 1/50 [01:50<1:30:06, 110.34s/it]"
          ]
        },
        {
          "name": "stdout",
          "output_type": "stream",
          "text": [
            "Epoch 1 -\tTraining Loss : 0.039696785736083984 \tValidation Loss : 0.01849177041399492\n"
          ]
        },
        {
          "name": "stderr",
          "output_type": "stream",
          "text": [
            "  4%|▍         | 2/50 [03:42<1:29:00, 111.27s/it]"
          ]
        },
        {
          "name": "stdout",
          "output_type": "stream",
          "text": [
            "Epoch 2 -\tTraining Loss : 0.03722550304200914 \tValidation Loss : 0.01746679305563872\n"
          ]
        },
        {
          "name": "stderr",
          "output_type": "stream",
          "text": [
            "  6%|▌         | 3/50 [05:35<1:27:57, 112.29s/it]"
          ]
        },
        {
          "name": "stdout",
          "output_type": "stream",
          "text": [
            "Epoch 3 -\tTraining Loss : 0.03561690775023566 \tValidation Loss : 0.017345274087924772\n"
          ]
        },
        {
          "name": "stderr",
          "output_type": "stream",
          "text": [
            "  8%|▊         | 4/50 [07:33<1:27:42, 114.40s/it]"
          ]
        },
        {
          "name": "stdout",
          "output_type": "stream",
          "text": [
            "Epoch 4 -\tTraining Loss : 0.03423409712579515 \tValidation Loss : 0.015736986014061472\n",
            "Epoch 5 -\tTraining Loss : 0.03307730290359921 \tValidation Loss : 0.01589001960954947\n"
          ]
        },
        {
          "name": "stderr",
          "output_type": "stream",
          "text": [
            " 10%|█         | 5/50 [09:42<1:29:38, 119.53s/it]"
          ]
        },
        {
          "name": "stdout",
          "output_type": "stream",
          "text": [
            "Training Accuracy = 11.448888888888888 \tValidation Accuracy = 13.742511309451032 \tTest Accuracy Top1 = 14.38 \tTest Accuracy Top5 = 34.56\n"
          ]
        },
        {
          "name": "stderr",
          "output_type": "stream",
          "text": [
            " 12%|█▏        | 6/50 [11:43<1:28:14, 120.34s/it]"
          ]
        },
        {
          "name": "stdout",
          "output_type": "stream",
          "text": [
            "Epoch 6 -\tTraining Loss : 0.032138429964913263 \tValidation Loss : 0.014589461972448496\n"
          ]
        },
        {
          "name": "stderr",
          "output_type": "stream",
          "text": [
            " 14%|█▍        | 7/50 [13:48<1:27:11, 121.65s/it]"
          ]
        },
        {
          "name": "stdout",
          "output_type": "stream",
          "text": [
            "Epoch 7 -\tTraining Loss : 0.031316551536983914 \tValidation Loss : 0.014696456645896082\n"
          ]
        },
        {
          "name": "stderr",
          "output_type": "stream",
          "text": [
            " 16%|█▌        | 8/50 [15:54<1:26:05, 123.00s/it]"
          ]
        },
        {
          "name": "stdout",
          "output_type": "stream",
          "text": [
            "Epoch 8 -\tTraining Loss : 0.030568771272235448 \tValidation Loss : 0.01351224628429364\n"
          ]
        },
        {
          "name": "stderr",
          "output_type": "stream",
          "text": [
            " 18%|█▊        | 9/50 [17:59<1:24:34, 123.77s/it]"
          ]
        },
        {
          "name": "stdout",
          "output_type": "stream",
          "text": [
            "Epoch 9 -\tTraining Loss : 0.029959576376279193 \tValidation Loss : 0.013019739029270205\n",
            "Epoch 10 -\tTraining Loss : 0.029495021465089585 \tValidation Loss : 0.013313336890664074\n"
          ]
        },
        {
          "name": "stderr",
          "output_type": "stream",
          "text": [
            " 20%|██        | 10/50 [20:10<1:24:02, 126.06s/it]"
          ]
        },
        {
          "name": "stdout",
          "output_type": "stream",
          "text": [
            "Training Accuracy = 18.685555555555556 \tValidation Accuracy = 23.474752414720626 \tTest Accuracy Top1 = 23.77 \tTest Accuracy Top5 = 50.15\n"
          ]
        },
        {
          "name": "stderr",
          "output_type": "stream",
          "text": [
            " 22%|██▏       | 11/50 [22:16<1:21:52, 125.97s/it]"
          ]
        },
        {
          "name": "stdout",
          "output_type": "stream",
          "text": [
            "Epoch 11 -\tTraining Loss : 0.02891007914543152 \tValidation Loss : 0.012797729414298463\n"
          ]
        },
        {
          "name": "stderr",
          "output_type": "stream",
          "text": [
            " 24%|██▍       | 12/50 [24:20<1:19:27, 125.45s/it]"
          ]
        },
        {
          "name": "stdout",
          "output_type": "stream",
          "text": [
            "Epoch 12 -\tTraining Loss : 0.028520897873242697 \tValidation Loss : 0.01233823323602533\n"
          ]
        },
        {
          "name": "stderr",
          "output_type": "stream",
          "text": [
            " 26%|██▌       | 13/50 [26:27<1:17:38, 125.91s/it]"
          ]
        },
        {
          "name": "stdout",
          "output_type": "stream",
          "text": [
            "Epoch 13 -\tTraining Loss : 0.028171952403916255 \tValidation Loss : 0.012034733468300703\n"
          ]
        },
        {
          "name": "stderr",
          "output_type": "stream",
          "text": [
            " 28%|██▊       | 14/50 [28:33<1:15:33, 125.92s/it]"
          ]
        },
        {
          "name": "stdout",
          "output_type": "stream",
          "text": [
            "Epoch 14 -\tTraining Loss : 0.027781912634107803 \tValidation Loss : 0.012158186690179741\n",
            "Epoch 15 -\tTraining Loss : 0.0274298526207606 \tValidation Loss : 0.011669375054307781\n"
          ]
        },
        {
          "name": "stderr",
          "output_type": "stream",
          "text": [
            " 30%|███       | 15/50 [30:41<1:13:45, 126.44s/it]"
          ]
        },
        {
          "name": "stdout",
          "output_type": "stream",
          "text": [
            "Training Accuracy = 23.43777777777778 \tValidation Accuracy = 32.265558136691524 \tTest Accuracy Top1 = 32.53 \tTest Accuracy Top5 = 60.09\n"
          ]
        },
        {
          "name": "stderr",
          "output_type": "stream",
          "text": [
            " 32%|███▏      | 16/50 [32:45<1:11:19, 125.88s/it]"
          ]
        },
        {
          "name": "stdout",
          "output_type": "stream",
          "text": [
            "Epoch 16 -\tTraining Loss : 0.02709613563749525 \tValidation Loss : 0.01150113720957407\n"
          ]
        },
        {
          "name": "stderr",
          "output_type": "stream",
          "text": [
            " 34%|███▍      | 17/50 [34:50<1:08:57, 125.38s/it]"
          ]
        },
        {
          "name": "stdout",
          "output_type": "stream",
          "text": [
            "Epoch 17 -\tTraining Loss : 0.026811616407500374 \tValidation Loss : 0.011325820790393558\n"
          ]
        },
        {
          "name": "stderr",
          "output_type": "stream",
          "text": [
            " 36%|███▌      | 18/50 [36:56<1:07:00, 125.64s/it]"
          ]
        },
        {
          "name": "stdout",
          "output_type": "stream",
          "text": [
            "Epoch 18 -\tTraining Loss : 0.026485009712643094 \tValidation Loss : 0.01117787706282075\n"
          ]
        },
        {
          "name": "stderr",
          "output_type": "stream",
          "text": [
            " 38%|███▊      | 19/50 [39:03<1:05:05, 125.98s/it]"
          ]
        },
        {
          "name": "stdout",
          "output_type": "stream",
          "text": [
            "Epoch 19 -\tTraining Loss : 0.026146959596210054 \tValidation Loss : 0.010967132149997295\n",
            "Epoch 20 -\tTraining Loss : 0.025934938542048137 \tValidation Loss : 0.0109847394451417\n"
          ]
        },
        {
          "name": "stderr",
          "output_type": "stream",
          "text": [
            " 40%|████      | 20/50 [41:13<1:03:38, 127.28s/it]"
          ]
        },
        {
          "name": "stdout",
          "output_type": "stream",
          "text": [
            "Training Accuracy = 27.026666666666667 \tValidation Accuracy = 35.21212862208094 \tTest Accuracy Top1 = 35.43 \tTest Accuracy Top5 = 62.6\n"
          ]
        },
        {
          "name": "stderr",
          "output_type": "stream",
          "text": [
            " 42%|████▏     | 21/50 [43:19<1:01:18, 126.84s/it]"
          ]
        },
        {
          "name": "stdout",
          "output_type": "stream",
          "text": [
            "Epoch 21 -\tTraining Loss : 0.025624738213751053 \tValidation Loss : 0.011668654376653896\n"
          ]
        },
        {
          "name": "stderr",
          "output_type": "stream",
          "text": [
            " 44%|████▍     | 22/50 [45:23<58:52, 126.17s/it]  "
          ]
        },
        {
          "name": "stdout",
          "output_type": "stream",
          "text": [
            "Epoch 22 -\tTraining Loss : 0.02545696997642517 \tValidation Loss : 0.010888923860030588\n"
          ]
        },
        {
          "name": "stderr",
          "output_type": "stream",
          "text": [
            " 46%|████▌     | 23/50 [47:25<56:12, 124.89s/it]"
          ]
        },
        {
          "name": "stdout",
          "output_type": "stream",
          "text": [
            "Epoch 23 -\tTraining Loss : 0.02516015837457445 \tValidation Loss : 0.010576640616595447\n"
          ]
        },
        {
          "name": "stderr",
          "output_type": "stream",
          "text": [
            " 48%|████▊     | 24/50 [49:30<54:01, 124.67s/it]"
          ]
        },
        {
          "name": "stdout",
          "output_type": "stream",
          "text": [
            "Epoch 24 -\tTraining Loss : 0.024995454772313436 \tValidation Loss : 0.010723191902710065\n",
            "Epoch 25 -\tTraining Loss : 0.02473729598257277 \tValidation Loss : 0.010586761993947364\n"
          ]
        },
        {
          "name": "stderr",
          "output_type": "stream",
          "text": [
            " 50%|█████     | 25/50 [51:36<52:11, 125.25s/it]"
          ]
        },
        {
          "name": "stdout",
          "output_type": "stream",
          "text": [
            "Training Accuracy = 30.19333333333333 \tValidation Accuracy = 36.459224844112974 \tTest Accuracy Top1 = 36.62 \tTest Accuracy Top5 = 64.71\n"
          ]
        },
        {
          "name": "stderr",
          "output_type": "stream",
          "text": [
            " 52%|█████▏    | 26/50 [53:41<50:05, 125.23s/it]"
          ]
        },
        {
          "name": "stdout",
          "output_type": "stream",
          "text": [
            "Epoch 26 -\tTraining Loss : 0.02452708113723331 \tValidation Loss : 0.010494273017009264\n"
          ]
        },
        {
          "name": "stderr",
          "output_type": "stream",
          "text": [
            " 54%|█████▍    | 27/50 [55:47<48:00, 125.24s/it]"
          ]
        },
        {
          "name": "stdout",
          "output_type": "stream",
          "text": [
            "Epoch 27 -\tTraining Loss : 0.024358947303560044 \tValidation Loss : 0.01024009971837861\n"
          ]
        },
        {
          "name": "stderr",
          "output_type": "stream",
          "text": [
            " 56%|█████▌    | 28/50 [57:53<46:01, 125.54s/it]"
          ]
        },
        {
          "name": "stdout",
          "output_type": "stream",
          "text": [
            "Epoch 28 -\tTraining Loss : 0.0241440067158805 \tValidation Loss : 0.010043314841545973\n"
          ]
        },
        {
          "name": "stderr",
          "output_type": "stream",
          "text": [
            " 58%|█████▊    | 29/50 [59:59<44:01, 125.78s/it]"
          ]
        },
        {
          "name": "stdout",
          "output_type": "stream",
          "text": [
            "Epoch 29 -\tTraining Loss : 0.024032251397768656 \tValidation Loss : 0.00998267096694254\n",
            "Epoch 30 -\tTraining Loss : 0.02384581448237101 \tValidation Loss : 0.009959776516079625\n"
          ]
        },
        {
          "name": "stderr",
          "output_type": "stream",
          "text": [
            " 60%|██████    | 30/50 [1:02:10<42:25, 127.28s/it]"
          ]
        },
        {
          "name": "stdout",
          "output_type": "stream",
          "text": [
            "Training Accuracy = 32.48222222222222 \tValidation Accuracy = 39.9926641398704 \tTest Accuracy Top1 = 40.36 \tTest Accuracy Top5 = 67.62\n"
          ]
        },
        {
          "name": "stderr",
          "output_type": "stream",
          "text": [
            " 62%|██████▏   | 31/50 [1:04:15<40:04, 126.53s/it]"
          ]
        },
        {
          "name": "stdout",
          "output_type": "stream",
          "text": [
            "Epoch 31 -\tTraining Loss : 0.02372281572818756 \tValidation Loss : 0.009843641628130591\n"
          ]
        },
        {
          "name": "stderr",
          "output_type": "stream",
          "text": [
            " 64%|██████▍   | 32/50 [1:06:20<37:51, 126.17s/it]"
          ]
        },
        {
          "name": "stdout",
          "output_type": "stream",
          "text": [
            "Epoch 32 -\tTraining Loss : 0.023483146203888788 \tValidation Loss : 0.009808498338959826\n"
          ]
        },
        {
          "name": "stderr",
          "output_type": "stream",
          "text": [
            " 66%|██████▌   | 33/50 [1:08:25<35:40, 125.92s/it]"
          ]
        },
        {
          "name": "stdout",
          "output_type": "stream",
          "text": [
            "Epoch 33 -\tTraining Loss : 0.02342986747423808 \tValidation Loss : 0.009816032208648955\n"
          ]
        },
        {
          "name": "stderr",
          "output_type": "stream",
          "text": [
            " 68%|██████▊   | 34/50 [1:10:31<33:32, 125.76s/it]"
          ]
        },
        {
          "name": "stdout",
          "output_type": "stream",
          "text": [
            "Epoch 34 -\tTraining Loss : 0.023226682453685338 \tValidation Loss : 0.009607067637519916\n",
            "Epoch 35 -\tTraining Loss : 0.023071522008048163 \tValidation Loss : 0.00954208751225591\n"
          ]
        },
        {
          "name": "stderr",
          "output_type": "stream",
          "text": [
            " 70%|███████   | 35/50 [1:12:41<31:46, 127.07s/it]"
          ]
        },
        {
          "name": "stdout",
          "output_type": "stream",
          "text": [
            "Training Accuracy = 34.45444444444445 \tValidation Accuracy = 42.10783714390512 \tTest Accuracy Top1 = 42.12 \tTest Accuracy Top5 = 69.27\n"
          ]
        },
        {
          "name": "stderr",
          "output_type": "stream",
          "text": [
            " 72%|███████▏  | 36/50 [1:14:47<29:33, 126.67s/it]"
          ]
        },
        {
          "name": "stdout",
          "output_type": "stream",
          "text": [
            "Epoch 36 -\tTraining Loss : 0.02287718913290236 \tValidation Loss : 0.00958052056388701\n"
          ]
        },
        {
          "name": "stderr",
          "output_type": "stream",
          "text": [
            " 74%|███████▍  | 37/50 [1:16:52<27:20, 126.18s/it]"
          ]
        },
        {
          "name": "stdout",
          "output_type": "stream",
          "text": [
            "Epoch 37 -\tTraining Loss : 0.022784383885065713 \tValidation Loss : 0.009449025910966684\n"
          ]
        },
        {
          "name": "stderr",
          "output_type": "stream",
          "text": [
            " 76%|███████▌  | 38/50 [1:18:57<25:11, 125.93s/it]"
          ]
        },
        {
          "name": "stdout",
          "output_type": "stream",
          "text": [
            "Epoch 38 -\tTraining Loss : 0.022822427950965035 \tValidation Loss : 0.009504428512091916\n"
          ]
        },
        {
          "name": "stderr",
          "output_type": "stream",
          "text": [
            " 78%|███████▊  | 39/50 [1:21:02<23:00, 125.50s/it]"
          ]
        },
        {
          "name": "stdout",
          "output_type": "stream",
          "text": [
            "Epoch 39 -\tTraining Loss : 0.022650287085109286 \tValidation Loss : 0.009495250898026096\n",
            "Epoch 40 -\tTraining Loss : 0.022469311330053542 \tValidation Loss : 0.00936108472688607\n"
          ]
        },
        {
          "name": "stderr",
          "output_type": "stream",
          "text": [
            " 80%|████████  | 40/50 [1:23:11<21:05, 126.57s/it]"
          ]
        },
        {
          "name": "stdout",
          "output_type": "stream",
          "text": [
            "Training Accuracy = 36.284444444444446 \tValidation Accuracy = 42.951461058809144 \tTest Accuracy Top1 = 43.14 \tTest Accuracy Top5 = 70.03\n"
          ]
        },
        {
          "name": "stderr",
          "output_type": "stream",
          "text": [
            " 82%|████████▏ | 41/50 [1:25:15<18:53, 125.91s/it]"
          ]
        },
        {
          "name": "stdout",
          "output_type": "stream",
          "text": [
            "Epoch 41 -\tTraining Loss : 0.022452428873380025 \tValidation Loss : 0.00935657657814982\n"
          ]
        },
        {
          "name": "stderr",
          "output_type": "stream",
          "text": [
            " 84%|████████▍ | 42/50 [1:27:20<16:45, 125.75s/it]"
          ]
        },
        {
          "name": "stdout",
          "output_type": "stream",
          "text": [
            "Epoch 42 -\tTraining Loss : 0.022355307626724243 \tValidation Loss : 0.009304003313826909\n"
          ]
        },
        {
          "name": "stderr",
          "output_type": "stream",
          "text": [
            " 86%|████████▌ | 43/50 [1:29:26<14:40, 125.75s/it]"
          ]
        },
        {
          "name": "stdout",
          "output_type": "stream",
          "text": [
            "Epoch 43 -\tTraining Loss : 0.022330450208981834 \tValidation Loss : 0.009331670712835851\n"
          ]
        },
        {
          "name": "stderr",
          "output_type": "stream",
          "text": [
            " 88%|████████▊ | 44/50 [1:31:32<12:34, 125.68s/it]"
          ]
        },
        {
          "name": "stdout",
          "output_type": "stream",
          "text": [
            "Epoch 44 -\tTraining Loss : 0.022233668616082933 \tValidation Loss : 0.00932707989444679\n",
            "Epoch 45 -\tTraining Loss : 0.02221993549134996 \tValidation Loss : 0.009273257636254363\n"
          ]
        },
        {
          "name": "stderr",
          "output_type": "stream",
          "text": [
            " 90%|█████████ | 45/50 [1:33:39<10:30, 126.12s/it]"
          ]
        },
        {
          "name": "stdout",
          "output_type": "stream",
          "text": [
            "Training Accuracy = 37.00333333333333 \tValidation Accuracy = 43.68504707176916 \tTest Accuracy Top1 = 43.49 \tTest Accuracy Top5 = 70.83\n"
          ]
        },
        {
          "name": "stderr",
          "output_type": "stream",
          "text": [
            " 92%|█████████▏| 46/50 [1:35:43<08:22, 125.58s/it]"
          ]
        },
        {
          "name": "stdout",
          "output_type": "stream",
          "text": [
            "Epoch 46 -\tTraining Loss : 0.022143251964781018 \tValidation Loss : 0.009234426540156014\n"
          ]
        },
        {
          "name": "stderr",
          "output_type": "stream",
          "text": [
            " 94%|█████████▍| 47/50 [1:37:47<06:15, 125.24s/it]"
          ]
        },
        {
          "name": "stdout",
          "output_type": "stream",
          "text": [
            "Epoch 47 -\tTraining Loss : 0.02210053455564711 \tValidation Loss : 0.00925780537805022\n"
          ]
        },
        {
          "name": "stderr",
          "output_type": "stream",
          "text": [
            " 96%|█████████▌| 48/50 [1:39:51<04:09, 124.79s/it]"
          ]
        },
        {
          "name": "stdout",
          "output_type": "stream",
          "text": [
            "Epoch 48 -\tTraining Loss : 0.022211631896760727 \tValidation Loss : 0.009248466738891974\n"
          ]
        },
        {
          "name": "stderr",
          "output_type": "stream",
          "text": [
            " 98%|█████████▊| 49/50 [1:41:55<02:04, 124.35s/it]"
          ]
        },
        {
          "name": "stdout",
          "output_type": "stream",
          "text": [
            "Epoch 49 -\tTraining Loss : 0.02217054909600152 \tValidation Loss : 0.009281935442891735\n",
            "Epoch 50 -\tTraining Loss : 0.022057912439770167 \tValidation Loss : 0.00924732761170844\n"
          ]
        },
        {
          "name": "stderr",
          "output_type": "stream",
          "text": [
            "100%|██████████| 50/50 [1:44:01<00:00, 124.84s/it]"
          ]
        },
        {
          "name": "stdout",
          "output_type": "stream",
          "text": [
            "Training Accuracy = 37.34777777777778 \tValidation Accuracy = 43.61168847047316 \tTest Accuracy Top1 = 43.51 \tTest Accuracy Top5 = 70.52\n"
          ]
        },
        {
          "name": "stderr",
          "output_type": "stream",
          "text": [
            "\n"
          ]
        }
      ],
      "source": [
        "train_loader = DataLoader(train_set, batch_size=128, shuffle=True)\n",
        "validation_loader = DataLoader(validation_set, batch_size=256, shuffle=False)\n",
        "test_loader = DataLoader(test_set, batch_size=256, shuffle=False)\n",
        "\n",
        "optimizer = torch.optim.SGD\n",
        "scheduler = torch.optim.lr_scheduler.CosineAnnealingLR\n",
        "loss_fn = F.cross_entropy\n",
        "\n",
        "history3 = train(model3, optimizer, scheduler, loss_fn, train_loader, validation_loader, test_loader, learning_rate=0.01, num_epochs=50)"
      ]
    },
    {
      "cell_type": "code",
      "execution_count": 30,
      "metadata": {},
      "outputs": [
        {
          "data": {
            "image/png": "[encoded data removed]",
            "text/plain": [
              "<Figure size 640x480 with 1 Axes>"
            ]
          },
          "metadata": {},
          "output_type": "display_data"
        }
      ],
      "source": [
        "plot_loss(history3['train_loss'], history3['val_loss'])"
      ]
    },
    {
      "cell_type": "code",
      "execution_count": 31,
      "metadata": {},
      "outputs": [
        {
          "data": {
            "image/png": "[encoded data removed]",
            "text/plain": [
              "<Figure size 640x480 with 1 Axes>"
            ]
          },
          "metadata": {},
          "output_type": "display_data"
        }
      ],
      "source": [
        "plot_acc(history3['train_acc'], history3['val_acc'])"
      ]
    },
    {
      "cell_type": "code",
      "execution_count": 32,
      "metadata": {},
      "outputs": [
        {
          "data": {
            "image/png": "[encoded data removed]",
            "text/plain": [
              "<Figure size 640x480 with 1 Axes>"
            ]
          },
          "metadata": {},
          "output_type": "display_data"
        }
      ],
      "source": [
        "plot_test(history3['test_acc1'], history3['test_acc5'])"
      ]
    },
    {
      "cell_type": "code",
      "execution_count": 40,
      "metadata": {},
      "outputs": [
        {
          "name": "stdout",
          "output_type": "stream",
          "text": [
            "Average time per epoch for Wide_LAAResNet = 120.12974534988403\n"
          ]
        }
      ],
      "source": [
        "time_taken3 = np.array(history3['time'])\n",
        "print(\"Average time per epoch for Wide_LAAResNet =\", np.mean(time_taken3))"
      ]
    },
    {
      "cell_type": "code",
      "execution_count": 38,
      "metadata": {},
      "outputs": [],
      "source": [
        "with open('wide_laaresnet_history_tiny_imagenet', 'wb') as f:\n",
        "  pickle.dump(history3, f)"
      ]
    }
  ],
  "metadata": {
    "accelerator": "GPU",
    "colab": {
      "provenance": []
    },
    "kernelspec": {
      "display_name": "Python 3",
      "name": "python3"
    },
    "language_info": {
      "codemirror_mode": {
        "name": "ipython",
        "version": 3
      },
      "file_extension": ".py",
      "mimetype": "text/x-python",
      "name": "python",
      "nbconvert_exporter": "python",
      "pygments_lexer": "ipython3",
      "version": "3.8.10"
    }
  },
  "nbformat": 4,
  "nbformat_minor": 0
}
