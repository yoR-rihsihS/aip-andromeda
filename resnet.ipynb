{
  "cells": [
    {
      "cell_type": "markdown",
      "metadata": {
        "id": "QU5mfO1H_2sj"
      },
      "source": [
        "# Importing Required Libraries"
      ]
    },
    {
      "cell_type": "code",
      "execution_count": 1,
      "metadata": {
        "id": "PGtWScDeACLI"
      },
      "outputs": [
        {
          "name": "stderr",
          "output_type": "stream",
          "text": [
            "/data/home1/shishirm/.local/lib/python3.8/site-packages/tqdm/auto.py:21: TqdmWarning: IProgress not found. Please update jupyter and ipywidgets. See https://ipywidgets.readthedocs.io/en/stable/user_install.html\n",
            "  from .autonotebook import tqdm as notebook_tqdm\n"
          ]
        }
      ],
      "source": [
        "import os\n",
        "import torch\n",
        "import pickle\n",
        "from datasets import load_dataset\n",
        "import random\n",
        "import numpy as np\n",
        "from tqdm import tqdm\n",
        "\n",
        "import torch.nn as nn\n",
        "import torch.nn.functional as F\n",
        "\n",
        "from matplotlib import pyplot\n",
        "from torchsummary import summary\n",
        "from torch.utils.data import Dataset, DataLoader, random_split\n",
        "\n",
        "from torchvision.transforms.functional import pil_to_tensor, to_pil_image"
      ]
    },
    {
      "cell_type": "markdown",
      "metadata": {
        "id": "jf6kPoQvUWUK"
      },
      "source": [
        "# Makeing Results Reproducible"
      ]
    },
    {
      "cell_type": "code",
      "execution_count": 2,
      "metadata": {
        "id": "btkbbBJ7lPLZ"
      },
      "outputs": [],
      "source": [
        "random_seed = 42\n",
        "torch.manual_seed(random_seed)\n",
        "np.random.seed(random_seed)"
      ]
    },
    {
      "cell_type": "code",
      "execution_count": 13,
      "metadata": {},
      "outputs": [
        {
          "data": {
            "text/plain": [
              "'cuda'"
            ]
          },
          "execution_count": 13,
          "metadata": {},
          "output_type": "execute_result"
        }
      ],
      "source": [
        "device = 'cuda' if torch.cuda.is_available() else 'cpu'\n",
        "device"
      ]
    },
    {
      "cell_type": "markdown",
      "metadata": {
        "id": "T4iomoFzCh1N"
      },
      "source": [
        "# Reading the Dataset\n"
      ]
    },
    {
      "cell_type": "code",
      "execution_count": 3,
      "metadata": {},
      "outputs": [],
      "source": [
        "data = load_dataset('./tiny-imagenet', split='train')\n",
        "test = load_dataset('./tiny-imagenet', split='valid')"
      ]
    },
    {
      "cell_type": "code",
      "execution_count": 4,
      "metadata": {},
      "outputs": [
        {
          "name": "stdout",
          "output_type": "stream",
          "text": [
            "Dataset({\n",
            "    features: ['image', 'label'],\n",
            "    num_rows: 100000\n",
            "})\n",
            "Dataset({\n",
            "    features: ['image', 'label'],\n",
            "    num_rows: 10000\n",
            "})\n"
          ]
        }
      ],
      "source": [
        "print(data)\n",
        "print(test)"
      ]
    },
    {
      "cell_type": "code",
      "execution_count": 5,
      "metadata": {},
      "outputs": [],
      "source": [
        "def get_tensor_data(data):\n",
        "    tensor_images_list = [pil_to_tensor(img).to(torch.float32) for img in data[\"image\"]]\n",
        "    tensor_labels = data[\"label\"]\n",
        "    remove_indices = []\n",
        "\n",
        "    for i in range(len(tensor_images_list)):\n",
        "        if tensor_images_list[i].shape != (3, 64, 64):\n",
        "            remove_indices.append(i)\n",
        "\n",
        "    for i in range(len(remove_indices) - 1, -1, -1):\n",
        "        tensor_images_list.pop(remove_indices[i])\n",
        "        tensor_labels.pop(remove_indices[i])\n",
        "\n",
        "    print(\"No of images =\", len(tensor_images_list))\n",
        "    print(\"No of labels =\", len(tensor_labels))\n",
        "    print(\"No of removed images =\", len(remove_indices))\n",
        "\n",
        "    return torch.stack(tensor_images_list, dim=0) / 255, torch.tensor(tensor_labels)"
      ]
    },
    {
      "cell_type": "code",
      "execution_count": 6,
      "metadata": {},
      "outputs": [
        {
          "name": "stdout",
          "output_type": "stream",
          "text": [
            "No of images = 98179\n",
            "No of labels = 98179\n",
            "No of removed images = 1821\n",
            "No of images = 9832\n",
            "No of labels = 9832\n",
            "No of removed images = 168\n"
          ]
        }
      ],
      "source": [
        "data_images, data_labels = get_tensor_data(data)\n",
        "test_images, test_labels = get_tensor_data(test)"
      ]
    },
    {
      "cell_type": "markdown",
      "metadata": {
        "id": "yEp3Mi2fDXym"
      },
      "source": [
        "# Showing examples from datasets for sanity checking"
      ]
    },
    {
      "cell_type": "code",
      "execution_count": 7,
      "metadata": {
        "id": "JEoHi4ieDgih"
      },
      "outputs": [],
      "source": [
        "def show_example(image, label):\n",
        "  print(\"Label :\", label.item())\n",
        "  pyplot.imshow(to_pil_image(image))"
      ]
    },
    {
      "cell_type": "code",
      "execution_count": 8,
      "metadata": {
        "colab": {
          "base_uri": "https://localhost:8080/",
          "height": 465
        },
        "id": "jSjhGWo2p6lk",
        "outputId": "532cde98-74e5-4429-8528-5754f3fe52f5"
      },
      "outputs": [
        {
          "name": "stdout",
          "output_type": "stream",
          "text": [
            "index = 30065\n",
            "Label : 60\n"
          ]
        },
        {
          "data": {
            "image/png": "[encoded data removed]",
            "text/plain": [
              "<Figure size 640x480 with 1 Axes>"
            ]
          },
          "metadata": {},
          "output_type": "display_data"
        }
      ],
      "source": [
        "index = random.randint(0, 98179)\n",
        "print(\"index =\", index)\n",
        "show_example(data_images[index], data_labels[index])"
      ]
    },
    {
      "cell_type": "code",
      "execution_count": 9,
      "metadata": {
        "colab": {
          "base_uri": "https://localhost:8080/",
          "height": 465
        },
        "id": "ufYnogD8p6v7",
        "outputId": "36f9b2b9-6e9e-4fb0-a05c-7b10c1211ff8"
      },
      "outputs": [
        {
          "name": "stdout",
          "output_type": "stream",
          "text": [
            "index = 5536\n",
            "Label : 112\n"
          ]
        },
        {
          "data": {
            "image/png": "[encoded data removed]",
            "text/plain": [
              "<Figure size 640x480 with 1 Axes>"
            ]
          },
          "metadata": {},
          "output_type": "display_data"
        }
      ],
      "source": [
        "index = random.randint(0, 9832)\n",
        "print(\"index =\", index)\n",
        "show_example(test_images[index], test_labels[index])"
      ]
    },
    {
      "cell_type": "markdown",
      "metadata": {
        "id": "cEEfXXHUHe7h"
      },
      "source": [
        "# Train - Validation set split"
      ]
    },
    {
      "cell_type": "code",
      "execution_count": 10,
      "metadata": {
        "id": "4iFmbX9hutJO"
      },
      "outputs": [],
      "source": [
        "train_examples = 90000\n",
        "validation_examples = 8179\n",
        "\n",
        "class CustomDataset(Dataset):\n",
        "    def __init__(self, images, labels):\n",
        "        self.X = images\n",
        "        self.Y = labels\n",
        "\n",
        "    def __len__(self):\n",
        "        return self.X.shape[0]\n",
        "\n",
        "    def __getitem__(self, index):\n",
        "        return (self.X[index], self.Y[index])\n",
        "\n",
        "\n",
        "dataset = CustomDataset(data_images, data_labels)\n",
        "train, validation = random_split(dataset, [train_examples, validation_examples])\n",
        "testset = CustomDataset(test_images, test_labels)"
      ]
    },
    {
      "cell_type": "markdown",
      "metadata": {
        "id": "JKkr8K7ymYhn"
      },
      "source": [
        "# Defining the Models"
      ]
    },
    {
      "cell_type": "code",
      "execution_count": 11,
      "metadata": {
        "id": "tx7gjQ6nhZdN"
      },
      "outputs": [],
      "source": [
        "class CNN(nn.Module):\n",
        "  def __init__(self):\n",
        "    super().__init__()\n",
        "    self.conv1 = nn.Conv2d(3, 64, kernel_size=7, stride=1, padding=3)\n",
        "    self.batch1 = nn.BatchNorm2d(64)\n",
        "\n",
        "    self.conv2 = nn.Conv2d(64, 128, kernel_size=3, stride=1, padding=1)\n",
        "    self.batch2 = nn.BatchNorm2d(128)\n",
        "\n",
        "    self.conv3 = nn.Conv2d(128, 256, kernel_size=3, stride=1, padding=1)\n",
        "    self.batch3 = nn.BatchNorm2d(256)\n",
        "\n",
        "    self.conv4 = nn.Conv2d(256, 512, kernel_size=3, stride=1, padding=1)\n",
        "    self.batch4 = nn.BatchNorm2d(512)\n",
        "\n",
        "    self.conv5 = nn.Conv2d(512, 1024, kernel_size=3, stride=1, padding=1)\n",
        "    self.batch5 = nn.BatchNorm2d(1024)\n",
        "\n",
        "    self.maxpool = nn.MaxPool2d(2, 2)\n",
        "    self.avgpool = nn.AvgPool2d(4, 4)\n",
        "    self.relu = nn.PReLU()\n",
        "    self.drop1 = nn.Dropout(0.2)\n",
        "    self.drop2 = nn.Dropout2d(0.2)\n",
        "\n",
        "    self.fc1 = nn.Linear(1024, 2048)\n",
        "    self.fc2 = nn.Linear(2048, 512)\n",
        "    self.fc3 = nn.Linear(512, 200)\n",
        "\n",
        "  def forward(self, x):\n",
        "    # x.shape = (B x 3 x 64 x 64)\n",
        "\n",
        "    x1 = self.drop2(self.batch1(self.conv1(x))) # x1.shape = (B x 64 x 64 x 64)\n",
        "    x = self.maxpool(self.relu(x1))\n",
        "    # x.shape = (B x 64 x 32 x 32)\n",
        "\n",
        "    x2 = self.drop2(self.batch2(self.conv2(x))) # x2.shape = (B x 128 x 32 x 32)\n",
        "    x = self.maxpool(self.relu(x2))\n",
        "    # x.shape = (B x 128 x 16 x 16)\n",
        "\n",
        "    # x3 = self.drop(self.batch3(self.conv5(x + self.maxpool(x2)))) # x3.shape = (B x 256 x 16 x 16)\n",
        "    x3 = self.drop2(self.batch3(self.conv3(x))) # x3.shape = (B x 256 x 16 x 16)\n",
        "    x = self.maxpool(self.relu(x3))\n",
        "    # x.shape = (B x 256 x 8 x 8)\n",
        "\n",
        "    # x4 = self.drop(self.batch4(self.conv8(x + self.maxpool(x3)))) # x4.shape = (B x 512 x 8 x 8)\n",
        "    x4 = self.drop2(self.batch4(self.conv4(x))) # x4.shape = (B x 512 x 8 x 8)\n",
        "    x = self.maxpool(self.relu(x4))\n",
        "    # x.shape = (B x 512 x 4 x 4)\n",
        "\n",
        "    # x = self.relu(self.drop(self.batch5(self.conv11(x + self.maxpool(x4)))))\n",
        "    x = self.relu(self.drop2(self.batch5(self.conv5(x))))\n",
        "    x = self.avgpool(x)\n",
        "    # x.shape = (B x 512 x 1 x 1)\n",
        "\n",
        "    x = torch.flatten(x, 1) # flatten all dimensions except batch (0th dim)\n",
        "    x = self.relu(self.drop1(self.fc1(x)))\n",
        "    x = self.relu(self.drop1(self.fc2(x)))\n",
        "    x = self.fc3(x)\n",
        "    return x"
      ]
    },
    {
      "cell_type": "code",
      "execution_count": 14,
      "metadata": {},
      "outputs": [
        {
          "name": "stdout",
          "output_type": "stream",
          "text": [
            "----------------------------------------------------------------\n",
            "        Layer (type)               Output Shape         Param #\n",
            "================================================================\n",
            "            Conv2d-1           [-1, 64, 64, 64]           9,472\n",
            "       BatchNorm2d-2           [-1, 64, 64, 64]             128\n",
            "         Dropout2d-3           [-1, 64, 64, 64]               0\n",
            "             PReLU-4           [-1, 64, 64, 64]               1\n",
            "         MaxPool2d-5           [-1, 64, 32, 32]               0\n",
            "            Conv2d-6          [-1, 128, 32, 32]          73,856\n",
            "       BatchNorm2d-7          [-1, 128, 32, 32]             256\n",
            "         Dropout2d-8          [-1, 128, 32, 32]               0\n",
            "             PReLU-9          [-1, 128, 32, 32]               1\n",
            "        MaxPool2d-10          [-1, 128, 16, 16]               0\n",
            "           Conv2d-11          [-1, 256, 16, 16]         295,168\n",
            "      BatchNorm2d-12          [-1, 256, 16, 16]             512\n",
            "        Dropout2d-13          [-1, 256, 16, 16]               0\n",
            "            PReLU-14          [-1, 256, 16, 16]               1\n",
            "        MaxPool2d-15            [-1, 256, 8, 8]               0\n",
            "           Conv2d-16            [-1, 512, 8, 8]       1,180,160\n",
            "      BatchNorm2d-17            [-1, 512, 8, 8]           1,024\n",
            "        Dropout2d-18            [-1, 512, 8, 8]               0\n",
            "            PReLU-19            [-1, 512, 8, 8]               1\n",
            "        MaxPool2d-20            [-1, 512, 4, 4]               0\n",
            "           Conv2d-21           [-1, 1024, 4, 4]       4,719,616\n",
            "      BatchNorm2d-22           [-1, 1024, 4, 4]           2,048\n",
            "        Dropout2d-23           [-1, 1024, 4, 4]               0\n",
            "            PReLU-24           [-1, 1024, 4, 4]               1\n",
            "        AvgPool2d-25           [-1, 1024, 1, 1]               0\n",
            "           Linear-26                 [-1, 2048]       2,099,200\n",
            "          Dropout-27                 [-1, 2048]               0\n",
            "            PReLU-28                 [-1, 2048]               1\n",
            "           Linear-29                  [-1, 512]       1,049,088\n",
            "          Dropout-30                  [-1, 512]               0\n",
            "            PReLU-31                  [-1, 512]               1\n",
            "           Linear-32                  [-1, 200]         102,600\n",
            "================================================================\n",
            "Total params: 9,533,135\n",
            "Trainable params: 9,533,135\n",
            "Non-trainable params: 0\n",
            "----------------------------------------------------------------\n",
            "Input size (MB): 0.05\n",
            "Forward/backward pass size (MB): 16.51\n",
            "Params size (MB): 36.37\n",
            "Estimated Total Size (MB): 52.92\n",
            "----------------------------------------------------------------\n"
          ]
        }
      ],
      "source": [
        "model = CNN().to(device)\n",
        "summary(model, (3, 64, 64))"
      ]
    },
    {
      "cell_type": "markdown",
      "metadata": {
        "id": "8kWoQnKzwEvQ"
      },
      "source": [
        "# Helper Functions to Train and Test the Model"
      ]
    },
    {
      "cell_type": "code",
      "execution_count": 15,
      "metadata": {},
      "outputs": [],
      "source": [
        "def validatioon_step(model, validation_loader, loss_function):\n",
        "    model.eval()\n",
        "    validation_loss = 0.0\n",
        "    validation_correct = 0\n",
        "    with torch.no_grad():\n",
        "      for j, (x_val, y_val) in enumerate(validation_loader):\n",
        "        x_val = x_val.to(device)\n",
        "        y_val = y_val.long().to(device)\n",
        "\n",
        "        y_pred = model(x_val)\n",
        "        loss = loss_function(y_pred, y_val)\n",
        "\n",
        "        _, predicted = torch.max(y_pred.data, dim=1)\n",
        "        validation_correct += (predicted == y_val).sum().item()\n",
        "\n",
        "        validation_loss += loss.item()\n",
        "\n",
        "    return validation_loss, validation_correct\n"
      ]
    },
    {
      "cell_type": "code",
      "execution_count": 16,
      "metadata": {},
      "outputs": [],
      "source": [
        "def evaluate(model, test_loader):\n",
        "    model.eval()\n",
        "    correct = 0\n",
        "    total = 0\n",
        "    with torch.no_grad():\n",
        "        for data in test_loader:\n",
        "            inputs, labels = data\n",
        "            inputs = inputs.to(device)\n",
        "            labels = labels.long().to(device)\n",
        "            outputs = model(inputs)\n",
        "            _, predicted = torch.max(outputs.data, dim=1)\n",
        "            total += labels.size(0)\n",
        "            correct += (predicted == labels).sum().item()\n",
        "\n",
        "    return 100 * correct / total"
      ]
    },
    {
      "cell_type": "code",
      "execution_count": 17,
      "metadata": {
        "id": "pacEFSU7TLm7"
      },
      "outputs": [],
      "source": [
        "def fit(model, optimizer_fn, scheduler_fn, loss_fn, train_loader, validation_loader, test_loader, learning_rate, num_epochs):\n",
        "  history = []\n",
        "  accuracies = []\n",
        "  optimizer = optimizer_fn(model.parameters(), learning_rate)\n",
        "  scheduler = scheduler_fn(optimizer, step_size = 10, gamma = 0.5)\n",
        "  \n",
        "  for epoch in tqdm(range(num_epochs)):\n",
        "    model.train()\n",
        "    train_loss = 0.0\n",
        "    train_correct = 0\n",
        "    for i, (x_batch, y_batch) in enumerate(train_loader):\n",
        "      x_batch = x_batch.to(device)\n",
        "      y_batch = y_batch.long().to(device)\n",
        "\n",
        "      y_pred = model(x_batch)\n",
        "      loss = loss_fn(y_pred, y_batch)\n",
        "\n",
        "      optimizer.zero_grad()\n",
        "      loss.backward()\n",
        "      optimizer.step()\n",
        "      \n",
        "      _, predicted = torch.max(y_pred.data, dim=1)\n",
        "      train_correct += (predicted == y_batch).sum().item()\n",
        "      train_loss += loss.item()\n",
        "\n",
        "    validation_loss, validation_correct = validatioon_step(model, validation_loader, loss_fn)\n",
        "    scheduler.step()\n",
        "\n",
        "    if ((epoch + 1) % 5) == 0:\n",
        "      accuracy = evaluate(model, test_loader)\n",
        "      print(\"Test accuracy after\", epoch+1, \"epochs is =\", accuracy)\n",
        "      accuracies.append(accuracy)\n",
        "\n",
        "    print(\"Epoch\", epoch+1, \"-\\tTraining Loss :\", train_loss, \"\\tValidation Loss :\", validation_loss)\n",
        "    history.append({\"train_loss\" : train_loss/train_examples,\n",
        "                    \"validation_loss\" : validation_loss/validation_examples,\n",
        "                    \"train_accuracy\" : 100*train_correct/train_examples,\n",
        "                    \"validation_accuracy\" : 100*validation_correct/validation_examples})\n",
        "\n",
        "  return history, accuracies"
      ]
    },
    {
      "cell_type": "code",
      "execution_count": 18,
      "metadata": {
        "id": "eszEjkeB_kD_"
      },
      "outputs": [],
      "source": [
        "def plot_losses(history):\n",
        "  train_losses = []\n",
        "  validation_losses = []\n",
        "\n",
        "  for result in history:\n",
        "    train_losses.append(result[\"train_loss\"])\n",
        "    validation_losses.append(result[\"validation_loss\"])\n",
        "\n",
        "  pyplot.plot(train_losses, '-bx')\n",
        "  pyplot.plot(validation_losses, '-rx')\n",
        "  pyplot.xlabel('epoch')\n",
        "  pyplot.ylabel('loss')\n",
        "  pyplot.legend(['Training', 'Validation'])\n",
        "  pyplot.title('Loss vs. No. of epochs')"
      ]
    },
    {
      "cell_type": "code",
      "execution_count": 19,
      "metadata": {
        "id": "Q9kq7ZvWr8k-"
      },
      "outputs": [],
      "source": [
        "def plot_accuracies(history):\n",
        "  train_accuracies = []\n",
        "  validation_accuracies = []\n",
        "\n",
        "  for result in history:\n",
        "    train_accuracies.append(result[\"train_accuracy\"])\n",
        "    validation_accuracies.append(result[\"validation_accuracy\"])\n",
        "\n",
        "  pyplot.plot(train_accuracies, '-bx')\n",
        "  pyplot.plot(validation_accuracies, '-rx')\n",
        "  pyplot.xlabel('epoch')\n",
        "  pyplot.ylabel('acurracy')\n",
        "  pyplot.legend(['Training', 'Validation'])\n",
        "  pyplot.title('Acurracy vs. No. of epochs')"
      ]
    },
    {
      "cell_type": "markdown",
      "metadata": {
        "id": "cEmpR2syZA1L"
      },
      "source": [
        "# Training the models"
      ]
    },
    {
      "cell_type": "code",
      "execution_count": 20,
      "metadata": {
        "colab": {
          "base_uri": "https://localhost:8080/"
        },
        "id": "BbWT3zaBdtak",
        "outputId": "42092dd0-d81e-4587-eef2-ac9bc7917f63"
      },
      "outputs": [
        {
          "name": "stderr",
          "output_type": "stream",
          "text": [
            "  2%|▏         | 1/50 [00:33<27:29, 33.67s/it]"
          ]
        },
        {
          "name": "stdout",
          "output_type": "stream",
          "text": [
            "Epoch 1 -\tTraining Loss : 4092.5341625213623 \tValidation Loss : 162.7658052444458\n"
          ]
        },
        {
          "name": "stderr",
          "output_type": "stream",
          "text": [
            "  4%|▍         | 2/50 [01:04<25:24, 31.77s/it]"
          ]
        },
        {
          "name": "stdout",
          "output_type": "stream",
          "text": [
            "Epoch 2 -\tTraining Loss : 3554.3067212104797 \tValidation Loss : 156.85483312606812\n"
          ]
        },
        {
          "name": "stderr",
          "output_type": "stream",
          "text": [
            "  6%|▌         | 3/50 [01:34<24:17, 31.02s/it]"
          ]
        },
        {
          "name": "stdout",
          "output_type": "stream",
          "text": [
            "Epoch 3 -\tTraining Loss : 3422.436468601227 \tValidation Loss : 150.29075050354004\n"
          ]
        },
        {
          "name": "stderr",
          "output_type": "stream",
          "text": [
            "  8%|▊         | 4/50 [02:04<23:26, 30.57s/it]"
          ]
        },
        {
          "name": "stdout",
          "output_type": "stream",
          "text": [
            "Epoch 4 -\tTraining Loss : 3297.2376732826233 \tValidation Loss : 143.60000371932983\n"
          ]
        },
        {
          "name": "stderr",
          "output_type": "stream",
          "text": [
            " 10%|█         | 5/50 [02:35<23:02, 30.73s/it]"
          ]
        },
        {
          "name": "stdout",
          "output_type": "stream",
          "text": [
            "Test accuracy after 5 epochs is = 8.767290480065094\n",
            "Epoch 5 -\tTraining Loss : 3201.750783443451 \tValidation Loss : 136.3630657196045\n"
          ]
        },
        {
          "name": "stderr",
          "output_type": "stream",
          "text": [
            " 12%|█▏        | 6/50 [03:05<22:22, 30.51s/it]"
          ]
        },
        {
          "name": "stdout",
          "output_type": "stream",
          "text": [
            "Epoch 6 -\tTraining Loss : 3104.179916858673 \tValidation Loss : 134.36507320404053\n"
          ]
        },
        {
          "name": "stderr",
          "output_type": "stream",
          "text": [
            " 14%|█▍        | 7/50 [03:35<21:44, 30.33s/it]"
          ]
        },
        {
          "name": "stdout",
          "output_type": "stream",
          "text": [
            "Epoch 7 -\tTraining Loss : 3028.319987297058 \tValidation Loss : 130.60703420639038\n"
          ]
        },
        {
          "name": "stderr",
          "output_type": "stream",
          "text": [
            " 16%|█▌        | 8/50 [04:05<21:10, 30.26s/it]"
          ]
        },
        {
          "name": "stdout",
          "output_type": "stream",
          "text": [
            "Epoch 8 -\tTraining Loss : 2967.5944521427155 \tValidation Loss : 126.98547101020813\n"
          ]
        },
        {
          "name": "stderr",
          "output_type": "stream",
          "text": [
            " 18%|█▊        | 9/50 [04:35<20:33, 30.09s/it]"
          ]
        },
        {
          "name": "stdout",
          "output_type": "stream",
          "text": [
            "Epoch 9 -\tTraining Loss : 2913.1339831352234 \tValidation Loss : 125.09720206260681\n"
          ]
        },
        {
          "name": "stderr",
          "output_type": "stream",
          "text": [
            " 20%|██        | 10/50 [05:05<20:13, 30.35s/it]"
          ]
        },
        {
          "name": "stdout",
          "output_type": "stream",
          "text": [
            "Test accuracy after 10 epochs is = 15.419039869812856\n",
            "Epoch 10 -\tTraining Loss : 2869.987412929535 \tValidation Loss : 124.73140001296997\n"
          ]
        },
        {
          "name": "stderr",
          "output_type": "stream",
          "text": [
            " 22%|██▏       | 11/50 [05:36<19:40, 30.28s/it]"
          ]
        },
        {
          "name": "stdout",
          "output_type": "stream",
          "text": [
            "Epoch 11 -\tTraining Loss : 2695.7515256404877 \tValidation Loss : 115.25003266334534\n"
          ]
        },
        {
          "name": "stderr",
          "output_type": "stream",
          "text": [
            " 24%|██▍       | 12/50 [06:05<19:05, 30.15s/it]"
          ]
        },
        {
          "name": "stdout",
          "output_type": "stream",
          "text": [
            "Epoch 12 -\tTraining Loss : 2630.079466819763 \tValidation Loss : 112.09740996360779\n"
          ]
        },
        {
          "name": "stderr",
          "output_type": "stream",
          "text": [
            " 26%|██▌       | 13/50 [06:38<19:01, 30.86s/it]"
          ]
        },
        {
          "name": "stdout",
          "output_type": "stream",
          "text": [
            "Epoch 13 -\tTraining Loss : 2590.316091775894 \tValidation Loss : 113.72373151779175\n"
          ]
        },
        {
          "name": "stderr",
          "output_type": "stream",
          "text": [
            " 28%|██▊       | 14/50 [07:08<18:25, 30.70s/it]"
          ]
        },
        {
          "name": "stdout",
          "output_type": "stream",
          "text": [
            "Epoch 14 -\tTraining Loss : 2542.898025035858 \tValidation Loss : 115.3855528831482\n"
          ]
        },
        {
          "name": "stderr",
          "output_type": "stream",
          "text": [
            " 30%|███       | 15/50 [07:39<17:50, 30.59s/it]"
          ]
        },
        {
          "name": "stdout",
          "output_type": "stream",
          "text": [
            "Test accuracy after 15 epochs is = 22.90480065093572\n",
            "Epoch 15 -\tTraining Loss : 2500.8140699863434 \tValidation Loss : 109.39257502555847\n"
          ]
        },
        {
          "name": "stderr",
          "output_type": "stream",
          "text": [
            " 32%|███▏      | 16/50 [08:08<17:07, 30.23s/it]"
          ]
        },
        {
          "name": "stdout",
          "output_type": "stream",
          "text": [
            "Epoch 16 -\tTraining Loss : 2461.0941321849823 \tValidation Loss : 107.49389815330505\n"
          ]
        },
        {
          "name": "stderr",
          "output_type": "stream",
          "text": [
            " 34%|███▍      | 17/50 [08:38<16:32, 30.07s/it]"
          ]
        },
        {
          "name": "stdout",
          "output_type": "stream",
          "text": [
            "Epoch 17 -\tTraining Loss : 2426.0023782253265 \tValidation Loss : 107.23438715934753\n"
          ]
        },
        {
          "name": "stderr",
          "output_type": "stream",
          "text": [
            " 36%|███▌      | 18/50 [09:07<15:57, 29.92s/it]"
          ]
        },
        {
          "name": "stdout",
          "output_type": "stream",
          "text": [
            "Epoch 18 -\tTraining Loss : 2387.1848618984222 \tValidation Loss : 106.82964086532593\n"
          ]
        },
        {
          "name": "stderr",
          "output_type": "stream",
          "text": [
            " 38%|███▊      | 19/50 [09:37<15:25, 29.85s/it]"
          ]
        },
        {
          "name": "stdout",
          "output_type": "stream",
          "text": [
            "Epoch 19 -\tTraining Loss : 2351.701499938965 \tValidation Loss : 105.41361331939697\n"
          ]
        },
        {
          "name": "stderr",
          "output_type": "stream",
          "text": [
            " 40%|████      | 20/50 [10:09<15:11, 30.39s/it]"
          ]
        },
        {
          "name": "stdout",
          "output_type": "stream",
          "text": [
            "Test accuracy after 20 epochs is = 28.12245728234337\n",
            "Epoch 20 -\tTraining Loss : 2325.52748298645 \tValidation Loss : 101.10873770713806\n"
          ]
        },
        {
          "name": "stderr",
          "output_type": "stream",
          "text": [
            " 42%|████▏     | 21/50 [10:40<14:49, 30.69s/it]"
          ]
        },
        {
          "name": "stdout",
          "output_type": "stream",
          "text": [
            "Epoch 21 -\tTraining Loss : 2180.248112678528 \tValidation Loss : 100.15835165977478\n"
          ]
        },
        {
          "name": "stderr",
          "output_type": "stream",
          "text": [
            " 44%|████▍     | 22/50 [11:13<14:39, 31.40s/it]"
          ]
        },
        {
          "name": "stdout",
          "output_type": "stream",
          "text": [
            "Epoch 22 -\tTraining Loss : 2116.930870294571 \tValidation Loss : 94.69652271270752\n"
          ]
        },
        {
          "name": "stderr",
          "output_type": "stream",
          "text": [
            " 46%|████▌     | 23/50 [11:47<14:26, 32.08s/it]"
          ]
        },
        {
          "name": "stdout",
          "output_type": "stream",
          "text": [
            "Epoch 23 -\tTraining Loss : 2084.4284081459045 \tValidation Loss : 94.54283022880554\n"
          ]
        },
        {
          "name": "stderr",
          "output_type": "stream",
          "text": [
            " 48%|████▊     | 24/50 [12:19<13:57, 32.21s/it]"
          ]
        },
        {
          "name": "stdout",
          "output_type": "stream",
          "text": [
            "Epoch 24 -\tTraining Loss : 2050.812040567398 \tValidation Loss : 94.33623313903809\n"
          ]
        },
        {
          "name": "stderr",
          "output_type": "stream",
          "text": [
            " 50%|█████     | 25/50 [12:47<12:50, 30.83s/it]"
          ]
        },
        {
          "name": "stdout",
          "output_type": "stream",
          "text": [
            "Test accuracy after 25 epochs is = 33.523189585028476\n",
            "Epoch 25 -\tTraining Loss : 2017.8898403644562 \tValidation Loss : 92.33106899261475\n"
          ]
        },
        {
          "name": "stderr",
          "output_type": "stream",
          "text": [
            " 52%|█████▏    | 26/50 [13:12<11:35, 29.00s/it]"
          ]
        },
        {
          "name": "stdout",
          "output_type": "stream",
          "text": [
            "Epoch 26 -\tTraining Loss : 1994.0738389492035 \tValidation Loss : 93.46018600463867\n"
          ]
        },
        {
          "name": "stderr",
          "output_type": "stream",
          "text": [
            " 54%|█████▍    | 27/50 [13:37<10:39, 27.80s/it]"
          ]
        },
        {
          "name": "stdout",
          "output_type": "stream",
          "text": [
            "Epoch 27 -\tTraining Loss : 1962.242116689682 \tValidation Loss : 90.73034691810608\n"
          ]
        },
        {
          "name": "stderr",
          "output_type": "stream",
          "text": [
            " 56%|█████▌    | 28/50 [14:02<09:59, 27.24s/it]"
          ]
        },
        {
          "name": "stdout",
          "output_type": "stream",
          "text": [
            "Epoch 28 -\tTraining Loss : 1934.0240459442139 \tValidation Loss : 89.86704397201538\n"
          ]
        },
        {
          "name": "stderr",
          "output_type": "stream",
          "text": [
            " 58%|█████▊    | 29/50 [14:28<09:18, 26.62s/it]"
          ]
        },
        {
          "name": "stdout",
          "output_type": "stream",
          "text": [
            "Epoch 29 -\tTraining Loss : 1907.9349954128265 \tValidation Loss : 92.02524161338806\n"
          ]
        },
        {
          "name": "stderr",
          "output_type": "stream",
          "text": [
            " 60%|██████    | 30/50 [14:55<08:54, 26.71s/it]"
          ]
        },
        {
          "name": "stdout",
          "output_type": "stream",
          "text": [
            "Test accuracy after 30 epochs is = 35.058991049633846\n",
            "Epoch 30 -\tTraining Loss : 1880.3994839191437 \tValidation Loss : 89.76903223991394\n"
          ]
        },
        {
          "name": "stderr",
          "output_type": "stream",
          "text": [
            " 62%|██████▏   | 31/50 [15:22<08:32, 26.96s/it]"
          ]
        },
        {
          "name": "stdout",
          "output_type": "stream",
          "text": [
            "Epoch 31 -\tTraining Loss : 1775.8782186508179 \tValidation Loss : 87.269371509552\n"
          ]
        },
        {
          "name": "stderr",
          "output_type": "stream",
          "text": [
            " 64%|██████▍   | 32/50 [15:54<08:29, 28.31s/it]"
          ]
        },
        {
          "name": "stdout",
          "output_type": "stream",
          "text": [
            "Epoch 32 -\tTraining Loss : 1739.9342341423035 \tValidation Loss : 86.95881962776184\n"
          ]
        },
        {
          "name": "stderr",
          "output_type": "stream",
          "text": [
            " 66%|██████▌   | 33/50 [16:25<08:19, 29.38s/it]"
          ]
        },
        {
          "name": "stdout",
          "output_type": "stream",
          "text": [
            "Epoch 33 -\tTraining Loss : 1713.9443893432617 \tValidation Loss : 88.96051454544067\n"
          ]
        },
        {
          "name": "stderr",
          "output_type": "stream",
          "text": [
            " 68%|██████▊   | 34/50 [16:58<08:03, 30.20s/it]"
          ]
        },
        {
          "name": "stdout",
          "output_type": "stream",
          "text": [
            "Epoch 34 -\tTraining Loss : 1694.9119997024536 \tValidation Loss : 86.36504030227661\n"
          ]
        },
        {
          "name": "stderr",
          "output_type": "stream",
          "text": [
            " 70%|███████   | 35/50 [17:31<07:45, 31.05s/it]"
          ]
        },
        {
          "name": "stdout",
          "output_type": "stream",
          "text": [
            "Test accuracy after 35 epochs is = 37.70341741253051\n",
            "Epoch 35 -\tTraining Loss : 1671.8113193511963 \tValidation Loss : 88.00007724761963\n"
          ]
        },
        {
          "name": "stderr",
          "output_type": "stream",
          "text": [
            " 72%|███████▏  | 36/50 [18:05<07:27, 31.98s/it]"
          ]
        },
        {
          "name": "stdout",
          "output_type": "stream",
          "text": [
            "Epoch 36 -\tTraining Loss : 1647.5790050029755 \tValidation Loss : 84.8517816066742\n"
          ]
        },
        {
          "name": "stderr",
          "output_type": "stream",
          "text": [
            " 74%|███████▍  | 37/50 [18:35<06:50, 31.61s/it]"
          ]
        },
        {
          "name": "stdout",
          "output_type": "stream",
          "text": [
            "Epoch 37 -\tTraining Loss : 1629.4027560949326 \tValidation Loss : 86.33444476127625\n"
          ]
        },
        {
          "name": "stderr",
          "output_type": "stream",
          "text": [
            " 76%|███████▌  | 38/50 [19:06<06:17, 31.42s/it]"
          ]
        },
        {
          "name": "stdout",
          "output_type": "stream",
          "text": [
            "Epoch 38 -\tTraining Loss : 1609.3318430185318 \tValidation Loss : 85.84732174873352\n"
          ]
        },
        {
          "name": "stderr",
          "output_type": "stream",
          "text": [
            " 78%|███████▊  | 39/50 [19:37<05:43, 31.22s/it]"
          ]
        },
        {
          "name": "stdout",
          "output_type": "stream",
          "text": [
            "Epoch 39 -\tTraining Loss : 1592.1139348745346 \tValidation Loss : 85.43266034126282\n"
          ]
        },
        {
          "name": "stderr",
          "output_type": "stream",
          "text": [
            " 80%|████████  | 40/50 [20:09<05:13, 31.36s/it]"
          ]
        },
        {
          "name": "stdout",
          "output_type": "stream",
          "text": [
            "Test accuracy after 40 epochs is = 37.77461350691619\n",
            "Epoch 40 -\tTraining Loss : 1574.829153418541 \tValidation Loss : 88.01446652412415\n"
          ]
        },
        {
          "name": "stderr",
          "output_type": "stream",
          "text": [
            " 82%|████████▏ | 41/50 [20:41<04:43, 31.49s/it]"
          ]
        },
        {
          "name": "stdout",
          "output_type": "stream",
          "text": [
            "Epoch 41 -\tTraining Loss : 1512.7989262342453 \tValidation Loss : 85.11948275566101\n"
          ]
        },
        {
          "name": "stderr",
          "output_type": "stream",
          "text": [
            " 84%|████████▍ | 42/50 [21:13<04:12, 31.60s/it]"
          ]
        },
        {
          "name": "stdout",
          "output_type": "stream",
          "text": [
            "Epoch 42 -\tTraining Loss : 1490.7020403146744 \tValidation Loss : 84.04264569282532\n"
          ]
        },
        {
          "name": "stderr",
          "output_type": "stream",
          "text": [
            " 86%|████████▌ | 43/50 [21:44<03:39, 31.43s/it]"
          ]
        },
        {
          "name": "stdout",
          "output_type": "stream",
          "text": [
            "Epoch 43 -\tTraining Loss : 1473.325105190277 \tValidation Loss : 84.73154067993164\n"
          ]
        },
        {
          "name": "stderr",
          "output_type": "stream",
          "text": [
            " 88%|████████▊ | 44/50 [22:15<03:08, 31.47s/it]"
          ]
        },
        {
          "name": "stdout",
          "output_type": "stream",
          "text": [
            "Epoch 44 -\tTraining Loss : 1454.3039181232452 \tValidation Loss : 83.70313286781311\n"
          ]
        },
        {
          "name": "stderr",
          "output_type": "stream",
          "text": [
            " 90%|█████████ | 45/50 [22:48<02:38, 31.74s/it]"
          ]
        },
        {
          "name": "stdout",
          "output_type": "stream",
          "text": [
            "Test accuracy after 45 epochs is = 39.473148901545976\n",
            "Epoch 45 -\tTraining Loss : 1447.8230895996094 \tValidation Loss : 84.48479795455933\n"
          ]
        },
        {
          "name": "stderr",
          "output_type": "stream",
          "text": [
            " 92%|█████████▏| 46/50 [23:18<02:05, 31.25s/it]"
          ]
        },
        {
          "name": "stdout",
          "output_type": "stream",
          "text": [
            "Epoch 46 -\tTraining Loss : 1434.3562849760056 \tValidation Loss : 83.69651556015015\n"
          ]
        },
        {
          "name": "stderr",
          "output_type": "stream",
          "text": [
            " 94%|█████████▍| 47/50 [23:48<01:32, 30.96s/it]"
          ]
        },
        {
          "name": "stdout",
          "output_type": "stream",
          "text": [
            "Epoch 47 -\tTraining Loss : 1421.5852969884872 \tValidation Loss : 84.82365226745605\n"
          ]
        },
        {
          "name": "stderr",
          "output_type": "stream",
          "text": [
            " 96%|█████████▌| 48/50 [24:18<01:01, 30.78s/it]"
          ]
        },
        {
          "name": "stdout",
          "output_type": "stream",
          "text": [
            "Epoch 48 -\tTraining Loss : 1407.993507862091 \tValidation Loss : 83.69307279586792\n"
          ]
        },
        {
          "name": "stderr",
          "output_type": "stream",
          "text": [
            " 98%|█████████▊| 49/50 [24:48<00:30, 30.58s/it]"
          ]
        },
        {
          "name": "stdout",
          "output_type": "stream",
          "text": [
            "Epoch 49 -\tTraining Loss : 1393.4326040744781 \tValidation Loss : 84.9764404296875\n"
          ]
        },
        {
          "name": "stderr",
          "output_type": "stream",
          "text": [
            "100%|██████████| 50/50 [25:19<00:00, 30.40s/it]"
          ]
        },
        {
          "name": "stdout",
          "output_type": "stream",
          "text": [
            "Test accuracy after 50 epochs is = 40.327502034174124\n",
            "Epoch 50 -\tTraining Loss : 1387.0046417713165 \tValidation Loss : 83.23728466033936\n"
          ]
        },
        {
          "name": "stderr",
          "output_type": "stream",
          "text": [
            "\n"
          ]
        }
      ],
      "source": [
        "model = CNN().to(device)\n",
        "\n",
        "train_loader = DataLoader(train, batch_size=128, shuffle=True)\n",
        "validation_loader = DataLoader(validation, batch_size=256, shuffle=True)\n",
        "test_loader = DataLoader(testset, batch_size=256, shuffle=False)\n",
        "optimizer = torch.optim.AdamW\n",
        "loss_function = F.cross_entropy\n",
        "scheduler = torch.optim.lr_scheduler.StepLR\n",
        "\n",
        "history, accuracies = fit(model, optimizer, scheduler, loss_function, train_loader, validation_loader, test_loader, learning_rate=0.01, num_epochs=50)"
      ]
    },
    {
      "cell_type": "code",
      "execution_count": 21,
      "metadata": {
        "colab": {
          "base_uri": "https://localhost:8080/"
        },
        "id": "tGy_U0tKsVAU",
        "outputId": "418bd8ed-92e1-46fc-ae4f-b9909a417364"
      },
      "outputs": [
        {
          "data": {
            "image/png": "[encoded data removed]",
            "text/plain": [
              "<Figure size 640x480 with 1 Axes>"
            ]
          },
          "metadata": {},
          "output_type": "display_data"
        }
      ],
      "source": [
        "plot_losses(history)"
      ]
    },
    {
      "cell_type": "code",
      "execution_count": 22,
      "metadata": {
        "colab": {
          "base_uri": "https://localhost:8080/"
        },
        "id": "l7NdRFRRsWp7",
        "outputId": "72f213b1-b819-46d0-8f71-8726123886d7"
      },
      "outputs": [
        {
          "data": {
            "image/png": "[encoded data removed]",
            "text/plain": [
              "<Figure size 640x480 with 1 Axes>"
            ]
          },
          "metadata": {},
          "output_type": "display_data"
        }
      ],
      "source": [
        "plot_accuracies(history)"
      ]
    },
    {
      "cell_type": "code",
      "execution_count": 23,
      "metadata": {},
      "outputs": [
        {
          "name": "stdout",
          "output_type": "stream",
          "text": [
            "[8.767290480065094, 15.419039869812856, 22.90480065093572, 28.12245728234337, 33.523189585028476, 35.058991049633846, 37.70341741253051, 37.77461350691619, 39.473148901545976, 40.327502034174124]\n"
          ]
        }
      ],
      "source": [
        "print(accuracies)\n"
      ]
    },
    {
      "cell_type": "code",
      "execution_count": 24,
      "metadata": {
        "colab": {
          "base_uri": "https://localhost:8080/"
        },
        "id": "BqBqOO79_QBf",
        "outputId": "778e0092-5124-4d3f-b906-3f7f2b548d25"
      },
      "outputs": [
        {
          "data": {
            "image/png": "[encoded data removed]",
            "text/plain": [
              "<Figure size 640x480 with 1 Axes>"
            ]
          },
          "metadata": {},
          "output_type": "display_data"
        }
      ],
      "source": [
        "epochs = [i for i in range(5, 51, 5)]\n",
        "pyplot.plot(epochs, accuracies, '-bx')\n",
        "pyplot.xlabel('epoch')\n",
        "pyplot.ylabel('acurracy')\n",
        "pyplot.title('Test Acurracy vs. No. of epochs')\n",
        "pyplot.show()"
      ]
    }
  ],
  "metadata": {
    "accelerator": "GPU",
    "colab": {
      "provenance": []
    },
    "kernelspec": {
      "display_name": "Python 3",
      "name": "python3"
    },
    "language_info": {
      "codemirror_mode": {
        "name": "ipython",
        "version": 3
      },
      "file_extension": ".py",
      "mimetype": "text/x-python",
      "name": "python",
      "nbconvert_exporter": "python",
      "pygments_lexer": "ipython3",
      "version": "3.8.10"
    }
  },
  "nbformat": 4,
  "nbformat_minor": 0
}
